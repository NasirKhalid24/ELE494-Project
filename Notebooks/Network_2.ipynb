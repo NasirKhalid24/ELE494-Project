{
  "nbformat": 4,
  "nbformat_minor": 0,
  "metadata": {
    "colab": {
      "name": "Network #3.ipynb",
      "version": "0.3.2",
      "provenance": [],
      "collapsed_sections": [
        "jO6b4AWjhPTR",
        "vFAUf_h9gTkN",
        "7xfkROGUgc00",
        "4noydWb5gh_I",
        "vqaiTSXa7dix"
      ]
    },
    "kernelspec": {
      "name": "python3",
      "display_name": "Python 3"
    },
    "accelerator": "GPU"
  },
  "cells": [
    {
      "cell_type": "markdown",
      "metadata": {
        "id": "rseYZsObPqph",
        "colab_type": "text"
      },
      "source": [
        "# Network #2\n",
        "\n",
        "\n",
        "## Network Input:  \n",
        "\n",
        "YEAR,\n",
        "MONTH,\n",
        "DAY,\n",
        "HOUR,\n",
        "Latitude,\n",
        "Longitude,\n",
        "Distance to Graffiti,\n",
        "Distance to a Drinking Fountain\n",
        "\n",
        "## Outputs:\n",
        "\n",
        "Type of Crime\n",
        "\n"
      ]
    },
    {
      "cell_type": "markdown",
      "metadata": {
        "id": "wQ0XF1PJP91z",
        "colab_type": "text"
      },
      "source": [
        "#### Loading data and creating dataset to be used"
      ]
    },
    {
      "cell_type": "markdown",
      "metadata": {
        "id": "jO6b4AWjhPTR",
        "colab_type": "text"
      },
      "source": [
        "##### Importing dataset, creating Date/Time key & adding crime"
      ]
    },
    {
      "cell_type": "code",
      "metadata": {
        "id": "kTeMeT-KPxtN",
        "colab_type": "code",
        "outputId": "24efef47-e46b-4ee3-908d-75f0480bdea8",
        "colab": {
          "base_uri": "https://localhost:8080/",
          "height": 130
        }
      },
      "source": [
        "import pandas as pd\n",
        "import numpy as np\n",
        "\n",
        "# File loaded from Github Repo\n",
        "file_path = 'https://raw.githubusercontent.com/NasirKhalid24/ELE494-Project/master/Datasets/final_crime.csv'\n",
        "\n",
        "df = pd.read_csv(file_path)\n",
        "\n",
        "# Removing invalid points\n",
        "df = df[pd.isnull(df['NEIGHBOURHOOD']) != pd.isnull(pd.NaT)]\n",
        "\n",
        "df = df[['TYPE', 'YEAR','MONTH','DAY','HOUR', 'Neighbourhood', 'Latitude', 'Longitude', 'Graffiti', 'Drinking_Fountain']] \n",
        "print(\"Shape of Dataset imported for use: \" + str(df.shape) + \"\\n\")\n",
        "\n",
        "print(\"Sample row\")\n",
        "df.head(1)"
      ],
      "execution_count": 0,
      "outputs": [
        {
          "output_type": "stream",
          "text": [
            "Shape of Dataset imported for use: (428141, 10)\n",
            "\n",
            "Sample row\n"
          ],
          "name": "stdout"
        },
        {
          "output_type": "execute_result",
          "data": {
            "text/html": [
              "<div>\n",
              "<style scoped>\n",
              "    .dataframe tbody tr th:only-of-type {\n",
              "        vertical-align: middle;\n",
              "    }\n",
              "\n",
              "    .dataframe tbody tr th {\n",
              "        vertical-align: top;\n",
              "    }\n",
              "\n",
              "    .dataframe thead th {\n",
              "        text-align: right;\n",
              "    }\n",
              "</style>\n",
              "<table border=\"1\" class=\"dataframe\">\n",
              "  <thead>\n",
              "    <tr style=\"text-align: right;\">\n",
              "      <th></th>\n",
              "      <th>TYPE</th>\n",
              "      <th>YEAR</th>\n",
              "      <th>MONTH</th>\n",
              "      <th>DAY</th>\n",
              "      <th>HOUR</th>\n",
              "      <th>Neighbourhood</th>\n",
              "      <th>Latitude</th>\n",
              "      <th>Longitude</th>\n",
              "      <th>Graffiti</th>\n",
              "      <th>Drinking_Fountain</th>\n",
              "    </tr>\n",
              "  </thead>\n",
              "  <tbody>\n",
              "    <tr>\n",
              "      <th>0</th>\n",
              "      <td>Theft from Vehicle</td>\n",
              "      <td>2004</td>\n",
              "      <td>10</td>\n",
              "      <td>8</td>\n",
              "      <td>21.0</td>\n",
              "      <td>Fairview</td>\n",
              "      <td>49.265076</td>\n",
              "      <td>-123.118474</td>\n",
              "      <td>0.040765</td>\n",
              "      <td>0.402295</td>\n",
              "    </tr>\n",
              "  </tbody>\n",
              "</table>\n",
              "</div>"
            ],
            "text/plain": [
              "                 TYPE  YEAR  MONTH  DAY  HOUR Neighbourhood   Latitude  \\\n",
              "0  Theft from Vehicle  2004     10    8  21.0      Fairview  49.265076   \n",
              "\n",
              "    Longitude  Graffiti  Drinking_Fountain  \n",
              "0 -123.118474  0.040765           0.402295  "
            ]
          },
          "metadata": {
            "tags": []
          },
          "execution_count": 1
        }
      ]
    },
    {
      "cell_type": "markdown",
      "metadata": {
        "id": "vFAUf_h9gTkN",
        "colab_type": "text"
      },
      "source": [
        "##### Import Neighbourhoods and Function to generate co-ordinates in neighbourhood"
      ]
    },
    {
      "cell_type": "code",
      "metadata": {
        "id": "N7gqONURRQEA",
        "colab_type": "code",
        "outputId": "ed6f0289-47a8-4baa-f497-c8a21806a6f1",
        "colab": {
          "base_uri": "https://localhost:8080/",
          "height": 725
        }
      },
      "source": [
        "# Import a list of all neighbourhoods and their center co-ordinates in Vancouver\n",
        "\n",
        "nb_file_path = 'https://raw.githubusercontent.com/NasirKhalid24/ELE494-Project/master/Datasets/cov_localareas.csv'\n",
        "\n",
        "neighbourhoods = pd.read_csv(nb_file_path)\n",
        "print(\"List of Neighbourhoods : \")\n",
        "neighbourhoods"
      ],
      "execution_count": 0,
      "outputs": [
        {
          "output_type": "stream",
          "text": [
            "List of Neighbourhoods : \n"
          ],
          "name": "stdout"
        },
        {
          "output_type": "execute_result",
          "data": {
            "text/html": [
              "<div>\n",
              "<style scoped>\n",
              "    .dataframe tbody tr th:only-of-type {\n",
              "        vertical-align: middle;\n",
              "    }\n",
              "\n",
              "    .dataframe tbody tr th {\n",
              "        vertical-align: top;\n",
              "    }\n",
              "\n",
              "    .dataframe thead th {\n",
              "        text-align: right;\n",
              "    }\n",
              "</style>\n",
              "<table border=\"1\" class=\"dataframe\">\n",
              "  <thead>\n",
              "    <tr style=\"text-align: right;\">\n",
              "      <th></th>\n",
              "      <th>MAPID</th>\n",
              "      <th>NAME</th>\n",
              "      <th>Latitude</th>\n",
              "      <th>Longitude</th>\n",
              "    </tr>\n",
              "  </thead>\n",
              "  <tbody>\n",
              "    <tr>\n",
              "      <th>0</th>\n",
              "      <td>SUN</td>\n",
              "      <td>Sunset</td>\n",
              "      <td>49.218650</td>\n",
              "      <td>-123.091376</td>\n",
              "    </tr>\n",
              "    <tr>\n",
              "      <th>1</th>\n",
              "      <td>MP</td>\n",
              "      <td>Mount Pleasant</td>\n",
              "      <td>49.263060</td>\n",
              "      <td>-123.099888</td>\n",
              "    </tr>\n",
              "    <tr>\n",
              "      <th>2</th>\n",
              "      <td>RP</td>\n",
              "      <td>Riley Park</td>\n",
              "      <td>49.244679</td>\n",
              "      <td>-123.103239</td>\n",
              "    </tr>\n",
              "    <tr>\n",
              "      <th>3</th>\n",
              "      <td>CBD</td>\n",
              "      <td>Downtown</td>\n",
              "      <td>49.279255</td>\n",
              "      <td>-123.119137</td>\n",
              "    </tr>\n",
              "    <tr>\n",
              "      <th>4</th>\n",
              "      <td>KITS</td>\n",
              "      <td>Kitsilano</td>\n",
              "      <td>49.265663</td>\n",
              "      <td>-123.166947</td>\n",
              "    </tr>\n",
              "    <tr>\n",
              "      <th>5</th>\n",
              "      <td>DS</td>\n",
              "      <td>Dunbar-Southlands</td>\n",
              "      <td>49.242361</td>\n",
              "      <td>-123.185280</td>\n",
              "    </tr>\n",
              "    <tr>\n",
              "      <th>6</th>\n",
              "      <td>KERR</td>\n",
              "      <td>Kerrisdale</td>\n",
              "      <td>49.225466</td>\n",
              "      <td>-123.157878</td>\n",
              "    </tr>\n",
              "    <tr>\n",
              "      <th>7</th>\n",
              "      <td>AR</td>\n",
              "      <td>Arbutus-Ridge</td>\n",
              "      <td>49.245938</td>\n",
              "      <td>-123.160737</td>\n",
              "    </tr>\n",
              "    <tr>\n",
              "      <th>8</th>\n",
              "      <td>WPG</td>\n",
              "      <td>West Point Grey</td>\n",
              "      <td>49.265928</td>\n",
              "      <td>-123.202077</td>\n",
              "    </tr>\n",
              "    <tr>\n",
              "      <th>9</th>\n",
              "      <td>MARP</td>\n",
              "      <td>Marpole</td>\n",
              "      <td>49.210702</td>\n",
              "      <td>-123.130159</td>\n",
              "    </tr>\n",
              "    <tr>\n",
              "      <th>10</th>\n",
              "      <td>OAK</td>\n",
              "      <td>Oakridge</td>\n",
              "      <td>49.226350</td>\n",
              "      <td>-123.123689</td>\n",
              "    </tr>\n",
              "    <tr>\n",
              "      <th>11</th>\n",
              "      <td>SHAU</td>\n",
              "      <td>Shaughnessy</td>\n",
              "      <td>49.244443</td>\n",
              "      <td>-123.140041</td>\n",
              "    </tr>\n",
              "    <tr>\n",
              "      <th>12</th>\n",
              "      <td>FAIR</td>\n",
              "      <td>Fairview</td>\n",
              "      <td>49.263421</td>\n",
              "      <td>-123.131514</td>\n",
              "    </tr>\n",
              "    <tr>\n",
              "      <th>13</th>\n",
              "      <td>SC</td>\n",
              "      <td>South Cambie</td>\n",
              "      <td>49.245246</td>\n",
              "      <td>-123.121495</td>\n",
              "    </tr>\n",
              "    <tr>\n",
              "      <th>14</th>\n",
              "      <td>WE</td>\n",
              "      <td>West End</td>\n",
              "      <td>49.285170</td>\n",
              "      <td>-123.134074</td>\n",
              "    </tr>\n",
              "    <tr>\n",
              "      <th>15</th>\n",
              "      <td>KIL</td>\n",
              "      <td>Killarney</td>\n",
              "      <td>49.220042</td>\n",
              "      <td>-123.038120</td>\n",
              "    </tr>\n",
              "    <tr>\n",
              "      <th>16</th>\n",
              "      <td>RC</td>\n",
              "      <td>Renfrew-Collingwood</td>\n",
              "      <td>49.248648</td>\n",
              "      <td>-123.040758</td>\n",
              "    </tr>\n",
              "    <tr>\n",
              "      <th>17</th>\n",
              "      <td>HS</td>\n",
              "      <td>Hastings-Sunrise</td>\n",
              "      <td>49.275951</td>\n",
              "      <td>-123.041252</td>\n",
              "    </tr>\n",
              "    <tr>\n",
              "      <th>18</th>\n",
              "      <td>VF</td>\n",
              "      <td>Victoria-Fraserview</td>\n",
              "      <td>49.220273</td>\n",
              "      <td>-123.063993</td>\n",
              "    </tr>\n",
              "    <tr>\n",
              "      <th>19</th>\n",
              "      <td>KC</td>\n",
              "      <td>Kensington-Cedar Cottage</td>\n",
              "      <td>49.246225</td>\n",
              "      <td>-123.074036</td>\n",
              "    </tr>\n",
              "    <tr>\n",
              "      <th>20</th>\n",
              "      <td>STR</td>\n",
              "      <td>Strathcona</td>\n",
              "      <td>49.273320</td>\n",
              "      <td>-123.089306</td>\n",
              "    </tr>\n",
              "    <tr>\n",
              "      <th>21</th>\n",
              "      <td>GW</td>\n",
              "      <td>Grandview-Woodland</td>\n",
              "      <td>49.274305</td>\n",
              "      <td>-123.067423</td>\n",
              "    </tr>\n",
              "  </tbody>\n",
              "</table>\n",
              "</div>"
            ],
            "text/plain": [
              "   MAPID                      NAME   Latitude   Longitude\n",
              "0    SUN                    Sunset  49.218650 -123.091376\n",
              "1     MP            Mount Pleasant  49.263060 -123.099888\n",
              "2     RP                Riley Park  49.244679 -123.103239\n",
              "3    CBD                  Downtown  49.279255 -123.119137\n",
              "4   KITS                 Kitsilano  49.265663 -123.166947\n",
              "5     DS         Dunbar-Southlands  49.242361 -123.185280\n",
              "6   KERR                Kerrisdale  49.225466 -123.157878\n",
              "7     AR             Arbutus-Ridge  49.245938 -123.160737\n",
              "8    WPG           West Point Grey  49.265928 -123.202077\n",
              "9   MARP                   Marpole  49.210702 -123.130159\n",
              "10   OAK                  Oakridge  49.226350 -123.123689\n",
              "11  SHAU               Shaughnessy  49.244443 -123.140041\n",
              "12  FAIR                  Fairview  49.263421 -123.131514\n",
              "13    SC              South Cambie  49.245246 -123.121495\n",
              "14    WE                  West End  49.285170 -123.134074\n",
              "15   KIL                 Killarney  49.220042 -123.038120\n",
              "16    RC       Renfrew-Collingwood  49.248648 -123.040758\n",
              "17    HS          Hastings-Sunrise  49.275951 -123.041252\n",
              "18    VF       Victoria-Fraserview  49.220273 -123.063993\n",
              "19    KC  Kensington-Cedar Cottage  49.246225 -123.074036\n",
              "20   STR                Strathcona  49.273320 -123.089306\n",
              "21    GW        Grandview-Woodland  49.274305 -123.067423"
            ]
          },
          "metadata": {
            "tags": []
          },
          "execution_count": 2
        }
      ]
    },
    {
      "cell_type": "code",
      "metadata": {
        "id": "KhODlL5aazkp",
        "colab_type": "code",
        "outputId": "c53906b6-c458-4c66-ef8d-808f7d1ab236",
        "colab": {
          "base_uri": "https://localhost:8080/",
          "height": 35
        }
      },
      "source": [
        "# Given a neighbourhood and a radius this code generates a random point in it and returns co-ordinates\n",
        "\n",
        "import random\n",
        "import math\n",
        "\n",
        "def RandomLatLong(nieghbourhood, radius):\n",
        "  \n",
        "  r = radius/111300            \n",
        "  \n",
        "  row = neighbourhoods[neighbourhoods['NAME'] == nieghbourhood]\n",
        "\n",
        "  x0 = float(row['Latitude'])\n",
        "  y0 = float(row['Longitude'])\n",
        "  \n",
        "  u = float(random.uniform(0.0,1.0))\n",
        "  v = float(random.uniform(0.0,1.0))\n",
        "\n",
        "  w = r * math.sqrt(u)\n",
        "  t = 2 * math.pi * v\n",
        "  x = w * math.cos(t) \n",
        "  y = w * math.sin(t)\n",
        "\n",
        "  xLat  = x + x0\n",
        "  yLong = y + y0\n",
        "\n",
        "  return (xLat, yLong)\n",
        "\n",
        "RandomLatLong('Fairview', 500)"
      ],
      "execution_count": 0,
      "outputs": [
        {
          "output_type": "execute_result",
          "data": {
            "text/plain": [
              "(49.259864403223794, -123.13109310795886)"
            ]
          },
          "metadata": {
            "tags": []
          },
          "execution_count": 3
        }
      ]
    },
    {
      "cell_type": "markdown",
      "metadata": {
        "id": "7xfkROGUgc00",
        "colab_type": "text"
      },
      "source": [
        "##### Import Graffiti and Function to get distance from Graffiti"
      ]
    },
    {
      "cell_type": "code",
      "metadata": {
        "id": "BsFdXlRqa1Vi",
        "colab_type": "code",
        "outputId": "590f2b3f-413d-477b-90be-bb9994f4126d",
        "colab": {
          "base_uri": "https://localhost:8080/",
          "height": 113
        }
      },
      "source": [
        "# Import a list of all graffiti locations\n",
        "\n",
        "gr_file_path = 'https://raw.githubusercontent.com/NasirKhalid24/ELE494-Project/master/Datasets/Graffiti.csv'\n",
        "\n",
        "graffiti = pd.read_csv(gr_file_path)\n",
        "print(\"Number of graffiti instances: \" + str(graffiti.shape))\n",
        "print(\"Sample row\")\n",
        "graffiti.head(1)"
      ],
      "execution_count": 0,
      "outputs": [
        {
          "output_type": "stream",
          "text": [
            "Number of graffiti instances: (8507, 2)\n",
            "Sample row\n"
          ],
          "name": "stdout"
        },
        {
          "output_type": "execute_result",
          "data": {
            "text/html": [
              "<div>\n",
              "<style scoped>\n",
              "    .dataframe tbody tr th:only-of-type {\n",
              "        vertical-align: middle;\n",
              "    }\n",
              "\n",
              "    .dataframe tbody tr th {\n",
              "        vertical-align: top;\n",
              "    }\n",
              "\n",
              "    .dataframe thead th {\n",
              "        text-align: right;\n",
              "    }\n",
              "</style>\n",
              "<table border=\"1\" class=\"dataframe\">\n",
              "  <thead>\n",
              "    <tr style=\"text-align: right;\">\n",
              "      <th></th>\n",
              "      <th>Latitude</th>\n",
              "      <th>Longitude</th>\n",
              "    </tr>\n",
              "  </thead>\n",
              "  <tbody>\n",
              "    <tr>\n",
              "      <th>0</th>\n",
              "      <td>49.22386</td>\n",
              "      <td>-123.090426</td>\n",
              "    </tr>\n",
              "  </tbody>\n",
              "</table>\n",
              "</div>"
            ],
            "text/plain": [
              "   Latitude   Longitude\n",
              "0  49.22386 -123.090426"
            ]
          },
          "metadata": {
            "tags": []
          },
          "execution_count": 4
        }
      ]
    },
    {
      "cell_type": "code",
      "metadata": {
        "id": "RvEYKwZrci4x",
        "colab_type": "code",
        "outputId": "a697de74-488f-4de8-84af-20d76b23dc36",
        "colab": {
          "base_uri": "https://localhost:8080/",
          "height": 69
        }
      },
      "source": [
        "# Convert all coordinates to radians for easier calculations later\n",
        "graffiti = graffiti.apply(np.radians)\n",
        "print(\"Sample row\")\n",
        "print(graffiti.head(1))\n",
        "graffiti = graffiti.values"
      ],
      "execution_count": 0,
      "outputs": [
        {
          "output_type": "stream",
          "text": [
            "Sample row\n",
            "   Latitude  Longitude\n",
            "0  0.859118  -2.148333\n"
          ],
          "name": "stdout"
        }
      ]
    },
    {
      "cell_type": "code",
      "metadata": {
        "id": "Ax6HM8uAbfC9",
        "colab_type": "code",
        "outputId": "f58fb371-ead0-4870-8c1c-d1f141b30089",
        "colab": {
          "base_uri": "https://localhost:8080/",
          "height": 35
        }
      },
      "source": [
        "def DistanceToGraffiti(lat1, lon1):\n",
        "    r = 6371 # Radius of earth in kilometers\n",
        "    \n",
        "    coordinates = np.array([np.radians(lat1), np.radians(lon1)])\n",
        "    diff_array = graffiti - coordinates\n",
        "    \n",
        "    # Applying the haversine formula as array functions for speed\n",
        "    a = np.square(np.sin(diff_array[:, 0]/2.0)) + np.cos(coordinates[0]) * np.cos(graffiti[:, 0]) * np.square(np.sin(diff_array[:, 1]/2.0))\n",
        "    c = 2 * np.arcsin(np.sqrt(a)) \n",
        "    return np.amin(c)*r\n",
        "\n",
        "DistanceToGraffiti(49.2650765,-123.1184743)"
      ],
      "execution_count": 0,
      "outputs": [
        {
          "output_type": "execute_result",
          "data": {
            "text/plain": [
              "0.04076535081267878"
            ]
          },
          "metadata": {
            "tags": []
          },
          "execution_count": 6
        }
      ]
    },
    {
      "cell_type": "markdown",
      "metadata": {
        "id": "4noydWb5gh_I",
        "colab_type": "text"
      },
      "source": [
        "##### Import Drinking fountain and Function to get distance from Drinking fountain"
      ]
    },
    {
      "cell_type": "code",
      "metadata": {
        "id": "lASPMY7ofdla",
        "colab_type": "code",
        "outputId": "d64f9754-029d-4bbd-e2d3-b7474a713243",
        "colab": {
          "base_uri": "https://localhost:8080/",
          "height": 113
        }
      },
      "source": [
        "# Import a list of all drinking fountain locations\n",
        "\n",
        "df_file_path = 'https://raw.githubusercontent.com/NasirKhalid24/ELE494-Project/master/Datasets/drinking_fountains.csv'\n",
        "\n",
        "drinking = pd.read_csv(df_file_path)\n",
        "drinking = drinking[['LATITUDE', 'LONGITUDE']]\n",
        "print(\"Number of drinking fountains: \" + str(drinking.shape))\n",
        "print(\"Sample row\")\n",
        "drinking.head(1)"
      ],
      "execution_count": 0,
      "outputs": [
        {
          "output_type": "stream",
          "text": [
            "Number of drinking fountains: (240, 2)\n",
            "Sample row\n"
          ],
          "name": "stdout"
        },
        {
          "output_type": "execute_result",
          "data": {
            "text/html": [
              "<div>\n",
              "<style scoped>\n",
              "    .dataframe tbody tr th:only-of-type {\n",
              "        vertical-align: middle;\n",
              "    }\n",
              "\n",
              "    .dataframe tbody tr th {\n",
              "        vertical-align: top;\n",
              "    }\n",
              "\n",
              "    .dataframe thead th {\n",
              "        text-align: right;\n",
              "    }\n",
              "</style>\n",
              "<table border=\"1\" class=\"dataframe\">\n",
              "  <thead>\n",
              "    <tr style=\"text-align: right;\">\n",
              "      <th></th>\n",
              "      <th>LATITUDE</th>\n",
              "      <th>LONGITUDE</th>\n",
              "    </tr>\n",
              "  </thead>\n",
              "  <tbody>\n",
              "    <tr>\n",
              "      <th>0</th>\n",
              "      <td>49.234947</td>\n",
              "      <td>-123.027254</td>\n",
              "    </tr>\n",
              "  </tbody>\n",
              "</table>\n",
              "</div>"
            ],
            "text/plain": [
              "    LATITUDE   LONGITUDE\n",
              "0  49.234947 -123.027254"
            ]
          },
          "metadata": {
            "tags": []
          },
          "execution_count": 7
        }
      ]
    },
    {
      "cell_type": "code",
      "metadata": {
        "id": "CF92ly20f-xW",
        "colab_type": "code",
        "outputId": "f100eb8f-3a85-418a-d95c-2e3c369286cc",
        "colab": {
          "base_uri": "https://localhost:8080/",
          "height": 69
        }
      },
      "source": [
        "# Convert all coordinates to radians for easier calculations later\n",
        "drinking = drinking.apply(np.radians)\n",
        "print(\"Sample row\")\n",
        "print(drinking.head(1))\n",
        "drinking = drinking.values"
      ],
      "execution_count": 0,
      "outputs": [
        {
          "output_type": "stream",
          "text": [
            "Sample row\n",
            "   LATITUDE  LONGITUDE\n",
            "0  0.859312  -2.147231\n"
          ],
          "name": "stdout"
        }
      ]
    },
    {
      "cell_type": "code",
      "metadata": {
        "id": "d1XBMQ_YgC0e",
        "colab_type": "code",
        "outputId": "681a0b6a-a116-4fe8-9a99-522617d8618c",
        "colab": {
          "base_uri": "https://localhost:8080/",
          "height": 35
        }
      },
      "source": [
        "def DistanceToFountain(lat1, lon1):\n",
        "    r = 6371 # Radius of earth in kilometers\n",
        "    \n",
        "    coordinates = np.array([np.radians(lat1), np.radians(lon1)])\n",
        "    diff_array = drinking - coordinates\n",
        "    \n",
        "    # Applying the haversine formula as array functions for speed\n",
        "    a = np.square(np.sin(diff_array[:, 0]/2.0)) + np.cos(coordinates[0]) * np.cos(drinking[:, 0]) * np.square(np.sin(diff_array[:, 1]/2.0))\n",
        "    c = 2 * np.arcsin(np.sqrt(a)) \n",
        "    return np.amin(c)*r\n",
        "\n",
        "DistanceToFountain(49.2650765,-123.1184743)"
      ],
      "execution_count": 0,
      "outputs": [
        {
          "output_type": "execute_result",
          "data": {
            "text/plain": [
              "0.40229507588315133"
            ]
          },
          "metadata": {
            "tags": []
          },
          "execution_count": 9
        }
      ]
    },
    {
      "cell_type": "markdown",
      "metadata": {
        "id": "vqaiTSXa7dix",
        "colab_type": "text"
      },
      "source": [
        "#### Extract network input and output and make sets"
      ]
    },
    {
      "cell_type": "code",
      "metadata": {
        "id": "i__0LvQX7gxq",
        "colab_type": "code",
        "colab": {}
      },
      "source": [
        "Y = df['TYPE'].values\n",
        "Y = np.reshape(Y, (-1, 1))\n",
        "\n",
        "X = df[['YEAR','MONTH','DAY','HOUR', 'Latitude', 'Longitude', 'Graffiti', 'Drinking_Fountain']].values"
      ],
      "execution_count": 0,
      "outputs": []
    },
    {
      "cell_type": "code",
      "metadata": {
        "id": "XCX2i1ShfQb0",
        "colab_type": "code",
        "outputId": "8d1f0a6f-c525-4756-9f1b-9f23b6932117",
        "colab": {
          "base_uri": "https://localhost:8080/",
          "height": 52
        }
      },
      "source": [
        "X[0]"
      ],
      "execution_count": 0,
      "outputs": [
        {
          "output_type": "execute_result",
          "data": {
            "text/plain": [
              "array([ 2.00400000e+03,  1.00000000e+01,  8.00000000e+00,  2.10000000e+01,\n",
              "        4.92650765e+01, -1.23118474e+02,  4.07653508e-02,  4.02295076e-01])"
            ]
          },
          "metadata": {
            "tags": []
          },
          "execution_count": 101
        }
      ]
    },
    {
      "cell_type": "code",
      "metadata": {
        "id": "OgcTRTUhfSEz",
        "colab_type": "code",
        "outputId": "553e7caa-6465-4bbb-b154-ac80685b9a35",
        "colab": {
          "base_uri": "https://localhost:8080/",
          "height": 35
        }
      },
      "source": [
        "Y[0]"
      ],
      "execution_count": 0,
      "outputs": [
        {
          "output_type": "execute_result",
          "data": {
            "text/plain": [
              "array(['Theft from Vehicle'], dtype=object)"
            ]
          },
          "metadata": {
            "tags": []
          },
          "execution_count": 102
        }
      ]
    },
    {
      "cell_type": "code",
      "metadata": {
        "id": "WYwmseUiEg2D",
        "colab_type": "code",
        "outputId": "2bc5af05-d2cb-4c64-ddcb-a763552c2eb2",
        "colab": {
          "base_uri": "https://localhost:8080/",
          "height": 52
        }
      },
      "source": [
        "from sklearn.preprocessing import MinMaxScaler\n",
        "\n",
        "scaler = MinMaxScaler()\n",
        "\n",
        "scaler.fit(X)\n",
        "X = scaler.transform(X)\n",
        "print(X[0])"
      ],
      "execution_count": 0,
      "outputs": [
        {
          "output_type": "stream",
          "text": [
            "[0.         0.81818182 0.23333333 0.91304348 0.57072995 0.52565412\n",
            " 0.01707458 0.17834822]\n"
          ],
          "name": "stdout"
        }
      ]
    },
    {
      "cell_type": "code",
      "metadata": {
        "id": "NG_pgSAdcTgt",
        "colab_type": "code",
        "outputId": "727cac0d-5ec9-499b-edb8-789656d8ca33",
        "colab": {
          "base_uri": "https://localhost:8080/",
          "height": 175
        }
      },
      "source": [
        "# One hot encoding the type of crime\n",
        "from sklearn.preprocessing import LabelEncoder\n",
        "from sklearn.preprocessing import OneHotEncoder\n",
        "\n",
        "# Integer encode\n",
        "label_encoder = LabelEncoder()\n",
        "integer_encoded = label_encoder.fit(Y)\n",
        "labels = integer_encoded.classes_\n",
        "integer_encoded = integer_encoded.transform(Y)\n",
        "\n",
        "# binary encode\n",
        "onehot_encoder = OneHotEncoder(sparse=False)\n",
        "integer_encoded = integer_encoded.reshape(len(integer_encoded), 1)\n",
        "onehot_encoded = onehot_encoder.fit_transform(integer_encoded)"
      ],
      "execution_count": 0,
      "outputs": [
        {
          "output_type": "stream",
          "text": [
            "/usr/local/lib/python3.6/dist-packages/sklearn/preprocessing/label.py:219: DataConversionWarning: A column-vector y was passed when a 1d array was expected. Please change the shape of y to (n_samples, ), for example using ravel().\n",
            "  y = column_or_1d(y, warn=True)\n",
            "/usr/local/lib/python3.6/dist-packages/sklearn/preprocessing/label.py:252: DataConversionWarning: A column-vector y was passed when a 1d array was expected. Please change the shape of y to (n_samples, ), for example using ravel().\n",
            "  y = column_or_1d(y, warn=True)\n",
            "/usr/local/lib/python3.6/dist-packages/sklearn/preprocessing/_encoders.py:371: FutureWarning: The handling of integer data will change in version 0.22. Currently, the categories are determined based on the range [0, max(values)], while in the future they will be determined based on the unique values.\n",
            "If you want the future behaviour and silence this warning, you can specify \"categories='auto'\".\n",
            "In case you used a LabelEncoder before this OneHotEncoder to convert the categories to integers, then you can now use the OneHotEncoder directly.\n",
            "  warnings.warn(msg, FutureWarning)\n"
          ],
          "name": "stderr"
        }
      ]
    },
    {
      "cell_type": "code",
      "metadata": {
        "id": "NL6OJmQohiMy",
        "colab_type": "code",
        "outputId": "33dca854-2b51-4a5c-a87d-d81c7f331a33",
        "colab": {
          "base_uri": "https://localhost:8080/",
          "height": 35
        }
      },
      "source": [
        "Y[0]"
      ],
      "execution_count": 0,
      "outputs": [
        {
          "output_type": "execute_result",
          "data": {
            "text/plain": [
              "array(['Theft from Vehicle'], dtype=object)"
            ]
          },
          "metadata": {
            "tags": []
          },
          "execution_count": 105
        }
      ]
    },
    {
      "cell_type": "code",
      "metadata": {
        "id": "HMOzsO3_hkHj",
        "colab_type": "code",
        "outputId": "bb2ed43d-2b40-4858-99eb-8d31c3656cf7",
        "colab": {
          "base_uri": "https://localhost:8080/",
          "height": 121
        }
      },
      "source": [
        "labels"
      ],
      "execution_count": 0,
      "outputs": [
        {
          "output_type": "execute_result",
          "data": {
            "text/plain": [
              "array(['Break and Enter Commercial', 'Break and Enter Residential/Other',\n",
              "       'Mischief', 'Other Theft', 'Theft from Vehicle',\n",
              "       'Theft of Bicycle', 'Theft of Vehicle',\n",
              "       'Vehicle Collision or Pedestrian Struck (with Fatality)',\n",
              "       'Vehicle Collision or Pedestrian Struck (with Injury)'],\n",
              "      dtype=object)"
            ]
          },
          "metadata": {
            "tags": []
          },
          "execution_count": 106
        }
      ]
    },
    {
      "cell_type": "code",
      "metadata": {
        "id": "gwx2m2VZhm1c",
        "colab_type": "code",
        "outputId": "98219506-7ce6-4ed0-e934-87b0d69b3a59",
        "colab": {
          "base_uri": "https://localhost:8080/",
          "height": 35
        }
      },
      "source": [
        "onehot_encoded[0]"
      ],
      "execution_count": 0,
      "outputs": [
        {
          "output_type": "execute_result",
          "data": {
            "text/plain": [
              "array([0., 0., 0., 0., 1., 0., 0., 0., 0.])"
            ]
          },
          "metadata": {
            "tags": []
          },
          "execution_count": 107
        }
      ]
    },
    {
      "cell_type": "code",
      "metadata": {
        "id": "ukkqYq97hz3m",
        "colab_type": "code",
        "colab": {}
      },
      "source": [
        "Y = onehot_encoded"
      ],
      "execution_count": 0,
      "outputs": []
    },
    {
      "cell_type": "code",
      "metadata": {
        "id": "QI7h8QVa7uex",
        "colab_type": "code",
        "outputId": "d96fb704-911c-4403-cdb1-0b96ea6a7b93",
        "colab": {
          "base_uri": "https://localhost:8080/",
          "height": 86
        }
      },
      "source": [
        "from sklearn.model_selection import train_test_split\n",
        "\n",
        "X_train, X_test, Y_train, Y_test = train_test_split(X, Y, test_size=0.33, random_state=42)\n",
        "\n",
        "print(\"Training Data Size: \" + str(X_train.shape))\n",
        "print(\"Testing Data Size:\" + str(X_test.shape))\n",
        "print(\"Training Label Size: \" + str(Y_train.shape))\n",
        "print(\"Testing Label Size: \" + str(Y_test.shape))"
      ],
      "execution_count": 0,
      "outputs": [
        {
          "output_type": "stream",
          "text": [
            "Training Data Size: (286854, 8)\n",
            "Testing Data Size:(141287, 8)\n",
            "Training Label Size: (286854, 9)\n",
            "Testing Label Size: (141287, 9)\n"
          ],
          "name": "stdout"
        }
      ]
    },
    {
      "cell_type": "code",
      "metadata": {
        "id": "lGluk-J68FwR",
        "colab_type": "code",
        "colab": {}
      },
      "source": [
        "import matplotlib.pyplot as plt\n",
        "import numpy as np\n",
        "\n",
        "# Function to plot loss and accuracy vs epochs\n",
        "def loss_curve(history):\n",
        "  train_loss = history.history['loss']\n",
        "  val_loss = history.history['val_loss']\n",
        "  x_axis     = range(1, len(history.history['loss'])+1)\n",
        "  \n",
        "  plt.figure()\n",
        "  plt.plot(x_axis, train_loss, label=\"Training Loss\")\n",
        "  plt.plot(x_axis, val_loss, label=\"Validation Loss\")\n",
        "  plt.ylabel('Loss Value')\n",
        "  plt.xlabel('Epochs')\n",
        "  plt.title('Epochs vs Loss')\n",
        "  plt.legend()\n",
        "  \n",
        "def accuracy(history):\n",
        "  acc  = history.history['acc']\n",
        "  val_acc = history.history['val_acc']\n",
        "  x_axis     = range(1, len(history.history['acc'])+1)\n",
        "  \n",
        "  plt.figure()\n",
        "  plt.plot(x_axis, np.dot(acc,100), label=\"Accuracy\")\n",
        "  plt.plot(x_axis, np.dot(val_acc, 100), label=\"Validation Accuracy\")\n",
        "  plt.ylabel('Accuracy')\n",
        "  plt.xlabel('Epochs')\n",
        "  plt.title('Epochs vs Accuracy')\n",
        "  plt.legend()"
      ],
      "execution_count": 0,
      "outputs": []
    },
    {
      "cell_type": "markdown",
      "metadata": {
        "id": "oWWAAndsiQBH",
        "colab_type": "text"
      },
      "source": [
        "#### Train Network"
      ]
    },
    {
      "cell_type": "code",
      "metadata": {
        "id": "ueaauFB08Ms7",
        "colab_type": "code",
        "outputId": "4a21b693-a19e-4693-d49f-a3996673e316",
        "colab": {
          "base_uri": "https://localhost:8080/",
          "height": 484
        }
      },
      "source": [
        "from keras.layers import Dense, Dropout\n",
        "from keras.models import Sequential\n",
        "\n",
        "model = Sequential()\n",
        "\n",
        "model.add(Dense(64, activation='tanh', input_shape=(X_train.shape[1], ) ) )\n",
        "model.add(Dropout(0.2))\n",
        "model.add(Dense(128, activation='tanh') )\n",
        "model.add(Dropout(0.2))\n",
        "model.add(Dense(512, activation='tanh') )\n",
        "model.add(Dropout(0.2))\n",
        "model.add(Dense(128, activation='tanh') )\n",
        "model.add(Dropout(0.2))\n",
        "model.add(Dense(64, activation='tanh') )\n",
        "\n",
        "\n",
        "model.add(Dense(Y_train.shape[1], activation='softmax') )\n",
        "\n",
        "model.compile(optimizer='rmsprop',\n",
        "                loss='categorical_crossentropy',\n",
        "                metrics=['accuracy'])\n",
        "\n",
        "model.summary()"
      ],
      "execution_count": 0,
      "outputs": [
        {
          "output_type": "stream",
          "text": [
            "_________________________________________________________________\n",
            "Layer (type)                 Output Shape              Param #   \n",
            "=================================================================\n",
            "dense_33 (Dense)             (None, 64)                576       \n",
            "_________________________________________________________________\n",
            "dropout_9 (Dropout)          (None, 64)                0         \n",
            "_________________________________________________________________\n",
            "dense_34 (Dense)             (None, 128)               8320      \n",
            "_________________________________________________________________\n",
            "dropout_10 (Dropout)         (None, 128)               0         \n",
            "_________________________________________________________________\n",
            "dense_35 (Dense)             (None, 512)               66048     \n",
            "_________________________________________________________________\n",
            "dropout_11 (Dropout)         (None, 512)               0         \n",
            "_________________________________________________________________\n",
            "dense_36 (Dense)             (None, 128)               65664     \n",
            "_________________________________________________________________\n",
            "dropout_12 (Dropout)         (None, 128)               0         \n",
            "_________________________________________________________________\n",
            "dense_37 (Dense)             (None, 64)                8256      \n",
            "_________________________________________________________________\n",
            "dense_38 (Dense)             (None, 9)                 585       \n",
            "=================================================================\n",
            "Total params: 149,449\n",
            "Trainable params: 149,449\n",
            "Non-trainable params: 0\n",
            "_________________________________________________________________\n"
          ],
          "name": "stdout"
        }
      ]
    },
    {
      "cell_type": "code",
      "metadata": {
        "id": "Nl9D9mWJ8VkX",
        "colab_type": "code",
        "outputId": "83a7eba0-cbd2-48d6-b3c3-301287543819",
        "colab": {
          "base_uri": "https://localhost:8080/",
          "height": 1762
        }
      },
      "source": [
        "history = model.fit(X_train, Y_train,\n",
        "          epochs = 50,\n",
        "          batch_size=128,\n",
        "          validation_split=0.1,\n",
        "          verbose = 1)"
      ],
      "execution_count": 0,
      "outputs": [
        {
          "output_type": "stream",
          "text": [
            "Train on 258168 samples, validate on 28686 samples\n",
            "Epoch 1/50\n",
            "258168/258168 [==============================] - 9s 36us/step - loss: 1.7527 - acc: 0.3626 - val_loss: 1.7175 - val_acc: 0.3693\n",
            "Epoch 2/50\n",
            "258168/258168 [==============================] - 9s 34us/step - loss: 1.7099 - acc: 0.3731 - val_loss: 1.6893 - val_acc: 0.3814\n",
            "Epoch 3/50\n",
            "258168/258168 [==============================] - 9s 34us/step - loss: 1.6925 - acc: 0.3791 - val_loss: 1.6713 - val_acc: 0.3897\n",
            "Epoch 4/50\n",
            "258168/258168 [==============================] - 10s 40us/step - loss: 1.6829 - acc: 0.3837 - val_loss: 1.6767 - val_acc: 0.3865\n",
            "Epoch 5/50\n",
            "258168/258168 [==============================] - 9s 34us/step - loss: 1.6737 - acc: 0.3882 - val_loss: 1.6539 - val_acc: 0.3973\n",
            "Epoch 6/50\n",
            "258168/258168 [==============================] - 9s 34us/step - loss: 1.6670 - acc: 0.3921 - val_loss: 1.6477 - val_acc: 0.4017\n",
            "Epoch 7/50\n",
            "258168/258168 [==============================] - 9s 34us/step - loss: 1.6619 - acc: 0.3940 - val_loss: 1.6493 - val_acc: 0.3975\n",
            "Epoch 8/50\n",
            "258168/258168 [==============================] - 9s 34us/step - loss: 1.6572 - acc: 0.3956 - val_loss: 1.6468 - val_acc: 0.3994\n",
            "Epoch 9/50\n",
            "258168/258168 [==============================] - 9s 34us/step - loss: 1.6541 - acc: 0.3970 - val_loss: 1.6409 - val_acc: 0.4040\n",
            "Epoch 10/50\n",
            "258168/258168 [==============================] - 9s 34us/step - loss: 1.6520 - acc: 0.3991 - val_loss: 1.6349 - val_acc: 0.4050\n",
            "Epoch 11/50\n",
            "258168/258168 [==============================] - 9s 34us/step - loss: 1.6495 - acc: 0.4010 - val_loss: 1.6282 - val_acc: 0.4107\n",
            "Epoch 12/50\n",
            "258168/258168 [==============================] - 9s 34us/step - loss: 1.6479 - acc: 0.4004 - val_loss: 1.6292 - val_acc: 0.4097\n",
            "Epoch 13/50\n",
            "258168/258168 [==============================] - 10s 38us/step - loss: 1.6443 - acc: 0.4021 - val_loss: 1.6347 - val_acc: 0.4079\n",
            "Epoch 14/50\n",
            "258168/258168 [==============================] - 9s 34us/step - loss: 1.6434 - acc: 0.4035 - val_loss: 1.6202 - val_acc: 0.4110\n",
            "Epoch 15/50\n",
            "258168/258168 [==============================] - 9s 36us/step - loss: 1.6414 - acc: 0.4039 - val_loss: 1.6184 - val_acc: 0.4143\n",
            "Epoch 16/50\n",
            "258168/258168 [==============================] - 9s 34us/step - loss: 1.6381 - acc: 0.4056 - val_loss: 1.6220 - val_acc: 0.4112\n",
            "Epoch 17/50\n",
            "258168/258168 [==============================] - 9s 34us/step - loss: 1.6371 - acc: 0.4049 - val_loss: 1.6216 - val_acc: 0.4152\n",
            "Epoch 18/50\n",
            "258168/258168 [==============================] - 9s 33us/step - loss: 1.6360 - acc: 0.4058 - val_loss: 1.6169 - val_acc: 0.4142\n",
            "Epoch 19/50\n",
            "258168/258168 [==============================] - 9s 33us/step - loss: 1.6341 - acc: 0.4063 - val_loss: 1.6156 - val_acc: 0.4154\n",
            "Epoch 20/50\n",
            "258168/258168 [==============================] - 9s 34us/step - loss: 1.6336 - acc: 0.4079 - val_loss: 1.6219 - val_acc: 0.4110\n",
            "Epoch 21/50\n",
            "258168/258168 [==============================] - 9s 34us/step - loss: 1.6319 - acc: 0.4076 - val_loss: 1.6197 - val_acc: 0.4124\n",
            "Epoch 22/50\n",
            "258168/258168 [==============================] - 10s 38us/step - loss: 1.6300 - acc: 0.4084 - val_loss: 1.6129 - val_acc: 0.4149\n",
            "Epoch 23/50\n",
            "258168/258168 [==============================] - 9s 34us/step - loss: 1.6294 - acc: 0.4088 - val_loss: 1.6110 - val_acc: 0.4164\n",
            "Epoch 24/50\n",
            "258168/258168 [==============================] - 9s 34us/step - loss: 1.6278 - acc: 0.4096 - val_loss: 1.6058 - val_acc: 0.4199\n",
            "Epoch 25/50\n",
            "258168/258168 [==============================] - 9s 34us/step - loss: 1.6277 - acc: 0.4103 - val_loss: 1.6134 - val_acc: 0.4135\n",
            "Epoch 26/50\n",
            "258168/258168 [==============================] - 9s 34us/step - loss: 1.6277 - acc: 0.4099 - val_loss: 1.6081 - val_acc: 0.4159\n",
            "Epoch 27/50\n",
            "258168/258168 [==============================] - 9s 34us/step - loss: 1.6251 - acc: 0.4110 - val_loss: 1.6040 - val_acc: 0.4221\n",
            "Epoch 28/50\n",
            "258168/258168 [==============================] - 9s 34us/step - loss: 1.6242 - acc: 0.4110 - val_loss: 1.6096 - val_acc: 0.4191\n",
            "Epoch 29/50\n",
            "258168/258168 [==============================] - 9s 33us/step - loss: 1.6230 - acc: 0.4116 - val_loss: 1.6054 - val_acc: 0.4195\n",
            "Epoch 30/50\n",
            "258168/258168 [==============================] - 9s 33us/step - loss: 1.6222 - acc: 0.4132 - val_loss: 1.6128 - val_acc: 0.4196\n",
            "Epoch 31/50\n",
            "258168/258168 [==============================] - 10s 38us/step - loss: 1.6213 - acc: 0.4140 - val_loss: 1.6042 - val_acc: 0.4203\n",
            "Epoch 32/50\n",
            "258168/258168 [==============================] - 9s 34us/step - loss: 1.6211 - acc: 0.4131 - val_loss: 1.6042 - val_acc: 0.4197\n",
            "Epoch 33/50\n",
            "258168/258168 [==============================] - 9s 33us/step - loss: 1.6205 - acc: 0.4139 - val_loss: 1.6025 - val_acc: 0.4204\n",
            "Epoch 34/50\n",
            "258168/258168 [==============================] - 9s 34us/step - loss: 1.6190 - acc: 0.4140 - val_loss: 1.6003 - val_acc: 0.4214\n",
            "Epoch 35/50\n",
            "258168/258168 [==============================] - 9s 34us/step - loss: 1.6172 - acc: 0.4144 - val_loss: 1.6085 - val_acc: 0.4174\n",
            "Epoch 36/50\n",
            "258168/258168 [==============================] - 9s 33us/step - loss: 1.6170 - acc: 0.4139 - val_loss: 1.5934 - val_acc: 0.4250\n",
            "Epoch 37/50\n",
            "258168/258168 [==============================] - 9s 34us/step - loss: 1.6170 - acc: 0.4141 - val_loss: 1.5944 - val_acc: 0.4215\n",
            "Epoch 38/50\n",
            "258168/258168 [==============================] - 9s 33us/step - loss: 1.6162 - acc: 0.4149 - val_loss: 1.5981 - val_acc: 0.4219\n",
            "Epoch 39/50\n",
            "258168/258168 [==============================] - 10s 39us/step - loss: 1.6176 - acc: 0.4146 - val_loss: 1.5928 - val_acc: 0.4255\n",
            "Epoch 40/50\n",
            "258168/258168 [==============================] - 10s 39us/step - loss: 1.6151 - acc: 0.4149 - val_loss: 1.5984 - val_acc: 0.4238\n",
            "Epoch 41/50\n",
            "258168/258168 [==============================] - 9s 34us/step - loss: 1.6155 - acc: 0.4148 - val_loss: 1.5970 - val_acc: 0.4225\n",
            "Epoch 42/50\n",
            "258168/258168 [==============================] - 9s 34us/step - loss: 1.6154 - acc: 0.4150 - val_loss: 1.5902 - val_acc: 0.4272\n",
            "Epoch 43/50\n",
            "258168/258168 [==============================] - 9s 33us/step - loss: 1.6139 - acc: 0.4153 - val_loss: 1.5921 - val_acc: 0.4237\n",
            "Epoch 44/50\n",
            "258168/258168 [==============================] - 9s 33us/step - loss: 1.6142 - acc: 0.4156 - val_loss: 1.5931 - val_acc: 0.4261\n",
            "Epoch 45/50\n",
            "258168/258168 [==============================] - 9s 33us/step - loss: 1.6147 - acc: 0.4158 - val_loss: 1.5945 - val_acc: 0.4253\n",
            "Epoch 46/50\n",
            "258168/258168 [==============================] - 9s 33us/step - loss: 1.6135 - acc: 0.4167 - val_loss: 1.5908 - val_acc: 0.4255\n",
            "Epoch 47/50\n",
            "258168/258168 [==============================] - 9s 34us/step - loss: 1.6123 - acc: 0.4167 - val_loss: 1.5902 - val_acc: 0.4255\n",
            "Epoch 48/50\n",
            "258168/258168 [==============================] - 9s 34us/step - loss: 1.6122 - acc: 0.4171 - val_loss: 1.5908 - val_acc: 0.4258\n",
            "Epoch 49/50\n",
            "258168/258168 [==============================] - 10s 38us/step - loss: 1.6102 - acc: 0.4170 - val_loss: 1.5894 - val_acc: 0.4258\n",
            "Epoch 50/50\n",
            "258168/258168 [==============================] - 9s 34us/step - loss: 1.6107 - acc: 0.4171 - val_loss: 1.5872 - val_acc: 0.4272\n"
          ],
          "name": "stdout"
        }
      ]
    },
    {
      "cell_type": "code",
      "metadata": {
        "id": "fO8qsIOkxoFx",
        "colab_type": "code",
        "outputId": "b446b889-6b29-461d-9cea-ca90f1c86d8c",
        "colab": {
          "base_uri": "https://localhost:8080/",
          "height": 574
        }
      },
      "source": [
        "loss_curve(history)\n",
        "accuracy(history)"
      ],
      "execution_count": 0,
      "outputs": [
        {
          "output_type": "display_data",
          "data": {
            "image/png": "[encoded data removed]",
            "text/plain": [
              "<Figure size 432x288 with 1 Axes>"
            ]
          },
          "metadata": {
            "tags": []
          }
        },
        {
          "output_type": "display_data",
          "data": {
            "image/png": "[encoded data removed]",
            "text/plain": [
              "<Figure size 432x288 with 1 Axes>"
            ]
          },
          "metadata": {
            "tags": []
          }
        }
      ]
    },
    {
      "cell_type": "code",
      "metadata": {
        "id": "PnhnorHuxxJp",
        "colab_type": "code",
        "outputId": "591793f3-268d-4530-df7e-a9b2797bac71",
        "colab": {
          "base_uri": "https://localhost:8080/",
          "height": 52
        }
      },
      "source": [
        "print(\"Evaluating on Test Dataset\")\n",
        "scores = model.evaluate(X_test, Y_test, verbose=0)\n",
        "print(\"%s: %.2f%%\" % (model.metrics_names[1], scores[1]*100))"
      ],
      "execution_count": 0,
      "outputs": [
        {
          "output_type": "stream",
          "text": [
            "Evaluating on Test Dataset\n",
            "acc: 43.16%\n"
          ],
          "name": "stdout"
        }
      ]
    },
    {
      "cell_type": "code",
      "metadata": {
        "id": "M9bU1dX-x5mC",
        "colab_type": "code",
        "outputId": "57e2e5fd-41b2-4020-9be5-5ad7264094be",
        "colab": {
          "base_uri": "https://localhost:8080/",
          "height": 173
        }
      },
      "source": [
        "# Predicting for random year/month/day/hour\n",
        "from math import floor \n",
        "\n",
        "test = np.array([[2019, 2, 11, 1, 49.237994, -123.083282, DistanceToGraffiti(49.237994, -123.083282), DistanceToFountain(49.237994, -123.083282)]])\n",
        "test = scaler.transform(test)\n",
        "ans = model.predict(test)\n",
        "\n",
        "for i, n in enumerate(ans[0]):\n",
        "  print(\"Probability of \" + str(labels[i]) + \": \" + str(floor(n*100)) + \"%\")\n",
        "  "
      ],
      "execution_count": 0,
      "outputs": [
        {
          "output_type": "stream",
          "text": [
            "Probability of Break and Enter Commercial: 3%\n",
            "Probability of Break and Enter Residential/Other: 18%\n",
            "Probability of Mischief: 20%\n",
            "Probability of Other Theft: 0%\n",
            "Probability of Theft from Vehicle: 43%\n",
            "Probability of Theft of Bicycle: 3%\n",
            "Probability of Theft of Vehicle: 7%\n",
            "Probability of Vehicle Collision or Pedestrian Struck (with Fatality): 0%\n",
            "Probability of Vehicle Collision or Pedestrian Struck (with Injury): 2%\n"
          ],
          "name": "stdout"
        }
      ]
    },
    {
      "cell_type": "code",
      "metadata": {
        "id": "uIOJP6GS0xs2",
        "colab_type": "code",
        "outputId": "0717839b-370f-47f5-b288-96cd94554766",
        "colab": {
          "base_uri": "https://localhost:8080/",
          "height": 173
        }
      },
      "source": [
        "# Predicting for another random year/month/day/hour\n",
        "\n",
        "test = np.array([[2012, 6, 4, 22, 49.238019, -123.163815, DistanceToGraffiti(49.238019, -123.163815), DistanceToFountain(49.238019, -123.163815)]])\n",
        "test = scaler.transform(test)\n",
        "ans = model.predict(test)\n",
        "\n",
        "for i, n in enumerate(ans[0]):\n",
        "  print(\"Probability of \" + str(labels[i]) + \": \" + str(floor(n*100)) + \"%\")"
      ],
      "execution_count": 0,
      "outputs": [
        {
          "output_type": "stream",
          "text": [
            "Probability of Break and Enter Commercial: 1%\n",
            "Probability of Break and Enter Residential/Other: 17%\n",
            "Probability of Mischief: 15%\n",
            "Probability of Other Theft: 0%\n",
            "Probability of Theft from Vehicle: 52%\n",
            "Probability of Theft of Bicycle: 2%\n",
            "Probability of Theft of Vehicle: 8%\n",
            "Probability of Vehicle Collision or Pedestrian Struck (with Fatality): 0%\n",
            "Probability of Vehicle Collision or Pedestrian Struck (with Injury): 2%\n"
          ],
          "name": "stdout"
        }
      ]
    },
    {
      "cell_type": "code",
      "metadata": {
        "id": "cJlbRJ3GCyOB",
        "colab_type": "code",
        "outputId": "34c4c932-10fa-4446-c21b-26c3198712fc",
        "colab": {
          "base_uri": "https://localhost:8080/",
          "height": 881
        }
      },
      "source": [
        "# Predict crime in a location over the whole day\n",
        "for i in range(0, 25, 5):\n",
        "  test = np.array([[2012, 6, 4, i, 49.284645, -123.136306, DistanceToGraffiti(49.284645, -123.136306), DistanceToFountain(49.284645, -123.136306)]])\n",
        "  test = scaler.transform(test)\n",
        "  ans = model.predict(test)\n",
        "  print(\"At \" + str(i) + \" hour: \")\n",
        "\n",
        "  for i, n in enumerate(ans[0]):\n",
        "    print(\"Probability of \" + str(labels[i]) + \": \" + str(floor(n*100)) + \"%\")"
      ],
      "execution_count": 0,
      "outputs": [
        {
          "output_type": "stream",
          "text": [
            "At 0 hour: \n",
            "Probability of Break and Enter Commercial: 15%\n",
            "Probability of Break and Enter Residential/Other: 5%\n",
            "Probability of Mischief: 21%\n",
            "Probability of Other Theft: 1%\n",
            "Probability of Theft from Vehicle: 41%\n",
            "Probability of Theft of Bicycle: 9%\n",
            "Probability of Theft of Vehicle: 3%\n",
            "Probability of Vehicle Collision or Pedestrian Struck (with Fatality): 0%\n",
            "Probability of Vehicle Collision or Pedestrian Struck (with Injury): 2%\n",
            "At 5 hour: \n",
            "Probability of Break and Enter Commercial: 24%\n",
            "Probability of Break and Enter Residential/Other: 6%\n",
            "Probability of Mischief: 22%\n",
            "Probability of Other Theft: 1%\n",
            "Probability of Theft from Vehicle: 31%\n",
            "Probability of Theft of Bicycle: 5%\n",
            "Probability of Theft of Vehicle: 2%\n",
            "Probability of Vehicle Collision or Pedestrian Struck (with Fatality): 0%\n",
            "Probability of Vehicle Collision or Pedestrian Struck (with Injury): 5%\n",
            "At 10 hour: \n",
            "Probability of Break and Enter Commercial: 5%\n",
            "Probability of Break and Enter Residential/Other: 9%\n",
            "Probability of Mischief: 13%\n",
            "Probability of Other Theft: 2%\n",
            "Probability of Theft from Vehicle: 42%\n",
            "Probability of Theft of Bicycle: 12%\n",
            "Probability of Theft of Vehicle: 2%\n",
            "Probability of Vehicle Collision or Pedestrian Struck (with Fatality): 0%\n",
            "Probability of Vehicle Collision or Pedestrian Struck (with Injury): 10%\n",
            "At 15 hour: \n",
            "Probability of Break and Enter Commercial: 4%\n",
            "Probability of Break and Enter Residential/Other: 6%\n",
            "Probability of Mischief: 13%\n",
            "Probability of Other Theft: 3%\n",
            "Probability of Theft from Vehicle: 48%\n",
            "Probability of Theft of Bicycle: 12%\n",
            "Probability of Theft of Vehicle: 3%\n",
            "Probability of Vehicle Collision or Pedestrian Struck (with Fatality): 0%\n",
            "Probability of Vehicle Collision or Pedestrian Struck (with Injury): 9%\n",
            "At 20 hour: \n",
            "Probability of Break and Enter Commercial: 5%\n",
            "Probability of Break and Enter Residential/Other: 3%\n",
            "Probability of Mischief: 15%\n",
            "Probability of Other Theft: 2%\n",
            "Probability of Theft from Vehicle: 54%\n",
            "Probability of Theft of Bicycle: 8%\n",
            "Probability of Theft of Vehicle: 4%\n",
            "Probability of Vehicle Collision or Pedestrian Struck (with Fatality): 0%\n",
            "Probability of Vehicle Collision or Pedestrian Struck (with Injury): 4%\n"
          ],
          "name": "stdout"
        }
      ]
    }
  ]
}