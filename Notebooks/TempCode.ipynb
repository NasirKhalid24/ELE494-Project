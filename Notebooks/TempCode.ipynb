{
  "nbformat": 4,
  "nbformat_minor": 0,
  "metadata": {
    "colab": {
      "name": "Untitled9.ipynb",
      "provenance": []
    },
    "kernelspec": {
      "name": "python3",
      "display_name": "Python 3"
    },
    "accelerator": "GPU"
  },
  "cells": [
    {
      "cell_type": "code",
      "metadata": {
        "id": "RYr_XsBJ--wj",
        "colab_type": "code",
        "outputId": "81737a80-ffde-4dc0-cb01-88c9baac279b",
        "colab": {
          "base_uri": "https://localhost:8080/",
          "height": 51
        }
      },
      "source": [
        "import pandas as pd\n",
        "import numpy as np\n",
        "\n",
        "# File loaded from Github Repo\n",
        "file_path = 'https://raw.githubusercontent.com/NasirKhalid24/ELE494-Project/master/Datasets/final_crime.csv'\n",
        "\n",
        "dataset = pd.read_csv(file_path)\n",
        "\n",
        "# Removing invalid points\n",
        "dataset = dataset[pd.isnull(dataset['NEIGHBOURHOOD']) != pd.isnull(pd.NaT)]\n",
        "print(\"Dataset Shape: \", dataset.shape)\n",
        "\n",
        "\n",
        "dataset = dataset[['YEAR','MONTH','DAY','HOUR', 'MINUTE', 'Neighbourhood', 'Latitude', 'Longitude']]#, 'Graffiti', 'Drinking_Fountain']] \n",
        "\n",
        "# using Date/Time object as datframe key\n",
        "date_time_col = pd.to_datetime(dataset[['YEAR', 'MONTH', 'DAY', 'HOUR','MINUTE']])\n",
        "dataset['DateTimeMix'] = date_time_col\n",
        "dataset.set_index('DateTimeMix', inplace=True)\n",
        "\n",
        "print(\"Sample row\")\n",
        "dataset.head(1)\n",
        "dataset['Crime'] = 1"
      ],
      "execution_count": 58,
      "outputs": [
        {
          "output_type": "stream",
          "text": [
            "Dataset Shape:  (428141, 16)\n",
            "Sample row\n"
          ],
          "name": "stdout"
        }
      ]
    },
    {
      "cell_type": "code",
      "metadata": {
        "id": "i0s9IJn2_MWJ",
        "colab_type": "code",
        "colab": {}
      },
      "source": [
        "# Import a list of all neighbourhoods and their center co-ordinates in Vancouver\n",
        "nb_file_path = 'https://raw.githubusercontent.com/NasirKhalid24/ELE494-Project/master/Datasets/cov_localareas.csv'\n",
        "neighbourhoods = pd.read_csv(nb_file_path)\n",
        "\n",
        "class SpacialParameter():\n",
        "  def __init__(self, file_path):\n",
        "    self.values = pd.read_csv(file_path)\n",
        "    self.values.columns = self.values.columns.str.lower()\n",
        "\n",
        "    self.values = self.values[['latitude', 'longitude']]\n",
        "    self.values = self.values.apply(np.radians) # convert to radians for later calculations\n",
        "\n",
        "  def getDistance(self, lat1, lon1):\n",
        "      r = 6371 # Radius of earth in kilometers\n",
        "      \n",
        "      coordinates = np.array([np.radians(lat1), np.radians(lon1)])\n",
        "      diff_array = self.values - coordinates\n",
        "      \n",
        "      # Applying the haversine formula as array functions for speed\n",
        "      a = np.square(np.sin(diff_array[:, 0]/2.0)) + np.cos(coordinates[0]) * np.cos(graffiti[:, 0]) * np.square(np.sin(diff_array[:, 1]/2.0))\n",
        "      c = 2 * np.arcsin(np.sqrt(a)) \n",
        "      return np.amin(c) * r\n",
        "\n",
        "\n",
        "# Import a list of all graffiti locations\n",
        "gr_file_path = 'https://raw.githubusercontent.com/NasirKhalid24/ELE494-Project/master/Datasets/Graffiti.csv'\n",
        "graffiti = SpacialParameter(gr_file_path)\n",
        "# print(graffiti.values)\n",
        "\n",
        "\n",
        "# Import a list of all drinking fountain locations\n",
        "df_file_path = 'https://raw.githubusercontent.com/NasirKhalid24/ELE494-Project/master/Datasets/drinking_fountains.csv'\n",
        "fountains = SpacialParameter(df_file_path)"
      ],
      "execution_count": 0,
      "outputs": []
    },
    {
      "cell_type": "code",
      "metadata": {
        "id": "L1wjbbUb_byY",
        "colab_type": "code",
        "colab": {}
      },
      "source": [
        "import random\n",
        "import math\n",
        "\n",
        "def RandomLatLong(neighbourhood, radius):\n",
        "  r = radius/111300            \n",
        "  \n",
        "  row = neighbourhoods[neighbourhoods['NAME'] == neighbourhood]\n",
        "\n",
        "  x0 = float(row['Latitude'])\n",
        "  y0 = float(row['Longitude'])\n",
        "  \n",
        "  u = float(random.uniform(0.0,1.0))\n",
        "  v = float(random.uniform(0.0,1.0))\n",
        "\n",
        "  w = r * math.sqrt(u)\n",
        "  t = 2 * math.pi * v\n",
        "  x = w * math.cos(t) \n",
        "  y = w * math.sin(t)\n",
        "\n",
        "  xLat  = x + x0\n",
        "  yLong = y + y0\n",
        "\n",
        "  return (xLat, yLong)\n",
        "\n",
        "# RandomLatLong('Fairview', 500)\n"
      ],
      "execution_count": 0,
      "outputs": []
    },
    {
      "cell_type": "code",
      "metadata": {
        "id": "XzDNVBBrE-hq",
        "colab_type": "code",
        "colab": {}
      },
      "source": [
        "print(\"Shape of Original Dataset: \", dataset.shape)\n",
        "df = df.append(df_extra)\n",
        "\n",
        "print(\"Shape of Upsampled Dataset with No crime values: \" + str(df.shape) + \"\\n\")"
      ],
      "execution_count": 0,
      "outputs": []
    }
  ]
}