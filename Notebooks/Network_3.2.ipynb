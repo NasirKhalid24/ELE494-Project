{
  "nbformat": 4,
  "nbformat_minor": 0,
  "metadata": {
    "colab": {
      "name": "Network #4.ipynb",
      "version": "0.3.2",
      "provenance": [],
      "collapsed_sections": [
        "wQ0XF1PJP91z",
        "jO6b4AWjhPTR",
        "vFAUf_h9gTkN",
        "7xfkROGUgc00",
        "4noydWb5gh_I",
        "RIFWP5OHyHRO",
        "vqaiTSXa7dix"
      ]
    },
    "kernelspec": {
      "name": "python3",
      "display_name": "Python 3"
    },
    "accelerator": "GPU"
  },
  "cells": [
    {
      "cell_type": "markdown",
      "metadata": {
        "id": "rseYZsObPqph",
        "colab_type": "text"
      },
      "source": [
        "# Network #3.2\n",
        "\n",
        "\n",
        "## Network Input:  \n",
        "\n",
        "YEAR,\n",
        "MONTH,\n",
        "DAY,\n",
        "HOUR,\n",
        "MINUTE,\n",
        "Latitude,\n",
        "Longitude,\n",
        "Distance to Graffiti,\n",
        "Distance to a Drinking Fountain,\n",
        "Google Trend\n",
        "\n",
        "## Outputs:\n",
        "\n",
        "Probability of crime occuring"
      ]
    },
    {
      "cell_type": "markdown",
      "metadata": {
        "id": "wQ0XF1PJP91z",
        "colab_type": "text"
      },
      "source": [
        "#### Loading data and creating dataset to be used"
      ]
    },
    {
      "cell_type": "markdown",
      "metadata": {
        "id": "jO6b4AWjhPTR",
        "colab_type": "text"
      },
      "source": [
        "##### Importing dataset, creating Date/Time key & adding crime"
      ]
    },
    {
      "cell_type": "code",
      "metadata": {
        "id": "kTeMeT-KPxtN",
        "colab_type": "code",
        "outputId": "46e27f3e-e40f-45d9-e516-1c11145b87b6",
        "colab": {
          "base_uri": "https://localhost:8080/",
          "height": 130
        }
      },
      "source": [
        "import pandas as pd\n",
        "import numpy as np\n",
        "\n",
        "# File loaded from Github Repo\n",
        "file_path = 'https://raw.githubusercontent.com/NasirKhalid24/ELE494-Project/master/Datasets/final_crime.csv'\n",
        "\n",
        "df = pd.read_csv(file_path)\n",
        "\n",
        "# Removing invalid points\n",
        "df = df[pd.isnull(df['NEIGHBOURHOOD']) != pd.isnull(pd.NaT)]\n",
        "\n",
        "df = df[['YEAR','MONTH','DAY','HOUR', 'MINUTE', 'Neighbourhood', 'Latitude', 'Longitude', 'Graffiti', 'Drinking_Fountain', 'Google_Trends']] \n",
        "print(\"Shape of Dataset imported for use: \" + str(df.shape) + \"\\n\")\n",
        "\n",
        "print(\"Sample row\")\n",
        "df.head(1)"
      ],
      "execution_count": 1,
      "outputs": [
        {
          "output_type": "stream",
          "text": [
            "Shape of Dataset imported for use: (428141, 11)\n",
            "\n",
            "Sample row\n"
          ],
          "name": "stdout"
        },
        {
          "output_type": "execute_result",
          "data": {
            "text/html": [
              "<div>\n",
              "<style scoped>\n",
              "    .dataframe tbody tr th:only-of-type {\n",
              "        vertical-align: middle;\n",
              "    }\n",
              "\n",
              "    .dataframe tbody tr th {\n",
              "        vertical-align: top;\n",
              "    }\n",
              "\n",
              "    .dataframe thead th {\n",
              "        text-align: right;\n",
              "    }\n",
              "</style>\n",
              "<table border=\"1\" class=\"dataframe\">\n",
              "  <thead>\n",
              "    <tr style=\"text-align: right;\">\n",
              "      <th></th>\n",
              "      <th>YEAR</th>\n",
              "      <th>MONTH</th>\n",
              "      <th>DAY</th>\n",
              "      <th>HOUR</th>\n",
              "      <th>MINUTE</th>\n",
              "      <th>Neighbourhood</th>\n",
              "      <th>Latitude</th>\n",
              "      <th>Longitude</th>\n",
              "      <th>Graffiti</th>\n",
              "      <th>Drinking_Fountain</th>\n",
              "      <th>Google_Trends</th>\n",
              "    </tr>\n",
              "  </thead>\n",
              "  <tbody>\n",
              "    <tr>\n",
              "      <th>0</th>\n",
              "      <td>2004</td>\n",
              "      <td>10</td>\n",
              "      <td>8</td>\n",
              "      <td>21.0</td>\n",
              "      <td>0.0</td>\n",
              "      <td>Fairview</td>\n",
              "      <td>49.265076</td>\n",
              "      <td>-123.118474</td>\n",
              "      <td>0.040765</td>\n",
              "      <td>0.402295</td>\n",
              "      <td>72</td>\n",
              "    </tr>\n",
              "  </tbody>\n",
              "</table>\n",
              "</div>"
            ],
            "text/plain": [
              "   YEAR  MONTH  DAY  HOUR  MINUTE Neighbourhood   Latitude   Longitude  \\\n",
              "0  2004     10    8  21.0     0.0      Fairview  49.265076 -123.118474   \n",
              "\n",
              "   Graffiti  Drinking_Fountain  Google_Trends  \n",
              "0  0.040765           0.402295             72  "
            ]
          },
          "metadata": {
            "tags": []
          },
          "execution_count": 1
        }
      ]
    },
    {
      "cell_type": "code",
      "metadata": {
        "id": "HXt0Ux2kQRoi",
        "colab_type": "code",
        "outputId": "1971ce9f-73e4-47e5-f193-29049840fea9",
        "colab": {
          "base_uri": "https://localhost:8080/",
          "height": 160
        }
      },
      "source": [
        "# Creating a Key which will be a Date/Time object\n",
        "\n",
        "print (\"------ Adding date-time object as key ------\\n\")\n",
        "date_time_col = pd.to_datetime(df[['YEAR', 'MONTH', 'DAY', 'HOUR','MINUTE']])\n",
        "\n",
        "# Make the added Date the index of the dataset\n",
        "df['DateTimeMix'] = date_time_col\n",
        "df.set_index('DateTimeMix', inplace=True)\n",
        "\n",
        "print(\"Sample row\")\n",
        "df.head(1)"
      ],
      "execution_count": 2,
      "outputs": [
        {
          "output_type": "stream",
          "text": [
            "------ Adding date-time object as key ------\n",
            "\n",
            "Sample row\n"
          ],
          "name": "stdout"
        },
        {
          "output_type": "execute_result",
          "data": {
            "text/html": [
              "<div>\n",
              "<style scoped>\n",
              "    .dataframe tbody tr th:only-of-type {\n",
              "        vertical-align: middle;\n",
              "    }\n",
              "\n",
              "    .dataframe tbody tr th {\n",
              "        vertical-align: top;\n",
              "    }\n",
              "\n",
              "    .dataframe thead th {\n",
              "        text-align: right;\n",
              "    }\n",
              "</style>\n",
              "<table border=\"1\" class=\"dataframe\">\n",
              "  <thead>\n",
              "    <tr style=\"text-align: right;\">\n",
              "      <th></th>\n",
              "      <th>YEAR</th>\n",
              "      <th>MONTH</th>\n",
              "      <th>DAY</th>\n",
              "      <th>HOUR</th>\n",
              "      <th>MINUTE</th>\n",
              "      <th>Neighbourhood</th>\n",
              "      <th>Latitude</th>\n",
              "      <th>Longitude</th>\n",
              "      <th>Graffiti</th>\n",
              "      <th>Drinking_Fountain</th>\n",
              "      <th>Google_Trends</th>\n",
              "    </tr>\n",
              "    <tr>\n",
              "      <th>DateTimeMix</th>\n",
              "      <th></th>\n",
              "      <th></th>\n",
              "      <th></th>\n",
              "      <th></th>\n",
              "      <th></th>\n",
              "      <th></th>\n",
              "      <th></th>\n",
              "      <th></th>\n",
              "      <th></th>\n",
              "      <th></th>\n",
              "      <th></th>\n",
              "    </tr>\n",
              "  </thead>\n",
              "  <tbody>\n",
              "    <tr>\n",
              "      <th>2004-10-08 21:00:00</th>\n",
              "      <td>2004</td>\n",
              "      <td>10</td>\n",
              "      <td>8</td>\n",
              "      <td>21.0</td>\n",
              "      <td>0.0</td>\n",
              "      <td>Fairview</td>\n",
              "      <td>49.265076</td>\n",
              "      <td>-123.118474</td>\n",
              "      <td>0.040765</td>\n",
              "      <td>0.402295</td>\n",
              "      <td>72</td>\n",
              "    </tr>\n",
              "  </tbody>\n",
              "</table>\n",
              "</div>"
            ],
            "text/plain": [
              "                     YEAR  MONTH  DAY  HOUR  MINUTE Neighbourhood   Latitude  \\\n",
              "DateTimeMix                                                                    \n",
              "2004-10-08 21:00:00  2004     10    8  21.0     0.0      Fairview  49.265076   \n",
              "\n",
              "                      Longitude  Graffiti  Drinking_Fountain  Google_Trends  \n",
              "DateTimeMix                                                                  \n",
              "2004-10-08 21:00:00 -123.118474  0.040765           0.402295             72  "
            ]
          },
          "metadata": {
            "tags": []
          },
          "execution_count": 2
        }
      ]
    },
    {
      "cell_type": "code",
      "metadata": {
        "id": "lSt3yfU6yUCg",
        "colab_type": "code",
        "outputId": "ac6d1d73-a0c8-49ac-fed3-7f064c1993c7",
        "colab": {
          "base_uri": "https://localhost:8080/",
          "height": 125
        }
      },
      "source": [
        "df['Crime'] = 1\n",
        "print(\"Sample row\")\n",
        "df.head(1)"
      ],
      "execution_count": 3,
      "outputs": [
        {
          "output_type": "stream",
          "text": [
            "Sample row\n"
          ],
          "name": "stdout"
        },
        {
          "output_type": "execute_result",
          "data": {
            "text/html": [
              "<div>\n",
              "<style scoped>\n",
              "    .dataframe tbody tr th:only-of-type {\n",
              "        vertical-align: middle;\n",
              "    }\n",
              "\n",
              "    .dataframe tbody tr th {\n",
              "        vertical-align: top;\n",
              "    }\n",
              "\n",
              "    .dataframe thead th {\n",
              "        text-align: right;\n",
              "    }\n",
              "</style>\n",
              "<table border=\"1\" class=\"dataframe\">\n",
              "  <thead>\n",
              "    <tr style=\"text-align: right;\">\n",
              "      <th></th>\n",
              "      <th>YEAR</th>\n",
              "      <th>MONTH</th>\n",
              "      <th>DAY</th>\n",
              "      <th>HOUR</th>\n",
              "      <th>MINUTE</th>\n",
              "      <th>Neighbourhood</th>\n",
              "      <th>Latitude</th>\n",
              "      <th>Longitude</th>\n",
              "      <th>Graffiti</th>\n",
              "      <th>Drinking_Fountain</th>\n",
              "      <th>Google_Trends</th>\n",
              "      <th>Crime</th>\n",
              "    </tr>\n",
              "    <tr>\n",
              "      <th>DateTimeMix</th>\n",
              "      <th></th>\n",
              "      <th></th>\n",
              "      <th></th>\n",
              "      <th></th>\n",
              "      <th></th>\n",
              "      <th></th>\n",
              "      <th></th>\n",
              "      <th></th>\n",
              "      <th></th>\n",
              "      <th></th>\n",
              "      <th></th>\n",
              "      <th></th>\n",
              "    </tr>\n",
              "  </thead>\n",
              "  <tbody>\n",
              "    <tr>\n",
              "      <th>2004-10-08 21:00:00</th>\n",
              "      <td>2004</td>\n",
              "      <td>10</td>\n",
              "      <td>8</td>\n",
              "      <td>21.0</td>\n",
              "      <td>0.0</td>\n",
              "      <td>Fairview</td>\n",
              "      <td>49.265076</td>\n",
              "      <td>-123.118474</td>\n",
              "      <td>0.040765</td>\n",
              "      <td>0.402295</td>\n",
              "      <td>72</td>\n",
              "      <td>1</td>\n",
              "    </tr>\n",
              "  </tbody>\n",
              "</table>\n",
              "</div>"
            ],
            "text/plain": [
              "                     YEAR  MONTH  DAY  HOUR  MINUTE Neighbourhood   Latitude  \\\n",
              "DateTimeMix                                                                    \n",
              "2004-10-08 21:00:00  2004     10    8  21.0     0.0      Fairview  49.265076   \n",
              "\n",
              "                      Longitude  Graffiti  Drinking_Fountain  Google_Trends  \\\n",
              "DateTimeMix                                                                   \n",
              "2004-10-08 21:00:00 -123.118474  0.040765           0.402295             72   \n",
              "\n",
              "                     Crime  \n",
              "DateTimeMix                 \n",
              "2004-10-08 21:00:00      1  "
            ]
          },
          "metadata": {
            "tags": []
          },
          "execution_count": 3
        }
      ]
    },
    {
      "cell_type": "markdown",
      "metadata": {
        "id": "vFAUf_h9gTkN",
        "colab_type": "text"
      },
      "source": [
        "##### Import Neighbourhoods and Function to generate co-ordinates in neighbourhood"
      ]
    },
    {
      "cell_type": "code",
      "metadata": {
        "id": "N7gqONURRQEA",
        "colab_type": "code",
        "outputId": "51ba7c51-b5dc-4173-ab16-b3b02cdef210",
        "colab": {
          "base_uri": "https://localhost:8080/",
          "height": 725
        }
      },
      "source": [
        "# Import a list of all neighbourhoods and their center co-ordinates in Vancouver\n",
        "\n",
        "nb_file_path = 'https://raw.githubusercontent.com/NasirKhalid24/ELE494-Project/master/Datasets/cov_localareas.csv'\n",
        "\n",
        "neighbourhoods = pd.read_csv(nb_file_path)\n",
        "print(\"List of Neighbourhoods : \")\n",
        "neighbourhoods"
      ],
      "execution_count": 4,
      "outputs": [
        {
          "output_type": "stream",
          "text": [
            "List of Neighbourhoods : \n"
          ],
          "name": "stdout"
        },
        {
          "output_type": "execute_result",
          "data": {
            "text/html": [
              "<div>\n",
              "<style scoped>\n",
              "    .dataframe tbody tr th:only-of-type {\n",
              "        vertical-align: middle;\n",
              "    }\n",
              "\n",
              "    .dataframe tbody tr th {\n",
              "        vertical-align: top;\n",
              "    }\n",
              "\n",
              "    .dataframe thead th {\n",
              "        text-align: right;\n",
              "    }\n",
              "</style>\n",
              "<table border=\"1\" class=\"dataframe\">\n",
              "  <thead>\n",
              "    <tr style=\"text-align: right;\">\n",
              "      <th></th>\n",
              "      <th>MAPID</th>\n",
              "      <th>NAME</th>\n",
              "      <th>Latitude</th>\n",
              "      <th>Longitude</th>\n",
              "    </tr>\n",
              "  </thead>\n",
              "  <tbody>\n",
              "    <tr>\n",
              "      <th>0</th>\n",
              "      <td>SUN</td>\n",
              "      <td>Sunset</td>\n",
              "      <td>49.218650</td>\n",
              "      <td>-123.091376</td>\n",
              "    </tr>\n",
              "    <tr>\n",
              "      <th>1</th>\n",
              "      <td>MP</td>\n",
              "      <td>Mount Pleasant</td>\n",
              "      <td>49.263060</td>\n",
              "      <td>-123.099888</td>\n",
              "    </tr>\n",
              "    <tr>\n",
              "      <th>2</th>\n",
              "      <td>RP</td>\n",
              "      <td>Riley Park</td>\n",
              "      <td>49.244679</td>\n",
              "      <td>-123.103239</td>\n",
              "    </tr>\n",
              "    <tr>\n",
              "      <th>3</th>\n",
              "      <td>CBD</td>\n",
              "      <td>Downtown</td>\n",
              "      <td>49.279255</td>\n",
              "      <td>-123.119137</td>\n",
              "    </tr>\n",
              "    <tr>\n",
              "      <th>4</th>\n",
              "      <td>KITS</td>\n",
              "      <td>Kitsilano</td>\n",
              "      <td>49.265663</td>\n",
              "      <td>-123.166947</td>\n",
              "    </tr>\n",
              "    <tr>\n",
              "      <th>5</th>\n",
              "      <td>DS</td>\n",
              "      <td>Dunbar-Southlands</td>\n",
              "      <td>49.242361</td>\n",
              "      <td>-123.185280</td>\n",
              "    </tr>\n",
              "    <tr>\n",
              "      <th>6</th>\n",
              "      <td>KERR</td>\n",
              "      <td>Kerrisdale</td>\n",
              "      <td>49.225466</td>\n",
              "      <td>-123.157878</td>\n",
              "    </tr>\n",
              "    <tr>\n",
              "      <th>7</th>\n",
              "      <td>AR</td>\n",
              "      <td>Arbutus-Ridge</td>\n",
              "      <td>49.245938</td>\n",
              "      <td>-123.160737</td>\n",
              "    </tr>\n",
              "    <tr>\n",
              "      <th>8</th>\n",
              "      <td>WPG</td>\n",
              "      <td>West Point Grey</td>\n",
              "      <td>49.265928</td>\n",
              "      <td>-123.202077</td>\n",
              "    </tr>\n",
              "    <tr>\n",
              "      <th>9</th>\n",
              "      <td>MARP</td>\n",
              "      <td>Marpole</td>\n",
              "      <td>49.210702</td>\n",
              "      <td>-123.130159</td>\n",
              "    </tr>\n",
              "    <tr>\n",
              "      <th>10</th>\n",
              "      <td>OAK</td>\n",
              "      <td>Oakridge</td>\n",
              "      <td>49.226350</td>\n",
              "      <td>-123.123689</td>\n",
              "    </tr>\n",
              "    <tr>\n",
              "      <th>11</th>\n",
              "      <td>SHAU</td>\n",
              "      <td>Shaughnessy</td>\n",
              "      <td>49.244443</td>\n",
              "      <td>-123.140041</td>\n",
              "    </tr>\n",
              "    <tr>\n",
              "      <th>12</th>\n",
              "      <td>FAIR</td>\n",
              "      <td>Fairview</td>\n",
              "      <td>49.263421</td>\n",
              "      <td>-123.131514</td>\n",
              "    </tr>\n",
              "    <tr>\n",
              "      <th>13</th>\n",
              "      <td>SC</td>\n",
              "      <td>South Cambie</td>\n",
              "      <td>49.245246</td>\n",
              "      <td>-123.121495</td>\n",
              "    </tr>\n",
              "    <tr>\n",
              "      <th>14</th>\n",
              "      <td>WE</td>\n",
              "      <td>West End</td>\n",
              "      <td>49.285170</td>\n",
              "      <td>-123.134074</td>\n",
              "    </tr>\n",
              "    <tr>\n",
              "      <th>15</th>\n",
              "      <td>KIL</td>\n",
              "      <td>Killarney</td>\n",
              "      <td>49.220042</td>\n",
              "      <td>-123.038120</td>\n",
              "    </tr>\n",
              "    <tr>\n",
              "      <th>16</th>\n",
              "      <td>RC</td>\n",
              "      <td>Renfrew-Collingwood</td>\n",
              "      <td>49.248648</td>\n",
              "      <td>-123.040758</td>\n",
              "    </tr>\n",
              "    <tr>\n",
              "      <th>17</th>\n",
              "      <td>HS</td>\n",
              "      <td>Hastings-Sunrise</td>\n",
              "      <td>49.275951</td>\n",
              "      <td>-123.041252</td>\n",
              "    </tr>\n",
              "    <tr>\n",
              "      <th>18</th>\n",
              "      <td>VF</td>\n",
              "      <td>Victoria-Fraserview</td>\n",
              "      <td>49.220273</td>\n",
              "      <td>-123.063993</td>\n",
              "    </tr>\n",
              "    <tr>\n",
              "      <th>19</th>\n",
              "      <td>KC</td>\n",
              "      <td>Kensington-Cedar Cottage</td>\n",
              "      <td>49.246225</td>\n",
              "      <td>-123.074036</td>\n",
              "    </tr>\n",
              "    <tr>\n",
              "      <th>20</th>\n",
              "      <td>STR</td>\n",
              "      <td>Strathcona</td>\n",
              "      <td>49.273320</td>\n",
              "      <td>-123.089306</td>\n",
              "    </tr>\n",
              "    <tr>\n",
              "      <th>21</th>\n",
              "      <td>GW</td>\n",
              "      <td>Grandview-Woodland</td>\n",
              "      <td>49.274305</td>\n",
              "      <td>-123.067423</td>\n",
              "    </tr>\n",
              "  </tbody>\n",
              "</table>\n",
              "</div>"
            ],
            "text/plain": [
              "   MAPID                      NAME   Latitude   Longitude\n",
              "0    SUN                    Sunset  49.218650 -123.091376\n",
              "1     MP            Mount Pleasant  49.263060 -123.099888\n",
              "2     RP                Riley Park  49.244679 -123.103239\n",
              "3    CBD                  Downtown  49.279255 -123.119137\n",
              "4   KITS                 Kitsilano  49.265663 -123.166947\n",
              "5     DS         Dunbar-Southlands  49.242361 -123.185280\n",
              "6   KERR                Kerrisdale  49.225466 -123.157878\n",
              "7     AR             Arbutus-Ridge  49.245938 -123.160737\n",
              "8    WPG           West Point Grey  49.265928 -123.202077\n",
              "9   MARP                   Marpole  49.210702 -123.130159\n",
              "10   OAK                  Oakridge  49.226350 -123.123689\n",
              "11  SHAU               Shaughnessy  49.244443 -123.140041\n",
              "12  FAIR                  Fairview  49.263421 -123.131514\n",
              "13    SC              South Cambie  49.245246 -123.121495\n",
              "14    WE                  West End  49.285170 -123.134074\n",
              "15   KIL                 Killarney  49.220042 -123.038120\n",
              "16    RC       Renfrew-Collingwood  49.248648 -123.040758\n",
              "17    HS          Hastings-Sunrise  49.275951 -123.041252\n",
              "18    VF       Victoria-Fraserview  49.220273 -123.063993\n",
              "19    KC  Kensington-Cedar Cottage  49.246225 -123.074036\n",
              "20   STR                Strathcona  49.273320 -123.089306\n",
              "21    GW        Grandview-Woodland  49.274305 -123.067423"
            ]
          },
          "metadata": {
            "tags": []
          },
          "execution_count": 4
        }
      ]
    },
    {
      "cell_type": "code",
      "metadata": {
        "id": "KhODlL5aazkp",
        "colab_type": "code",
        "outputId": "41087f27-0ee2-4323-af65-0b300439e45c",
        "colab": {
          "base_uri": "https://localhost:8080/",
          "height": 35
        }
      },
      "source": [
        "# Given a neighbourhood and a radius this code generates a random point in it and returns co-ordinates\n",
        "\n",
        "import random\n",
        "import math\n",
        "\n",
        "def RandomLatLong(nieghbourhood, radius):\n",
        "  \n",
        "  r = radius/111300            \n",
        "  \n",
        "  row = neighbourhoods[neighbourhoods['NAME'] == nieghbourhood]\n",
        "\n",
        "  x0 = float(row['Latitude'])\n",
        "  y0 = float(row['Longitude'])\n",
        "  \n",
        "  u = float(random.uniform(0.0,1.0))\n",
        "  v = float(random.uniform(0.0,1.0))\n",
        "\n",
        "  w = r * math.sqrt(u)\n",
        "  t = 2 * math.pi * v\n",
        "  x = w * math.cos(t) \n",
        "  y = w * math.sin(t)\n",
        "\n",
        "  xLat  = x + x0\n",
        "  yLong = y + y0\n",
        "\n",
        "  return (xLat, yLong)\n",
        "\n",
        "RandomLatLong('Fairview', 500)"
      ],
      "execution_count": 5,
      "outputs": [
        {
          "output_type": "execute_result",
          "data": {
            "text/plain": [
              "(49.26451555636907, -123.13193752947694)"
            ]
          },
          "metadata": {
            "tags": []
          },
          "execution_count": 5
        }
      ]
    },
    {
      "cell_type": "markdown",
      "metadata": {
        "id": "7xfkROGUgc00",
        "colab_type": "text"
      },
      "source": [
        "##### Import Graffiti and Function to get distance from Graffiti"
      ]
    },
    {
      "cell_type": "code",
      "metadata": {
        "id": "BsFdXlRqa1Vi",
        "colab_type": "code",
        "outputId": "671d0ec7-04e8-42c0-c707-6882a679112b",
        "colab": {
          "base_uri": "https://localhost:8080/",
          "height": 113
        }
      },
      "source": [
        "# Import a list of all graffiti locations\n",
        "\n",
        "gr_file_path = 'https://raw.githubusercontent.com/NasirKhalid24/ELE494-Project/master/Datasets/Graffiti.csv'\n",
        "\n",
        "graffiti = pd.read_csv(gr_file_path)\n",
        "print(\"Number of graffiti instances: \" + str(graffiti.shape))\n",
        "print(\"Sample row\")\n",
        "graffiti.head(1)"
      ],
      "execution_count": 6,
      "outputs": [
        {
          "output_type": "stream",
          "text": [
            "Number of graffiti instances: (8507, 2)\n",
            "Sample row\n"
          ],
          "name": "stdout"
        },
        {
          "output_type": "execute_result",
          "data": {
            "text/html": [
              "<div>\n",
              "<style scoped>\n",
              "    .dataframe tbody tr th:only-of-type {\n",
              "        vertical-align: middle;\n",
              "    }\n",
              "\n",
              "    .dataframe tbody tr th {\n",
              "        vertical-align: top;\n",
              "    }\n",
              "\n",
              "    .dataframe thead th {\n",
              "        text-align: right;\n",
              "    }\n",
              "</style>\n",
              "<table border=\"1\" class=\"dataframe\">\n",
              "  <thead>\n",
              "    <tr style=\"text-align: right;\">\n",
              "      <th></th>\n",
              "      <th>Latitude</th>\n",
              "      <th>Longitude</th>\n",
              "    </tr>\n",
              "  </thead>\n",
              "  <tbody>\n",
              "    <tr>\n",
              "      <th>0</th>\n",
              "      <td>49.22386</td>\n",
              "      <td>-123.090426</td>\n",
              "    </tr>\n",
              "  </tbody>\n",
              "</table>\n",
              "</div>"
            ],
            "text/plain": [
              "   Latitude   Longitude\n",
              "0  49.22386 -123.090426"
            ]
          },
          "metadata": {
            "tags": []
          },
          "execution_count": 6
        }
      ]
    },
    {
      "cell_type": "code",
      "metadata": {
        "id": "RvEYKwZrci4x",
        "colab_type": "code",
        "outputId": "0b284a77-9fe2-4b4a-f2e0-df768653cd7b",
        "colab": {
          "base_uri": "https://localhost:8080/",
          "height": 69
        }
      },
      "source": [
        "# Convert all coordinates to radians for easier calculations later\n",
        "graffiti = graffiti.apply(np.radians)\n",
        "print(\"Sample row\")\n",
        "print(graffiti.head(1))\n",
        "graffiti = graffiti.values"
      ],
      "execution_count": 7,
      "outputs": [
        {
          "output_type": "stream",
          "text": [
            "Sample row\n",
            "   Latitude  Longitude\n",
            "0  0.859118  -2.148333\n"
          ],
          "name": "stdout"
        }
      ]
    },
    {
      "cell_type": "code",
      "metadata": {
        "id": "Ax6HM8uAbfC9",
        "colab_type": "code",
        "outputId": "a554e8b9-7d61-408e-b148-f5b65e514c1a",
        "colab": {
          "base_uri": "https://localhost:8080/",
          "height": 35
        }
      },
      "source": [
        "def DistanceToGraffiti(lat1, lon1):\n",
        "    r = 6371 # Radius of earth in kilometers\n",
        "    \n",
        "    coordinates = np.array([np.radians(lat1), np.radians(lon1)])\n",
        "    diff_array = graffiti - coordinates\n",
        "    \n",
        "    # Applying the haversine formula as array functions for speed\n",
        "    a = np.square(np.sin(diff_array[:, 0]/2.0)) + np.cos(coordinates[0]) * np.cos(graffiti[:, 0]) * np.square(np.sin(diff_array[:, 1]/2.0))\n",
        "    c = 2 * np.arcsin(np.sqrt(a)) \n",
        "    return np.amin(c)*r\n",
        "\n",
        "DistanceToGraffiti(49.2650765,-123.1184743)"
      ],
      "execution_count": 8,
      "outputs": [
        {
          "output_type": "execute_result",
          "data": {
            "text/plain": [
              "0.04076535081267878"
            ]
          },
          "metadata": {
            "tags": []
          },
          "execution_count": 8
        }
      ]
    },
    {
      "cell_type": "markdown",
      "metadata": {
        "id": "4noydWb5gh_I",
        "colab_type": "text"
      },
      "source": [
        "##### Import Drinking fountain and Function to get distance from Drinking fountain"
      ]
    },
    {
      "cell_type": "code",
      "metadata": {
        "id": "lASPMY7ofdla",
        "colab_type": "code",
        "outputId": "a19804da-ccf9-4bed-d71b-c1ff2f835705",
        "colab": {
          "base_uri": "https://localhost:8080/",
          "height": 113
        }
      },
      "source": [
        "# Import a list of all drinking fountain locations\n",
        "\n",
        "df_file_path = 'https://raw.githubusercontent.com/NasirKhalid24/ELE494-Project/master/Datasets/drinking_fountains.csv'\n",
        "\n",
        "drinking = pd.read_csv(df_file_path)\n",
        "drinking = drinking[['LATITUDE', 'LONGITUDE']]\n",
        "print(\"Number of drinking fountains: \" + str(drinking.shape))\n",
        "print(\"Sample row\")\n",
        "drinking.head(1)"
      ],
      "execution_count": 9,
      "outputs": [
        {
          "output_type": "stream",
          "text": [
            "Number of drinking fountains: (240, 2)\n",
            "Sample row\n"
          ],
          "name": "stdout"
        },
        {
          "output_type": "execute_result",
          "data": {
            "text/html": [
              "<div>\n",
              "<style scoped>\n",
              "    .dataframe tbody tr th:only-of-type {\n",
              "        vertical-align: middle;\n",
              "    }\n",
              "\n",
              "    .dataframe tbody tr th {\n",
              "        vertical-align: top;\n",
              "    }\n",
              "\n",
              "    .dataframe thead th {\n",
              "        text-align: right;\n",
              "    }\n",
              "</style>\n",
              "<table border=\"1\" class=\"dataframe\">\n",
              "  <thead>\n",
              "    <tr style=\"text-align: right;\">\n",
              "      <th></th>\n",
              "      <th>LATITUDE</th>\n",
              "      <th>LONGITUDE</th>\n",
              "    </tr>\n",
              "  </thead>\n",
              "  <tbody>\n",
              "    <tr>\n",
              "      <th>0</th>\n",
              "      <td>49.234947</td>\n",
              "      <td>-123.027254</td>\n",
              "    </tr>\n",
              "  </tbody>\n",
              "</table>\n",
              "</div>"
            ],
            "text/plain": [
              "    LATITUDE   LONGITUDE\n",
              "0  49.234947 -123.027254"
            ]
          },
          "metadata": {
            "tags": []
          },
          "execution_count": 9
        }
      ]
    },
    {
      "cell_type": "code",
      "metadata": {
        "id": "CF92ly20f-xW",
        "colab_type": "code",
        "outputId": "9c872628-e44d-4639-e4e8-4647806414c2",
        "colab": {
          "base_uri": "https://localhost:8080/",
          "height": 69
        }
      },
      "source": [
        "# Convert all coordinates to radians for easier calculations later\n",
        "drinking = drinking.apply(np.radians)\n",
        "print(\"Sample row\")\n",
        "print(drinking.head(1))\n",
        "drinking = drinking.values"
      ],
      "execution_count": 10,
      "outputs": [
        {
          "output_type": "stream",
          "text": [
            "Sample row\n",
            "   LATITUDE  LONGITUDE\n",
            "0  0.859312  -2.147231\n"
          ],
          "name": "stdout"
        }
      ]
    },
    {
      "cell_type": "code",
      "metadata": {
        "id": "d1XBMQ_YgC0e",
        "colab_type": "code",
        "outputId": "77fa8dfa-8624-42bb-801f-e3fd5c2b6a84",
        "colab": {
          "base_uri": "https://localhost:8080/",
          "height": 35
        }
      },
      "source": [
        "def DistanceToFountain(lat1, lon1):\n",
        "    r = 6371 # Radius of earth in kilometers\n",
        "    \n",
        "    coordinates = np.array([np.radians(lat1), np.radians(lon1)])\n",
        "    diff_array = drinking - coordinates\n",
        "    \n",
        "    # Applying the haversine formula as array functions for speed\n",
        "    a = np.square(np.sin(diff_array[:, 0]/2.0)) + np.cos(coordinates[0]) * np.cos(drinking[:, 0]) * np.square(np.sin(diff_array[:, 1]/2.0))\n",
        "    c = 2 * np.arcsin(np.sqrt(a)) \n",
        "    return np.amin(c)*r\n",
        "\n",
        "DistanceToFountain(49.2650765,-123.1184743)"
      ],
      "execution_count": 11,
      "outputs": [
        {
          "output_type": "execute_result",
          "data": {
            "text/plain": [
              "0.40229507588315133"
            ]
          },
          "metadata": {
            "tags": []
          },
          "execution_count": 11
        }
      ]
    },
    {
      "cell_type": "markdown",
      "metadata": {
        "id": "RIFWP5OHyHRO",
        "colab_type": "text"
      },
      "source": [
        "#### Upsample every 30 minute and add data points"
      ]
    },
    {
      "cell_type": "code",
      "metadata": {
        "id": "N569yqfLyGp7",
        "colab_type": "code",
        "colab": {}
      },
      "source": [
        "import random\n",
        "\n",
        "df_extra = df.groupby(level=0).count().resample('30min').asfreq()\n",
        "df_extra = df_extra[pd.isna((df_extra['HOUR']))]\n",
        "\n",
        "df_extra['Crime'] = 0\n",
        "df_extra['YEAR'] = df_extra.index.year\n",
        "df_extra['MONTH'] = df_extra.index.month\n",
        "df_extra['DAY'] = df_extra.index.day\n",
        "df_extra['HOUR'] = df_extra.index.hour\n",
        "df_extra['MINUTE'] = df_extra.index.minute\n",
        "df_extra['Neighbourhood'] = [neighbourhoods.sample()['NAME'].values[0] for i in range(0,df_extra.values.shape[0])]\n",
        "df_extra[['Latitude', 'Longitude']] = df_extra['Neighbourhood'].apply(lambda x: RandomLatLong(x, 500)).apply(pd.Series)\n",
        "df_extra['Graffiti'] = df_extra.apply(lambda x: DistanceToGraffiti(x['Latitude'], x['Longitude']), axis=1)\n",
        "df_extra['Drinking_Fountain'] = df_extra.apply(lambda x: DistanceToFountain(x['Latitude'], x['Longitude']), axis=1)"
      ],
      "execution_count": 0,
      "outputs": []
    },
    {
      "cell_type": "code",
      "metadata": {
        "id": "hSVziaPtz3XQ",
        "colab_type": "code",
        "outputId": "7a4a083a-7f77-4e44-b091-442d4cc3e042",
        "colab": {
          "base_uri": "https://localhost:8080/",
          "height": 198
        }
      },
      "source": [
        "df_extra.head(4)"
      ],
      "execution_count": 13,
      "outputs": [
        {
          "output_type": "execute_result",
          "data": {
            "text/html": [
              "<div>\n",
              "<style scoped>\n",
              "    .dataframe tbody tr th:only-of-type {\n",
              "        vertical-align: middle;\n",
              "    }\n",
              "\n",
              "    .dataframe tbody tr th {\n",
              "        vertical-align: top;\n",
              "    }\n",
              "\n",
              "    .dataframe thead th {\n",
              "        text-align: right;\n",
              "    }\n",
              "</style>\n",
              "<table border=\"1\" class=\"dataframe\">\n",
              "  <thead>\n",
              "    <tr style=\"text-align: right;\">\n",
              "      <th></th>\n",
              "      <th>YEAR</th>\n",
              "      <th>MONTH</th>\n",
              "      <th>DAY</th>\n",
              "      <th>HOUR</th>\n",
              "      <th>MINUTE</th>\n",
              "      <th>Neighbourhood</th>\n",
              "      <th>Latitude</th>\n",
              "      <th>Longitude</th>\n",
              "      <th>Graffiti</th>\n",
              "      <th>Drinking_Fountain</th>\n",
              "      <th>Google_Trends</th>\n",
              "      <th>Crime</th>\n",
              "    </tr>\n",
              "    <tr>\n",
              "      <th>DateTimeMix</th>\n",
              "      <th></th>\n",
              "      <th></th>\n",
              "      <th></th>\n",
              "      <th></th>\n",
              "      <th></th>\n",
              "      <th></th>\n",
              "      <th></th>\n",
              "      <th></th>\n",
              "      <th></th>\n",
              "      <th></th>\n",
              "      <th></th>\n",
              "      <th></th>\n",
              "    </tr>\n",
              "  </thead>\n",
              "  <tbody>\n",
              "    <tr>\n",
              "      <th>2004-01-01 00:30:00</th>\n",
              "      <td>2004</td>\n",
              "      <td>1</td>\n",
              "      <td>1</td>\n",
              "      <td>0</td>\n",
              "      <td>30</td>\n",
              "      <td>Oakridge</td>\n",
              "      <td>49.230512</td>\n",
              "      <td>-123.122391</td>\n",
              "      <td>0.243895</td>\n",
              "      <td>0.382588</td>\n",
              "      <td>NaN</td>\n",
              "      <td>0</td>\n",
              "    </tr>\n",
              "    <tr>\n",
              "      <th>2004-01-01 01:30:00</th>\n",
              "      <td>2004</td>\n",
              "      <td>1</td>\n",
              "      <td>1</td>\n",
              "      <td>1</td>\n",
              "      <td>30</td>\n",
              "      <td>South Cambie</td>\n",
              "      <td>49.247399</td>\n",
              "      <td>-123.123718</td>\n",
              "      <td>0.136539</td>\n",
              "      <td>0.512164</td>\n",
              "      <td>NaN</td>\n",
              "      <td>0</td>\n",
              "    </tr>\n",
              "    <tr>\n",
              "      <th>2004-01-01 02:00:00</th>\n",
              "      <td>2004</td>\n",
              "      <td>1</td>\n",
              "      <td>1</td>\n",
              "      <td>2</td>\n",
              "      <td>0</td>\n",
              "      <td>Arbutus-Ridge</td>\n",
              "      <td>49.248407</td>\n",
              "      <td>-123.164086</td>\n",
              "      <td>0.191961</td>\n",
              "      <td>0.319190</td>\n",
              "      <td>NaN</td>\n",
              "      <td>0</td>\n",
              "    </tr>\n",
              "    <tr>\n",
              "      <th>2004-01-01 02:30:00</th>\n",
              "      <td>2004</td>\n",
              "      <td>1</td>\n",
              "      <td>1</td>\n",
              "      <td>2</td>\n",
              "      <td>30</td>\n",
              "      <td>Downtown</td>\n",
              "      <td>49.278049</td>\n",
              "      <td>-123.121167</td>\n",
              "      <td>0.048236</td>\n",
              "      <td>0.224068</td>\n",
              "      <td>NaN</td>\n",
              "      <td>0</td>\n",
              "    </tr>\n",
              "  </tbody>\n",
              "</table>\n",
              "</div>"
            ],
            "text/plain": [
              "                     YEAR  MONTH  DAY  HOUR  MINUTE  Neighbourhood   Latitude  \\\n",
              "DateTimeMix                                                                     \n",
              "2004-01-01 00:30:00  2004      1    1     0      30       Oakridge  49.230512   \n",
              "2004-01-01 01:30:00  2004      1    1     1      30   South Cambie  49.247399   \n",
              "2004-01-01 02:00:00  2004      1    1     2       0  Arbutus-Ridge  49.248407   \n",
              "2004-01-01 02:30:00  2004      1    1     2      30       Downtown  49.278049   \n",
              "\n",
              "                      Longitude  Graffiti  Drinking_Fountain  Google_Trends  \\\n",
              "DateTimeMix                                                                   \n",
              "2004-01-01 00:30:00 -123.122391  0.243895           0.382588            NaN   \n",
              "2004-01-01 01:30:00 -123.123718  0.136539           0.512164            NaN   \n",
              "2004-01-01 02:00:00 -123.164086  0.191961           0.319190            NaN   \n",
              "2004-01-01 02:30:00 -123.121167  0.048236           0.224068            NaN   \n",
              "\n",
              "                     Crime  \n",
              "DateTimeMix                 \n",
              "2004-01-01 00:30:00      0  \n",
              "2004-01-01 01:30:00      0  \n",
              "2004-01-01 02:00:00      0  \n",
              "2004-01-01 02:30:00      0  "
            ]
          },
          "metadata": {
            "tags": []
          },
          "execution_count": 13
        }
      ]
    },
    {
      "cell_type": "code",
      "metadata": {
        "id": "jmvNaVX2mplZ",
        "colab_type": "code",
        "colab": {}
      },
      "source": [
        "# Import google trends data\n",
        "\n",
        "trendpath = 'https://raw.githubusercontent.com/NasirKhalid24/ELE494-Project/master/Datasets/googletrend.csv'\n",
        "\n",
        "googletrend = pd.read_csv(trendpath, index_col='Month')\n",
        "googletrend = np.array(googletrend)\n",
        "trendvalue = []"
      ],
      "execution_count": 0,
      "outputs": []
    },
    {
      "cell_type": "code",
      "metadata": {
        "id": "bDE-K4lbmBuE",
        "colab_type": "code",
        "colab": {}
      },
      "source": [
        "for i, crime in df_extra.iterrows():\n",
        "    #obtain the year and month of each crime\n",
        "    y = crime['YEAR']\n",
        "    m = crime['MONTH']\n",
        "    #map it to the previous month in the other dataset \n",
        "    offset = (y - 2004)*12 + m - 1 - 1\n",
        "    if offset == -1:\n",
        "      offset = 0\n",
        "    #store google trend value of the word 'crime' in an array\n",
        "    trendvalue.append(googletrend[offset][0])"
      ],
      "execution_count": 0,
      "outputs": []
    },
    {
      "cell_type": "code",
      "metadata": {
        "id": "A8fsnqxgnD_i",
        "colab_type": "code",
        "colab": {}
      },
      "source": [
        "df_extra['Google_Trends'] = trendvalue"
      ],
      "execution_count": 0,
      "outputs": []
    },
    {
      "cell_type": "code",
      "metadata": {
        "id": "N5OpGrmPnOoZ",
        "colab_type": "code",
        "colab": {
          "base_uri": "https://localhost:8080/",
          "height": 198
        },
        "outputId": "25e372f2-41c8-4bf1-b867-0aaf02f031ba"
      },
      "source": [
        "df_extra.head(4)"
      ],
      "execution_count": 37,
      "outputs": [
        {
          "output_type": "execute_result",
          "data": {
            "text/html": [
              "<div>\n",
              "<style scoped>\n",
              "    .dataframe tbody tr th:only-of-type {\n",
              "        vertical-align: middle;\n",
              "    }\n",
              "\n",
              "    .dataframe tbody tr th {\n",
              "        vertical-align: top;\n",
              "    }\n",
              "\n",
              "    .dataframe thead th {\n",
              "        text-align: right;\n",
              "    }\n",
              "</style>\n",
              "<table border=\"1\" class=\"dataframe\">\n",
              "  <thead>\n",
              "    <tr style=\"text-align: right;\">\n",
              "      <th></th>\n",
              "      <th>YEAR</th>\n",
              "      <th>MONTH</th>\n",
              "      <th>DAY</th>\n",
              "      <th>HOUR</th>\n",
              "      <th>MINUTE</th>\n",
              "      <th>Neighbourhood</th>\n",
              "      <th>Latitude</th>\n",
              "      <th>Longitude</th>\n",
              "      <th>Graffiti</th>\n",
              "      <th>Drinking_Fountain</th>\n",
              "      <th>Google_Trends</th>\n",
              "      <th>Crime</th>\n",
              "    </tr>\n",
              "    <tr>\n",
              "      <th>DateTimeMix</th>\n",
              "      <th></th>\n",
              "      <th></th>\n",
              "      <th></th>\n",
              "      <th></th>\n",
              "      <th></th>\n",
              "      <th></th>\n",
              "      <th></th>\n",
              "      <th></th>\n",
              "      <th></th>\n",
              "      <th></th>\n",
              "      <th></th>\n",
              "      <th></th>\n",
              "    </tr>\n",
              "  </thead>\n",
              "  <tbody>\n",
              "    <tr>\n",
              "      <th>2004-01-01 00:30:00</th>\n",
              "      <td>2004</td>\n",
              "      <td>1</td>\n",
              "      <td>1</td>\n",
              "      <td>0</td>\n",
              "      <td>30</td>\n",
              "      <td>Oakridge</td>\n",
              "      <td>49.230512</td>\n",
              "      <td>-123.122391</td>\n",
              "      <td>0.243895</td>\n",
              "      <td>0.382588</td>\n",
              "      <td>91</td>\n",
              "      <td>0</td>\n",
              "    </tr>\n",
              "    <tr>\n",
              "      <th>2004-01-01 01:30:00</th>\n",
              "      <td>2004</td>\n",
              "      <td>1</td>\n",
              "      <td>1</td>\n",
              "      <td>1</td>\n",
              "      <td>30</td>\n",
              "      <td>South Cambie</td>\n",
              "      <td>49.247399</td>\n",
              "      <td>-123.123718</td>\n",
              "      <td>0.136539</td>\n",
              "      <td>0.512164</td>\n",
              "      <td>91</td>\n",
              "      <td>0</td>\n",
              "    </tr>\n",
              "    <tr>\n",
              "      <th>2004-01-01 02:00:00</th>\n",
              "      <td>2004</td>\n",
              "      <td>1</td>\n",
              "      <td>1</td>\n",
              "      <td>2</td>\n",
              "      <td>0</td>\n",
              "      <td>Arbutus-Ridge</td>\n",
              "      <td>49.248407</td>\n",
              "      <td>-123.164086</td>\n",
              "      <td>0.191961</td>\n",
              "      <td>0.319190</td>\n",
              "      <td>91</td>\n",
              "      <td>0</td>\n",
              "    </tr>\n",
              "    <tr>\n",
              "      <th>2004-01-01 02:30:00</th>\n",
              "      <td>2004</td>\n",
              "      <td>1</td>\n",
              "      <td>1</td>\n",
              "      <td>2</td>\n",
              "      <td>30</td>\n",
              "      <td>Downtown</td>\n",
              "      <td>49.278049</td>\n",
              "      <td>-123.121167</td>\n",
              "      <td>0.048236</td>\n",
              "      <td>0.224068</td>\n",
              "      <td>91</td>\n",
              "      <td>0</td>\n",
              "    </tr>\n",
              "  </tbody>\n",
              "</table>\n",
              "</div>"
            ],
            "text/plain": [
              "                     YEAR  MONTH  DAY  HOUR  MINUTE  Neighbourhood   Latitude  \\\n",
              "DateTimeMix                                                                     \n",
              "2004-01-01 00:30:00  2004      1    1     0      30       Oakridge  49.230512   \n",
              "2004-01-01 01:30:00  2004      1    1     1      30   South Cambie  49.247399   \n",
              "2004-01-01 02:00:00  2004      1    1     2       0  Arbutus-Ridge  49.248407   \n",
              "2004-01-01 02:30:00  2004      1    1     2      30       Downtown  49.278049   \n",
              "\n",
              "                      Longitude  Graffiti  Drinking_Fountain  Google_Trends  \\\n",
              "DateTimeMix                                                                   \n",
              "2004-01-01 00:30:00 -123.122391  0.243895           0.382588             91   \n",
              "2004-01-01 01:30:00 -123.123718  0.136539           0.512164             91   \n",
              "2004-01-01 02:00:00 -123.164086  0.191961           0.319190             91   \n",
              "2004-01-01 02:30:00 -123.121167  0.048236           0.224068             91   \n",
              "\n",
              "                     Crime  \n",
              "DateTimeMix                 \n",
              "2004-01-01 00:30:00      0  \n",
              "2004-01-01 01:30:00      0  \n",
              "2004-01-01 02:00:00      0  \n",
              "2004-01-01 02:30:00      0  "
            ]
          },
          "metadata": {
            "tags": []
          },
          "execution_count": 37
        }
      ]
    },
    {
      "cell_type": "code",
      "metadata": {
        "id": "qn0pA4ul6hD5",
        "colab_type": "code",
        "outputId": "1bcb9e9b-fbd0-48ad-84a4-77226c5f59e8",
        "colab": {
          "base_uri": "https://localhost:8080/",
          "height": 86
        }
      },
      "source": [
        "print(\"Shape of Original Dataset: \" + str(df.shape) + \"\\n\")\n",
        "\n",
        "df = df.append(df_extra)\n",
        "\n",
        "print(\"Shape of Upsampled Dataset with No crime values: \" + str(df.shape) + \"\\n\")"
      ],
      "execution_count": 38,
      "outputs": [
        {
          "output_type": "stream",
          "text": [
            "Shape of Original Dataset: (542276, 12)\n",
            "\n",
            "Shape of Upsampled Dataset with No crime values: (656411, 12)\n",
            "\n"
          ],
          "name": "stdout"
        }
      ]
    },
    {
      "cell_type": "markdown",
      "metadata": {
        "id": "vqaiTSXa7dix",
        "colab_type": "text"
      },
      "source": [
        "#### Extract network input and output and make sets"
      ]
    },
    {
      "cell_type": "code",
      "metadata": {
        "id": "i__0LvQX7gxq",
        "colab_type": "code",
        "colab": {}
      },
      "source": [
        "Y = df['Crime'].values\n",
        "X = df[['YEAR','MONTH','DAY','HOUR', 'MINUTE', 'Latitude', 'Longitude', 'Graffiti', 'Drinking_Fountain', 'Google_Trends']].values"
      ],
      "execution_count": 0,
      "outputs": []
    },
    {
      "cell_type": "code",
      "metadata": {
        "id": "XCX2i1ShfQb0",
        "colab_type": "code",
        "outputId": "6cc71c5b-7f63-4e1e-9f75-ef9c62c223f1",
        "colab": {
          "base_uri": "https://localhost:8080/",
          "height": 69
        }
      },
      "source": [
        "X[0]"
      ],
      "execution_count": 40,
      "outputs": [
        {
          "output_type": "execute_result",
          "data": {
            "text/plain": [
              "array([ 2.00400000e+03,  1.00000000e+01,  8.00000000e+00,  2.10000000e+01,\n",
              "        0.00000000e+00,  4.92650765e+01, -1.23118474e+02,  4.07653508e-02,\n",
              "        4.02295076e-01,  7.20000000e+01])"
            ]
          },
          "metadata": {
            "tags": []
          },
          "execution_count": 40
        }
      ]
    },
    {
      "cell_type": "code",
      "metadata": {
        "id": "OgcTRTUhfSEz",
        "colab_type": "code",
        "outputId": "65c46942-e75c-47e5-d803-b7e97df4bb67",
        "colab": {
          "base_uri": "https://localhost:8080/",
          "height": 35
        }
      },
      "source": [
        "Y[0]"
      ],
      "execution_count": 41,
      "outputs": [
        {
          "output_type": "execute_result",
          "data": {
            "text/plain": [
              "1"
            ]
          },
          "metadata": {
            "tags": []
          },
          "execution_count": 41
        }
      ]
    },
    {
      "cell_type": "code",
      "metadata": {
        "id": "WYwmseUiEg2D",
        "colab_type": "code",
        "outputId": "cd2fb96d-d31f-44e7-cf08-ae3fbcecbe21",
        "colab": {
          "base_uri": "https://localhost:8080/",
          "height": 52
        }
      },
      "source": [
        "from sklearn.preprocessing import MinMaxScaler\n",
        "\n",
        "scaler = MinMaxScaler()\n",
        "\n",
        "scaler.fit(X)\n",
        "X = scaler.transform(X)\n",
        "print(X[0])"
      ],
      "execution_count": 42,
      "outputs": [
        {
          "output_type": "stream",
          "text": [
            "[0.         0.81818182 0.23333333 0.91304348 0.         0.57072995\n",
            " 0.52565412 0.01773226 0.17948401 0.46153846]\n"
          ],
          "name": "stdout"
        }
      ]
    },
    {
      "cell_type": "code",
      "metadata": {
        "id": "QI7h8QVa7uex",
        "colab_type": "code",
        "outputId": "6964ab0c-9ca9-4c87-db46-7696f7863543",
        "colab": {
          "base_uri": "https://localhost:8080/",
          "height": 86
        }
      },
      "source": [
        "from sklearn.model_selection import train_test_split\n",
        "\n",
        "X_train, X_test, Y_train, Y_test = train_test_split(X, Y, test_size=0.33, random_state=42)\n",
        "\n",
        "print(\"Training Data Size: \" + str(X_train.shape))\n",
        "print(\"Testing Data Size:\" + str(X_test.shape))\n",
        "print(\"Training Label Size: \" + str(Y_train.shape))\n",
        "print(\"Testing Label Size: \" + str(Y_test.shape))"
      ],
      "execution_count": 43,
      "outputs": [
        {
          "output_type": "stream",
          "text": [
            "Training Data Size: (439795, 10)\n",
            "Testing Data Size:(216616, 10)\n",
            "Training Label Size: (439795,)\n",
            "Testing Label Size: (216616,)\n"
          ],
          "name": "stdout"
        }
      ]
    },
    {
      "cell_type": "code",
      "metadata": {
        "id": "lGluk-J68FwR",
        "colab_type": "code",
        "colab": {}
      },
      "source": [
        "import matplotlib.pyplot as plt\n",
        "import numpy as np\n",
        "\n",
        "# Function to plot loss and accuracy vs epochs\n",
        "def loss_curve(history):\n",
        "  train_loss = history.history['loss']\n",
        "  val_loss = history.history['val_loss']\n",
        "  x_axis     = range(1, len(history.history['loss'])+1)\n",
        "  \n",
        "  plt.figure()\n",
        "  plt.plot(x_axis, train_loss, label=\"Training Loss\")\n",
        "  plt.plot(x_axis, val_loss, label=\"Validation Loss\")\n",
        "  plt.ylabel('Loss Value')\n",
        "  plt.xlabel('Epochs')\n",
        "  plt.title('Epochs vs Loss')\n",
        "  plt.legend()\n",
        "  \n",
        "def accuracy(history):\n",
        "  acc  = history.history['acc']\n",
        "  val_acc = history.history['val_acc']\n",
        "  x_axis     = range(1, len(history.history['acc'])+1)\n",
        "  \n",
        "  plt.figure()\n",
        "  plt.plot(x_axis, np.dot(acc,100), label=\"Accuracy\")\n",
        "  plt.plot(x_axis, np.dot(val_acc, 100), label=\"Validation Accuracy\")\n",
        "  plt.ylabel('Accuracy')\n",
        "  plt.xlabel('Epochs')\n",
        "  plt.title('Epochs vs Accuracy')\n",
        "  plt.legend()"
      ],
      "execution_count": 0,
      "outputs": []
    },
    {
      "cell_type": "markdown",
      "metadata": {
        "id": "MO3HiFRD8KPn",
        "colab_type": "text"
      },
      "source": [
        "#### Training Network"
      ]
    },
    {
      "cell_type": "code",
      "metadata": {
        "id": "ueaauFB08Ms7",
        "colab_type": "code",
        "outputId": "54e3f0cc-b8b1-45dc-fc25-31c4dd154c6f",
        "colab": {
          "base_uri": "https://localhost:8080/",
          "height": 435
        }
      },
      "source": [
        "from keras.layers import Dense, Dropout\n",
        "from keras.models import Sequential\n",
        "\n",
        "model = Sequential()\n",
        "\n",
        "model.add(Dense(64, activation='sigmoid', input_shape=(X_train.shape[1], ) ) )\n",
        "model.add(Dense(128, activation='sigmoid') )\n",
        "model.add(Dense(512, activation='sigmoid') )\n",
        "model.add(Dense(128, activation='sigmoid') )\n",
        "model.add(Dense(64, activation='sigmoid') )\n",
        "\n",
        "\n",
        "model.add(Dense(1, activation='sigmoid') )\n",
        "\n",
        "model.compile(optimizer='rmsprop',\n",
        "                loss='binary_crossentropy',\n",
        "                metrics=['accuracy'])\n",
        "\n",
        "model.summary()"
      ],
      "execution_count": 45,
      "outputs": [
        {
          "output_type": "stream",
          "text": [
            "Using TensorFlow backend.\n"
          ],
          "name": "stderr"
        },
        {
          "output_type": "stream",
          "text": [
            "WARNING:tensorflow:From /usr/local/lib/python3.6/dist-packages/tensorflow/python/framework/op_def_library.py:263: colocate_with (from tensorflow.python.framework.ops) is deprecated and will be removed in a future version.\n",
            "Instructions for updating:\n",
            "Colocations handled automatically by placer.\n",
            "_________________________________________________________________\n",
            "Layer (type)                 Output Shape              Param #   \n",
            "=================================================================\n",
            "dense_1 (Dense)              (None, 64)                704       \n",
            "_________________________________________________________________\n",
            "dense_2 (Dense)              (None, 128)               8320      \n",
            "_________________________________________________________________\n",
            "dense_3 (Dense)              (None, 512)               66048     \n",
            "_________________________________________________________________\n",
            "dense_4 (Dense)              (None, 128)               65664     \n",
            "_________________________________________________________________\n",
            "dense_5 (Dense)              (None, 64)                8256      \n",
            "_________________________________________________________________\n",
            "dense_6 (Dense)              (None, 1)                 65        \n",
            "=================================================================\n",
            "Total params: 149,057\n",
            "Trainable params: 149,057\n",
            "Non-trainable params: 0\n",
            "_________________________________________________________________\n"
          ],
          "name": "stdout"
        }
      ]
    },
    {
      "cell_type": "code",
      "metadata": {
        "id": "Nl9D9mWJ8VkX",
        "colab_type": "code",
        "outputId": "509a05ac-ef14-4496-bbb9-515e62bfb54c",
        "colab": {
          "base_uri": "https://localhost:8080/",
          "height": 1834
        }
      },
      "source": [
        "history = model.fit(X_train, Y_train,\n",
        "          epochs = 50,\n",
        "          batch_size=128,\n",
        "          validation_split=0.1,\n",
        "          verbose = 1)"
      ],
      "execution_count": 46,
      "outputs": [
        {
          "output_type": "stream",
          "text": [
            "WARNING:tensorflow:From /usr/local/lib/python3.6/dist-packages/tensorflow/python/ops/math_ops.py:3066: to_int32 (from tensorflow.python.ops.math_ops) is deprecated and will be removed in a future version.\n",
            "Instructions for updating:\n",
            "Use tf.cast instead.\n",
            "Train on 395815 samples, validate on 43980 samples\n",
            "Epoch 1/50\n",
            "395815/395815 [==============================] - 12s 30us/step - loss: 0.5651 - acc: 0.7047 - val_loss: 0.5665 - val_acc: 0.7128\n",
            "Epoch 2/50\n",
            "395815/395815 [==============================] - 12s 31us/step - loss: 0.5477 - acc: 0.7170 - val_loss: 0.5480 - val_acc: 0.7151\n",
            "Epoch 3/50\n",
            "395815/395815 [==============================] - 11s 28us/step - loss: 0.5465 - acc: 0.7178 - val_loss: 0.5500 - val_acc: 0.7160\n",
            "Epoch 4/50\n",
            "395815/395815 [==============================] - 11s 27us/step - loss: 0.5449 - acc: 0.7180 - val_loss: 0.5448 - val_acc: 0.7196\n",
            "Epoch 5/50\n",
            "395815/395815 [==============================] - 11s 27us/step - loss: 0.5319 - acc: 0.7251 - val_loss: 0.4624 - val_acc: 0.7704\n",
            "Epoch 6/50\n",
            "395815/395815 [==============================] - 12s 31us/step - loss: 0.4076 - acc: 0.7954 - val_loss: 0.3951 - val_acc: 0.8044\n",
            "Epoch 7/50\n",
            "395815/395815 [==============================] - 11s 27us/step - loss: 0.3932 - acc: 0.8002 - val_loss: 0.3842 - val_acc: 0.8077\n",
            "Epoch 8/50\n",
            "395815/395815 [==============================] - 11s 27us/step - loss: 0.3896 - acc: 0.8017 - val_loss: 0.3774 - val_acc: 0.8125\n",
            "Epoch 9/50\n",
            "395815/395815 [==============================] - 11s 27us/step - loss: 0.3874 - acc: 0.8033 - val_loss: 0.3833 - val_acc: 0.8088\n",
            "Epoch 10/50\n",
            "395815/395815 [==============================] - 11s 27us/step - loss: 0.3865 - acc: 0.8037 - val_loss: 0.3853 - val_acc: 0.8076\n",
            "Epoch 11/50\n",
            "395815/395815 [==============================] - 11s 27us/step - loss: 0.3849 - acc: 0.8047 - val_loss: 0.3841 - val_acc: 0.8082\n",
            "Epoch 12/50\n",
            "395815/395815 [==============================] - 11s 27us/step - loss: 0.3839 - acc: 0.8059 - val_loss: 0.3801 - val_acc: 0.8079\n",
            "Epoch 13/50\n",
            "395815/395815 [==============================] - 12s 29us/step - loss: 0.3825 - acc: 0.8067 - val_loss: 0.3750 - val_acc: 0.8140\n",
            "Epoch 14/50\n",
            "395815/395815 [==============================] - 11s 28us/step - loss: 0.3816 - acc: 0.8075 - val_loss: 0.3803 - val_acc: 0.8115\n",
            "Epoch 15/50\n",
            "395815/395815 [==============================] - 12s 29us/step - loss: 0.3795 - acc: 0.8083 - val_loss: 0.3755 - val_acc: 0.8138\n",
            "Epoch 16/50\n",
            "395815/395815 [==============================] - 11s 27us/step - loss: 0.3787 - acc: 0.8099 - val_loss: 0.3685 - val_acc: 0.8183\n",
            "Epoch 17/50\n",
            "395815/395815 [==============================] - 11s 27us/step - loss: 0.3655 - acc: 0.8244 - val_loss: 0.3629 - val_acc: 0.8268\n",
            "Epoch 18/50\n",
            "395815/395815 [==============================] - 11s 27us/step - loss: 0.3539 - acc: 0.8334 - val_loss: 0.3641 - val_acc: 0.8266\n",
            "Epoch 19/50\n",
            "395815/395815 [==============================] - 11s 27us/step - loss: 0.3508 - acc: 0.8352 - val_loss: 0.3497 - val_acc: 0.8324\n",
            "Epoch 20/50\n",
            "395815/395815 [==============================] - 11s 28us/step - loss: 0.3488 - acc: 0.8356 - val_loss: 0.3840 - val_acc: 0.8138\n",
            "Epoch 21/50\n",
            "395815/395815 [==============================] - 12s 29us/step - loss: 0.3475 - acc: 0.8360 - val_loss: 0.3438 - val_acc: 0.8363\n",
            "Epoch 22/50\n",
            "395815/395815 [==============================] - 10s 26us/step - loss: 0.3456 - acc: 0.8377 - val_loss: 0.3434 - val_acc: 0.8392\n",
            "Epoch 23/50\n",
            "395815/395815 [==============================] - 10s 27us/step - loss: 0.3444 - acc: 0.8381 - val_loss: 0.3506 - val_acc: 0.8310\n",
            "Epoch 24/50\n",
            "395815/395815 [==============================] - 10s 26us/step - loss: 0.3435 - acc: 0.8387 - val_loss: 0.3439 - val_acc: 0.8418\n",
            "Epoch 25/50\n",
            "395815/395815 [==============================] - 10s 26us/step - loss: 0.3421 - acc: 0.8395 - val_loss: 0.3610 - val_acc: 0.8316\n",
            "Epoch 26/50\n",
            "395815/395815 [==============================] - 10s 26us/step - loss: 0.3412 - acc: 0.8400 - val_loss: 0.3364 - val_acc: 0.8422\n",
            "Epoch 27/50\n",
            "395815/395815 [==============================] - 10s 26us/step - loss: 0.3412 - acc: 0.8399 - val_loss: 0.3572 - val_acc: 0.8295\n",
            "Epoch 28/50\n",
            "395815/395815 [==============================] - 12s 29us/step - loss: 0.3400 - acc: 0.8402 - val_loss: 0.3359 - val_acc: 0.8450\n",
            "Epoch 29/50\n",
            "395815/395815 [==============================] - 11s 27us/step - loss: 0.3398 - acc: 0.8409 - val_loss: 0.3489 - val_acc: 0.8393\n",
            "Epoch 30/50\n",
            "395815/395815 [==============================] - 11s 28us/step - loss: 0.3388 - acc: 0.8413 - val_loss: 0.4346 - val_acc: 0.7757\n",
            "Epoch 31/50\n",
            "395815/395815 [==============================] - 12s 30us/step - loss: 0.3383 - acc: 0.8414 - val_loss: 0.3343 - val_acc: 0.8435\n",
            "Epoch 32/50\n",
            "395815/395815 [==============================] - 11s 27us/step - loss: 0.3377 - acc: 0.8421 - val_loss: 0.3298 - val_acc: 0.8467\n",
            "Epoch 33/50\n",
            "395815/395815 [==============================] - 10s 26us/step - loss: 0.3367 - acc: 0.8419 - val_loss: 0.3320 - val_acc: 0.8444\n",
            "Epoch 34/50\n",
            "395815/395815 [==============================] - 11s 27us/step - loss: 0.3360 - acc: 0.8424 - val_loss: 0.3401 - val_acc: 0.8373\n",
            "Epoch 35/50\n",
            "395815/395815 [==============================] - 11s 28us/step - loss: 0.3353 - acc: 0.8434 - val_loss: 0.3291 - val_acc: 0.8472\n",
            "Epoch 36/50\n",
            "395815/395815 [==============================] - 11s 29us/step - loss: 0.3346 - acc: 0.8436 - val_loss: 0.3507 - val_acc: 0.8304\n",
            "Epoch 37/50\n",
            "395815/395815 [==============================] - 10s 26us/step - loss: 0.3335 - acc: 0.8438 - val_loss: 0.3375 - val_acc: 0.8445\n",
            "Epoch 38/50\n",
            "395815/395815 [==============================] - 10s 26us/step - loss: 0.3334 - acc: 0.8440 - val_loss: 0.3743 - val_acc: 0.8248\n",
            "Epoch 39/50\n",
            "395815/395815 [==============================] - 10s 27us/step - loss: 0.3325 - acc: 0.8447 - val_loss: 0.3440 - val_acc: 0.8396\n",
            "Epoch 40/50\n",
            "395815/395815 [==============================] - 10s 26us/step - loss: 0.3317 - acc: 0.8453 - val_loss: 0.3266 - val_acc: 0.8481\n",
            "Epoch 41/50\n",
            "395815/395815 [==============================] - 10s 26us/step - loss: 0.3312 - acc: 0.8457 - val_loss: 0.5078 - val_acc: 0.7713\n",
            "Epoch 42/50\n",
            "395815/395815 [==============================] - 10s 26us/step - loss: 0.3306 - acc: 0.8458 - val_loss: 0.3253 - val_acc: 0.8486\n",
            "Epoch 43/50\n",
            "395815/395815 [==============================] - 12s 30us/step - loss: 0.3302 - acc: 0.8457 - val_loss: 0.3566 - val_acc: 0.8250\n",
            "Epoch 44/50\n",
            "395815/395815 [==============================] - 11s 27us/step - loss: 0.3296 - acc: 0.8464 - val_loss: 0.3224 - val_acc: 0.8508\n",
            "Epoch 45/50\n",
            "395815/395815 [==============================] - 10s 26us/step - loss: 0.3290 - acc: 0.8466 - val_loss: 0.3233 - val_acc: 0.8495\n",
            "Epoch 46/50\n",
            "395815/395815 [==============================] - 10s 26us/step - loss: 0.3282 - acc: 0.8473 - val_loss: 0.3356 - val_acc: 0.8448\n",
            "Epoch 47/50\n",
            "395815/395815 [==============================] - 10s 26us/step - loss: 0.3279 - acc: 0.8477 - val_loss: 0.3316 - val_acc: 0.8454\n",
            "Epoch 48/50\n",
            "395815/395815 [==============================] - 10s 26us/step - loss: 0.3282 - acc: 0.8472 - val_loss: 0.3253 - val_acc: 0.8497\n",
            "Epoch 49/50\n",
            "395815/395815 [==============================] - 10s 26us/step - loss: 0.3273 - acc: 0.8482 - val_loss: 0.3204 - val_acc: 0.8524\n",
            "Epoch 50/50\n",
            "395815/395815 [==============================] - 11s 28us/step - loss: 0.3266 - acc: 0.8482 - val_loss: 0.3228 - val_acc: 0.8486\n"
          ],
          "name": "stdout"
        }
      ]
    },
    {
      "cell_type": "code",
      "metadata": {
        "id": "fO8qsIOkxoFx",
        "colab_type": "code",
        "outputId": "4e7b956b-ab03-433d-ef3c-fd4a0db7fc6a",
        "colab": {
          "base_uri": "https://localhost:8080/",
          "height": 574
        }
      },
      "source": [
        "loss_curve(history)\n",
        "accuracy(history)"
      ],
      "execution_count": 47,
      "outputs": [
        {
          "output_type": "display_data",
          "data": {
            "image/png": "[encoded data removed]",
            "text/plain": [
              "<Figure size 432x288 with 1 Axes>"
            ]
          },
          "metadata": {
            "tags": []
          }
        },
        {
          "output_type": "display_data",
          "data": {
            "image/png": "[encoded data removed]",
            "text/plain": [
              "<Figure size 432x288 with 1 Axes>"
            ]
          },
          "metadata": {
            "tags": []
          }
        }
      ]
    },
    {
      "cell_type": "code",
      "metadata": {
        "id": "PnhnorHuxxJp",
        "colab_type": "code",
        "outputId": "6277b3f6-316b-42a3-a6d5-553cd72fb16b",
        "colab": {
          "base_uri": "https://localhost:8080/",
          "height": 52
        }
      },
      "source": [
        "print(\"Evaluating on Test Dataset\")\n",
        "scores = model.evaluate(X_test, Y_test, verbose=0)\n",
        "print(\"%s: %.2f%%\" % (model.metrics_names[1], scores[1]*100))"
      ],
      "execution_count": 48,
      "outputs": [
        {
          "output_type": "stream",
          "text": [
            "Evaluating on Test Dataset\n",
            "acc: 84.69%\n"
          ],
          "name": "stdout"
        }
      ]
    },
    {
      "cell_type": "code",
      "metadata": {
        "id": "M9bU1dX-x5mC",
        "colab_type": "code",
        "outputId": "f5cf80bd-58df-405b-f860-e3f02eef36f6",
        "colab": {
          "base_uri": "https://localhost:8080/",
          "height": 375
        }
      },
      "source": [
        "# Predicting for random year/month/day/hour\n",
        "\n",
        "test = np.array([[2019, 2, 11, 1,25, 49.237994, -123.083282, DistanceToGraffiti(49.237994, -123.083282), DistanceToFountain(49.237994, -123.083282)]])\n",
        "test = scaler.transform(test)\n",
        "ans = model.predict(test)\n",
        "ans"
      ],
      "execution_count": 49,
      "outputs": [
        {
          "output_type": "error",
          "ename": "ValueError",
          "evalue": "ignored",
          "traceback": [
            "\u001b[0;31m---------------------------------------------------------------------------\u001b[0m",
            "\u001b[0;31mValueError\u001b[0m                                Traceback (most recent call last)",
            "\u001b[0;32m<ipython-input-49-198999078cdd>\u001b[0m in \u001b[0;36m<module>\u001b[0;34m()\u001b[0m\n\u001b[1;32m      1\u001b[0m \u001b[0;34m\u001b[0m\u001b[0m\n\u001b[1;32m      2\u001b[0m \u001b[0mtest\u001b[0m \u001b[0;34m=\u001b[0m \u001b[0mnp\u001b[0m\u001b[0;34m.\u001b[0m\u001b[0marray\u001b[0m\u001b[0;34m(\u001b[0m\u001b[0;34m[\u001b[0m\u001b[0;34m[\u001b[0m\u001b[0;36m2019\u001b[0m\u001b[0;34m,\u001b[0m \u001b[0;36m2\u001b[0m\u001b[0;34m,\u001b[0m \u001b[0;36m11\u001b[0m\u001b[0;34m,\u001b[0m \u001b[0;36m1\u001b[0m\u001b[0;34m,\u001b[0m\u001b[0;36m25\u001b[0m\u001b[0;34m,\u001b[0m \u001b[0;36m49.237994\u001b[0m\u001b[0;34m,\u001b[0m \u001b[0;34m-\u001b[0m\u001b[0;36m123.083282\u001b[0m\u001b[0;34m,\u001b[0m \u001b[0mDistanceToGraffiti\u001b[0m\u001b[0;34m(\u001b[0m\u001b[0;36m49.237994\u001b[0m\u001b[0;34m,\u001b[0m \u001b[0;34m-\u001b[0m\u001b[0;36m123.083282\u001b[0m\u001b[0;34m)\u001b[0m\u001b[0;34m,\u001b[0m \u001b[0mDistanceToFountain\u001b[0m\u001b[0;34m(\u001b[0m\u001b[0;36m49.237994\u001b[0m\u001b[0;34m,\u001b[0m \u001b[0;34m-\u001b[0m\u001b[0;36m123.083282\u001b[0m\u001b[0;34m)\u001b[0m\u001b[0;34m]\u001b[0m\u001b[0;34m]\u001b[0m\u001b[0;34m)\u001b[0m\u001b[0;34m\u001b[0m\u001b[0;34m\u001b[0m\u001b[0m\n\u001b[0;32m----> 3\u001b[0;31m \u001b[0mtest\u001b[0m \u001b[0;34m=\u001b[0m \u001b[0mscaler\u001b[0m\u001b[0;34m.\u001b[0m\u001b[0mtransform\u001b[0m\u001b[0;34m(\u001b[0m\u001b[0mtest\u001b[0m\u001b[0;34m)\u001b[0m\u001b[0;34m\u001b[0m\u001b[0;34m\u001b[0m\u001b[0m\n\u001b[0m\u001b[1;32m      4\u001b[0m \u001b[0mans\u001b[0m \u001b[0;34m=\u001b[0m \u001b[0mmodel\u001b[0m\u001b[0;34m.\u001b[0m\u001b[0mpredict\u001b[0m\u001b[0;34m(\u001b[0m\u001b[0mtest\u001b[0m\u001b[0;34m)\u001b[0m\u001b[0;34m\u001b[0m\u001b[0;34m\u001b[0m\u001b[0m\n\u001b[1;32m      5\u001b[0m \u001b[0mans\u001b[0m\u001b[0;34m\u001b[0m\u001b[0;34m\u001b[0m\u001b[0m\n",
            "\u001b[0;32m/usr/local/lib/python3.6/dist-packages/sklearn/preprocessing/data.py\u001b[0m in \u001b[0;36mtransform\u001b[0;34m(self, X)\u001b[0m\n\u001b[1;32m    396\u001b[0m                         force_all_finite=\"allow-nan\")\n\u001b[1;32m    397\u001b[0m \u001b[0;34m\u001b[0m\u001b[0m\n\u001b[0;32m--> 398\u001b[0;31m         \u001b[0mX\u001b[0m \u001b[0;34m*=\u001b[0m \u001b[0mself\u001b[0m\u001b[0;34m.\u001b[0m\u001b[0mscale_\u001b[0m\u001b[0;34m\u001b[0m\u001b[0;34m\u001b[0m\u001b[0m\n\u001b[0m\u001b[1;32m    399\u001b[0m         \u001b[0mX\u001b[0m \u001b[0;34m+=\u001b[0m \u001b[0mself\u001b[0m\u001b[0;34m.\u001b[0m\u001b[0mmin_\u001b[0m\u001b[0;34m\u001b[0m\u001b[0;34m\u001b[0m\u001b[0m\n\u001b[1;32m    400\u001b[0m         \u001b[0;32mreturn\u001b[0m \u001b[0mX\u001b[0m\u001b[0;34m\u001b[0m\u001b[0;34m\u001b[0m\u001b[0m\n",
            "\u001b[0;31mValueError\u001b[0m: operands could not be broadcast together with shapes (1,9) (10,) (1,9) "
          ]
        }
      ]
    },
    {
      "cell_type": "code",
      "metadata": {
        "id": "uIOJP6GS0xs2",
        "colab_type": "code",
        "outputId": "fa19beb7-7ca9-4bf2-9902-848fbe916add",
        "colab": {
          "base_uri": "https://localhost:8080/",
          "height": 35
        }
      },
      "source": [
        "# Predicting for another random year/month/day/hour\n",
        "\n",
        "test = np.array([[2012, 6, 4, 22, 2, 49.238019, -123.163815, DistanceToGraffiti(49.238019, -123.163815), DistanceToFountain(49.238019, -123.163815), 57]])\n",
        "test = scaler.transform(test)\n",
        "ans = model.predict(test)\n",
        "ans"
      ],
      "execution_count": 51,
      "outputs": [
        {
          "output_type": "execute_result",
          "data": {
            "text/plain": [
              "array([[0.86183715]], dtype=float32)"
            ]
          },
          "metadata": {
            "tags": []
          },
          "execution_count": 51
        }
      ]
    },
    {
      "cell_type": "code",
      "metadata": {
        "id": "cJlbRJ3GCyOB",
        "colab_type": "code",
        "outputId": "875f26df-682c-4472-d104-92539682130c",
        "colab": {
          "base_uri": "https://localhost:8080/",
          "height": 449
        }
      },
      "source": [
        "# Predict crime in a location over the whole day\n",
        "for i in range(0, 25):\n",
        "  test = np.array([[2012, 6, 4, i, 2, 49.284645, -123.136306, DistanceToGraffiti(49.284645, -123.136306), DistanceToFountain(49.284645, -123.136306), 57]])\n",
        "  test = scaler.transform(test)\n",
        "  ans = model.predict(test)\n",
        "  print(\"Likelihood of crime at \" + str(i) + \" hour: \" + str(ans[0][0]*100) + \" %\") "
      ],
      "execution_count": 52,
      "outputs": [
        {
          "output_type": "stream",
          "text": [
            "Likelihood of crime at 0 hour: 99.98704195022583 %\n",
            "Likelihood of crime at 1 hour: 92.92207360267639 %\n",
            "Likelihood of crime at 2 hour: 71.87596559524536 %\n",
            "Likelihood of crime at 3 hour: 68.68614554405212 %\n",
            "Likelihood of crime at 4 hour: 70.78368067741394 %\n",
            "Likelihood of crime at 5 hour: 70.80574035644531 %\n",
            "Likelihood of crime at 6 hour: 77.6524305343628 %\n",
            "Likelihood of crime at 7 hour: 84.38645601272583 %\n",
            "Likelihood of crime at 8 hour: 87.18870878219604 %\n",
            "Likelihood of crime at 9 hour: 88.60319256782532 %\n",
            "Likelihood of crime at 10 hour: 89.77153897285461 %\n",
            "Likelihood of crime at 11 hour: 91.44240617752075 %\n",
            "Likelihood of crime at 12 hour: 94.02211308479309 %\n",
            "Likelihood of crime at 13 hour: 95.71576118469238 %\n",
            "Likelihood of crime at 14 hour: 96.39127850532532 %\n",
            "Likelihood of crime at 15 hour: 97.63058423995972 %\n",
            "Likelihood of crime at 16 hour: 98.65514039993286 %\n",
            "Likelihood of crime at 17 hour: 98.90921115875244 %\n",
            "Likelihood of crime at 18 hour: 98.98730516433716 %\n",
            "Likelihood of crime at 19 hour: 99.01732206344604 %\n",
            "Likelihood of crime at 20 hour: 99.03429746627808 %\n",
            "Likelihood of crime at 21 hour: 99.06733632087708 %\n",
            "Likelihood of crime at 22 hour: 99.14889335632324 %\n",
            "Likelihood of crime at 23 hour: 99.29242134094238 %\n",
            "Likelihood of crime at 24 hour: 99.46357607841492 %\n"
          ],
          "name": "stdout"
        }
      ]
    },
    {
      "cell_type": "code",
      "metadata": {
        "id": "8RLlTjO-HIGE",
        "colab_type": "code",
        "outputId": "897b5190-0998-4185-d8df-0f98990e4bf2",
        "colab": {
          "base_uri": "https://localhost:8080/",
          "height": 449
        }
      },
      "source": [
        "# Predict crime in a location over the whole day\n",
        "for i in range(0, 25):\n",
        "  test = np.array([[2012, 6, 4, i, 2, 49.289599, -123.136649, DistanceToGraffiti(49.289599, -123.136649), DistanceToFountain(49.289599, -123.136649), 57]])\n",
        "  test = scaler.transform(test)\n",
        "  ans = model.predict(test)\n",
        "  print(\"Likelihood of crime at \" + str(i) + \" hour: \" + str(ans[0][0]*100) + \" %\") "
      ],
      "execution_count": 53,
      "outputs": [
        {
          "output_type": "stream",
          "text": [
            "Likelihood of crime at 0 hour: 99.9911904335022 %\n",
            "Likelihood of crime at 1 hour: 94.08118724822998 %\n",
            "Likelihood of crime at 2 hour: 75.89337825775146 %\n",
            "Likelihood of crime at 3 hour: 70.90758085250854 %\n",
            "Likelihood of crime at 4 hour: 74.65764284133911 %\n",
            "Likelihood of crime at 5 hour: 76.6549289226532 %\n",
            "Likelihood of crime at 6 hour: 82.58070945739746 %\n",
            "Likelihood of crime at 7 hour: 87.0311439037323 %\n",
            "Likelihood of crime at 8 hour: 88.95747661590576 %\n",
            "Likelihood of crime at 9 hour: 90.30100107192993 %\n",
            "Likelihood of crime at 10 hour: 91.96285605430603 %\n",
            "Likelihood of crime at 11 hour: 93.98326873779297 %\n",
            "Likelihood of crime at 12 hour: 95.61585187911987 %\n",
            "Likelihood of crime at 13 hour: 96.34467959403992 %\n",
            "Likelihood of crime at 14 hour: 97.11378216743469 %\n",
            "Likelihood of crime at 15 hour: 98.59527349472046 %\n",
            "Likelihood of crime at 16 hour: 99.0047037601471 %\n",
            "Likelihood of crime at 17 hour: 99.06836748123169 %\n",
            "Likelihood of crime at 18 hour: 99.10007119178772 %\n",
            "Likelihood of crime at 19 hour: 99.13915395736694 %\n",
            "Likelihood of crime at 20 hour: 99.20690059661865 %\n",
            "Likelihood of crime at 21 hour: 99.3215560913086 %\n",
            "Likelihood of crime at 22 hour: 99.47372078895569 %\n",
            "Likelihood of crime at 23 hour: 99.61782693862915 %\n",
            "Likelihood of crime at 24 hour: 99.71933960914612 %\n"
          ],
          "name": "stdout"
        }
      ]
    }
  ]
}