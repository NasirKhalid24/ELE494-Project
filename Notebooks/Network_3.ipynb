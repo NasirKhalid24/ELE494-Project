{
 "cells": [
  {
   "cell_type": "markdown",
   "metadata": {
    "colab_type": "text",
    "id": "rseYZsObPqph"
   },
   "source": [
    "# Network #3\n",
    "\n",
    "\n",
    "## Network Input:  \n",
    "\n",
    "YEAR,\n",
    "MONTH,\n",
    "DAY,\n",
    "HOUR,\n",
    "Neighbourhood (One hot encoded),\n",
    "\n",
    "## Outputs:\n",
    "\n",
    "Probability of crime occuring"
   ]
  },
  {
   "cell_type": "markdown",
   "metadata": {
    "colab_type": "text",
    "id": "wQ0XF1PJP91z"
   },
   "source": [
    "#### Loading data and creating dataset to be used"
   ]
  },
  {
   "cell_type": "markdown",
   "metadata": {
    "colab_type": "text",
    "id": "jO6b4AWjhPTR"
   },
   "source": [
    "##### Importing dataset, creating Date/Time key & adding crime"
   ]
  },
  {
   "cell_type": "code",
   "execution_count": 1,
   "metadata": {
    "colab": {
     "base_uri": "https://localhost:8080/",
     "height": 131
    },
    "colab_type": "code",
    "id": "kTeMeT-KPxtN",
    "outputId": "0a492a32-a70e-420f-a39d-bd4db3c8c81f"
   },
   "outputs": [
    {
     "name": "stdout",
     "output_type": "stream",
     "text": [
      "Shape of Dataset imported for use: (428141, 7)\n",
      "\n",
      "Sample row\n"
     ]
    },
    {
     "data": {
      "text/html": [
       "<div>\n",
       "<style scoped>\n",
       "    .dataframe tbody tr th:only-of-type {\n",
       "        vertical-align: middle;\n",
       "    }\n",
       "\n",
       "    .dataframe tbody tr th {\n",
       "        vertical-align: top;\n",
       "    }\n",
       "\n",
       "    .dataframe thead th {\n",
       "        text-align: right;\n",
       "    }\n",
       "</style>\n",
       "<table border=\"1\" class=\"dataframe\">\n",
       "  <thead>\n",
       "    <tr style=\"text-align: right;\">\n",
       "      <th></th>\n",
       "      <th>YEAR</th>\n",
       "      <th>MONTH</th>\n",
       "      <th>DAY</th>\n",
       "      <th>HOUR</th>\n",
       "      <th>Neighbourhood</th>\n",
       "      <th>Latitude</th>\n",
       "      <th>Longitude</th>\n",
       "    </tr>\n",
       "  </thead>\n",
       "  <tbody>\n",
       "    <tr>\n",
       "      <th>0</th>\n",
       "      <td>2004</td>\n",
       "      <td>10</td>\n",
       "      <td>8</td>\n",
       "      <td>21.0</td>\n",
       "      <td>Fairview</td>\n",
       "      <td>49.265076</td>\n",
       "      <td>-123.118474</td>\n",
       "    </tr>\n",
       "  </tbody>\n",
       "</table>\n",
       "</div>"
      ],
      "text/plain": [
       "   YEAR  MONTH  DAY  HOUR Neighbourhood   Latitude   Longitude\n",
       "0  2004     10    8  21.0      Fairview  49.265076 -123.118474"
      ]
     },
     "execution_count": 1,
     "metadata": {
      "tags": []
     },
     "output_type": "execute_result"
    }
   ],
   "source": [
    "import pandas as pd\n",
    "import numpy as np\n",
    "\n",
    "# File loaded from Github Repo\n",
    "file_path = 'https://raw.githubusercontent.com/NasirKhalid24/ELE494-Project/master/Datasets/final_crime.csv'\n",
    "\n",
    "df = pd.read_csv(file_path)\n",
    "\n",
    "# Removing invalid points\n",
    "df = df[pd.isnull(df['NEIGHBOURHOOD']) != pd.isnull(pd.NaT)]\n",
    "\n",
    "\n",
    "df = df[['YEAR','MONTH','DAY', 'HOUR', 'Neighbourhood', 'Latitude', 'Longitude']] \n",
    "print(\"Shape of Dataset imported for use: \" + str(df.shape) + \"\\n\")\n",
    "\n",
    "print(\"Sample row\")\n",
    "df.head(1)"
   ]
  },
  {
   "cell_type": "code",
   "execution_count": 3,
   "metadata": {
    "colab": {
     "base_uri": "https://localhost:8080/",
     "height": 162
    },
    "colab_type": "code",
    "id": "HXt0Ux2kQRoi",
    "outputId": "bd801e73-90b6-4631-cf5a-1544f88cb42b"
   },
   "outputs": [
    {
     "name": "stdout",
     "output_type": "stream",
     "text": [
      "------ Adding date-time object as key ------\n",
      "\n",
      "Sample row\n"
     ]
    },
    {
     "data": {
      "text/html": [
       "<div>\n",
       "<style scoped>\n",
       "    .dataframe tbody tr th:only-of-type {\n",
       "        vertical-align: middle;\n",
       "    }\n",
       "\n",
       "    .dataframe tbody tr th {\n",
       "        vertical-align: top;\n",
       "    }\n",
       "\n",
       "    .dataframe thead th {\n",
       "        text-align: right;\n",
       "    }\n",
       "</style>\n",
       "<table border=\"1\" class=\"dataframe\">\n",
       "  <thead>\n",
       "    <tr style=\"text-align: right;\">\n",
       "      <th></th>\n",
       "      <th>YEAR</th>\n",
       "      <th>MONTH</th>\n",
       "      <th>DAY</th>\n",
       "      <th>HOUR</th>\n",
       "      <th>Neighbourhood</th>\n",
       "      <th>Latitude</th>\n",
       "      <th>Longitude</th>\n",
       "    </tr>\n",
       "    <tr>\n",
       "      <th>DateTimeMix</th>\n",
       "      <th></th>\n",
       "      <th></th>\n",
       "      <th></th>\n",
       "      <th></th>\n",
       "      <th></th>\n",
       "      <th></th>\n",
       "      <th></th>\n",
       "    </tr>\n",
       "  </thead>\n",
       "  <tbody>\n",
       "    <tr>\n",
       "      <th>2004-10-08 21:00:00</th>\n",
       "      <td>2004</td>\n",
       "      <td>10</td>\n",
       "      <td>8</td>\n",
       "      <td>21.0</td>\n",
       "      <td>Fairview</td>\n",
       "      <td>49.265076</td>\n",
       "      <td>-123.118474</td>\n",
       "    </tr>\n",
       "  </tbody>\n",
       "</table>\n",
       "</div>"
      ],
      "text/plain": [
       "                     YEAR  MONTH  DAY  HOUR Neighbourhood   Latitude  \\\n",
       "DateTimeMix                                                            \n",
       "2004-10-08 21:00:00  2004     10    8  21.0      Fairview  49.265076   \n",
       "\n",
       "                      Longitude  \n",
       "DateTimeMix                      \n",
       "2004-10-08 21:00:00 -123.118474  "
      ]
     },
     "execution_count": 3,
     "metadata": {
      "tags": []
     },
     "output_type": "execute_result"
    }
   ],
   "source": [
    "# Creating a Key which will be a Date/Time object\n",
    "\n",
    "print (\"------ Adding date-time object as key ------\\n\")\n",
    "date_time_col = pd.to_datetime(df[['YEAR', 'MONTH', 'DAY', 'HOUR']])\n",
    "\n",
    "# Make the added Date the index of the dataset\n",
    "df['DateTimeMix'] = date_time_col\n",
    "df.set_index('DateTimeMix', inplace=True)\n",
    "\n",
    "print(\"Sample row\")\n",
    "df.head(1)"
   ]
  },
  {
   "cell_type": "code",
   "execution_count": 7,
   "metadata": {
    "colab": {
     "base_uri": "https://localhost:8080/",
     "height": 128
    },
    "colab_type": "code",
    "id": "lSt3yfU6yUCg",
    "outputId": "223b0832-e9c9-4b75-9d4f-3228bc5d81d3"
   },
   "outputs": [
    {
     "name": "stdout",
     "output_type": "stream",
     "text": [
      "Sample row\n"
     ]
    },
    {
     "data": {
      "text/html": [
       "<div>\n",
       "<style scoped>\n",
       "    .dataframe tbody tr th:only-of-type {\n",
       "        vertical-align: middle;\n",
       "    }\n",
       "\n",
       "    .dataframe tbody tr th {\n",
       "        vertical-align: top;\n",
       "    }\n",
       "\n",
       "    .dataframe thead th {\n",
       "        text-align: right;\n",
       "    }\n",
       "</style>\n",
       "<table border=\"1\" class=\"dataframe\">\n",
       "  <thead>\n",
       "    <tr style=\"text-align: right;\">\n",
       "      <th></th>\n",
       "      <th>YEAR</th>\n",
       "      <th>MONTH</th>\n",
       "      <th>DAY</th>\n",
       "      <th>HOUR</th>\n",
       "      <th>Neighbourhood</th>\n",
       "      <th>Latitude</th>\n",
       "      <th>Longitude</th>\n",
       "      <th>Crime</th>\n",
       "    </tr>\n",
       "    <tr>\n",
       "      <th>DateTimeMix</th>\n",
       "      <th></th>\n",
       "      <th></th>\n",
       "      <th></th>\n",
       "      <th></th>\n",
       "      <th></th>\n",
       "      <th></th>\n",
       "      <th></th>\n",
       "      <th></th>\n",
       "    </tr>\n",
       "  </thead>\n",
       "  <tbody>\n",
       "    <tr>\n",
       "      <th>2004-10-08 21:00:00</th>\n",
       "      <td>2004</td>\n",
       "      <td>10</td>\n",
       "      <td>8</td>\n",
       "      <td>21.0</td>\n",
       "      <td>Fairview</td>\n",
       "      <td>49.265076</td>\n",
       "      <td>-123.118474</td>\n",
       "      <td>1</td>\n",
       "    </tr>\n",
       "  </tbody>\n",
       "</table>\n",
       "</div>"
      ],
      "text/plain": [
       "                     YEAR  MONTH  DAY  HOUR Neighbourhood   Latitude  \\\n",
       "DateTimeMix                                                            \n",
       "2004-10-08 21:00:00  2004     10    8  21.0      Fairview  49.265076   \n",
       "\n",
       "                      Longitude  Crime  \n",
       "DateTimeMix                             \n",
       "2004-10-08 21:00:00 -123.118474      1  "
      ]
     },
     "execution_count": 7,
     "metadata": {
      "tags": []
     },
     "output_type": "execute_result"
    }
   ],
   "source": [
    "df['Crime'] = 1\n",
    "print(\"Sample row\")\n",
    "df.head(1)"
   ]
  },
  {
   "cell_type": "markdown",
   "metadata": {
    "colab_type": "text",
    "id": "vFAUf_h9gTkN"
   },
   "source": [
    "##### Import Neighbourhoods and Function to generate co-ordinates in neighbourhood"
   ]
  },
  {
   "cell_type": "code",
   "execution_count": 5,
   "metadata": {
    "colab": {
     "base_uri": "https://localhost:8080/",
     "height": 748
    },
    "colab_type": "code",
    "id": "N7gqONURRQEA",
    "outputId": "0a35bca3-1dba-43bb-912e-51fbc1709d8e"
   },
   "outputs": [
    {
     "name": "stdout",
     "output_type": "stream",
     "text": [
      "List of Neighbourhoods : \n"
     ]
    },
    {
     "data": {
      "text/html": [
       "<div>\n",
       "<style scoped>\n",
       "    .dataframe tbody tr th:only-of-type {\n",
       "        vertical-align: middle;\n",
       "    }\n",
       "\n",
       "    .dataframe tbody tr th {\n",
       "        vertical-align: top;\n",
       "    }\n",
       "\n",
       "    .dataframe thead th {\n",
       "        text-align: right;\n",
       "    }\n",
       "</style>\n",
       "<table border=\"1\" class=\"dataframe\">\n",
       "  <thead>\n",
       "    <tr style=\"text-align: right;\">\n",
       "      <th></th>\n",
       "      <th>MAPID</th>\n",
       "      <th>NAME</th>\n",
       "      <th>Latitude</th>\n",
       "      <th>Longitude</th>\n",
       "    </tr>\n",
       "  </thead>\n",
       "  <tbody>\n",
       "    <tr>\n",
       "      <th>0</th>\n",
       "      <td>SUN</td>\n",
       "      <td>Sunset</td>\n",
       "      <td>49.218650</td>\n",
       "      <td>-123.091376</td>\n",
       "    </tr>\n",
       "    <tr>\n",
       "      <th>1</th>\n",
       "      <td>MP</td>\n",
       "      <td>Mount Pleasant</td>\n",
       "      <td>49.263060</td>\n",
       "      <td>-123.099888</td>\n",
       "    </tr>\n",
       "    <tr>\n",
       "      <th>2</th>\n",
       "      <td>RP</td>\n",
       "      <td>Riley Park</td>\n",
       "      <td>49.244679</td>\n",
       "      <td>-123.103239</td>\n",
       "    </tr>\n",
       "    <tr>\n",
       "      <th>3</th>\n",
       "      <td>CBD</td>\n",
       "      <td>Downtown</td>\n",
       "      <td>49.279255</td>\n",
       "      <td>-123.119137</td>\n",
       "    </tr>\n",
       "    <tr>\n",
       "      <th>4</th>\n",
       "      <td>KITS</td>\n",
       "      <td>Kitsilano</td>\n",
       "      <td>49.265663</td>\n",
       "      <td>-123.166947</td>\n",
       "    </tr>\n",
       "    <tr>\n",
       "      <th>5</th>\n",
       "      <td>DS</td>\n",
       "      <td>Dunbar-Southlands</td>\n",
       "      <td>49.242361</td>\n",
       "      <td>-123.185280</td>\n",
       "    </tr>\n",
       "    <tr>\n",
       "      <th>6</th>\n",
       "      <td>KERR</td>\n",
       "      <td>Kerrisdale</td>\n",
       "      <td>49.225466</td>\n",
       "      <td>-123.157878</td>\n",
       "    </tr>\n",
       "    <tr>\n",
       "      <th>7</th>\n",
       "      <td>AR</td>\n",
       "      <td>Arbutus-Ridge</td>\n",
       "      <td>49.245938</td>\n",
       "      <td>-123.160737</td>\n",
       "    </tr>\n",
       "    <tr>\n",
       "      <th>8</th>\n",
       "      <td>WPG</td>\n",
       "      <td>West Point Grey</td>\n",
       "      <td>49.265928</td>\n",
       "      <td>-123.202077</td>\n",
       "    </tr>\n",
       "    <tr>\n",
       "      <th>9</th>\n",
       "      <td>MARP</td>\n",
       "      <td>Marpole</td>\n",
       "      <td>49.210702</td>\n",
       "      <td>-123.130159</td>\n",
       "    </tr>\n",
       "    <tr>\n",
       "      <th>10</th>\n",
       "      <td>OAK</td>\n",
       "      <td>Oakridge</td>\n",
       "      <td>49.226350</td>\n",
       "      <td>-123.123689</td>\n",
       "    </tr>\n",
       "    <tr>\n",
       "      <th>11</th>\n",
       "      <td>SHAU</td>\n",
       "      <td>Shaughnessy</td>\n",
       "      <td>49.244443</td>\n",
       "      <td>-123.140041</td>\n",
       "    </tr>\n",
       "    <tr>\n",
       "      <th>12</th>\n",
       "      <td>FAIR</td>\n",
       "      <td>Fairview</td>\n",
       "      <td>49.263421</td>\n",
       "      <td>-123.131514</td>\n",
       "    </tr>\n",
       "    <tr>\n",
       "      <th>13</th>\n",
       "      <td>SC</td>\n",
       "      <td>South Cambie</td>\n",
       "      <td>49.245246</td>\n",
       "      <td>-123.121495</td>\n",
       "    </tr>\n",
       "    <tr>\n",
       "      <th>14</th>\n",
       "      <td>WE</td>\n",
       "      <td>West End</td>\n",
       "      <td>49.285170</td>\n",
       "      <td>-123.134074</td>\n",
       "    </tr>\n",
       "    <tr>\n",
       "      <th>15</th>\n",
       "      <td>KIL</td>\n",
       "      <td>Killarney</td>\n",
       "      <td>49.220042</td>\n",
       "      <td>-123.038120</td>\n",
       "    </tr>\n",
       "    <tr>\n",
       "      <th>16</th>\n",
       "      <td>RC</td>\n",
       "      <td>Renfrew-Collingwood</td>\n",
       "      <td>49.248648</td>\n",
       "      <td>-123.040758</td>\n",
       "    </tr>\n",
       "    <tr>\n",
       "      <th>17</th>\n",
       "      <td>HS</td>\n",
       "      <td>Hastings-Sunrise</td>\n",
       "      <td>49.275951</td>\n",
       "      <td>-123.041252</td>\n",
       "    </tr>\n",
       "    <tr>\n",
       "      <th>18</th>\n",
       "      <td>VF</td>\n",
       "      <td>Victoria-Fraserview</td>\n",
       "      <td>49.220273</td>\n",
       "      <td>-123.063993</td>\n",
       "    </tr>\n",
       "    <tr>\n",
       "      <th>19</th>\n",
       "      <td>KC</td>\n",
       "      <td>Kensington-Cedar Cottage</td>\n",
       "      <td>49.246225</td>\n",
       "      <td>-123.074036</td>\n",
       "    </tr>\n",
       "    <tr>\n",
       "      <th>20</th>\n",
       "      <td>STR</td>\n",
       "      <td>Strathcona</td>\n",
       "      <td>49.273320</td>\n",
       "      <td>-123.089306</td>\n",
       "    </tr>\n",
       "    <tr>\n",
       "      <th>21</th>\n",
       "      <td>GW</td>\n",
       "      <td>Grandview-Woodland</td>\n",
       "      <td>49.274305</td>\n",
       "      <td>-123.067423</td>\n",
       "    </tr>\n",
       "  </tbody>\n",
       "</table>\n",
       "</div>"
      ],
      "text/plain": [
       "   MAPID                      NAME   Latitude   Longitude\n",
       "0    SUN                    Sunset  49.218650 -123.091376\n",
       "1     MP            Mount Pleasant  49.263060 -123.099888\n",
       "2     RP                Riley Park  49.244679 -123.103239\n",
       "3    CBD                  Downtown  49.279255 -123.119137\n",
       "4   KITS                 Kitsilano  49.265663 -123.166947\n",
       "5     DS         Dunbar-Southlands  49.242361 -123.185280\n",
       "6   KERR                Kerrisdale  49.225466 -123.157878\n",
       "7     AR             Arbutus-Ridge  49.245938 -123.160737\n",
       "8    WPG           West Point Grey  49.265928 -123.202077\n",
       "9   MARP                   Marpole  49.210702 -123.130159\n",
       "10   OAK                  Oakridge  49.226350 -123.123689\n",
       "11  SHAU               Shaughnessy  49.244443 -123.140041\n",
       "12  FAIR                  Fairview  49.263421 -123.131514\n",
       "13    SC              South Cambie  49.245246 -123.121495\n",
       "14    WE                  West End  49.285170 -123.134074\n",
       "15   KIL                 Killarney  49.220042 -123.038120\n",
       "16    RC       Renfrew-Collingwood  49.248648 -123.040758\n",
       "17    HS          Hastings-Sunrise  49.275951 -123.041252\n",
       "18    VF       Victoria-Fraserview  49.220273 -123.063993\n",
       "19    KC  Kensington-Cedar Cottage  49.246225 -123.074036\n",
       "20   STR                Strathcona  49.273320 -123.089306\n",
       "21    GW        Grandview-Woodland  49.274305 -123.067423"
      ]
     },
     "execution_count": 5,
     "metadata": {
      "tags": []
     },
     "output_type": "execute_result"
    }
   ],
   "source": [
    "# Import a list of all neighbourhoods and their center co-ordinates in Vancouver\n",
    "\n",
    "nb_file_path = 'https://raw.githubusercontent.com/NasirKhalid24/ELE494-Project/master/Datasets/cov_localareas.csv'\n",
    "\n",
    "neighbourhoods = pd.read_csv(nb_file_path)\n",
    "print(\"List of Neighbourhoods : \")\n",
    "neighbourhoods"
   ]
  },
  {
   "cell_type": "markdown",
   "metadata": {
    "colab_type": "text",
    "id": "7xfkROGUgc00"
   },
   "source": [
    "##### Import Graffiti and Function to get distance from Graffiti"
   ]
  },
  {
   "cell_type": "markdown",
   "metadata": {
    "colab_type": "text",
    "id": "4noydWb5gh_I"
   },
   "source": [
    "##### Import Drinking fountain and Function to get distance from Drinking fountain"
   ]
  },
  {
   "cell_type": "markdown",
   "metadata": {
    "colab_type": "text",
    "id": "RIFWP5OHyHRO"
   },
   "source": [
    "#### Upsample every 1 Hour and add data points"
   ]
  },
  {
   "cell_type": "code",
   "execution_count": 10,
   "metadata": {
    "colab": {
     "base_uri": "https://localhost:8080/",
     "height": 85
    },
    "colab_type": "code",
    "id": "2vvh4lg1MQCx",
    "outputId": "9629622d-bf7e-4ed1-e328-876b90fe5c32"
   },
   "outputs": [
    {
     "name": "stdout",
     "output_type": "stream",
     "text": [
      "Shape of Dataset before upsample: (2691438, 8)\n",
      "\n",
      "Shape of Dataset after upsample: (2691438, 8)\n",
      "\n"
     ]
    }
   ],
   "source": [
    "print(\"Shape of Dataset before upsample: \" + str(df.shape) + \"\\n\")\n",
    "\n",
    "for i in neighbourhoods['NAME']:\n",
    "    subset = df[df['Neighbourhood'] == i]\n",
    "    crime_extra = subset.groupby(level=0).count().resample('1H').asfreq()\n",
    "    crime_extra = crime_extra[pd.isna((crime_extra['Crime']))]\n",
    "  \n",
    "    if(crime_extra.shape[0] != 0 ):\n",
    "        crime_extra['Crime'] = 0\n",
    "        crime_extra['YEAR'] = crime_extra.index.year\n",
    "        crime_extra['MONTH'] = crime_extra.index.month\n",
    "        crime_extra['DAY'] = crime_extra.index.day\n",
    "        crime_extra['HOUR'] = crime_extra.index.hour\n",
    "\n",
    "        crime_extra['Neighbourhood'] = i\n",
    "\n",
    "\n",
    "        df = df.append(crime_extra)\n",
    "        \n",
    "print(\"Shape of Dataset after upsample: \" + str(df.shape) + \"\\n\")"
   ]
  },
  {
   "cell_type": "code",
   "execution_count": 0,
   "metadata": {
    "colab": {},
    "colab_type": "code",
    "id": "qn0pA4ul6hD5"
   },
   "outputs": [],
   "source": [
    "# print(\"Shape of Original Dataset: \" + str(df.shape) + \"\\n\")\n",
    "\n",
    "# df = df.append(df_extra)\n",
    "\n",
    "# print(\"Shape of Upsampled Dataset with No crime values: \" + str(df.shape) + \"\\n\")"
   ]
  },
  {
   "cell_type": "markdown",
   "metadata": {
    "colab_type": "text",
    "id": "vqaiTSXa7dix"
   },
   "source": [
    "#### Extract network input and output and make sets"
   ]
  },
  {
   "cell_type": "code",
   "execution_count": 0,
   "metadata": {
    "colab": {},
    "colab_type": "code",
    "id": "i__0LvQX7gxq"
   },
   "outputs": [],
   "source": [
    "Y = df['Crime'].values\n",
    "# X = df[['YEAR','MONTH','DAY', 'HOUR', 'Latitude', 'Longitude', 'Graffiti', 'Drinking_Fountain']].values\n",
    "\n",
    "neigh = df['Neighbourhood']\n",
    "onehot_neigh = pd.get_dummies(neigh)\n",
    "X = np.concatenate((df[['YEAR','MONTH','DAY', 'HOUR']].values, onehot_neigh.values), axis = 1)"
   ]
  },
  {
   "cell_type": "code",
   "execution_count": 0,
   "metadata": {
    "colab": {
     "base_uri": "https://localhost:8080/",
     "height": 104
    },
    "colab_type": "code",
    "id": "XCX2i1ShfQb0",
    "outputId": "6c9af586-bd5e-4126-8998-b150619d7d80"
   },
   "outputs": [
    {
     "data": {
      "text/plain": [
       "array([2.004e+03, 1.000e+01, 8.000e+00, 2.100e+01, 0.000e+00, 0.000e+00,\n",
       "       0.000e+00, 1.000e+00, 0.000e+00, 0.000e+00, 0.000e+00, 0.000e+00,\n",
       "       0.000e+00, 0.000e+00, 0.000e+00, 0.000e+00, 0.000e+00, 0.000e+00,\n",
       "       0.000e+00, 0.000e+00, 0.000e+00, 0.000e+00, 0.000e+00, 0.000e+00,\n",
       "       0.000e+00, 0.000e+00])"
      ]
     },
     "execution_count": 17,
     "metadata": {
      "tags": []
     },
     "output_type": "execute_result"
    }
   ],
   "source": [
    "X[0]"
   ]
  },
  {
   "cell_type": "code",
   "execution_count": 0,
   "metadata": {
    "colab": {
     "base_uri": "https://localhost:8080/",
     "height": 35
    },
    "colab_type": "code",
    "id": "OgcTRTUhfSEz",
    "outputId": "6ab63fb4-856d-4801-bc0a-556a6db9770d"
   },
   "outputs": [
    {
     "data": {
      "text/plain": [
       "1"
      ]
     },
     "execution_count": 18,
     "metadata": {
      "tags": []
     },
     "output_type": "execute_result"
    }
   ],
   "source": [
    "Y[0]"
   ]
  },
  {
   "cell_type": "code",
   "execution_count": 12,
   "metadata": {
    "colab": {
     "base_uri": "https://localhost:8080/",
     "height": 102
    },
    "colab_type": "code",
    "id": "WYwmseUiEg2D",
    "outputId": "f4310b0d-d4a7-4768-cd47-0bbef7aedee0"
   },
   "outputs": [
    {
     "name": "stdout",
     "output_type": "stream",
     "text": [
      "[0.         0.81818182 0.23333333 0.91304348 0.         0.\n",
      " 0.         1.         0.         0.         0.         0.\n",
      " 0.         0.         0.         0.         0.         0.\n",
      " 0.         0.         0.         0.         0.         0.\n",
      " 0.         0.        ]\n"
     ]
    }
   ],
   "source": [
    "from sklearn.preprocessing import MinMaxScaler\n",
    "\n",
    "scaler = MinMaxScaler()\n",
    "\n",
    "scaler.fit(X)\n",
    "X = scaler.transform(X)\n",
    "print(X[0])"
   ]
  },
  {
   "cell_type": "code",
   "execution_count": 13,
   "metadata": {
    "colab": {
     "base_uri": "https://localhost:8080/",
     "height": 85
    },
    "colab_type": "code",
    "id": "QI7h8QVa7uex",
    "outputId": "ce541616-3ab9-447c-8518-4d1e76843740"
   },
   "outputs": [
    {
     "name": "stdout",
     "output_type": "stream",
     "text": [
      "Training Data Size: (2153150, 26)\n",
      "Testing Data Size:(538288, 26)\n",
      "Training Label Size: (2153150,)\n",
      "Testing Label Size: (538288,)\n"
     ]
    }
   ],
   "source": [
    "from sklearn.model_selection import train_test_split\n",
    "\n",
    "X_train, X_test, Y_train, Y_test = train_test_split(X, Y, test_size=0.2, random_state=101)\n",
    "\n",
    "print(\"Training Data Size: \" + str(X_train.shape))\n",
    "print(\"Testing Data Size:\" + str(X_test.shape))\n",
    "print(\"Training Label Size: \" + str(Y_train.shape))\n",
    "print(\"Testing Label Size: \" + str(Y_test.shape))"
   ]
  },
  {
   "cell_type": "code",
   "execution_count": 0,
   "metadata": {
    "colab": {},
    "colab_type": "code",
    "id": "lGluk-J68FwR"
   },
   "outputs": [],
   "source": [
    "import matplotlib.pyplot as plt\n",
    "import numpy as np\n",
    "\n",
    "# Function to plot loss and accuracy vs epochs\n",
    "def loss_curve(history):\n",
    "  train_loss = history.history['loss']\n",
    "  val_loss = history.history['val_loss']\n",
    "  x_axis     = range(1, len(history.history['loss'])+1)\n",
    "  \n",
    "  plt.figure()\n",
    "  plt.plot(x_axis, train_loss, label=\"Training Loss\")\n",
    "  plt.plot(x_axis, val_loss, label=\"Validation Loss\")\n",
    "  plt.ylabel('Loss Value')\n",
    "  plt.xlabel('Epochs')\n",
    "  plt.title('Epochs vs Loss')\n",
    "  plt.legend()\n",
    "  \n",
    "def accuracy(history):\n",
    "  acc  = history.history['acc']\n",
    "  val_acc = history.history['val_acc']\n",
    "  x_axis     = range(1, len(history.history['acc'])+1)\n",
    "  \n",
    "  plt.figure()\n",
    "  plt.plot(x_axis, np.dot(acc,100), label=\"Accuracy\")\n",
    "  plt.plot(x_axis, np.dot(val_acc, 100), label=\"Validation Accuracy\")\n",
    "  plt.ylabel('Accuracy')\n",
    "  plt.xlabel('Epochs')\n",
    "  plt.title('Epochs vs Accuracy')\n",
    "  plt.legend()"
   ]
  },
  {
   "cell_type": "markdown",
   "metadata": {
    "colab_type": "text",
    "id": "MO3HiFRD8KPn"
   },
   "source": [
    "#### Training Network"
   ]
  },
  {
   "cell_type": "code",
   "execution_count": 15,
   "metadata": {
    "colab": {
     "base_uri": "https://localhost:8080/",
     "height": 428
    },
    "colab_type": "code",
    "id": "ueaauFB08Ms7",
    "outputId": "97c6b2d8-7ee0-4a9b-db12-41b84fc82219"
   },
   "outputs": [
    {
     "name": "stderr",
     "output_type": "stream",
     "text": [
      "Using TensorFlow backend.\n"
     ]
    },
    {
     "name": "stdout",
     "output_type": "stream",
     "text": [
      "WARNING:tensorflow:From /usr/local/lib/python3.6/dist-packages/tensorflow/python/framework/op_def_library.py:263: colocate_with (from tensorflow.python.framework.ops) is deprecated and will be removed in a future version.\n",
      "Instructions for updating:\n",
      "Colocations handled automatically by placer.\n",
      "_________________________________________________________________\n",
      "Layer (type)                 Output Shape              Param #   \n",
      "=================================================================\n",
      "dense_1 (Dense)              (None, 64)                1728      \n",
      "_________________________________________________________________\n",
      "dense_2 (Dense)              (None, 128)               8320      \n",
      "_________________________________________________________________\n",
      "dense_3 (Dense)              (None, 512)               66048     \n",
      "_________________________________________________________________\n",
      "dense_4 (Dense)              (None, 128)               65664     \n",
      "_________________________________________________________________\n",
      "dense_5 (Dense)              (None, 64)                8256      \n",
      "_________________________________________________________________\n",
      "dense_6 (Dense)              (None, 1)                 65        \n",
      "=================================================================\n",
      "Total params: 150,081\n",
      "Trainable params: 150,081\n",
      "Non-trainable params: 0\n",
      "_________________________________________________________________\n"
     ]
    }
   ],
   "source": [
    "from keras.layers import Dense, Dropout\n",
    "from keras.models import Sequential\n",
    "\n",
    "model = Sequential()\n",
    "\n",
    "model.add(Dense(64, activation='relu', input_shape=(X_train.shape[1], ) ) )\n",
    "model.add(Dense(128, activation='relu') )\n",
    "model.add(Dense(512, activation='relu') )\n",
    "model.add(Dense(128, activation='relu') )\n",
    "model.add(Dense(64, activation='relu') )\n",
    "\n",
    "\n",
    "model.add(Dense(1, activation='sigmoid') )\n",
    "\n",
    "model.compile(optimizer='rmsprop',\n",
    "                loss='binary_crossentropy',\n",
    "                metrics=['accuracy'])\n",
    "\n",
    "model.summary()"
   ]
  },
  {
   "cell_type": "code",
   "execution_count": 16,
   "metadata": {
    "colab": {
     "base_uri": "https://localhost:8080/",
     "height": 615
    },
    "colab_type": "code",
    "id": "Nl9D9mWJ8VkX",
    "outputId": "461ff5e3-51f1-4e82-fec9-1c5e3ac64e7f"
   },
   "outputs": [
    {
     "name": "stdout",
     "output_type": "stream",
     "text": [
      "WARNING:tensorflow:From /usr/local/lib/python3.6/dist-packages/tensorflow/python/ops/math_ops.py:3066: to_int32 (from tensorflow.python.ops.math_ops) is deprecated and will be removed in a future version.\n",
      "Instructions for updating:\n",
      "Use tf.cast instead.\n",
      "Train on 1722520 samples, validate on 430630 samples\n",
      "Epoch 1/15\n",
      "1722520/1722520 [==============================] - 17s 10us/step - loss: 0.3646 - acc: 0.8579 - val_loss: 0.3635 - val_acc: 0.8574\n",
      "Epoch 2/15\n",
      "1722520/1722520 [==============================] - 14s 8us/step - loss: 0.3601 - acc: 0.8589 - val_loss: 0.3593 - val_acc: 0.8594\n",
      "Epoch 3/15\n",
      "1722520/1722520 [==============================] - 16s 9us/step - loss: 0.3594 - acc: 0.8590 - val_loss: 0.3593 - val_acc: 0.8590\n",
      "Epoch 4/15\n",
      "1722520/1722520 [==============================] - 14s 8us/step - loss: 0.3592 - acc: 0.8590 - val_loss: 0.3605 - val_acc: 0.8591\n",
      "Epoch 5/15\n",
      "1722520/1722520 [==============================] - 14s 8us/step - loss: 0.3590 - acc: 0.8592 - val_loss: 0.3591 - val_acc: 0.8592\n",
      "Epoch 6/15\n",
      "1722520/1722520 [==============================] - 14s 8us/step - loss: 0.3589 - acc: 0.8591 - val_loss: 0.3592 - val_acc: 0.8593\n",
      "Epoch 7/15\n",
      "1722520/1722520 [==============================] - 14s 8us/step - loss: 0.3589 - acc: 0.8592 - val_loss: 0.3591 - val_acc: 0.8594\n",
      "Epoch 8/15\n",
      "1722520/1722520 [==============================] - 14s 8us/step - loss: 0.3588 - acc: 0.8591 - val_loss: 0.3621 - val_acc: 0.8588\n",
      "Epoch 9/15\n",
      "1722520/1722520 [==============================] - 15s 9us/step - loss: 0.3590 - acc: 0.8591 - val_loss: 0.3615 - val_acc: 0.8594\n",
      "Epoch 10/15\n",
      "1722520/1722520 [==============================] - 15s 9us/step - loss: 0.3590 - acc: 0.8591 - val_loss: 0.3601 - val_acc: 0.8589\n",
      "Epoch 11/15\n",
      "1722520/1722520 [==============================] - 14s 8us/step - loss: 0.3591 - acc: 0.8591 - val_loss: 0.3623 - val_acc: 0.8583\n",
      "Epoch 12/15\n",
      "1722520/1722520 [==============================] - 14s 8us/step - loss: 0.3592 - acc: 0.8591 - val_loss: 0.3595 - val_acc: 0.8585\n",
      "Epoch 13/15\n",
      "1722520/1722520 [==============================] - 14s 8us/step - loss: 0.3591 - acc: 0.8591 - val_loss: 0.3590 - val_acc: 0.8592\n",
      "Epoch 14/15\n",
      "1722520/1722520 [==============================] - 15s 9us/step - loss: 0.3593 - acc: 0.8591 - val_loss: 0.3604 - val_acc: 0.8593\n",
      "Epoch 15/15\n",
      "1722520/1722520 [==============================] - 14s 8us/step - loss: 0.3594 - acc: 0.8591 - val_loss: 0.3591 - val_acc: 0.8592\n"
     ]
    }
   ],
   "source": [
    "history = model.fit(X_train, Y_train,\n",
    "          epochs = 15,\n",
    "          batch_size=512,\n",
    "          validation_split=0.2,\n",
    "          verbose = 1)"
   ]
  },
  {
   "cell_type": "code",
   "execution_count": 17,
   "metadata": {
    "colab": {
     "base_uri": "https://localhost:8080/",
     "height": 573
    },
    "colab_type": "code",
    "id": "fO8qsIOkxoFx",
    "outputId": "7f7034d9-5916-40b5-da58-ee9754a6dc9b"
   },
   "outputs": [
    {
     "data": {
      "image/png": "[encoded data removed]",
      "text/plain": [
       "<Figure size 432x288 with 1 Axes>"
      ]
     },
     "metadata": {
      "tags": []
     },
     "output_type": "display_data"
    },
    {
     "data": {
      "image/png": "[encoded data removed]",
      "text/plain": [
       "<Figure size 432x288 with 1 Axes>"
      ]
     },
     "metadata": {
      "tags": []
     },
     "output_type": "display_data"
    }
   ],
   "source": [
    "loss_curve(history)\n",
    "accuracy(history)"
   ]
  },
  {
   "cell_type": "code",
   "execution_count": 0,
   "metadata": {
    "colab": {
     "base_uri": "https://localhost:8080/",
     "height": 86
    },
    "colab_type": "code",
    "id": "PnhnorHuxxJp",
    "outputId": "bb06ba1c-7c6c-4046-fdf0-c16a47385152"
   },
   "outputs": [
    {
     "name": "stdout",
     "output_type": "stream",
     "text": [
      "538288/538288 [==============================] - 20s 38us/step\n",
      "Test Loss: 0.3633678653892147\n",
      "Test Accuracy: 0.8568238563742829\n",
      "\n"
     ]
    }
   ],
   "source": [
    "labels = list(onehot_neigh.columns.values)\n",
    "\n",
    "test_loss, test_acc = model.evaluate(X_test, Y_test)\n",
    "y_pred = model.predict(X_test)\n",
    "\n",
    "\n",
    "print(\"Test Loss: \" + str(test_loss))\n",
    "print(\"Test Accuracy: \" + str(test_acc) + \"\\n\")\n"
   ]
  },
  {
   "cell_type": "code",
   "execution_count": 0,
   "metadata": {
    "colab": {
     "base_uri": "https://localhost:8080/",
     "height": 35
    },
    "colab_type": "code",
    "id": "M9bU1dX-x5mC",
    "outputId": "11086fad-c0ea-45d5-8793-5bf682a63c74"
   },
   "outputs": [
    {
     "data": {
      "text/plain": [
       "array([[0.05801033]], dtype=float32)"
      ]
     },
     "execution_count": 26,
     "metadata": {
      "tags": []
     },
     "output_type": "execute_result"
    }
   ],
   "source": [
    "# Predicting for random year/month/day/hour\n",
    "\n",
    "# test = np.array([[2019, 2, 11, 3, 49.237994, -123.083282, DistanceToGraffiti(49.237994, -123.083282), DistanceToFountain(49.237994, -123.083282)]])\n",
    "\n",
    "test = np.array([[2019, 2, 11, 3,0,0,0,0,0,1,0,0,0,0,0,0,0,0,0,0,0,0,0,0,0,0]])\n",
    "\n",
    "test = scaler.transform(test)\n",
    "ans = model.predict(test)\n",
    "ans"
   ]
  },
  {
   "cell_type": "code",
   "execution_count": 0,
   "metadata": {
    "colab": {
     "base_uri": "https://localhost:8080/",
     "height": 35
    },
    "colab_type": "code",
    "id": "uIOJP6GS0xs2",
    "outputId": "48d3195e-8dd2-42a7-baf9-09c1aba47061"
   },
   "outputs": [
    {
     "data": {
      "text/plain": [
       "array([[0.05943623]], dtype=float32)"
      ]
     },
     "execution_count": 27,
     "metadata": {
      "tags": []
     },
     "output_type": "execute_result"
    }
   ],
   "source": [
    "# Predicting for another random year/month/day/hour\n",
    "\n",
    "# test = np.array([[2012, 6, 4,15, 49.238019, -123.163815, DistanceToGraffiti(49.238019, -123.163815), DistanceToFountain(49.238019, -123.163815)]])\n",
    "test = np.array([[2019, 2, 11, 12,0,0,0,0,0,0,0,0,0,0,0,0,0,0,0,0,1,0,0,0,0,0]])\n",
    "test = scaler.transform(test)\n",
    "ans = model.predict(test)\n",
    "ans"
   ]
  },
  {
   "cell_type": "code",
   "execution_count": 0,
   "metadata": {
    "colab": {
     "base_uri": "https://localhost:8080/",
     "height": 432
    },
    "colab_type": "code",
    "id": "cJlbRJ3GCyOB",
    "outputId": "369a4afe-4913-44c9-b444-5e4d1f3eefdb"
   },
   "outputs": [
    {
     "name": "stdout",
     "output_type": "stream",
     "text": [
      "Likelihood of crime at 0 hour: 30.23408353328705 %\n",
      "Likelihood of crime at 1 hour: 22.93020635843277 %\n",
      "Likelihood of crime at 2 hour: 13.331630825996399 %\n",
      "Likelihood of crime at 3 hour: 8.529111742973328 %\n",
      "Likelihood of crime at 4 hour: 6.900174170732498 %\n",
      "Likelihood of crime at 5 hour: 7.874668389558792 %\n",
      "Likelihood of crime at 6 hour: 9.083171933889389 %\n",
      "Likelihood of crime at 7 hour: 10.469596087932587 %\n",
      "Likelihood of crime at 8 hour: 12.503057718276978 %\n",
      "Likelihood of crime at 9 hour: 13.86326253414154 %\n",
      "Likelihood of crime at 10 hour: 14.858576655387878 %\n",
      "Likelihood of crime at 11 hour: 16.048644483089447 %\n",
      "Likelihood of crime at 12 hour: 17.49309003353119 %\n",
      "Likelihood of crime at 13 hour: 19.071513414382935 %\n",
      "Likelihood of crime at 14 hour: 21.921277046203613 %\n",
      "Likelihood of crime at 15 hour: 24.97250735759735 %\n",
      "Likelihood of crime at 16 hour: 27.56119668483734 %\n",
      "Likelihood of crime at 17 hour: 30.3983211517334 %\n",
      "Likelihood of crime at 18 hour: 32.503095269203186 %\n",
      "Likelihood of crime at 19 hour: 32.97823965549469 %\n",
      "Likelihood of crime at 20 hour: 33.582812547683716 %\n",
      "Likelihood of crime at 21 hour: 34.28047001361847 %\n",
      "Likelihood of crime at 22 hour: 33.93738865852356 %\n",
      "Likelihood of crime at 23 hour: 33.295631408691406 %\n"
     ]
    }
   ],
   "source": [
    "# Predict crime in a location over the whole day\n",
    "for i in range(0, 24):\n",
    "#   test = np.array([[2012, 1, 1, i, 49.284645, -123.136306, DistanceToGraffiti(49.284645, -123.136306), DistanceToFountain(49.284645, -123.136306)]])\n",
    "  test = np.array([[2005, 12,31, i,0,0,0,0,0,0,1,0,0,0,0,0,0,0,0,0,0,0,0,0,0,0]])\n",
    "\n",
    "  test = scaler.transform(test)\n",
    "  ans = model.predict(test)\n",
    "  print(\"Likelihood of crime at \" + str(i) + \" hour: \" + str(ans[0][0]*100) + \" %\") "
   ]
  },
  {
   "cell_type": "code",
   "execution_count": 0,
   "metadata": {
    "colab": {
     "base_uri": "https://localhost:8080/",
     "height": 397
    },
    "colab_type": "code",
    "id": "sp6X5nIDcfdg",
    "outputId": "ed082464-6821-418c-afc6-2d93bfeb6069"
   },
   "outputs": [
    {
     "data": {
      "text/plain": [
       "['Arbutus-Ridge',\n",
       " 'Downtown',\n",
       " 'Dunbar-Southlands',\n",
       " 'Fairview',\n",
       " 'Grandview-Woodland',\n",
       " 'Hastings-Sunrise',\n",
       " 'Kensington-Cedar Cottage',\n",
       " 'Kerrisdale',\n",
       " 'Killarney',\n",
       " 'Kitsilano',\n",
       " 'Marpole',\n",
       " 'Mount Pleasant',\n",
       " 'Oakridge',\n",
       " 'Renfrew-Collingwood',\n",
       " 'Riley Park',\n",
       " 'Shaughnessy',\n",
       " 'South Cambie',\n",
       " 'Strathcona',\n",
       " 'Sunset',\n",
       " 'Victoria-Fraserview',\n",
       " 'West End',\n",
       " 'West Point Grey']"
      ]
     },
     "execution_count": 34,
     "metadata": {
      "tags": []
     },
     "output_type": "execute_result"
    }
   ],
   "source": [
    "labels"
   ]
  }
 ],
 "metadata": {
  "accelerator": "GPU",
  "colab": {
   "collapsed_sections": [],
   "name": "Network #3.ipynb",
   "provenance": [],
   "version": "0.3.2"
  },
  "kernelspec": {
   "display_name": "Python 3",
   "language": "python",
   "name": "python3"
  },
  "language_info": {
   "codemirror_mode": {
    "name": "ipython",
    "version": 3
   },
   "file_extension": ".py",
   "mimetype": "text/x-python",
   "name": "python",
   "nbconvert_exporter": "python",
   "pygments_lexer": "ipython3",
   "version": "3.7.3"
  }
 },
 "nbformat": 4,
 "nbformat_minor": 1
}
