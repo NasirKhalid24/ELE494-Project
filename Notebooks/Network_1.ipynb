{
  "nbformat": 4,
  "nbformat_minor": 0,
  "metadata": {
    "colab": {
      "name": "Network #5.ipynb",
      "version": "0.3.2",
      "provenance": [],
      "collapsed_sections": [
        "wQ0XF1PJP91z",
        "jO6b4AWjhPTR",
        "W3DkboynlDfq",
        "KHYlFe5wlRH7"
      ]
    },
    "kernelspec": {
      "name": "python3",
      "display_name": "Python 3"
    },
    "accelerator": "GPU"
  },
  "cells": [
    {
      "cell_type": "markdown",
      "metadata": {
        "id": "wP6lvui1jtju",
        "colab_type": "text"
      },
      "source": [
        "# Network #1\n",
        "\n",
        "\n",
        "## Network Input:  \n",
        "\n",
        "YEAR,\n",
        "MONTH,\n",
        "DAY,\n",
        "Neighbourhood\n",
        "## Output:\n",
        "\n",
        "Number of crimes likely to occur\n"
      ]
    },
    {
      "cell_type": "markdown",
      "metadata": {
        "id": "wQ0XF1PJP91z",
        "colab_type": "text"
      },
      "source": [
        "#### Loading data and creating dataset to be used"
      ]
    },
    {
      "cell_type": "markdown",
      "metadata": {
        "id": "jO6b4AWjhPTR",
        "colab_type": "text"
      },
      "source": [
        "##### Importing dataset"
      ]
    },
    {
      "cell_type": "code",
      "metadata": {
        "id": "t1Q8Z5Y8ghnh",
        "colab_type": "code",
        "colab": {
          "base_uri": "https://localhost:8080/",
          "height": 204
        },
        "outputId": "7c1786a3-ab43-473b-83bb-e52a9e585865"
      },
      "source": [
        "# Importing needed libraries\n",
        "from keras import layers\n",
        "from keras import models\n",
        "from keras.optimizers import SGD\n",
        "from keras.utils import to_categorical\n",
        "import matplotlib.pyplot as plt\n",
        "import numpy as np\n",
        "import pandas as pd\n",
        "from sklearn.preprocessing import MinMaxScaler\n",
        "from sklearn.model_selection import train_test_split\n",
        "from keras.layers import Dense, Dropout\n",
        "from keras.models import Sequential\n",
        "\n",
        "#defining some useful functions\n",
        "def loss_curve(history):\n",
        "  train_loss = history.history['loss']\n",
        "  val_loss = history.history['val_loss']\n",
        "  x_axis     = range(1, len(history.history['loss'])+1)\n",
        "  \n",
        "  plt.figure()\n",
        "  plt.plot(x_axis, train_loss, label=\"Training Loss\")\n",
        "  plt.plot(x_axis, val_loss, label=\"Validation Loss\")\n",
        "  plt.ylabel('Loss Value')\n",
        "  plt.xlabel('Epochs')\n",
        "  plt.title('Epochs vs Loss')\n",
        "  plt.legend()\n",
        "  \n",
        "def accuracy(history):\n",
        "  acc  = history.history['acc']\n",
        "  val_acc = history.history['val_acc']\n",
        "  x_axis     = range(1, len(history.history['acc'])+1)\n",
        "  \n",
        "  plt.figure()\n",
        "  plt.plot(x_axis, np.dot(acc,100), label=\"Accuracy\")\n",
        "  plt.plot(x_axis, np.dot(val_acc, 100), label=\"Validation Accuracy\")\n",
        "  plt.ylabel('Accuracy')\n",
        "  plt.xlabel('Epochs')\n",
        "  plt.title('Epochs vs Accuracy')\n",
        "  plt.legend()\n",
        "\n",
        "\n",
        "\n",
        "# File loaded from Github Repo\n",
        "file_path = 'https://raw.githubusercontent.com/NasirKhalid24/ELE494-Project/master/Datasets/crime_ymdn_bins.csv'\n",
        "dataset = pd.read_csv(file_path,  error_bad_lines=False)\n",
        "dataset.head()"
      ],
      "execution_count": 10,
      "outputs": [
        {
          "output_type": "execute_result",
          "data": {
            "text/html": [
              "<div>\n",
              "<style scoped>\n",
              "    .dataframe tbody tr th:only-of-type {\n",
              "        vertical-align: middle;\n",
              "    }\n",
              "\n",
              "    .dataframe tbody tr th {\n",
              "        vertical-align: top;\n",
              "    }\n",
              "\n",
              "    .dataframe thead th {\n",
              "        text-align: right;\n",
              "    }\n",
              "</style>\n",
              "<table border=\"1\" class=\"dataframe\">\n",
              "  <thead>\n",
              "    <tr style=\"text-align: right;\">\n",
              "      <th></th>\n",
              "      <th>YEAR</th>\n",
              "      <th>MONTH</th>\n",
              "      <th>DAY</th>\n",
              "      <th>Crime</th>\n",
              "      <th>Neighbourhood</th>\n",
              "      <th>Bins</th>\n",
              "    </tr>\n",
              "  </thead>\n",
              "  <tbody>\n",
              "    <tr>\n",
              "      <th>0</th>\n",
              "      <td>2004</td>\n",
              "      <td>1</td>\n",
              "      <td>1</td>\n",
              "      <td>5.0</td>\n",
              "      <td>Sunset</td>\n",
              "      <td>2</td>\n",
              "    </tr>\n",
              "    <tr>\n",
              "      <th>1</th>\n",
              "      <td>2004</td>\n",
              "      <td>1</td>\n",
              "      <td>2</td>\n",
              "      <td>5.0</td>\n",
              "      <td>Sunset</td>\n",
              "      <td>2</td>\n",
              "    </tr>\n",
              "    <tr>\n",
              "      <th>2</th>\n",
              "      <td>2004</td>\n",
              "      <td>1</td>\n",
              "      <td>3</td>\n",
              "      <td>3.0</td>\n",
              "      <td>Sunset</td>\n",
              "      <td>1</td>\n",
              "    </tr>\n",
              "    <tr>\n",
              "      <th>3</th>\n",
              "      <td>2004</td>\n",
              "      <td>1</td>\n",
              "      <td>4</td>\n",
              "      <td>5.0</td>\n",
              "      <td>Sunset</td>\n",
              "      <td>2</td>\n",
              "    </tr>\n",
              "    <tr>\n",
              "      <th>4</th>\n",
              "      <td>2004</td>\n",
              "      <td>1</td>\n",
              "      <td>5</td>\n",
              "      <td>3.0</td>\n",
              "      <td>Sunset</td>\n",
              "      <td>1</td>\n",
              "    </tr>\n",
              "  </tbody>\n",
              "</table>\n",
              "</div>"
            ],
            "text/plain": [
              "   YEAR  MONTH  DAY  Crime Neighbourhood  Bins\n",
              "0  2004      1    1    5.0        Sunset     2\n",
              "1  2004      1    2    5.0        Sunset     2\n",
              "2  2004      1    3    3.0        Sunset     1\n",
              "3  2004      1    4    5.0        Sunset     2\n",
              "4  2004      1    5    3.0        Sunset     1"
            ]
          },
          "metadata": {
            "tags": []
          },
          "execution_count": 10
        }
      ]
    },
    {
      "cell_type": "markdown",
      "metadata": {
        "colab_type": "text",
        "id": "BKOtV8vKk4Xy"
      },
      "source": [
        "##### Visualizing dataset"
      ]
    },
    {
      "cell_type": "code",
      "metadata": {
        "id": "VPo2pk3oUMV-",
        "colab_type": "code",
        "colab": {
          "base_uri": "https://localhost:8080/",
          "height": 329
        },
        "outputId": "0c31d71b-4444-4e0e-db2f-2b490666288e"
      },
      "source": [
        "data = dataset.sort_values(by = 'YEAR')\n",
        "crime = data['Crime'].values\n",
        "\n",
        "plt.plot(crime)\n",
        "plt.ylabel('Number of Crimes')\n",
        "plt.xlabel('Sample')\n",
        "plt.title('Number of Crimes per Neighborhood per Day')\n",
        "\n",
        "print(\"Number of Samples in dataset: \" + str(crime.shape[0]) + '\\n')"
      ],
      "execution_count": 12,
      "outputs": [
        {
          "output_type": "stream",
          "text": [
            "Number of Samples in dataset: 108734\n",
            "\n"
          ],
          "name": "stdout"
        },
        {
          "output_type": "display_data",
          "data": {
            "image/png": "[encoded data removed]",
            "text/plain": [
              "<Figure size 432x288 with 1 Axes>"
            ]
          },
          "metadata": {
            "tags": []
          }
        }
      ]
    },
    {
      "cell_type": "markdown",
      "metadata": {
        "colab_type": "text",
        "id": "92sLRyqPk9y-"
      },
      "source": [
        "#### Preparing Data for Network"
      ]
    },
    {
      "cell_type": "code",
      "metadata": {
        "id": "UKKVFxgZg37R",
        "colab_type": "code",
        "outputId": "c21b66dc-7b70-4f6b-f034-565dc34d16d3",
        "colab": {
          "base_uri": "https://localhost:8080/",
          "height": 224
        }
      },
      "source": [
        "scaler = MinMaxScaler()\n",
        "\n",
        "#extracting samples from dataset\n",
        "samples_pd = dataset[['YEAR','MONTH','DAY']]\n",
        "neigh = dataset['Neighbourhood']\n",
        "onehot_neigh = pd.get_dummies(neigh)\n",
        "\n",
        "samples = np.concatenate((samples_pd.values, onehot_neigh.values), axis = 1) \n",
        "\n",
        "#normalizing values\n",
        "scaler.fit(samples)\n",
        "samples = scaler.transform(samples)\n",
        "\n",
        "#extracting labeles from dataset\n",
        "labeles_pd = dataset['Bins']\n",
        "labeles = to_categorical(np.array(labeles_pd))\n",
        "\n",
        "\n",
        "# Split training and validation sets randomly\n",
        "x_train, x_test, y_train, y_test = train_test_split(samples, labeles, train_size=0.8,test_size=0.2, random_state=101) \n",
        "\n",
        "print(\"Dataset Samples Shape: \" + str(samples.shape))\n",
        "print(\"Dataset Labels Shape: \" + str(labeles.shape))\n",
        "print()\n",
        "print(\"Training Samples Shape: \" + str(x_train.shape))\n",
        "print(\"Training Labels Shape: \" + str(y_train.shape))\n",
        "print()\n",
        "print(\"Test Samples Shape: \" + str(x_test.shape))\n",
        "print(\"Test Labeles Shape: \" + str(y_test.shape))\n",
        "print()\n",
        "# print(samples[-1,:])"
      ],
      "execution_count": 4,
      "outputs": [
        {
          "output_type": "stream",
          "text": [
            "Dataset Samples Shape: (108734, 25)\n",
            "Dataset Labels Shape: (108734, 4)\n",
            "\n",
            "Training Samples Shape: (86987, 25)\n",
            "Training Labels Shape: (86987, 4)\n",
            "\n",
            "Test Samples Shape: (21747, 25)\n",
            "Test Labeles Shape: (21747, 4)\n",
            "\n"
          ],
          "name": "stdout"
        },
        {
          "output_type": "stream",
          "text": [
            "/usr/local/lib/python3.6/dist-packages/sklearn/utils/validation.py:595: DataConversionWarning: Data with input dtype int64 was converted to float64 by MinMaxScaler.\n",
            "  warnings.warn(msg, DataConversionWarning)\n"
          ],
          "name": "stderr"
        }
      ]
    },
    {
      "cell_type": "markdown",
      "metadata": {
        "colab_type": "text",
        "id": "W3DkboynlDfq"
      },
      "source": [
        "#### Training Network"
      ]
    },
    {
      "cell_type": "code",
      "metadata": {
        "id": "gDpYUKu_g8z1",
        "colab_type": "code",
        "outputId": "9c962670-4b71-4cca-9763-dd212bec169e",
        "colab": {
          "base_uri": "https://localhost:8080/",
          "height": 445
        }
      },
      "source": [
        "model = Sequential()\n",
        "\n",
        "model.add(Dense(64, activation='relu', input_shape=(x_train.shape[1], ) ) )\n",
        "model.add(Dense(128, activation='relu') )\n",
        "model.add(Dense(256, activation='relu') )\n",
        "model.add(Dense(1024, activation='relu') )\n",
        "model.add(Dense(128, activation='relu') )\n",
        "model.add(Dense(64, activation='relu') )\n",
        "\n",
        "\n",
        "model.add(Dense(labeles.shape[1], activation='softmax') )\n",
        "\n",
        "model.compile(optimizer='adagrad',\n",
        "                loss='categorical_crossentropy',\n",
        "                metrics=['accuracy'])\n",
        "\n",
        "model.summary()"
      ],
      "execution_count": 5,
      "outputs": [
        {
          "output_type": "stream",
          "text": [
            "WARNING:tensorflow:From /usr/local/lib/python3.6/dist-packages/tensorflow/python/framework/op_def_library.py:263: colocate_with (from tensorflow.python.framework.ops) is deprecated and will be removed in a future version.\n",
            "Instructions for updating:\n",
            "Colocations handled automatically by placer.\n",
            "_________________________________________________________________\n",
            "Layer (type)                 Output Shape              Param #   \n",
            "=================================================================\n",
            "dense_1 (Dense)              (None, 64)                1664      \n",
            "_________________________________________________________________\n",
            "dense_2 (Dense)              (None, 128)               8320      \n",
            "_________________________________________________________________\n",
            "dense_3 (Dense)              (None, 256)               33024     \n",
            "_________________________________________________________________\n",
            "dense_4 (Dense)              (None, 1024)              263168    \n",
            "_________________________________________________________________\n",
            "dense_5 (Dense)              (None, 128)               131200    \n",
            "_________________________________________________________________\n",
            "dense_6 (Dense)              (None, 64)                8256      \n",
            "_________________________________________________________________\n",
            "dense_7 (Dense)              (None, 4)                 260       \n",
            "=================================================================\n",
            "Total params: 445,892\n",
            "Trainable params: 445,892\n",
            "Non-trainable params: 0\n",
            "_________________________________________________________________\n"
          ],
          "name": "stdout"
        }
      ]
    },
    {
      "cell_type": "code",
      "metadata": {
        "id": "CsGI6pvZPCiz",
        "colab_type": "code",
        "colab": {
          "base_uri": "https://localhost:8080/",
          "height": 1805
        },
        "outputId": "da700939-e03f-43dd-a958-2069606c2428"
      },
      "source": [
        "history = model.fit(x_train, y_train,\n",
        "          epochs = 50,\n",
        "          batch_size=256,\n",
        "          validation_split=0.2,\n",
        "          verbose = 1)"
      ],
      "execution_count": 6,
      "outputs": [
        {
          "output_type": "stream",
          "text": [
            "WARNING:tensorflow:From /usr/local/lib/python3.6/dist-packages/tensorflow/python/ops/math_ops.py:3066: to_int32 (from tensorflow.python.ops.math_ops) is deprecated and will be removed in a future version.\n",
            "Instructions for updating:\n",
            "Use tf.cast instead.\n",
            "Train on 69589 samples, validate on 17398 samples\n",
            "Epoch 1/50\n",
            "69589/69589 [==============================] - 4s 53us/step - loss: 0.9839 - acc: 0.5621 - val_loss: 0.9569 - val_acc: 0.5766\n",
            "Epoch 2/50\n",
            "69589/69589 [==============================] - 1s 15us/step - loss: 0.9490 - acc: 0.5776 - val_loss: 0.9472 - val_acc: 0.5787\n",
            "Epoch 3/50\n",
            "69589/69589 [==============================] - 1s 15us/step - loss: 0.9444 - acc: 0.5768 - val_loss: 0.9477 - val_acc: 0.5800\n",
            "Epoch 4/50\n",
            "69589/69589 [==============================] - 1s 14us/step - loss: 0.9424 - acc: 0.5788 - val_loss: 0.9440 - val_acc: 0.5781\n",
            "Epoch 5/50\n",
            "69589/69589 [==============================] - 1s 14us/step - loss: 0.9412 - acc: 0.5789 - val_loss: 0.9428 - val_acc: 0.5796\n",
            "Epoch 6/50\n",
            "69589/69589 [==============================] - 1s 15us/step - loss: 0.9402 - acc: 0.5806 - val_loss: 0.9433 - val_acc: 0.5788\n",
            "Epoch 7/50\n",
            "69589/69589 [==============================] - 1s 15us/step - loss: 0.9393 - acc: 0.5793 - val_loss: 0.9424 - val_acc: 0.5797\n",
            "Epoch 8/50\n",
            "69589/69589 [==============================] - 1s 14us/step - loss: 0.9385 - acc: 0.5808 - val_loss: 0.9433 - val_acc: 0.5786\n",
            "Epoch 9/50\n",
            "69589/69589 [==============================] - 1s 15us/step - loss: 0.9381 - acc: 0.5798 - val_loss: 0.9425 - val_acc: 0.5784\n",
            "Epoch 10/50\n",
            "69589/69589 [==============================] - 1s 15us/step - loss: 0.9373 - acc: 0.5814 - val_loss: 0.9423 - val_acc: 0.5797\n",
            "Epoch 11/50\n",
            "69589/69589 [==============================] - 1s 15us/step - loss: 0.9372 - acc: 0.5824 - val_loss: 0.9426 - val_acc: 0.5801\n",
            "Epoch 12/50\n",
            "69589/69589 [==============================] - 1s 15us/step - loss: 0.9367 - acc: 0.5817 - val_loss: 0.9416 - val_acc: 0.5809\n",
            "Epoch 13/50\n",
            "69589/69589 [==============================] - 1s 15us/step - loss: 0.9361 - acc: 0.5821 - val_loss: 0.9421 - val_acc: 0.5791\n",
            "Epoch 14/50\n",
            "69589/69589 [==============================] - 1s 15us/step - loss: 0.9357 - acc: 0.5817 - val_loss: 0.9418 - val_acc: 0.5795\n",
            "Epoch 15/50\n",
            "69589/69589 [==============================] - 1s 14us/step - loss: 0.9350 - acc: 0.5828 - val_loss: 0.9429 - val_acc: 0.5789\n",
            "Epoch 16/50\n",
            "69589/69589 [==============================] - 1s 14us/step - loss: 0.9351 - acc: 0.5825 - val_loss: 0.9427 - val_acc: 0.5802\n",
            "Epoch 17/50\n",
            "69589/69589 [==============================] - 1s 14us/step - loss: 0.9349 - acc: 0.5822 - val_loss: 0.9427 - val_acc: 0.5793\n",
            "Epoch 18/50\n",
            "69589/69589 [==============================] - 1s 15us/step - loss: 0.9342 - acc: 0.5834 - val_loss: 0.9418 - val_acc: 0.5805\n",
            "Epoch 19/50\n",
            "69589/69589 [==============================] - 1s 14us/step - loss: 0.9340 - acc: 0.5833 - val_loss: 0.9429 - val_acc: 0.5790\n",
            "Epoch 20/50\n",
            "69589/69589 [==============================] - 1s 14us/step - loss: 0.9337 - acc: 0.5831 - val_loss: 0.9423 - val_acc: 0.5789\n",
            "Epoch 21/50\n",
            "69589/69589 [==============================] - 1s 15us/step - loss: 0.9331 - acc: 0.5831 - val_loss: 0.9423 - val_acc: 0.5778\n",
            "Epoch 22/50\n",
            "69589/69589 [==============================] - 1s 14us/step - loss: 0.9329 - acc: 0.5834 - val_loss: 0.9422 - val_acc: 0.5804\n",
            "Epoch 23/50\n",
            "69589/69589 [==============================] - 1s 14us/step - loss: 0.9325 - acc: 0.5844 - val_loss: 0.9419 - val_acc: 0.5788\n",
            "Epoch 24/50\n",
            "69589/69589 [==============================] - 1s 14us/step - loss: 0.9325 - acc: 0.5844 - val_loss: 0.9428 - val_acc: 0.5785\n",
            "Epoch 25/50\n",
            "69589/69589 [==============================] - 1s 14us/step - loss: 0.9319 - acc: 0.5853 - val_loss: 0.9425 - val_acc: 0.5781\n",
            "Epoch 26/50\n",
            "69589/69589 [==============================] - 1s 14us/step - loss: 0.9320 - acc: 0.5841 - val_loss: 0.9422 - val_acc: 0.5791\n",
            "Epoch 27/50\n",
            "69589/69589 [==============================] - 1s 15us/step - loss: 0.9316 - acc: 0.5839 - val_loss: 0.9429 - val_acc: 0.5790\n",
            "Epoch 28/50\n",
            "69589/69589 [==============================] - 1s 15us/step - loss: 0.9314 - acc: 0.5846 - val_loss: 0.9422 - val_acc: 0.5794\n",
            "Epoch 29/50\n",
            "69589/69589 [==============================] - 1s 15us/step - loss: 0.9311 - acc: 0.5848 - val_loss: 0.9425 - val_acc: 0.5795\n",
            "Epoch 30/50\n",
            "69589/69589 [==============================] - 1s 15us/step - loss: 0.9308 - acc: 0.5846 - val_loss: 0.9420 - val_acc: 0.5791\n",
            "Epoch 31/50\n",
            "69589/69589 [==============================] - 1s 15us/step - loss: 0.9306 - acc: 0.5849 - val_loss: 0.9428 - val_acc: 0.5781\n",
            "Epoch 32/50\n",
            "69589/69589 [==============================] - 1s 15us/step - loss: 0.9303 - acc: 0.5845 - val_loss: 0.9429 - val_acc: 0.5794\n",
            "Epoch 33/50\n",
            "69589/69589 [==============================] - 1s 14us/step - loss: 0.9300 - acc: 0.5855 - val_loss: 0.9429 - val_acc: 0.5780\n",
            "Epoch 34/50\n",
            "69589/69589 [==============================] - 1s 14us/step - loss: 0.9298 - acc: 0.5854 - val_loss: 0.9421 - val_acc: 0.5786\n",
            "Epoch 35/50\n",
            "69589/69589 [==============================] - 1s 14us/step - loss: 0.9296 - acc: 0.5848 - val_loss: 0.9421 - val_acc: 0.5775\n",
            "Epoch 36/50\n",
            "69589/69589 [==============================] - 1s 14us/step - loss: 0.9294 - acc: 0.5856 - val_loss: 0.9423 - val_acc: 0.5782\n",
            "Epoch 37/50\n",
            "69589/69589 [==============================] - 1s 15us/step - loss: 0.9291 - acc: 0.5853 - val_loss: 0.9427 - val_acc: 0.5794\n",
            "Epoch 38/50\n",
            "69589/69589 [==============================] - 1s 15us/step - loss: 0.9288 - acc: 0.5853 - val_loss: 0.9426 - val_acc: 0.5777\n",
            "Epoch 39/50\n",
            "69589/69589 [==============================] - 1s 15us/step - loss: 0.9286 - acc: 0.5854 - val_loss: 0.9429 - val_acc: 0.5794\n",
            "Epoch 40/50\n",
            "69589/69589 [==============================] - 1s 15us/step - loss: 0.9283 - acc: 0.5863 - val_loss: 0.9432 - val_acc: 0.5795\n",
            "Epoch 41/50\n",
            "69589/69589 [==============================] - 1s 14us/step - loss: 0.9281 - acc: 0.5861 - val_loss: 0.9437 - val_acc: 0.5798\n",
            "Epoch 42/50\n",
            "69589/69589 [==============================] - 1s 15us/step - loss: 0.9277 - acc: 0.5858 - val_loss: 0.9436 - val_acc: 0.5776\n",
            "Epoch 43/50\n",
            "69589/69589 [==============================] - 1s 14us/step - loss: 0.9276 - acc: 0.5867 - val_loss: 0.9437 - val_acc: 0.5766\n",
            "Epoch 44/50\n",
            "69589/69589 [==============================] - 1s 14us/step - loss: 0.9275 - acc: 0.5859 - val_loss: 0.9431 - val_acc: 0.5779\n",
            "Epoch 45/50\n",
            "69589/69589 [==============================] - 1s 15us/step - loss: 0.9271 - acc: 0.5865 - val_loss: 0.9430 - val_acc: 0.5778\n",
            "Epoch 46/50\n",
            "69589/69589 [==============================] - 1s 14us/step - loss: 0.9269 - acc: 0.5869 - val_loss: 0.9432 - val_acc: 0.5772\n",
            "Epoch 47/50\n",
            "69589/69589 [==============================] - 1s 15us/step - loss: 0.9267 - acc: 0.5862 - val_loss: 0.9430 - val_acc: 0.5797\n",
            "Epoch 48/50\n",
            "69589/69589 [==============================] - 1s 14us/step - loss: 0.9263 - acc: 0.5876 - val_loss: 0.9432 - val_acc: 0.5779\n",
            "Epoch 49/50\n",
            "69589/69589 [==============================] - 1s 14us/step - loss: 0.9262 - acc: 0.5870 - val_loss: 0.9431 - val_acc: 0.5783\n",
            "Epoch 50/50\n",
            "69589/69589 [==============================] - 1s 14us/step - loss: 0.9260 - acc: 0.5865 - val_loss: 0.9435 - val_acc: 0.5783\n"
          ],
          "name": "stdout"
        }
      ]
    },
    {
      "cell_type": "code",
      "metadata": {
        "id": "wkJUhWht0qd2",
        "colab_type": "code",
        "outputId": "f6a7a55b-f843-419f-8f52-1a0e34ba03e1",
        "colab": {
          "base_uri": "https://localhost:8080/",
          "height": 573
        }
      },
      "source": [
        "loss_curve(history)\n",
        "accuracy(history)"
      ],
      "execution_count": 7,
      "outputs": [
        {
          "output_type": "display_data",
          "data": {
            "image/png": "[encoded data removed]",
            "text/plain": [
              "<Figure size 432x288 with 1 Axes>"
            ]
          },
          "metadata": {
            "tags": []
          }
        },
        {
          "output_type": "display_data",
          "data": {
            "image/png": "[encoded data removed]",
            "text/plain": [
              "<Figure size 432x288 with 1 Axes>"
            ]
          },
          "metadata": {
            "tags": []
          }
        }
      ]
    },
    {
      "cell_type": "markdown",
      "metadata": {
        "colab_type": "text",
        "id": "KHYlFe5wlRH7"
      },
      "source": [
        "#### Testing Network"
      ]
    },
    {
      "cell_type": "code",
      "metadata": {
        "id": "dqht1u4411yr",
        "colab_type": "code",
        "outputId": "bd090a34-10fa-4c1d-db4c-bd33f87df2e7",
        "colab": {
          "base_uri": "https://localhost:8080/",
          "height": 170
        }
      },
      "source": [
        "#Evaluate Model\n",
        "from sklearn.metrics import classification_report, confusion_matrix\n",
        "\n",
        "test_loss, test_acc = model.evaluate(x_test, y_test)\n",
        "y_pred = model.predict(x_test)\n",
        "\n",
        "\n",
        "#obtaining the confusion matrix (values must be the original labels, not one-hot-encoding)\n",
        "matrix = confusion_matrix(y_test.argmax(axis=1), y_pred.argmax(axis=1))\n",
        "\n",
        "\n",
        "print(\"Test Loss: \" + str(test_loss))\n",
        "print(\"Test Accuracy: \" + str(test_acc) + \"\\n\")\n",
        "\n",
        "print(\"Confusion Matrix:\")\n",
        "print(matrix)"
      ],
      "execution_count": 8,
      "outputs": [
        {
          "output_type": "stream",
          "text": [
            "21747/21747 [==============================] - 1s 35us/step\n",
            "Test Loss: 0.9334615581900727\n",
            "Test Accuracy: 0.5771370763810919\n",
            "\n",
            "Confusion Matrix:\n",
            "[[5556 1248   79  180]\n",
            " [2643 1913  273  721]\n",
            " [ 564 1133  280 1263]\n",
            " [ 164  654  274 4802]]\n"
          ],
          "name": "stdout"
        }
      ]
    }
  ]
}