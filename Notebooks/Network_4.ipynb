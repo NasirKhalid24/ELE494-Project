{
  "nbformat": 4,
  "nbformat_minor": 0,
  "metadata": {
    "colab": {
      "name": "Network_#4.ipynb",
      "version": "0.3.2",
      "provenance": []
    },
    "kernelspec": {
      "name": "python3",
      "display_name": "Python 3"
    },
    "accelerator": "GPU"
  },
  "cells": [
    {
      "cell_type": "markdown",
      "metadata": {
        "id": "exYxQTwiROYp",
        "colab_type": "text"
      },
      "source": [
        "# Network #4\n",
        "\n",
        "## Inputs:  \n",
        "\n",
        "Year\n",
        "Month\n",
        "Day\n",
        "Hour\n",
        "A 22 length vector, with each column corresponding to a neighbourhood. (One hot encoded)\n"
        "\n",
        "## Outputs:\n",
        "\n",
        "Each value in the output vector coressponds to the likelihood of crime in the corresponding neighbourhood "
      ]
    },
    {
      "cell_type": "markdown",
      "metadata": {
        "id": "Tp7i3UoBRVXg",
        "colab_type": "text"
      },
      "source": [
        "### Extracting Data"
      ]
    },
    {
      "cell_type": "code",
      "metadata": {
        "id": "QQ9I7pyFRvyn",
        "colab_type": "code",
        "colab": {
          "base_uri": "https://localhost:8080/",
          "height": 165
        },
        "outputId": "21bce681-fe1d-435e-8848-0a3e42e695e4"
      },
      "source": [
        "import pandas as pd\n",
        "\n",
        "# File loaded from Github Repo\n",
        "file_path = 'https://raw.githubusercontent.com/NasirKhalid24/ELE494-Project/master/Datasets/final_crime.csv'\n",
        "\n",
        "df = pd.read_csv(file_path)\n",
        "print(\"Shape of Original Dataset : \" + str(df.shape))\n",
        "\n",
        "df = df[pd.isnull(df['NEIGHBOURHOOD']) != pd.isnull(pd.NaT)]\n",
        "print(\"Shape of Dataset without Invalid points: \" + str(df.shape))\n",
        "\n",
        "df = df[['YEAR','MONTH','DAY','HOUR', 'Neighbourhood']] \n",
        "print(\"Shape of Dataset we are using: \" + str(df.shape) + \"\\n\")\n",
        "\n",
        "print(\"Sample row\")\n",
        "df.head(1)"
      ],
      "execution_count": 196,
      "outputs": [
        {
          "output_type": "stream",
          "text": [
            "Shape of Original Dataset : (480724, 16)\n",
            "Shape of Dataset without Invalid points: (428141, 16)\n",
            "Shape of Dataset we are using: (428141, 5)\n",
            "\n",
            "Sample row\n"
          ],
          "name": "stdout"
        },
        {
          "output_type": "execute_result",
          "data": {
            "text/html": [
              "<div>\n",
              "<style scoped>\n",
              "    .dataframe tbody tr th:only-of-type {\n",
              "        vertical-align: middle;\n",
              "    }\n",
              "\n",
              "    .dataframe tbody tr th {\n",
              "        vertical-align: top;\n",
              "    }\n",
              "\n",
              "    .dataframe thead th {\n",
              "        text-align: right;\n",
              "    }\n",
              "</style>\n",
              "<table border=\"1\" class=\"dataframe\">\n",
              "  <thead>\n",
              "    <tr style=\"text-align: right;\">\n",
              "      <th></th>\n",
              "      <th>YEAR</th>\n",
              "      <th>MONTH</th>\n",
              "      <th>DAY</th>\n",
              "      <th>HOUR</th>\n",
              "      <th>Neighbourhood</th>\n",
              "    </tr>\n",
              "  </thead>\n",
              "  <tbody>\n",
              "    <tr>\n",
              "      <th>0</th>\n",
              "      <td>2004</td>\n",
              "      <td>10</td>\n",
              "      <td>8</td>\n",
              "      <td>21.0</td>\n",
              "      <td>Fairview</td>\n",
              "    </tr>\n",
              "  </tbody>\n",
              "</table>\n",
              "</div>"
            ],
            "text/plain": [
              "   YEAR  MONTH  DAY  HOUR Neighbourhood\n",
              "0  2004     10    8  21.0      Fairview"
            ]
          },
          "metadata": {
            "tags": []
          },
          "execution_count": 196
        }
      ]
    },
    {
      "cell_type": "code",
      "metadata": {
        "id": "TddHW7bRVMO5",
        "colab_type": "code",
        "colab": {
          "base_uri": "https://localhost:8080/",
          "height": 160
        },
        "outputId": "7f6f7da7-acf6-4995-b0f3-80e52a4cea7b"
      },
      "source": [
        "# Creating a Key which will be a Date/Time object\n",
        "\n",
        "print (\"------ Adding date-time object as key ------\\n\")\n",
        "date_time_col = pd.to_datetime(df[['YEAR', 'MONTH', 'DAY', 'HOUR']])\n",
        "\n",
        "# Make the added Date the index of the dataset\n",
        "df['DateTimeMix'] = date_time_col\n",
        "df.set_index('DateTimeMix', inplace=True)\n",
        "\n",
        "print(\"Sample row\")\n",
        "df.head(1)"
      ],
      "execution_count": 197,
      "outputs": [
        {
          "output_type": "stream",
          "text": [
            "------ Adding date-time object as key ------\n",
            "\n",
            "Sample row\n"
          ],
          "name": "stdout"
        },
        {
          "output_type": "execute_result",
          "data": {
            "text/html": [
              "<div>\n",
              "<style scoped>\n",
              "    .dataframe tbody tr th:only-of-type {\n",
              "        vertical-align: middle;\n",
              "    }\n",
              "\n",
              "    .dataframe tbody tr th {\n",
              "        vertical-align: top;\n",
              "    }\n",
              "\n",
              "    .dataframe thead th {\n",
              "        text-align: right;\n",
              "    }\n",
              "</style>\n",
              "<table border=\"1\" class=\"dataframe\">\n",
              "  <thead>\n",
              "    <tr style=\"text-align: right;\">\n",
              "      <th></th>\n",
              "      <th>YEAR</th>\n",
              "      <th>MONTH</th>\n",
              "      <th>DAY</th>\n",
              "      <th>HOUR</th>\n",
              "      <th>Neighbourhood</th>\n",
              "    </tr>\n",
              "    <tr>\n",
              "      <th>DateTimeMix</th>\n",
              "      <th></th>\n",
              "      <th></th>\n",
              "      <th></th>\n",
              "      <th></th>\n",
              "      <th></th>\n",
              "    </tr>\n",
              "  </thead>\n",
              "  <tbody>\n",
              "    <tr>\n",
              "      <th>2004-10-08 21:00:00</th>\n",
              "      <td>2004</td>\n",
              "      <td>10</td>\n",
              "      <td>8</td>\n",
              "      <td>21.0</td>\n",
              "      <td>Fairview</td>\n",
              "    </tr>\n",
              "  </tbody>\n",
              "</table>\n",
              "</div>"
            ],
            "text/plain": [
              "                     YEAR  MONTH  DAY  HOUR Neighbourhood\n",
              "DateTimeMix                                              \n",
              "2004-10-08 21:00:00  2004     10    8  21.0      Fairview"
            ]
          },
          "metadata": {
            "tags": []
          },
          "execution_count": 197
        }
      ]
    },
    {
      "cell_type": "code",
      "metadata": {
        "id": "EDusZgXodbjd",
        "colab_type": "code",
        "colab": {
          "base_uri": "https://localhost:8080/",
          "height": 432
        },
        "outputId": "976e09d9-05a3-4da7-d364-2da7ae48a511"
      },
      "source": [
        "# Import a list of all neighbourhoods in Vancouver\n",
        "\n",
        "nb_file_path = 'https://raw.githubusercontent.com/NasirKhalid24/ELE494-Project/master/Datasets/cov_localareas.csv'\n",
        "\n",
        "neighbourhoods = pd.read_csv(nb_file_path)\n",
        "neighbourhoods = neighbourhoods['NAME']\n",
        "print(\"List of Neighbourhoods : \")\n",
        "neighbourhoods"
      ],
      "execution_count": 198,
      "outputs": [
        {
          "output_type": "stream",
          "text": [
            "List of Neighbourhoods : \n"
          ],
          "name": "stdout"
        },
        {
          "output_type": "execute_result",
          "data": {
            "text/plain": [
              "0                       Sunset\n",
              "1               Mount Pleasant\n",
              "2                   Riley Park\n",
              "3                     Downtown\n",
              "4                    Kitsilano\n",
              "5            Dunbar-Southlands\n",
              "6                   Kerrisdale\n",
              "7                Arbutus-Ridge\n",
              "8              West Point Grey\n",
              "9                      Marpole\n",
              "10                    Oakridge\n",
              "11                 Shaughnessy\n",
              "12                    Fairview\n",
              "13                South Cambie\n",
              "14                    West End\n",
              "15                   Killarney\n",
              "16         Renfrew-Collingwood\n",
              "17            Hastings-Sunrise\n",
              "18         Victoria-Fraserview\n",
              "19    Kensington-Cedar Cottage\n",
              "20                  Strathcona\n",
              "21          Grandview-Woodland\n",
              "Name: NAME, dtype: object"
            ]
          },
          "metadata": {
            "tags": []
          },
          "execution_count": 198
        }
      ]
    },
    {
      "cell_type": "code",
      "metadata": {
        "id": "h71ffnJydfnC",
        "colab_type": "code",
        "colab": {
          "base_uri": "https://localhost:8080/",
          "height": 398
        },
        "outputId": "58c8d738-395c-48b8-f247-367a2d2806a9"
      },
      "source": [
        "# For each neighbourhood add a column and set it's value to 1 if the row is a crime in the neighbourhood\n",
        "new_cols = pd.get_dummies(df['Neighbourhood'])\n",
        "\n",
        "# Drop the column for Neighbourhood\n",
        "df = df.drop(columns=\"Neighbourhood\")\n",
        "\n",
        "# Concatenate the one hot encoded neighbourhoods\n",
        "df = pd.concat([df,new_cols], axis=1)\n",
        "\n",
        "df.head(5)"
      ],
      "execution_count": 199,
      "outputs": [
        {
          "output_type": "execute_result",
          "data": {
            "text/html": [
              "<div>\n",
              "<style scoped>\n",
              "    .dataframe tbody tr th:only-of-type {\n",
              "        vertical-align: middle;\n",
              "    }\n",
              "\n",
              "    .dataframe tbody tr th {\n",
              "        vertical-align: top;\n",
              "    }\n",
              "\n",
              "    .dataframe thead th {\n",
              "        text-align: right;\n",
              "    }\n",
              "</style>\n",
              "<table border=\"1\" class=\"dataframe\">\n",
              "  <thead>\n",
              "    <tr style=\"text-align: right;\">\n",
              "      <th></th>\n",
              "      <th>YEAR</th>\n",
              "      <th>MONTH</th>\n",
              "      <th>DAY</th>\n",
              "      <th>HOUR</th>\n",
              "      <th>Arbutus-Ridge</th>\n",
              "      <th>Downtown</th>\n",
              "      <th>Dunbar-Southlands</th>\n",
              "      <th>Fairview</th>\n",
              "      <th>Grandview-Woodland</th>\n",
              "      <th>Hastings-Sunrise</th>\n",
              "      <th>...</th>\n",
              "      <th>Oakridge</th>\n",
              "      <th>Renfrew-Collingwood</th>\n",
              "      <th>Riley Park</th>\n",
              "      <th>Shaughnessy</th>\n",
              "      <th>South Cambie</th>\n",
              "      <th>Strathcona</th>\n",
              "      <th>Sunset</th>\n",
              "      <th>Victoria-Fraserview</th>\n",
              "      <th>West End</th>\n",
              "      <th>West Point Grey</th>\n",
              "    </tr>\n",
              "    <tr>\n",
              "      <th>DateTimeMix</th>\n",
              "      <th></th>\n",
              "      <th></th>\n",
              "      <th></th>\n",
              "      <th></th>\n",
              "      <th></th>\n",
              "      <th></th>\n",
              "      <th></th>\n",
              "      <th></th>\n",
              "      <th></th>\n",
              "      <th></th>\n",
              "      <th></th>\n",
              "      <th></th>\n",
              "      <th></th>\n",
              "      <th></th>\n",
              "      <th></th>\n",
              "      <th></th>\n",
              "      <th></th>\n",
              "      <th></th>\n",
              "      <th></th>\n",
              "      <th></th>\n",
              "      <th></th>\n",
              "    </tr>\n",
              "  </thead>\n",
              "  <tbody>\n",
              "    <tr>\n",
              "      <th>2004-10-08 21:00:00</th>\n",
              "      <td>2004</td>\n",
              "      <td>10</td>\n",
              "      <td>8</td>\n",
              "      <td>21.0</td>\n",
              "      <td>0</td>\n",
              "      <td>0</td>\n",
              "      <td>0</td>\n",
              "      <td>1</td>\n",
              "      <td>0</td>\n",
              "      <td>0</td>\n",
              "      <td>...</td>\n",
              "      <td>0</td>\n",
              "      <td>0</td>\n",
              "      <td>0</td>\n",
              "      <td>0</td>\n",
              "      <td>0</td>\n",
              "      <td>0</td>\n",
              "      <td>0</td>\n",
              "      <td>0</td>\n",
              "      <td>0</td>\n",
              "      <td>0</td>\n",
              "    </tr>\n",
              "    <tr>\n",
              "      <th>2004-07-30 07:00:00</th>\n",
              "      <td>2004</td>\n",
              "      <td>7</td>\n",
              "      <td>30</td>\n",
              "      <td>7.0</td>\n",
              "      <td>0</td>\n",
              "      <td>0</td>\n",
              "      <td>0</td>\n",
              "      <td>0</td>\n",
              "      <td>0</td>\n",
              "      <td>0</td>\n",
              "      <td>...</td>\n",
              "      <td>0</td>\n",
              "      <td>0</td>\n",
              "      <td>0</td>\n",
              "      <td>0</td>\n",
              "      <td>0</td>\n",
              "      <td>0</td>\n",
              "      <td>0</td>\n",
              "      <td>1</td>\n",
              "      <td>0</td>\n",
              "      <td>0</td>\n",
              "    </tr>\n",
              "    <tr>\n",
              "      <th>2004-10-08 21:00:00</th>\n",
              "      <td>2004</td>\n",
              "      <td>10</td>\n",
              "      <td>8</td>\n",
              "      <td>21.0</td>\n",
              "      <td>0</td>\n",
              "      <td>0</td>\n",
              "      <td>0</td>\n",
              "      <td>1</td>\n",
              "      <td>0</td>\n",
              "      <td>0</td>\n",
              "      <td>...</td>\n",
              "      <td>0</td>\n",
              "      <td>0</td>\n",
              "      <td>0</td>\n",
              "      <td>0</td>\n",
              "      <td>0</td>\n",
              "      <td>0</td>\n",
              "      <td>0</td>\n",
              "      <td>0</td>\n",
              "      <td>0</td>\n",
              "      <td>0</td>\n",
              "    </tr>\n",
              "    <tr>\n",
              "      <th>2004-06-12 23:00:00</th>\n",
              "      <td>2004</td>\n",
              "      <td>6</td>\n",
              "      <td>12</td>\n",
              "      <td>23.0</td>\n",
              "      <td>0</td>\n",
              "      <td>0</td>\n",
              "      <td>0</td>\n",
              "      <td>1</td>\n",
              "      <td>0</td>\n",
              "      <td>0</td>\n",
              "      <td>...</td>\n",
              "      <td>0</td>\n",
              "      <td>0</td>\n",
              "      <td>0</td>\n",
              "      <td>0</td>\n",
              "      <td>0</td>\n",
              "      <td>0</td>\n",
              "      <td>0</td>\n",
              "      <td>0</td>\n",
              "      <td>0</td>\n",
              "      <td>0</td>\n",
              "    </tr>\n",
              "    <tr>\n",
              "      <th>2004-01-16 00:00:00</th>\n",
              "      <td>2004</td>\n",
              "      <td>1</td>\n",
              "      <td>16</td>\n",
              "      <td>0.0</td>\n",
              "      <td>0</td>\n",
              "      <td>0</td>\n",
              "      <td>0</td>\n",
              "      <td>1</td>\n",
              "      <td>0</td>\n",
              "      <td>0</td>\n",
              "      <td>...</td>\n",
              "      <td>0</td>\n",
              "      <td>0</td>\n",
              "      <td>0</td>\n",
              "      <td>0</td>\n",
              "      <td>0</td>\n",
              "      <td>0</td>\n",
              "      <td>0</td>\n",
              "      <td>0</td>\n",
              "      <td>0</td>\n",
              "      <td>0</td>\n",
              "    </tr>\n",
              "  </tbody>\n",
              "</table>\n",
              "<p>5 rows × 26 columns</p>\n",
              "</div>"
            ],
            "text/plain": [
              "                     YEAR  MONTH  DAY  HOUR  Arbutus-Ridge  Downtown  \\\n",
              "DateTimeMix                                                            \n",
              "2004-10-08 21:00:00  2004     10    8  21.0              0         0   \n",
              "2004-07-30 07:00:00  2004      7   30   7.0              0         0   \n",
              "2004-10-08 21:00:00  2004     10    8  21.0              0         0   \n",
              "2004-06-12 23:00:00  2004      6   12  23.0              0         0   \n",
              "2004-01-16 00:00:00  2004      1   16   0.0              0         0   \n",
              "\n",
              "                     Dunbar-Southlands  Fairview  Grandview-Woodland  \\\n",
              "DateTimeMix                                                            \n",
              "2004-10-08 21:00:00                  0         1                   0   \n",
              "2004-07-30 07:00:00                  0         0                   0   \n",
              "2004-10-08 21:00:00                  0         1                   0   \n",
              "2004-06-12 23:00:00                  0         1                   0   \n",
              "2004-01-16 00:00:00                  0         1                   0   \n",
              "\n",
              "                     Hastings-Sunrise  ...  Oakridge  Renfrew-Collingwood  \\\n",
              "DateTimeMix                            ...                                  \n",
              "2004-10-08 21:00:00                 0  ...         0                    0   \n",
              "2004-07-30 07:00:00                 0  ...         0                    0   \n",
              "2004-10-08 21:00:00                 0  ...         0                    0   \n",
              "2004-06-12 23:00:00                 0  ...         0                    0   \n",
              "2004-01-16 00:00:00                 0  ...         0                    0   \n",
              "\n",
              "                     Riley Park  Shaughnessy  South Cambie  Strathcona  \\\n",
              "DateTimeMix                                                              \n",
              "2004-10-08 21:00:00           0            0             0           0   \n",
              "2004-07-30 07:00:00           0            0             0           0   \n",
              "2004-10-08 21:00:00           0            0             0           0   \n",
              "2004-06-12 23:00:00           0            0             0           0   \n",
              "2004-01-16 00:00:00           0            0             0           0   \n",
              "\n",
              "                     Sunset  Victoria-Fraserview  West End  West Point Grey  \n",
              "DateTimeMix                                                                  \n",
              "2004-10-08 21:00:00       0                    0         0                0  \n",
              "2004-07-30 07:00:00       0                    1         0                0  \n",
              "2004-10-08 21:00:00       0                    0         0                0  \n",
              "2004-06-12 23:00:00       0                    0         0                0  \n",
              "2004-01-16 00:00:00       0                    0         0                0  \n",
              "\n",
              "[5 rows x 26 columns]"
            ]
          },
          "metadata": {
            "tags": []
          },
          "execution_count": 199
        }
      ]
    },
    {
      "cell_type": "code",
      "metadata": {
        "id": "UqFrf9HueI3Q",
        "colab_type": "code",
        "colab": {
          "base_uri": "https://localhost:8080/",
          "height": 312
        },
        "outputId": "2eeb31a7-a1d9-40d7-8f2a-f729f47d35c4"
      },
      "source": [
        "# Sort by date-time and remove duplicates\n",
        "df = df.sort_values(by='DateTimeMix')\n",
        "df = df.drop_duplicates()\n",
        "\n",
        "# Extract the year, month, day, hour input arrays for network\n",
        "X = df[['YEAR', 'MONTH', 'DAY', 'HOUR']]\n",
        "X = X.drop_duplicates().values\n",
        "\n",
        "df.head(5)"
      ],
      "execution_count": 200,
      "outputs": [
        {
          "output_type": "execute_result",
          "data": {
            "text/html": [
              "<div>\n",
              "<style scoped>\n",
              "    .dataframe tbody tr th:only-of-type {\n",
              "        vertical-align: middle;\n",
              "    }\n",
              "\n",
              "    .dataframe tbody tr th {\n",
              "        vertical-align: top;\n",
              "    }\n",
              "\n",
              "    .dataframe thead th {\n",
              "        text-align: right;\n",
              "    }\n",
              "</style>\n",
              "<table border=\"1\" class=\"dataframe\">\n",
              "  <thead>\n",
              "    <tr style=\"text-align: right;\">\n",
              "      <th></th>\n",
              "      <th>YEAR</th>\n",
              "      <th>MONTH</th>\n",
              "      <th>DAY</th>\n",
              "      <th>HOUR</th>\n",
              "      <th>Arbutus-Ridge</th>\n",
              "      <th>Downtown</th>\n",
              "      <th>Dunbar-Southlands</th>\n",
              "      <th>Fairview</th>\n",
              "      <th>Grandview-Woodland</th>\n",
              "      <th>Hastings-Sunrise</th>\n",
              "      <th>...</th>\n",
              "      <th>Oakridge</th>\n",
              "      <th>Renfrew-Collingwood</th>\n",
              "      <th>Riley Park</th>\n",
              "      <th>Shaughnessy</th>\n",
              "      <th>South Cambie</th>\n",
              "      <th>Strathcona</th>\n",
              "      <th>Sunset</th>\n",
              "      <th>Victoria-Fraserview</th>\n",
              "      <th>West End</th>\n",
              "      <th>West Point Grey</th>\n",
              "    </tr>\n",
              "    <tr>\n",
              "      <th>DateTimeMix</th>\n",
              "      <th></th>\n",
              "      <th></th>\n",
              "      <th></th>\n",
              "      <th></th>\n",
              "      <th></th>\n",
              "      <th></th>\n",
              "      <th></th>\n",
              "      <th></th>\n",
              "      <th></th>\n",
              "      <th></th>\n",
              "      <th></th>\n",
              "      <th></th>\n",
              "      <th></th>\n",
              "      <th></th>\n",
              "      <th></th>\n",
              "      <th></th>\n",
              "      <th></th>\n",
              "      <th></th>\n",
              "      <th></th>\n",
              "      <th></th>\n",
              "      <th></th>\n",
              "    </tr>\n",
              "  </thead>\n",
              "  <tbody>\n",
              "    <tr>\n",
              "      <th>2004-01-01</th>\n",
              "      <td>2004</td>\n",
              "      <td>1</td>\n",
              "      <td>1</td>\n",
              "      <td>0.0</td>\n",
              "      <td>0</td>\n",
              "      <td>1</td>\n",
              "      <td>0</td>\n",
              "      <td>0</td>\n",
              "      <td>0</td>\n",
              "      <td>0</td>\n",
              "      <td>...</td>\n",
              "      <td>0</td>\n",
              "      <td>0</td>\n",
              "      <td>0</td>\n",
              "      <td>0</td>\n",
              "      <td>0</td>\n",
              "      <td>0</td>\n",
              "      <td>0</td>\n",
              "      <td>0</td>\n",
              "      <td>0</td>\n",
              "      <td>0</td>\n",
              "    </tr>\n",
              "    <tr>\n",
              "      <th>2004-01-01</th>\n",
              "      <td>2004</td>\n",
              "      <td>1</td>\n",
              "      <td>1</td>\n",
              "      <td>0.0</td>\n",
              "      <td>0</td>\n",
              "      <td>0</td>\n",
              "      <td>0</td>\n",
              "      <td>0</td>\n",
              "      <td>0</td>\n",
              "      <td>0</td>\n",
              "      <td>...</td>\n",
              "      <td>0</td>\n",
              "      <td>0</td>\n",
              "      <td>0</td>\n",
              "      <td>0</td>\n",
              "      <td>0</td>\n",
              "      <td>0</td>\n",
              "      <td>0</td>\n",
              "      <td>1</td>\n",
              "      <td>0</td>\n",
              "      <td>0</td>\n",
              "    </tr>\n",
              "    <tr>\n",
              "      <th>2004-01-01</th>\n",
              "      <td>2004</td>\n",
              "      <td>1</td>\n",
              "      <td>1</td>\n",
              "      <td>0.0</td>\n",
              "      <td>0</td>\n",
              "      <td>0</td>\n",
              "      <td>0</td>\n",
              "      <td>0</td>\n",
              "      <td>0</td>\n",
              "      <td>0</td>\n",
              "      <td>...</td>\n",
              "      <td>0</td>\n",
              "      <td>0</td>\n",
              "      <td>0</td>\n",
              "      <td>0</td>\n",
              "      <td>0</td>\n",
              "      <td>0</td>\n",
              "      <td>0</td>\n",
              "      <td>0</td>\n",
              "      <td>0</td>\n",
              "      <td>0</td>\n",
              "    </tr>\n",
              "    <tr>\n",
              "      <th>2004-01-01</th>\n",
              "      <td>2004</td>\n",
              "      <td>1</td>\n",
              "      <td>1</td>\n",
              "      <td>0.0</td>\n",
              "      <td>0</td>\n",
              "      <td>0</td>\n",
              "      <td>0</td>\n",
              "      <td>0</td>\n",
              "      <td>0</td>\n",
              "      <td>0</td>\n",
              "      <td>...</td>\n",
              "      <td>0</td>\n",
              "      <td>0</td>\n",
              "      <td>0</td>\n",
              "      <td>0</td>\n",
              "      <td>0</td>\n",
              "      <td>0</td>\n",
              "      <td>0</td>\n",
              "      <td>0</td>\n",
              "      <td>0</td>\n",
              "      <td>0</td>\n",
              "    </tr>\n",
              "    <tr>\n",
              "      <th>2004-01-01</th>\n",
              "      <td>2004</td>\n",
              "      <td>1</td>\n",
              "      <td>1</td>\n",
              "      <td>0.0</td>\n",
              "      <td>0</td>\n",
              "      <td>0</td>\n",
              "      <td>0</td>\n",
              "      <td>0</td>\n",
              "      <td>0</td>\n",
              "      <td>0</td>\n",
              "      <td>...</td>\n",
              "      <td>0</td>\n",
              "      <td>0</td>\n",
              "      <td>0</td>\n",
              "      <td>0</td>\n",
              "      <td>0</td>\n",
              "      <td>0</td>\n",
              "      <td>0</td>\n",
              "      <td>0</td>\n",
              "      <td>0</td>\n",
              "      <td>1</td>\n",
              "    </tr>\n",
              "  </tbody>\n",
              "</table>\n",
              "<p>5 rows × 26 columns</p>\n",
              "</div>"
            ],
            "text/plain": [
              "             YEAR  MONTH  DAY  HOUR  Arbutus-Ridge  Downtown  \\\n",
              "DateTimeMix                                                    \n",
              "2004-01-01   2004      1    1   0.0              0         1   \n",
              "2004-01-01   2004      1    1   0.0              0         0   \n",
              "2004-01-01   2004      1    1   0.0              0         0   \n",
              "2004-01-01   2004      1    1   0.0              0         0   \n",
              "2004-01-01   2004      1    1   0.0              0         0   \n",
              "\n",
              "             Dunbar-Southlands  Fairview  Grandview-Woodland  \\\n",
              "DateTimeMix                                                    \n",
              "2004-01-01                   0         0                   0   \n",
              "2004-01-01                   0         0                   0   \n",
              "2004-01-01                   0         0                   0   \n",
              "2004-01-01                   0         0                   0   \n",
              "2004-01-01                   0         0                   0   \n",
              "\n",
              "             Hastings-Sunrise  ...  Oakridge  Renfrew-Collingwood  Riley Park  \\\n",
              "DateTimeMix                    ...                                              \n",
              "2004-01-01                  0  ...         0                    0           0   \n",
              "2004-01-01                  0  ...         0                    0           0   \n",
              "2004-01-01                  0  ...         0                    0           0   \n",
              "2004-01-01                  0  ...         0                    0           0   \n",
              "2004-01-01                  0  ...         0                    0           0   \n",
              "\n",
              "             Shaughnessy  South Cambie  Strathcona  Sunset  \\\n",
              "DateTimeMix                                                  \n",
              "2004-01-01             0             0           0       0   \n",
              "2004-01-01             0             0           0       0   \n",
              "2004-01-01             0             0           0       0   \n",
              "2004-01-01             0             0           0       0   \n",
              "2004-01-01             0             0           0       0   \n",
              "\n",
              "             Victoria-Fraserview  West End  West Point Grey  \n",
              "DateTimeMix                                                  \n",
              "2004-01-01                     0         0                0  \n",
              "2004-01-01                     1         0                0  \n",
              "2004-01-01                     0         0                0  \n",
              "2004-01-01                     0         0                0  \n",
              "2004-01-01                     0         0                1  \n",
              "\n",
              "[5 rows x 26 columns]"
            ]
          },
          "metadata": {
            "tags": []
          },
          "execution_count": 200
        }
      ]
    },
    {
      "cell_type": "code",
      "metadata": {
        "id": "htk05-raWC4_",
        "colab_type": "code",
        "colab": {
          "base_uri": "https://localhost:8080/",
          "height": 312
        },
        "outputId": "8293ccb8-2f44-4cc5-a3e7-cfd223fe4aee"
      },
      "source": [
        "# Do a bit wise OR for a single Date and Time so that we only have unique Date/Time rows\n",
        "# For example in the one above there are 5 different rows for the same date and time\n",
        "\n",
        "df = df.groupby(['YEAR','MONTH', 'DAY', 'HOUR']).sum()\n",
        "df.head(5)"
      ],
      "execution_count": 201,
      "outputs": [
        {
          "output_type": "execute_result",
          "data": {
            "text/html": [
              "<div>\n",
              "<style scoped>\n",
              "    .dataframe tbody tr th:only-of-type {\n",
              "        vertical-align: middle;\n",
              "    }\n",
              "\n",
              "    .dataframe tbody tr th {\n",
              "        vertical-align: top;\n",
              "    }\n",
              "\n",
              "    .dataframe thead th {\n",
              "        text-align: right;\n",
              "    }\n",
              "</style>\n",
              "<table border=\"1\" class=\"dataframe\">\n",
              "  <thead>\n",
              "    <tr style=\"text-align: right;\">\n",
              "      <th></th>\n",
              "      <th></th>\n",
              "      <th></th>\n",
              "      <th></th>\n",
              "      <th>Arbutus-Ridge</th>\n",
              "      <th>Downtown</th>\n",
              "      <th>Dunbar-Southlands</th>\n",
              "      <th>Fairview</th>\n",
              "      <th>Grandview-Woodland</th>\n",
              "      <th>Hastings-Sunrise</th>\n",
              "      <th>Kensington-Cedar Cottage</th>\n",
              "      <th>Kerrisdale</th>\n",
              "      <th>Killarney</th>\n",
              "      <th>Kitsilano</th>\n",
              "      <th>...</th>\n",
              "      <th>Oakridge</th>\n",
              "      <th>Renfrew-Collingwood</th>\n",
              "      <th>Riley Park</th>\n",
              "      <th>Shaughnessy</th>\n",
              "      <th>South Cambie</th>\n",
              "      <th>Strathcona</th>\n",
              "      <th>Sunset</th>\n",
              "      <th>Victoria-Fraserview</th>\n",
              "      <th>West End</th>\n",
              "      <th>West Point Grey</th>\n",
              "    </tr>\n",
              "    <tr>\n",
              "      <th>YEAR</th>\n",
              "      <th>MONTH</th>\n",
              "      <th>DAY</th>\n",
              "      <th>HOUR</th>\n",
              "      <th></th>\n",
              "      <th></th>\n",
              "      <th></th>\n",
              "      <th></th>\n",
              "      <th></th>\n",
              "      <th></th>\n",
              "      <th></th>\n",
              "      <th></th>\n",
              "      <th></th>\n",
              "      <th></th>\n",
              "      <th></th>\n",
              "      <th></th>\n",
              "      <th></th>\n",
              "      <th></th>\n",
              "      <th></th>\n",
              "      <th></th>\n",
              "      <th></th>\n",
              "      <th></th>\n",
              "      <th></th>\n",
              "      <th></th>\n",
              "      <th></th>\n",
              "    </tr>\n",
              "  </thead>\n",
              "  <tbody>\n",
              "    <tr>\n",
              "      <th rowspan=\"5\" valign=\"top\">2004</th>\n",
              "      <th rowspan=\"5\" valign=\"top\">1</th>\n",
              "      <th rowspan=\"5\" valign=\"top\">1</th>\n",
              "      <th>0.0</th>\n",
              "      <td>0</td>\n",
              "      <td>1</td>\n",
              "      <td>0</td>\n",
              "      <td>0</td>\n",
              "      <td>0</td>\n",
              "      <td>0</td>\n",
              "      <td>0</td>\n",
              "      <td>1</td>\n",
              "      <td>1</td>\n",
              "      <td>1</td>\n",
              "      <td>...</td>\n",
              "      <td>0</td>\n",
              "      <td>0</td>\n",
              "      <td>0</td>\n",
              "      <td>0</td>\n",
              "      <td>0</td>\n",
              "      <td>1</td>\n",
              "      <td>1</td>\n",
              "      <td>1</td>\n",
              "      <td>0</td>\n",
              "      <td>1</td>\n",
              "    </tr>\n",
              "    <tr>\n",
              "      <th>1.0</th>\n",
              "      <td>0</td>\n",
              "      <td>0</td>\n",
              "      <td>0</td>\n",
              "      <td>0</td>\n",
              "      <td>0</td>\n",
              "      <td>0</td>\n",
              "      <td>0</td>\n",
              "      <td>0</td>\n",
              "      <td>0</td>\n",
              "      <td>0</td>\n",
              "      <td>...</td>\n",
              "      <td>0</td>\n",
              "      <td>0</td>\n",
              "      <td>1</td>\n",
              "      <td>0</td>\n",
              "      <td>0</td>\n",
              "      <td>1</td>\n",
              "      <td>0</td>\n",
              "      <td>0</td>\n",
              "      <td>0</td>\n",
              "      <td>0</td>\n",
              "    </tr>\n",
              "    <tr>\n",
              "      <th>2.0</th>\n",
              "      <td>0</td>\n",
              "      <td>0</td>\n",
              "      <td>0</td>\n",
              "      <td>0</td>\n",
              "      <td>0</td>\n",
              "      <td>0</td>\n",
              "      <td>0</td>\n",
              "      <td>0</td>\n",
              "      <td>0</td>\n",
              "      <td>0</td>\n",
              "      <td>...</td>\n",
              "      <td>0</td>\n",
              "      <td>0</td>\n",
              "      <td>0</td>\n",
              "      <td>0</td>\n",
              "      <td>0</td>\n",
              "      <td>0</td>\n",
              "      <td>1</td>\n",
              "      <td>0</td>\n",
              "      <td>0</td>\n",
              "      <td>0</td>\n",
              "    </tr>\n",
              "    <tr>\n",
              "      <th>3.0</th>\n",
              "      <td>0</td>\n",
              "      <td>1</td>\n",
              "      <td>1</td>\n",
              "      <td>0</td>\n",
              "      <td>0</td>\n",
              "      <td>0</td>\n",
              "      <td>1</td>\n",
              "      <td>0</td>\n",
              "      <td>0</td>\n",
              "      <td>0</td>\n",
              "      <td>...</td>\n",
              "      <td>0</td>\n",
              "      <td>0</td>\n",
              "      <td>0</td>\n",
              "      <td>0</td>\n",
              "      <td>0</td>\n",
              "      <td>1</td>\n",
              "      <td>0</td>\n",
              "      <td>0</td>\n",
              "      <td>1</td>\n",
              "      <td>0</td>\n",
              "    </tr>\n",
              "    <tr>\n",
              "      <th>4.0</th>\n",
              "      <td>0</td>\n",
              "      <td>0</td>\n",
              "      <td>0</td>\n",
              "      <td>0</td>\n",
              "      <td>0</td>\n",
              "      <td>0</td>\n",
              "      <td>0</td>\n",
              "      <td>0</td>\n",
              "      <td>0</td>\n",
              "      <td>0</td>\n",
              "      <td>...</td>\n",
              "      <td>0</td>\n",
              "      <td>0</td>\n",
              "      <td>0</td>\n",
              "      <td>0</td>\n",
              "      <td>0</td>\n",
              "      <td>1</td>\n",
              "      <td>0</td>\n",
              "      <td>0</td>\n",
              "      <td>0</td>\n",
              "      <td>0</td>\n",
              "    </tr>\n",
              "  </tbody>\n",
              "</table>\n",
              "<p>5 rows × 22 columns</p>\n",
              "</div>"
            ],
            "text/plain": [
              "                     Arbutus-Ridge  Downtown  Dunbar-Southlands  Fairview  \\\n",
              "YEAR MONTH DAY HOUR                                                         \n",
              "2004 1     1   0.0               0         1                  0         0   \n",
              "               1.0               0         0                  0         0   \n",
              "               2.0               0         0                  0         0   \n",
              "               3.0               0         1                  1         0   \n",
              "               4.0               0         0                  0         0   \n",
              "\n",
              "                     Grandview-Woodland  Hastings-Sunrise  \\\n",
              "YEAR MONTH DAY HOUR                                         \n",
              "2004 1     1   0.0                    0                 0   \n",
              "               1.0                    0                 0   \n",
              "               2.0                    0                 0   \n",
              "               3.0                    0                 0   \n",
              "               4.0                    0                 0   \n",
              "\n",
              "                     Kensington-Cedar Cottage  Kerrisdale  Killarney  \\\n",
              "YEAR MONTH DAY HOUR                                                    \n",
              "2004 1     1   0.0                          0           1          1   \n",
              "               1.0                          0           0          0   \n",
              "               2.0                          0           0          0   \n",
              "               3.0                          1           0          0   \n",
              "               4.0                          0           0          0   \n",
              "\n",
              "                     Kitsilano  ...  Oakridge  Renfrew-Collingwood  \\\n",
              "YEAR MONTH DAY HOUR             ...                                  \n",
              "2004 1     1   0.0           1  ...         0                    0   \n",
              "               1.0           0  ...         0                    0   \n",
              "               2.0           0  ...         0                    0   \n",
              "               3.0           0  ...         0                    0   \n",
              "               4.0           0  ...         0                    0   \n",
              "\n",
              "                     Riley Park  Shaughnessy  South Cambie  Strathcona  \\\n",
              "YEAR MONTH DAY HOUR                                                      \n",
              "2004 1     1   0.0            0            0             0           1   \n",
              "               1.0            1            0             0           1   \n",
              "               2.0            0            0             0           0   \n",
              "               3.0            0            0             0           1   \n",
              "               4.0            0            0             0           1   \n",
              "\n",
              "                     Sunset  Victoria-Fraserview  West End  West Point Grey  \n",
              "YEAR MONTH DAY HOUR                                                          \n",
              "2004 1     1   0.0        1                    1         0                1  \n",
              "               1.0        0                    0         0                0  \n",
              "               2.0        1                    0         0                0  \n",
              "               3.0        0                    0         1                0  \n",
              "               4.0        0                    0         0                0  \n",
              "\n",
              "[5 rows x 22 columns]"
            ]
          },
          "metadata": {
            "tags": []
          },
          "execution_count": 201
        }
      ]
    },
    {
      "cell_type": "code",
      "metadata": {
        "id": "0w8sFTUhc9ZA",
        "colab_type": "code",
        "colab": {}
      },
      "source": [
        "# Get the output array (one hot encoded neighbourhoods)\n",
        "Y = df.values"
      ],
      "execution_count": 0,
      "outputs": []
    },
    {
      "cell_type": "markdown",
      "metadata": {
        "id": "eV_rfr9ub8xP",
        "colab_type": "text"
      },
      "source": [
        "### Splitting Data, Normalizing Data & Defining Functions"
      ]
    },
    {
      "cell_type": "code",
      "metadata": {
        "id": "uvHGNcnmfOPv",
        "colab_type": "code",
        "colab": {}
      },
      "source": [
        "# X is input\n",
        "# Y is output"
      ],
      "execution_count": 0,
      "outputs": []
    },
    {
      "cell_type": "code",
      "metadata": {
        "id": "XCX2i1ShfQb0",
        "colab_type": "code",
        "colab": {
          "base_uri": "https://localhost:8080/",
          "height": 35
        },
        "outputId": "a26b6f28-f03c-4c0f-d71f-47782dbdd808"
      },
      "source": [
        "X[0]"
      ],
      "execution_count": 204,
      "outputs": [
        {
          "output_type": "execute_result",
          "data": {
            "text/plain": [
              "array([2.004e+03, 1.000e+00, 1.000e+00, 0.000e+00])"
            ]
          },
          "metadata": {
            "tags": []
          },
          "execution_count": 204
        }
      ]
    },
    {
      "cell_type": "code",
      "metadata": {
        "id": "OgcTRTUhfSEz",
        "colab_type": "code",
        "colab": {
          "base_uri": "https://localhost:8080/",
          "height": 52
        },
        "outputId": "55cdd5c6-b180-4959-8353-1f43291f0b00"
      },
      "source": [
        "Y[0]"
      ],
      "execution_count": 205,
      "outputs": [
        {
          "output_type": "execute_result",
          "data": {
            "text/plain": [
              "array([0, 1, 0, 0, 0, 0, 0, 1, 1, 1, 1, 1, 0, 0, 0, 0, 0, 1, 1, 1, 0, 1],\n",
              "      dtype=uint8)"
            ]
          },
          "metadata": {
            "tags": []
          },
          "execution_count": 205
        }
      ]
    },
    {
      "cell_type": "code",
      "metadata": {
        "id": "zp22RV1ucC6w",
        "colab_type": "code",
        "colab": {
          "base_uri": "https://localhost:8080/",
          "height": 86
        },
        "outputId": "a96ae720-dc84-4c70-a7c2-e5e7540ef8e2"
      },
      "source": [
        "from sklearn.model_selection import train_test_split\n",
        "\n",
        "X_train, X_test, Y_train, Y_test = train_test_split(X, Y, test_size=0.33, random_state=42)\n",
        "\n",
        "print(\"Training Data Size: \" + str(X_train.shape))\n",
        "print(\"Testing Data Size:\" + str(X_test.shape))\n",
        "print(\"Training Label Size: \" + str(Y_train.shape))\n",
        "print(\"Testing Label Size: \" + str(Y_test.shape))"
      ],
      "execution_count": 206,
      "outputs": [
        {
          "output_type": "stream",
          "text": [
            "Training Data Size: (72195, 4)\n",
            "Testing Data Size:(35560, 4)\n",
            "Training Label Size: (72195, 22)\n",
            "Testing Label Size: (35560, 22)\n"
          ],
          "name": "stdout"
        }
      ]
    },
    {
      "cell_type": "code",
      "metadata": {
        "id": "v0VQZEIMc8mp",
        "colab_type": "code",
        "colab": {}
      },
      "source": [
        "import matplotlib.pyplot as plt\n",
        "import numpy as np\n",
        "\n",
        "# Function to plot loss and accuracy vs epochs\n",
        "def loss_curve(history):\n",
        "  train_loss = history.history['loss']\n",
        "  val_loss = history.history['val_loss']\n",
        "  x_axis     = range(1, len(history.history['loss'])+1)\n",
        "  \n",
        "  plt.figure()\n",
        "  plt.plot(x_axis, train_loss, label=\"Training Loss\")\n",
        "  plt.plot(x_axis, val_loss, label=\"Validation Loss\")\n",
        "  plt.ylabel('Loss Value')\n",
        "  plt.xlabel('Epochs')\n",
        "  plt.title('Epochs vs Loss')\n",
        "  plt.legend()\n",
        "  \n",
        "def accuracy(history):\n",
        "  acc  = history.history['acc']\n",
        "  val_acc = history.history['val_acc']\n",
        "  x_axis     = range(1, len(history.history['acc'])+1)\n",
        "  \n",
        "  plt.figure()\n",
        "  plt.plot(x_axis, np.dot(acc,100), label=\"Accuracy\")\n",
        "  plt.plot(x_axis, np.dot(val_acc, 100), label=\"Validation Accuracy\")\n",
        "  plt.ylabel('Accuracy')\n",
        "  plt.xlabel('Epochs')\n",
        "  plt.title('Epochs vs Accuracy')\n",
        "  plt.legend()"
      ],
      "execution_count": 0,
      "outputs": []
    },
    {
      "cell_type": "markdown",
      "metadata": {
        "id": "jdwRLTQBdzyy",
        "colab_type": "text"
      },
      "source": [
        "### Training Network and Results"
      ]
    },
    {
      "cell_type": "code",
      "metadata": {
        "id": "3ylxibeId4dA",
        "colab_type": "code",
        "colab": {
          "base_uri": "https://localhost:8080/",
          "height": 276
        },
        "outputId": "49e49760-ccc3-42d3-dd40-62834f08dd4b"
      },
      "source": [
        "from keras.layers import Dense, Dropout\n",
        "from keras.models import Sequential\n",
        "\n",
        "model = Sequential()\n",
        "\n",
        "model.add(Dense(32, activation='tanh', input_shape=(X_train.shape[1], ) ) )\n",
        "model.add(Dense(64, activation='tanh') )\n",
        "model.add(Dense(32, activation='tanh') )\n",
        "\n",
        "model.add(Dense(Y_train.shape[1], activation='sigmoid') )\n",
        "\n",
        "model.compile(optimizer='adam',\n",
        "                loss='binary_crossentropy',\n",
        "                metrics=['accuracy'])\n",
        "\n",
        "model.summary()"
      ],
      "execution_count": 226,
      "outputs": [
        {
          "output_type": "stream",
          "text": [
            "_________________________________________________________________\n",
            "Layer (type)                 Output Shape              Param #   \n",
            "=================================================================\n",
            "dense_230 (Dense)            (None, 32)                160       \n",
            "_________________________________________________________________\n",
            "dense_231 (Dense)            (None, 64)                2112      \n",
            "_________________________________________________________________\n",
            "dense_232 (Dense)            (None, 32)                2080      \n",
            "_________________________________________________________________\n",
            "dense_233 (Dense)            (None, 22)                726       \n",
            "=================================================================\n",
            "Total params: 5,078\n",
            "Trainable params: 5,078\n",
            "Non-trainable params: 0\n",
            "_________________________________________________________________\n"
          ],
          "name": "stdout"
        }
      ]
    },
    {
      "cell_type": "code",
      "metadata": {
        "id": "v_TteLDQeyBG",
        "colab_type": "code",
        "colab": {
          "base_uri": "https://localhost:8080/",
          "height": 276
        },
        "outputId": "35393e4c-24ee-4751-c4a7-eaff8d1dd2b6"
      },
      "source": [
        "history = model.fit(X_train, Y_train,\n",
        "          epochs = 7,\n",
        "          batch_size=32,\n",
        "          validation_split=0.1,\n",
        "          verbose = 1)"
      ],
      "execution_count": 227,
      "outputs": [
        {
          "output_type": "stream",
          "text": [
            "Train on 64975 samples, validate on 7220 samples\n",
            "Epoch 1/7\n",
            "64975/64975 [==============================] - 12s 188us/step - loss: 0.3738 - acc: 0.8584 - val_loss: 0.3695 - val_acc: 0.8594\n",
            "Epoch 2/7\n",
            "64975/64975 [==============================] - 8s 128us/step - loss: 0.3710 - acc: 0.8595 - val_loss: 0.3697 - val_acc: 0.8594\n",
            "Epoch 3/7\n",
            "64975/64975 [==============================] - 8s 129us/step - loss: 0.3710 - acc: 0.8595 - val_loss: 0.3695 - val_acc: 0.8594\n",
            "Epoch 4/7\n",
            "64975/64975 [==============================] - 9s 145us/step - loss: 0.3710 - acc: 0.8595 - val_loss: 0.3699 - val_acc: 0.8594\n",
            "Epoch 5/7\n",
            "64975/64975 [==============================] - 9s 134us/step - loss: 0.3710 - acc: 0.8595 - val_loss: 0.3698 - val_acc: 0.8594\n",
            "Epoch 6/7\n",
            "64975/64975 [==============================] - 8s 127us/step - loss: 0.3710 - acc: 0.8595 - val_loss: 0.3700 - val_acc: 0.8594\n",
            "Epoch 7/7\n",
            "64975/64975 [==============================] - 8s 127us/step - loss: 0.3710 - acc: 0.8594 - val_loss: 0.3698 - val_acc: 0.8594\n"
          ],
          "name": "stdout"
        }
      ]
    },
    {
      "cell_type": "code",
      "metadata": {
        "id": "fO8qsIOkxoFx",
        "colab_type": "code",
        "colab": {
          "base_uri": "https://localhost:8080/",
          "height": 574
        },
        "outputId": "49f5e59f-0355-4ba1-cc70-25f242ab253d"
      },
      "source": [
        "loss_curve(history)\n",
        "accuracy(history)"
      ],
      "execution_count": 228,
      "outputs": [
        {
          "output_type": "display_data",
          "data": {
            "image/png": "iVBORw0KGgoAAAANSUhEUgAAAZIAAAEWCAYAAABMoxE0AAAABHNCSVQICAgIfAhkiAAAAAlwSFlz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\nrkJggg==\n",
            "text/plain": [
              "<Figure size 432x288 with 1 Axes>"
            ]
          },
          "metadata": {
            "tags": []
          }
        },
        {
          "output_type": "display_data",
          "data": {
            "image/png": "iVBORw0KGgoAAAANSUhEUgAAAZIAAAEWCAYAAABMoxE0AAAABHNCSVQICAgIfAhkiAAAAAlwSFlz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\nAABJRU5ErkJggg==\n",
            "text/plain": [
              "<Figure size 432x288 with 1 Axes>"
            ]
          },
          "metadata": {
            "tags": []
          }
        }
      ]
    },
    {
      "cell_type": "code",
      "metadata": {
        "id": "PnhnorHuxxJp",
        "colab_type": "code",
        "colab": {
          "base_uri": "https://localhost:8080/",
          "height": 52
        },
        "outputId": "798bd462-ec79-4302-b8ae-d5bdebbbf9c8"
      },
      "source": [
        "print(\"Evaluating on Test Dataset\")\n",
        "scores = model.evaluate(X_test, Y_test, verbose=0)\n",
        "print(\"%s: %.2f%%\" % (model.metrics_names[1], scores[1]*100))"
      ],
      "execution_count": 229,
      "outputs": [
        {
          "output_type": "stream",
          "text": [
            "Evaluating on Test Dataset\n",
            "acc: 85.92%\n"
          ],
          "name": "stdout"
        }
      ]
    },
    {
      "cell_type": "code",
      "metadata": {
        "id": "M9bU1dX-x5mC",
        "colab_type": "code",
        "colab": {
          "base_uri": "https://localhost:8080/",
          "height": 104
        },
        "outputId": "e6b90616-3eff-4b29-92b5-933d141d0761"
      },
      "source": [
        "# Predicting for random year/month/day/hour\n",
        "\n",
        "ans = model.predict(np.array([[2019, 2, 11, 1]]))\n",
        "ans"
      ],
      "execution_count": 230,
      "outputs": [
        {
          "output_type": "execute_result",
          "data": {
            "text/plain": [
              "array([[0.04135013, 0.5852159 , 0.06100455, 0.20023856, 0.21595898,\n",
              "        0.12741673, 0.13215837, 0.04836234, 0.10523334, 0.14258316,\n",
              "        0.09003392, 0.23606762, 0.06846949, 0.17345005, 0.06880131,\n",
              "        0.03732371, 0.05557165, 0.24859962, 0.11777377, 0.10184336,\n",
              "        0.28302905, 0.05269276]], dtype=float32)"
            ]
          },
          "metadata": {
            "tags": []
          },
          "execution_count": 230
        }
      ]
    },
    {
      "cell_type": "code",
      "metadata": {
        "id": "uIOJP6GS0xs2",
        "colab_type": "code",
        "colab": {
          "base_uri": "https://localhost:8080/",
          "height": 104
        },
        "outputId": "d4a0c477-ff94-433c-92a2-fec766681d1f"
      },
      "source": [
        "# Predicting for another random year/month/day/hour\n",
        "\n",
        "ans = model.predict(np.array([[2012, 3, 24, 22]]))\n",
        "ans"
      ],
      "execution_count": 231,
      "outputs": [
        {
          "output_type": "execute_result",
          "data": {
            "text/plain": [
              "array([[0.04135013, 0.5852159 , 0.06100455, 0.20023856, 0.21595898,\n",
              "        0.12741673, 0.13215837, 0.04836234, 0.10523334, 0.14258316,\n",
              "        0.09003392, 0.23606762, 0.06846949, 0.17345005, 0.06880131,\n",
              "        0.03732371, 0.05557165, 0.24859962, 0.11777377, 0.10184336,\n",
              "        0.28302905, 0.05269276]], dtype=float32)"
            ]
          },
          "metadata": {
            "tags": []
          },
          "execution_count": 231
        }
      ]
    },
    {
      "cell_type": "markdown",
      "metadata": {
        "id": "gUojEsUa01hh",
        "colab_type": "text"
      },
      "source": [
        "The value of the array does not change as the day changes and we cannot find a way to lower the loss function further. Therefore we turned to alternate networks with different inputs and outputs."
      ]
    }
  ]
}