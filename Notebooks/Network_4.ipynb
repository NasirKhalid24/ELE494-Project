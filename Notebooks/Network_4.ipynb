{
  "nbformat": 4,
  "nbformat_minor": 0,
  "metadata": {
    "colab": {
      "name": "Network_#4.ipynb",
      "version": "0.3.2",
      "provenance": []
    },
    "kernelspec": {
      "name": "python3",
      "display_name": "Python 3"
    },
    "accelerator": "GPU"
  },
  "cells": [
    {
      "cell_type": "markdown",
      "metadata": {
        "id": "exYxQTwiROYp",
        "colab_type": "text"
      },
      "source": [
        "# Network #4\n",
        "\n",
        "## Inputs:  \n",
        "\n",
        "Year\n",
        "Month\n",
        "Day\n",
        "Hour\n",
        "A 22 length vector, with each column corresponding to a neighbourhood. (One hot encoded)\n",
        "\n",
        "## Outputs:\n",
        "\n",
        "Each value in the output vector coressponds to the likelihood of crime in the corresponding neighbourhood "
      ]
    },
    {
      "cell_type": "markdown",
      "metadata": {
        "id": "Tp7i3UoBRVXg",
        "colab_type": "text"
      },
      "source": [
        "### Extracting Data"
      ]
    },
    {
      "cell_type": "code",
      "metadata": {
        "id": "QQ9I7pyFRvyn",
        "colab_type": "code",
        "outputId": "74631789-0b38-4f85-b1a0-6c00b02d5807",
        "colab": {
          "base_uri": "https://localhost:8080/",
          "height": 165
        }
      },
      "source": [
        "import pandas as pd\n",
        "\n",
        "# File loaded from Github Repo\n",
        "file_path = 'https://raw.githubusercontent.com/NasirKhalid24/ELE494-Project/master/Datasets/final_crime.csv'\n",
        "\n",
        "df = pd.read_csv(file_path)\n",
        "print(\"Shape of Original Dataset : \" + str(df.shape))\n",
        "\n",
        "df = df[pd.isnull(df['NEIGHBOURHOOD']) != pd.isnull(pd.NaT)]\n",
        "print(\"Shape of Dataset without Invalid points: \" + str(df.shape))\n",
        "\n",
        "df = df[['YEAR','MONTH','DAY','HOUR', 'Neighbourhood']] \n",
        "print(\"Shape of Dataset we are using: \" + str(df.shape) + \"\\n\")\n",
        "\n",
        "print(\"Sample row\")\n",
        "df.head(1)"
      ],
      "execution_count": 1,
      "outputs": [
        {
          "output_type": "stream",
          "text": [
            "Shape of Original Dataset : (480724, 16)\n",
            "Shape of Dataset without Invalid points: (428141, 16)\n",
            "Shape of Dataset we are using: (428141, 5)\n",
            "\n",
            "Sample row\n"
          ],
          "name": "stdout"
        },
        {
          "output_type": "execute_result",
          "data": {
            "text/html": [
              "<div>\n",
              "<style scoped>\n",
              "    .dataframe tbody tr th:only-of-type {\n",
              "        vertical-align: middle;\n",
              "    }\n",
              "\n",
              "    .dataframe tbody tr th {\n",
              "        vertical-align: top;\n",
              "    }\n",
              "\n",
              "    .dataframe thead th {\n",
              "        text-align: right;\n",
              "    }\n",
              "</style>\n",
              "<table border=\"1\" class=\"dataframe\">\n",
              "  <thead>\n",
              "    <tr style=\"text-align: right;\">\n",
              "      <th></th>\n",
              "      <th>YEAR</th>\n",
              "      <th>MONTH</th>\n",
              "      <th>DAY</th>\n",
              "      <th>HOUR</th>\n",
              "      <th>Neighbourhood</th>\n",
              "    </tr>\n",
              "  </thead>\n",
              "  <tbody>\n",
              "    <tr>\n",
              "      <th>0</th>\n",
              "      <td>2004</td>\n",
              "      <td>10</td>\n",
              "      <td>8</td>\n",
              "      <td>21.0</td>\n",
              "      <td>Fairview</td>\n",
              "    </tr>\n",
              "  </tbody>\n",
              "</table>\n",
              "</div>"
            ],
            "text/plain": [
              "   YEAR  MONTH  DAY  HOUR Neighbourhood\n",
              "0  2004     10    8  21.0      Fairview"
            ]
          },
          "metadata": {
            "tags": []
          },
          "execution_count": 1
        }
      ]
    },
    {
      "cell_type": "code",
      "metadata": {
        "id": "TddHW7bRVMO5",
        "colab_type": "code",
        "outputId": "71bcfe27-4c48-4c1e-f2e7-3432381c71ca",
        "colab": {
          "base_uri": "https://localhost:8080/",
          "height": 160
        }
      },
      "source": [
        "# Creating a Key which will be a Date/Time object\n",
        "\n",
        "print (\"------ Adding date-time object as key ------\\n\")\n",
        "date_time_col = pd.to_datetime(df[['YEAR', 'MONTH', 'DAY', 'HOUR']])\n",
        "\n",
        "# Make the added Date the index of the dataset\n",
        "df['DateTimeMix'] = date_time_col\n",
        "df.set_index('DateTimeMix', inplace=True)\n",
        "\n",
        "print(\"Sample row\")\n",
        "df.head(1)"
      ],
      "execution_count": 2,
      "outputs": [
        {
          "output_type": "stream",
          "text": [
            "------ Adding date-time object as key ------\n",
            "\n",
            "Sample row\n"
          ],
          "name": "stdout"
        },
        {
          "output_type": "execute_result",
          "data": {
            "text/html": [
              "<div>\n",
              "<style scoped>\n",
              "    .dataframe tbody tr th:only-of-type {\n",
              "        vertical-align: middle;\n",
              "    }\n",
              "\n",
              "    .dataframe tbody tr th {\n",
              "        vertical-align: top;\n",
              "    }\n",
              "\n",
              "    .dataframe thead th {\n",
              "        text-align: right;\n",
              "    }\n",
              "</style>\n",
              "<table border=\"1\" class=\"dataframe\">\n",
              "  <thead>\n",
              "    <tr style=\"text-align: right;\">\n",
              "      <th></th>\n",
              "      <th>YEAR</th>\n",
              "      <th>MONTH</th>\n",
              "      <th>DAY</th>\n",
              "      <th>HOUR</th>\n",
              "      <th>Neighbourhood</th>\n",
              "    </tr>\n",
              "    <tr>\n",
              "      <th>DateTimeMix</th>\n",
              "      <th></th>\n",
              "      <th></th>\n",
              "      <th></th>\n",
              "      <th></th>\n",
              "      <th></th>\n",
              "    </tr>\n",
              "  </thead>\n",
              "  <tbody>\n",
              "    <tr>\n",
              "      <th>2004-10-08 21:00:00</th>\n",
              "      <td>2004</td>\n",
              "      <td>10</td>\n",
              "      <td>8</td>\n",
              "      <td>21.0</td>\n",
              "      <td>Fairview</td>\n",
              "    </tr>\n",
              "  </tbody>\n",
              "</table>\n",
              "</div>"
            ],
            "text/plain": [
              "                     YEAR  MONTH  DAY  HOUR Neighbourhood\n",
              "DateTimeMix                                              \n",
              "2004-10-08 21:00:00  2004     10    8  21.0      Fairview"
            ]
          },
          "metadata": {
            "tags": []
          },
          "execution_count": 2
        }
      ]
    },
    {
      "cell_type": "code",
      "metadata": {
        "id": "EDusZgXodbjd",
        "colab_type": "code",
        "outputId": "77d43446-d1f4-4ac5-e573-a7a9b98b71f5",
        "colab": {
          "base_uri": "https://localhost:8080/",
          "height": 432
        }
      },
      "source": [
        "# Import a list of all neighbourhoods in Vancouver\n",
        "\n",
        "nb_file_path = 'https://raw.githubusercontent.com/NasirKhalid24/ELE494-Project/master/Datasets/cov_localareas.csv'\n",
        "\n",
        "neighbourhoods = pd.read_csv(nb_file_path)\n",
        "neighbourhoods = neighbourhoods['NAME']\n",
        "print(\"List of Neighbourhoods : \")\n",
        "neighbourhoods"
      ],
      "execution_count": 3,
      "outputs": [
        {
          "output_type": "stream",
          "text": [
            "List of Neighbourhoods : \n"
          ],
          "name": "stdout"
        },
        {
          "output_type": "execute_result",
          "data": {
            "text/plain": [
              "0                       Sunset\n",
              "1               Mount Pleasant\n",
              "2                   Riley Park\n",
              "3                     Downtown\n",
              "4                    Kitsilano\n",
              "5            Dunbar-Southlands\n",
              "6                   Kerrisdale\n",
              "7                Arbutus-Ridge\n",
              "8              West Point Grey\n",
              "9                      Marpole\n",
              "10                    Oakridge\n",
              "11                 Shaughnessy\n",
              "12                    Fairview\n",
              "13                South Cambie\n",
              "14                    West End\n",
              "15                   Killarney\n",
              "16         Renfrew-Collingwood\n",
              "17            Hastings-Sunrise\n",
              "18         Victoria-Fraserview\n",
              "19    Kensington-Cedar Cottage\n",
              "20                  Strathcona\n",
              "21          Grandview-Woodland\n",
              "Name: NAME, dtype: object"
            ]
          },
          "metadata": {
            "tags": []
          },
          "execution_count": 3
        }
      ]
    },
    {
      "cell_type": "code",
      "metadata": {
        "id": "h71ffnJydfnC",
        "colab_type": "code",
        "outputId": "18964c0d-dc6e-4e02-eb78-ad20073ba0d6",
        "colab": {
          "base_uri": "https://localhost:8080/",
          "height": 398
        }
      },
      "source": [
        "# For each neighbourhood add a column and set it's value to 1 if the row is a crime in the neighbourhood\n",
        "new_cols = pd.get_dummies(df['Neighbourhood'])\n",
        "\n",
        "# Drop the column for Neighbourhood\n",
        "df = df.drop(columns=\"Neighbourhood\")\n",
        "\n",
        "# Concatenate the one hot encoded neighbourhoods\n",
        "df = pd.concat([df,new_cols], axis=1)\n",
        "\n",
        "df.head(5)"
      ],
      "execution_count": 4,
      "outputs": [
        {
          "output_type": "execute_result",
          "data": {
            "text/html": [
              "<div>\n",
              "<style scoped>\n",
              "    .dataframe tbody tr th:only-of-type {\n",
              "        vertical-align: middle;\n",
              "    }\n",
              "\n",
              "    .dataframe tbody tr th {\n",
              "        vertical-align: top;\n",
              "    }\n",
              "\n",
              "    .dataframe thead th {\n",
              "        text-align: right;\n",
              "    }\n",
              "</style>\n",
              "<table border=\"1\" class=\"dataframe\">\n",
              "  <thead>\n",
              "    <tr style=\"text-align: right;\">\n",
              "      <th></th>\n",
              "      <th>YEAR</th>\n",
              "      <th>MONTH</th>\n",
              "      <th>DAY</th>\n",
              "      <th>HOUR</th>\n",
              "      <th>Arbutus-Ridge</th>\n",
              "      <th>Downtown</th>\n",
              "      <th>Dunbar-Southlands</th>\n",
              "      <th>Fairview</th>\n",
              "      <th>Grandview-Woodland</th>\n",
              "      <th>Hastings-Sunrise</th>\n",
              "      <th>...</th>\n",
              "      <th>Oakridge</th>\n",
              "      <th>Renfrew-Collingwood</th>\n",
              "      <th>Riley Park</th>\n",
              "      <th>Shaughnessy</th>\n",
              "      <th>South Cambie</th>\n",
              "      <th>Strathcona</th>\n",
              "      <th>Sunset</th>\n",
              "      <th>Victoria-Fraserview</th>\n",
              "      <th>West End</th>\n",
              "      <th>West Point Grey</th>\n",
              "    </tr>\n",
              "    <tr>\n",
              "      <th>DateTimeMix</th>\n",
              "      <th></th>\n",
              "      <th></th>\n",
              "      <th></th>\n",
              "      <th></th>\n",
              "      <th></th>\n",
              "      <th></th>\n",
              "      <th></th>\n",
              "      <th></th>\n",
              "      <th></th>\n",
              "      <th></th>\n",
              "      <th></th>\n",
              "      <th></th>\n",
              "      <th></th>\n",
              "      <th></th>\n",
              "      <th></th>\n",
              "      <th></th>\n",
              "      <th></th>\n",
              "      <th></th>\n",
              "      <th></th>\n",
              "      <th></th>\n",
              "      <th></th>\n",
              "    </tr>\n",
              "  </thead>\n",
              "  <tbody>\n",
              "    <tr>\n",
              "      <th>2004-10-08 21:00:00</th>\n",
              "      <td>2004</td>\n",
              "      <td>10</td>\n",
              "      <td>8</td>\n",
              "      <td>21.0</td>\n",
              "      <td>0</td>\n",
              "      <td>0</td>\n",
              "      <td>0</td>\n",
              "      <td>1</td>\n",
              "      <td>0</td>\n",
              "      <td>0</td>\n",
              "      <td>...</td>\n",
              "      <td>0</td>\n",
              "      <td>0</td>\n",
              "      <td>0</td>\n",
              "      <td>0</td>\n",
              "      <td>0</td>\n",
              "      <td>0</td>\n",
              "      <td>0</td>\n",
              "      <td>0</td>\n",
              "      <td>0</td>\n",
              "      <td>0</td>\n",
              "    </tr>\n",
              "    <tr>\n",
              "      <th>2004-07-30 07:00:00</th>\n",
              "      <td>2004</td>\n",
              "      <td>7</td>\n",
              "      <td>30</td>\n",
              "      <td>7.0</td>\n",
              "      <td>0</td>\n",
              "      <td>0</td>\n",
              "      <td>0</td>\n",
              "      <td>0</td>\n",
              "      <td>0</td>\n",
              "      <td>0</td>\n",
              "      <td>...</td>\n",
              "      <td>0</td>\n",
              "      <td>0</td>\n",
              "      <td>0</td>\n",
              "      <td>0</td>\n",
              "      <td>0</td>\n",
              "      <td>0</td>\n",
              "      <td>0</td>\n",
              "      <td>1</td>\n",
              "      <td>0</td>\n",
              "      <td>0</td>\n",
              "    </tr>\n",
              "    <tr>\n",
              "      <th>2004-10-08 21:00:00</th>\n",
              "      <td>2004</td>\n",
              "      <td>10</td>\n",
              "      <td>8</td>\n",
              "      <td>21.0</td>\n",
              "      <td>0</td>\n",
              "      <td>0</td>\n",
              "      <td>0</td>\n",
              "      <td>1</td>\n",
              "      <td>0</td>\n",
              "      <td>0</td>\n",
              "      <td>...</td>\n",
              "      <td>0</td>\n",
              "      <td>0</td>\n",
              "      <td>0</td>\n",
              "      <td>0</td>\n",
              "      <td>0</td>\n",
              "      <td>0</td>\n",
              "      <td>0</td>\n",
              "      <td>0</td>\n",
              "      <td>0</td>\n",
              "      <td>0</td>\n",
              "    </tr>\n",
              "    <tr>\n",
              "      <th>2004-06-12 23:00:00</th>\n",
              "      <td>2004</td>\n",
              "      <td>6</td>\n",
              "      <td>12</td>\n",
              "      <td>23.0</td>\n",
              "      <td>0</td>\n",
              "      <td>0</td>\n",
              "      <td>0</td>\n",
              "      <td>1</td>\n",
              "      <td>0</td>\n",
              "      <td>0</td>\n",
              "      <td>...</td>\n",
              "      <td>0</td>\n",
              "      <td>0</td>\n",
              "      <td>0</td>\n",
              "      <td>0</td>\n",
              "      <td>0</td>\n",
              "      <td>0</td>\n",
              "      <td>0</td>\n",
              "      <td>0</td>\n",
              "      <td>0</td>\n",
              "      <td>0</td>\n",
              "    </tr>\n",
              "    <tr>\n",
              "      <th>2004-01-16 00:00:00</th>\n",
              "      <td>2004</td>\n",
              "      <td>1</td>\n",
              "      <td>16</td>\n",
              "      <td>0.0</td>\n",
              "      <td>0</td>\n",
              "      <td>0</td>\n",
              "      <td>0</td>\n",
              "      <td>1</td>\n",
              "      <td>0</td>\n",
              "      <td>0</td>\n",
              "      <td>...</td>\n",
              "      <td>0</td>\n",
              "      <td>0</td>\n",
              "      <td>0</td>\n",
              "      <td>0</td>\n",
              "      <td>0</td>\n",
              "      <td>0</td>\n",
              "      <td>0</td>\n",
              "      <td>0</td>\n",
              "      <td>0</td>\n",
              "      <td>0</td>\n",
              "    </tr>\n",
              "  </tbody>\n",
              "</table>\n",
              "<p>5 rows × 26 columns</p>\n",
              "</div>"
            ],
            "text/plain": [
              "                     YEAR  MONTH  DAY  HOUR  Arbutus-Ridge  Downtown  \\\n",
              "DateTimeMix                                                            \n",
              "2004-10-08 21:00:00  2004     10    8  21.0              0         0   \n",
              "2004-07-30 07:00:00  2004      7   30   7.0              0         0   \n",
              "2004-10-08 21:00:00  2004     10    8  21.0              0         0   \n",
              "2004-06-12 23:00:00  2004      6   12  23.0              0         0   \n",
              "2004-01-16 00:00:00  2004      1   16   0.0              0         0   \n",
              "\n",
              "                     Dunbar-Southlands  Fairview  Grandview-Woodland  \\\n",
              "DateTimeMix                                                            \n",
              "2004-10-08 21:00:00                  0         1                   0   \n",
              "2004-07-30 07:00:00                  0         0                   0   \n",
              "2004-10-08 21:00:00                  0         1                   0   \n",
              "2004-06-12 23:00:00                  0         1                   0   \n",
              "2004-01-16 00:00:00                  0         1                   0   \n",
              "\n",
              "                     Hastings-Sunrise  ...  Oakridge  Renfrew-Collingwood  \\\n",
              "DateTimeMix                            ...                                  \n",
              "2004-10-08 21:00:00                 0  ...         0                    0   \n",
              "2004-07-30 07:00:00                 0  ...         0                    0   \n",
              "2004-10-08 21:00:00                 0  ...         0                    0   \n",
              "2004-06-12 23:00:00                 0  ...         0                    0   \n",
              "2004-01-16 00:00:00                 0  ...         0                    0   \n",
              "\n",
              "                     Riley Park  Shaughnessy  South Cambie  Strathcona  \\\n",
              "DateTimeMix                                                              \n",
              "2004-10-08 21:00:00           0            0             0           0   \n",
              "2004-07-30 07:00:00           0            0             0           0   \n",
              "2004-10-08 21:00:00           0            0             0           0   \n",
              "2004-06-12 23:00:00           0            0             0           0   \n",
              "2004-01-16 00:00:00           0            0             0           0   \n",
              "\n",
              "                     Sunset  Victoria-Fraserview  West End  West Point Grey  \n",
              "DateTimeMix                                                                  \n",
              "2004-10-08 21:00:00       0                    0         0                0  \n",
              "2004-07-30 07:00:00       0                    1         0                0  \n",
              "2004-10-08 21:00:00       0                    0         0                0  \n",
              "2004-06-12 23:00:00       0                    0         0                0  \n",
              "2004-01-16 00:00:00       0                    0         0                0  \n",
              "\n",
              "[5 rows x 26 columns]"
            ]
          },
          "metadata": {
            "tags": []
          },
          "execution_count": 4
        }
      ]
    },
    {
      "cell_type": "code",
      "metadata": {
        "id": "UqFrf9HueI3Q",
        "colab_type": "code",
        "outputId": "030df071-27da-4e80-ca39-34d9c9ecd994",
        "colab": {
          "base_uri": "https://localhost:8080/",
          "height": 312
        }
      },
      "source": [
        "# Sort by date-time and remove duplicates\n",
        "df = df.sort_values(by='DateTimeMix')\n",
        "df = df.drop_duplicates()\n",
        "\n",
        "# Extract the year, month, day, hour input arrays for network\n",
        "X = df[['YEAR', 'MONTH', 'DAY', 'HOUR']]\n",
        "X = X.drop_duplicates().values\n",
        "\n",
        "df.head(5)"
      ],
      "execution_count": 5,
      "outputs": [
        {
          "output_type": "execute_result",
          "data": {
            "text/html": [
              "<div>\n",
              "<style scoped>\n",
              "    .dataframe tbody tr th:only-of-type {\n",
              "        vertical-align: middle;\n",
              "    }\n",
              "\n",
              "    .dataframe tbody tr th {\n",
              "        vertical-align: top;\n",
              "    }\n",
              "\n",
              "    .dataframe thead th {\n",
              "        text-align: right;\n",
              "    }\n",
              "</style>\n",
              "<table border=\"1\" class=\"dataframe\">\n",
              "  <thead>\n",
              "    <tr style=\"text-align: right;\">\n",
              "      <th></th>\n",
              "      <th>YEAR</th>\n",
              "      <th>MONTH</th>\n",
              "      <th>DAY</th>\n",
              "      <th>HOUR</th>\n",
              "      <th>Arbutus-Ridge</th>\n",
              "      <th>Downtown</th>\n",
              "      <th>Dunbar-Southlands</th>\n",
              "      <th>Fairview</th>\n",
              "      <th>Grandview-Woodland</th>\n",
              "      <th>Hastings-Sunrise</th>\n",
              "      <th>...</th>\n",
              "      <th>Oakridge</th>\n",
              "      <th>Renfrew-Collingwood</th>\n",
              "      <th>Riley Park</th>\n",
              "      <th>Shaughnessy</th>\n",
              "      <th>South Cambie</th>\n",
              "      <th>Strathcona</th>\n",
              "      <th>Sunset</th>\n",
              "      <th>Victoria-Fraserview</th>\n",
              "      <th>West End</th>\n",
              "      <th>West Point Grey</th>\n",
              "    </tr>\n",
              "    <tr>\n",
              "      <th>DateTimeMix</th>\n",
              "      <th></th>\n",
              "      <th></th>\n",
              "      <th></th>\n",
              "      <th></th>\n",
              "      <th></th>\n",
              "      <th></th>\n",
              "      <th></th>\n",
              "      <th></th>\n",
              "      <th></th>\n",
              "      <th></th>\n",
              "      <th></th>\n",
              "      <th></th>\n",
              "      <th></th>\n",
              "      <th></th>\n",
              "      <th></th>\n",
              "      <th></th>\n",
              "      <th></th>\n",
              "      <th></th>\n",
              "      <th></th>\n",
              "      <th></th>\n",
              "      <th></th>\n",
              "    </tr>\n",
              "  </thead>\n",
              "  <tbody>\n",
              "    <tr>\n",
              "      <th>2004-01-01</th>\n",
              "      <td>2004</td>\n",
              "      <td>1</td>\n",
              "      <td>1</td>\n",
              "      <td>0.0</td>\n",
              "      <td>0</td>\n",
              "      <td>1</td>\n",
              "      <td>0</td>\n",
              "      <td>0</td>\n",
              "      <td>0</td>\n",
              "      <td>0</td>\n",
              "      <td>...</td>\n",
              "      <td>0</td>\n",
              "      <td>0</td>\n",
              "      <td>0</td>\n",
              "      <td>0</td>\n",
              "      <td>0</td>\n",
              "      <td>0</td>\n",
              "      <td>0</td>\n",
              "      <td>0</td>\n",
              "      <td>0</td>\n",
              "      <td>0</td>\n",
              "    </tr>\n",
              "    <tr>\n",
              "      <th>2004-01-01</th>\n",
              "      <td>2004</td>\n",
              "      <td>1</td>\n",
              "      <td>1</td>\n",
              "      <td>0.0</td>\n",
              "      <td>0</td>\n",
              "      <td>0</td>\n",
              "      <td>0</td>\n",
              "      <td>0</td>\n",
              "      <td>0</td>\n",
              "      <td>0</td>\n",
              "      <td>...</td>\n",
              "      <td>0</td>\n",
              "      <td>0</td>\n",
              "      <td>0</td>\n",
              "      <td>0</td>\n",
              "      <td>0</td>\n",
              "      <td>0</td>\n",
              "      <td>0</td>\n",
              "      <td>1</td>\n",
              "      <td>0</td>\n",
              "      <td>0</td>\n",
              "    </tr>\n",
              "    <tr>\n",
              "      <th>2004-01-01</th>\n",
              "      <td>2004</td>\n",
              "      <td>1</td>\n",
              "      <td>1</td>\n",
              "      <td>0.0</td>\n",
              "      <td>0</td>\n",
              "      <td>0</td>\n",
              "      <td>0</td>\n",
              "      <td>0</td>\n",
              "      <td>0</td>\n",
              "      <td>0</td>\n",
              "      <td>...</td>\n",
              "      <td>0</td>\n",
              "      <td>0</td>\n",
              "      <td>0</td>\n",
              "      <td>0</td>\n",
              "      <td>0</td>\n",
              "      <td>0</td>\n",
              "      <td>0</td>\n",
              "      <td>0</td>\n",
              "      <td>0</td>\n",
              "      <td>0</td>\n",
              "    </tr>\n",
              "    <tr>\n",
              "      <th>2004-01-01</th>\n",
              "      <td>2004</td>\n",
              "      <td>1</td>\n",
              "      <td>1</td>\n",
              "      <td>0.0</td>\n",
              "      <td>0</td>\n",
              "      <td>0</td>\n",
              "      <td>0</td>\n",
              "      <td>0</td>\n",
              "      <td>0</td>\n",
              "      <td>0</td>\n",
              "      <td>...</td>\n",
              "      <td>0</td>\n",
              "      <td>0</td>\n",
              "      <td>0</td>\n",
              "      <td>0</td>\n",
              "      <td>0</td>\n",
              "      <td>0</td>\n",
              "      <td>0</td>\n",
              "      <td>0</td>\n",
              "      <td>0</td>\n",
              "      <td>0</td>\n",
              "    </tr>\n",
              "    <tr>\n",
              "      <th>2004-01-01</th>\n",
              "      <td>2004</td>\n",
              "      <td>1</td>\n",
              "      <td>1</td>\n",
              "      <td>0.0</td>\n",
              "      <td>0</td>\n",
              "      <td>0</td>\n",
              "      <td>0</td>\n",
              "      <td>0</td>\n",
              "      <td>0</td>\n",
              "      <td>0</td>\n",
              "      <td>...</td>\n",
              "      <td>0</td>\n",
              "      <td>0</td>\n",
              "      <td>0</td>\n",
              "      <td>0</td>\n",
              "      <td>0</td>\n",
              "      <td>0</td>\n",
              "      <td>0</td>\n",
              "      <td>0</td>\n",
              "      <td>0</td>\n",
              "      <td>1</td>\n",
              "    </tr>\n",
              "  </tbody>\n",
              "</table>\n",
              "<p>5 rows × 26 columns</p>\n",
              "</div>"
            ],
            "text/plain": [
              "             YEAR  MONTH  DAY  HOUR  Arbutus-Ridge  Downtown  \\\n",
              "DateTimeMix                                                    \n",
              "2004-01-01   2004      1    1   0.0              0         1   \n",
              "2004-01-01   2004      1    1   0.0              0         0   \n",
              "2004-01-01   2004      1    1   0.0              0         0   \n",
              "2004-01-01   2004      1    1   0.0              0         0   \n",
              "2004-01-01   2004      1    1   0.0              0         0   \n",
              "\n",
              "             Dunbar-Southlands  Fairview  Grandview-Woodland  \\\n",
              "DateTimeMix                                                    \n",
              "2004-01-01                   0         0                   0   \n",
              "2004-01-01                   0         0                   0   \n",
              "2004-01-01                   0         0                   0   \n",
              "2004-01-01                   0         0                   0   \n",
              "2004-01-01                   0         0                   0   \n",
              "\n",
              "             Hastings-Sunrise  ...  Oakridge  Renfrew-Collingwood  Riley Park  \\\n",
              "DateTimeMix                    ...                                              \n",
              "2004-01-01                  0  ...         0                    0           0   \n",
              "2004-01-01                  0  ...         0                    0           0   \n",
              "2004-01-01                  0  ...         0                    0           0   \n",
              "2004-01-01                  0  ...         0                    0           0   \n",
              "2004-01-01                  0  ...         0                    0           0   \n",
              "\n",
              "             Shaughnessy  South Cambie  Strathcona  Sunset  \\\n",
              "DateTimeMix                                                  \n",
              "2004-01-01             0             0           0       0   \n",
              "2004-01-01             0             0           0       0   \n",
              "2004-01-01             0             0           0       0   \n",
              "2004-01-01             0             0           0       0   \n",
              "2004-01-01             0             0           0       0   \n",
              "\n",
              "             Victoria-Fraserview  West End  West Point Grey  \n",
              "DateTimeMix                                                  \n",
              "2004-01-01                     0         0                0  \n",
              "2004-01-01                     1         0                0  \n",
              "2004-01-01                     0         0                0  \n",
              "2004-01-01                     0         0                0  \n",
              "2004-01-01                     0         0                1  \n",
              "\n",
              "[5 rows x 26 columns]"
            ]
          },
          "metadata": {
            "tags": []
          },
          "execution_count": 5
        }
      ]
    },
    {
      "cell_type": "code",
      "metadata": {
        "id": "htk05-raWC4_",
        "colab_type": "code",
        "outputId": "b986b84b-017d-4f98-eafa-b449d07f24e2",
        "colab": {
          "base_uri": "https://localhost:8080/",
          "height": 312
        }
      },
      "source": [
        "# Do a bit wise OR for a single Date and Time so that we only have unique Date/Time rows\n",
        "# For example in the one above there are 5 different rows for the same date and time\n",
        "\n",
        "df = df.groupby(['YEAR','MONTH', 'DAY', 'HOUR']).sum()\n",
        "df.head(5)"
      ],
      "execution_count": 6,
      "outputs": [
        {
          "output_type": "execute_result",
          "data": {
            "text/html": [
              "<div>\n",
              "<style scoped>\n",
              "    .dataframe tbody tr th:only-of-type {\n",
              "        vertical-align: middle;\n",
              "    }\n",
              "\n",
              "    .dataframe tbody tr th {\n",
              "        vertical-align: top;\n",
              "    }\n",
              "\n",
              "    .dataframe thead th {\n",
              "        text-align: right;\n",
              "    }\n",
              "</style>\n",
              "<table border=\"1\" class=\"dataframe\">\n",
              "  <thead>\n",
              "    <tr style=\"text-align: right;\">\n",
              "      <th></th>\n",
              "      <th></th>\n",
              "      <th></th>\n",
              "      <th></th>\n",
              "      <th>Arbutus-Ridge</th>\n",
              "      <th>Downtown</th>\n",
              "      <th>Dunbar-Southlands</th>\n",
              "      <th>Fairview</th>\n",
              "      <th>Grandview-Woodland</th>\n",
              "      <th>Hastings-Sunrise</th>\n",
              "      <th>Kensington-Cedar Cottage</th>\n",
              "      <th>Kerrisdale</th>\n",
              "      <th>Killarney</th>\n",
              "      <th>Kitsilano</th>\n",
              "      <th>...</th>\n",
              "      <th>Oakridge</th>\n",
              "      <th>Renfrew-Collingwood</th>\n",
              "      <th>Riley Park</th>\n",
              "      <th>Shaughnessy</th>\n",
              "      <th>South Cambie</th>\n",
              "      <th>Strathcona</th>\n",
              "      <th>Sunset</th>\n",
              "      <th>Victoria-Fraserview</th>\n",
              "      <th>West End</th>\n",
              "      <th>West Point Grey</th>\n",
              "    </tr>\n",
              "    <tr>\n",
              "      <th>YEAR</th>\n",
              "      <th>MONTH</th>\n",
              "      <th>DAY</th>\n",
              "      <th>HOUR</th>\n",
              "      <th></th>\n",
              "      <th></th>\n",
              "      <th></th>\n",
              "      <th></th>\n",
              "      <th></th>\n",
              "      <th></th>\n",
              "      <th></th>\n",
              "      <th></th>\n",
              "      <th></th>\n",
              "      <th></th>\n",
              "      <th></th>\n",
              "      <th></th>\n",
              "      <th></th>\n",
              "      <th></th>\n",
              "      <th></th>\n",
              "      <th></th>\n",
              "      <th></th>\n",
              "      <th></th>\n",
              "      <th></th>\n",
              "      <th></th>\n",
              "      <th></th>\n",
              "    </tr>\n",
              "  </thead>\n",
              "  <tbody>\n",
              "    <tr>\n",
              "      <th rowspan=\"5\" valign=\"top\">2004</th>\n",
              "      <th rowspan=\"5\" valign=\"top\">1</th>\n",
              "      <th rowspan=\"5\" valign=\"top\">1</th>\n",
              "      <th>0.0</th>\n",
              "      <td>0</td>\n",
              "      <td>1</td>\n",
              "      <td>0</td>\n",
              "      <td>0</td>\n",
              "      <td>0</td>\n",
              "      <td>0</td>\n",
              "      <td>0</td>\n",
              "      <td>1</td>\n",
              "      <td>1</td>\n",
              "      <td>1</td>\n",
              "      <td>...</td>\n",
              "      <td>0</td>\n",
              "      <td>0</td>\n",
              "      <td>0</td>\n",
              "      <td>0</td>\n",
              "      <td>0</td>\n",
              "      <td>1</td>\n",
              "      <td>1</td>\n",
              "      <td>1</td>\n",
              "      <td>0</td>\n",
              "      <td>1</td>\n",
              "    </tr>\n",
              "    <tr>\n",
              "      <th>1.0</th>\n",
              "      <td>0</td>\n",
              "      <td>0</td>\n",
              "      <td>0</td>\n",
              "      <td>0</td>\n",
              "      <td>0</td>\n",
              "      <td>0</td>\n",
              "      <td>0</td>\n",
              "      <td>0</td>\n",
              "      <td>0</td>\n",
              "      <td>0</td>\n",
              "      <td>...</td>\n",
              "      <td>0</td>\n",
              "      <td>0</td>\n",
              "      <td>1</td>\n",
              "      <td>0</td>\n",
              "      <td>0</td>\n",
              "      <td>1</td>\n",
              "      <td>0</td>\n",
              "      <td>0</td>\n",
              "      <td>0</td>\n",
              "      <td>0</td>\n",
              "    </tr>\n",
              "    <tr>\n",
              "      <th>2.0</th>\n",
              "      <td>0</td>\n",
              "      <td>0</td>\n",
              "      <td>0</td>\n",
              "      <td>0</td>\n",
              "      <td>0</td>\n",
              "      <td>0</td>\n",
              "      <td>0</td>\n",
              "      <td>0</td>\n",
              "      <td>0</td>\n",
              "      <td>0</td>\n",
              "      <td>...</td>\n",
              "      <td>0</td>\n",
              "      <td>0</td>\n",
              "      <td>0</td>\n",
              "      <td>0</td>\n",
              "      <td>0</td>\n",
              "      <td>0</td>\n",
              "      <td>1</td>\n",
              "      <td>0</td>\n",
              "      <td>0</td>\n",
              "      <td>0</td>\n",
              "    </tr>\n",
              "    <tr>\n",
              "      <th>3.0</th>\n",
              "      <td>0</td>\n",
              "      <td>1</td>\n",
              "      <td>1</td>\n",
              "      <td>0</td>\n",
              "      <td>0</td>\n",
              "      <td>0</td>\n",
              "      <td>1</td>\n",
              "      <td>0</td>\n",
              "      <td>0</td>\n",
              "      <td>0</td>\n",
              "      <td>...</td>\n",
              "      <td>0</td>\n",
              "      <td>0</td>\n",
              "      <td>0</td>\n",
              "      <td>0</td>\n",
              "      <td>0</td>\n",
              "      <td>1</td>\n",
              "      <td>0</td>\n",
              "      <td>0</td>\n",
              "      <td>1</td>\n",
              "      <td>0</td>\n",
              "    </tr>\n",
              "    <tr>\n",
              "      <th>4.0</th>\n",
              "      <td>0</td>\n",
              "      <td>0</td>\n",
              "      <td>0</td>\n",
              "      <td>0</td>\n",
              "      <td>0</td>\n",
              "      <td>0</td>\n",
              "      <td>0</td>\n",
              "      <td>0</td>\n",
              "      <td>0</td>\n",
              "      <td>0</td>\n",
              "      <td>...</td>\n",
              "      <td>0</td>\n",
              "      <td>0</td>\n",
              "      <td>0</td>\n",
              "      <td>0</td>\n",
              "      <td>0</td>\n",
              "      <td>1</td>\n",
              "      <td>0</td>\n",
              "      <td>0</td>\n",
              "      <td>0</td>\n",
              "      <td>0</td>\n",
              "    </tr>\n",
              "  </tbody>\n",
              "</table>\n",
              "<p>5 rows × 22 columns</p>\n",
              "</div>"
            ],
            "text/plain": [
              "                     Arbutus-Ridge  Downtown  Dunbar-Southlands  Fairview  \\\n",
              "YEAR MONTH DAY HOUR                                                         \n",
              "2004 1     1   0.0               0         1                  0         0   \n",
              "               1.0               0         0                  0         0   \n",
              "               2.0               0         0                  0         0   \n",
              "               3.0               0         1                  1         0   \n",
              "               4.0               0         0                  0         0   \n",
              "\n",
              "                     Grandview-Woodland  Hastings-Sunrise  \\\n",
              "YEAR MONTH DAY HOUR                                         \n",
              "2004 1     1   0.0                    0                 0   \n",
              "               1.0                    0                 0   \n",
              "               2.0                    0                 0   \n",
              "               3.0                    0                 0   \n",
              "               4.0                    0                 0   \n",
              "\n",
              "                     Kensington-Cedar Cottage  Kerrisdale  Killarney  \\\n",
              "YEAR MONTH DAY HOUR                                                    \n",
              "2004 1     1   0.0                          0           1          1   \n",
              "               1.0                          0           0          0   \n",
              "               2.0                          0           0          0   \n",
              "               3.0                          1           0          0   \n",
              "               4.0                          0           0          0   \n",
              "\n",
              "                     Kitsilano  ...  Oakridge  Renfrew-Collingwood  \\\n",
              "YEAR MONTH DAY HOUR             ...                                  \n",
              "2004 1     1   0.0           1  ...         0                    0   \n",
              "               1.0           0  ...         0                    0   \n",
              "               2.0           0  ...         0                    0   \n",
              "               3.0           0  ...         0                    0   \n",
              "               4.0           0  ...         0                    0   \n",
              "\n",
              "                     Riley Park  Shaughnessy  South Cambie  Strathcona  \\\n",
              "YEAR MONTH DAY HOUR                                                      \n",
              "2004 1     1   0.0            0            0             0           1   \n",
              "               1.0            1            0             0           1   \n",
              "               2.0            0            0             0           0   \n",
              "               3.0            0            0             0           1   \n",
              "               4.0            0            0             0           1   \n",
              "\n",
              "                     Sunset  Victoria-Fraserview  West End  West Point Grey  \n",
              "YEAR MONTH DAY HOUR                                                          \n",
              "2004 1     1   0.0        1                    1         0                1  \n",
              "               1.0        0                    0         0                0  \n",
              "               2.0        1                    0         0                0  \n",
              "               3.0        0                    0         1                0  \n",
              "               4.0        0                    0         0                0  \n",
              "\n",
              "[5 rows x 22 columns]"
            ]
          },
          "metadata": {
            "tags": []
          },
          "execution_count": 6
        }
      ]
    },
    {
      "cell_type": "code",
      "metadata": {
        "id": "0w8sFTUhc9ZA",
        "colab_type": "code",
        "colab": {}
      },
      "source": [
        "# Get the output array (one hot encoded neighbourhoods)\n",
        "Y = df.values"
      ],
      "execution_count": 0,
      "outputs": []
    },
    {
      "cell_type": "markdown",
      "metadata": {
        "id": "eV_rfr9ub8xP",
        "colab_type": "text"
      },
      "source": [
        "### Splitting Data, Normalizing Data & Defining Functions"
      ]
    },
    {
      "cell_type": "code",
      "metadata": {
        "id": "uvHGNcnmfOPv",
        "colab_type": "code",
        "colab": {}
      },
      "source": [
        "# X is input\n",
        "# Y is output"
      ],
      "execution_count": 0,
      "outputs": []
    },
    {
      "cell_type": "code",
      "metadata": {
        "id": "XCX2i1ShfQb0",
        "colab_type": "code",
        "outputId": "b202f97d-0533-4cda-9fe2-87b963a4a6f1",
        "colab": {
          "base_uri": "https://localhost:8080/",
          "height": 35
        }
      },
      "source": [
        "X[3]"
      ],
      "execution_count": 9,
      "outputs": [
        {
          "output_type": "execute_result",
          "data": {
            "text/plain": [
              "array([2.004e+03, 1.000e+00, 1.000e+00, 3.000e+00])"
            ]
          },
          "metadata": {
            "tags": []
          },
          "execution_count": 9
        }
      ]
    },
    {
      "cell_type": "code",
      "metadata": {
        "id": "9ONJPtedxqmb",
        "colab_type": "code",
        "outputId": "42f47b5e-2a88-4192-e464-60281deccc25",
        "colab": {
          "base_uri": "https://localhost:8080/",
          "height": 35
        }
      },
      "source": [
        "from sklearn.preprocessing import MinMaxScaler\n",
        "\n",
        "scaler = MinMaxScaler()\n",
        "\n",
        "scaler.fit(X)\n",
        "X = scaler.transform(X)\n",
        "print(X[3])"
      ],
      "execution_count": 10,
      "outputs": [
        {
          "output_type": "stream",
          "text": [
            "[0.         0.         0.         0.13043478]\n"
          ],
          "name": "stdout"
        }
      ]
    },
    {
      "cell_type": "code",
      "metadata": {
        "id": "OgcTRTUhfSEz",
        "colab_type": "code",
        "outputId": "9edeea9d-d9f8-41c2-fdc9-1be1f6b8ab06",
        "colab": {
          "base_uri": "https://localhost:8080/",
          "height": 52
        }
      },
      "source": [
        "Y[3]"
      ],
      "execution_count": 11,
      "outputs": [
        {
          "output_type": "execute_result",
          "data": {
            "text/plain": [
              "array([0, 1, 1, 0, 0, 0, 1, 0, 0, 0, 0, 0, 0, 0, 0, 0, 0, 1, 0, 0, 1, 0],\n",
              "      dtype=uint8)"
            ]
          },
          "metadata": {
            "tags": []
          },
          "execution_count": 11
        }
      ]
    },
    {
      "cell_type": "code",
      "metadata": {
        "id": "zp22RV1ucC6w",
        "colab_type": "code",
        "outputId": "fff51266-c3fd-48b2-ae16-b2d9c26066d8",
        "colab": {
          "base_uri": "https://localhost:8080/",
          "height": 86
        }
      },
      "source": [
        "from sklearn.model_selection import train_test_split\n",
        "\n",
        "X_train, X_test, Y_train, Y_test = train_test_split(X, Y, test_size=0.33, random_state=42)\n",
        "\n",
        "print(\"Training Data Size: \" + str(X_train.shape))\n",
        "print(\"Testing Data Size:\" + str(X_test.shape))\n",
        "print(\"Training Label Size: \" + str(Y_train.shape))\n",
        "print(\"Testing Label Size: \" + str(Y_test.shape))"
      ],
      "execution_count": 12,
      "outputs": [
        {
          "output_type": "stream",
          "text": [
            "Training Data Size: (72195, 4)\n",
            "Testing Data Size:(35560, 4)\n",
            "Training Label Size: (72195, 22)\n",
            "Testing Label Size: (35560, 22)\n"
          ],
          "name": "stdout"
        }
      ]
    },
    {
      "cell_type": "code",
      "metadata": {
        "id": "v0VQZEIMc8mp",
        "colab_type": "code",
        "colab": {}
      },
      "source": [
        "import matplotlib.pyplot as plt\n",
        "import numpy as np\n",
        "\n",
        "# Function to plot loss and accuracy vs epochs\n",
        "def loss_curve(history):\n",
        "  train_loss = history.history['loss']\n",
        "  val_loss = history.history['val_loss']\n",
        "  x_axis     = range(1, len(history.history['loss'])+1)\n",
        "  \n",
        "  plt.figure()\n",
        "  plt.plot(x_axis, train_loss, label=\"Training Loss\")\n",
        "  plt.plot(x_axis, val_loss, label=\"Validation Loss\")\n",
        "  plt.ylabel('Loss Value')\n",
        "  plt.xlabel('Epochs')\n",
        "  plt.title('Epochs vs Loss')\n",
        "  plt.legend()\n",
        "  \n",
        "def accuracy(history):\n",
        "  acc  = history.history['acc']\n",
        "  val_acc = history.history['val_acc']\n",
        "  x_axis     = range(1, len(history.history['acc'])+1)\n",
        "  \n",
        "  plt.figure()\n",
        "  plt.plot(x_axis, np.dot(acc,100), label=\"Accuracy\")\n",
        "  plt.plot(x_axis, np.dot(val_acc, 100), label=\"Validation Accuracy\")\n",
        "  plt.ylabel('Accuracy')\n",
        "  plt.xlabel('Epochs')\n",
        "  plt.title('Epochs vs Accuracy')\n",
        "  plt.legend()"
      ],
      "execution_count": 0,
      "outputs": []
    },
    {
      "cell_type": "markdown",
      "metadata": {
        "id": "jdwRLTQBdzyy",
        "colab_type": "text"
      },
      "source": [
        "### Training Network and Results"
      ]
    },
    {
      "cell_type": "code",
      "metadata": {
        "id": "3ylxibeId4dA",
        "colab_type": "code",
        "outputId": "d482367a-28fd-4cbe-c489-c2c28431edc6",
        "colab": {
          "base_uri": "https://localhost:8080/",
          "height": 276
        }
      },
      "source": [
        "from keras.layers import Dense, Dropout\n",
        "from keras.models import Sequential\n",
        "\n",
        "model = Sequential()\n",
        "\n",
        "model.add(Dense(32, activation='tanh', input_shape=(X_train.shape[1], ) ) )\n",
        "model.add(Dense(64, activation='tanh') )\n",
        "model.add(Dense(32, activation='tanh') )\n",
        "\n",
        "\n",
        "model.add(Dense(Y_train.shape[1], activation='sigmoid') )\n",
        "\n",
        "model.compile(optimizer='rmsprop',\n",
        "                loss='binary_crossentropy',\n",
        "                metrics=['accuracy'])\n",
        "\n",
        "model.summary()"
      ],
      "execution_count": 32,
      "outputs": [
        {
          "output_type": "stream",
          "text": [
            "_________________________________________________________________\n",
            "Layer (type)                 Output Shape              Param #   \n",
            "=================================================================\n",
            "dense_37 (Dense)             (None, 32)                160       \n",
            "_________________________________________________________________\n",
            "dense_38 (Dense)             (None, 64)                2112      \n",
            "_________________________________________________________________\n",
            "dense_39 (Dense)             (None, 32)                2080      \n",
            "_________________________________________________________________\n",
            "dense_40 (Dense)             (None, 22)                726       \n",
            "=================================================================\n",
            "Total params: 5,078\n",
            "Trainable params: 5,078\n",
            "Non-trainable params: 0\n",
            "_________________________________________________________________\n"
          ],
          "name": "stdout"
        }
      ]
    },
    {
      "cell_type": "code",
      "metadata": {
        "id": "v_TteLDQeyBG",
        "colab_type": "code",
        "outputId": "c67c02df-6cf1-4bb3-a394-71aae40eb562",
        "colab": {
          "base_uri": "https://localhost:8080/",
          "height": 1416
        }
      },
      "source": [
        "history = model.fit(X_train, Y_train,\n",
        "          epochs = 40,\n",
        "          batch_size=128,\n",
        "          validation_split=0.2,\n",
        "          verbose = 1)"
      ],
      "execution_count": 33,
      "outputs": [
        {
          "output_type": "stream",
          "text": [
            "Train on 57756 samples, validate on 14439 samples\n",
            "Epoch 1/40\n",
            "57756/57756 [==============================] - 2s 34us/step - loss: 0.3768 - acc: 0.8571 - val_loss: 0.3642 - val_acc: 0.8606\n",
            "Epoch 2/40\n",
            "57756/57756 [==============================] - 1s 25us/step - loss: 0.3638 - acc: 0.8612 - val_loss: 0.3628 - val_acc: 0.8614\n",
            "Epoch 3/40\n",
            "57756/57756 [==============================] - 1s 25us/step - loss: 0.3626 - acc: 0.8612 - val_loss: 0.3619 - val_acc: 0.8615\n",
            "Epoch 4/40\n",
            "57756/57756 [==============================] - 1s 25us/step - loss: 0.3618 - acc: 0.8613 - val_loss: 0.3610 - val_acc: 0.8615\n",
            "Epoch 5/40\n",
            "57756/57756 [==============================] - 1s 25us/step - loss: 0.3614 - acc: 0.8613 - val_loss: 0.3610 - val_acc: 0.8613\n",
            "Epoch 6/40\n",
            "57756/57756 [==============================] - 1s 25us/step - loss: 0.3613 - acc: 0.8614 - val_loss: 0.3609 - val_acc: 0.8615\n",
            "Epoch 7/40\n",
            "57756/57756 [==============================] - 1s 25us/step - loss: 0.3611 - acc: 0.8613 - val_loss: 0.3603 - val_acc: 0.8616\n",
            "Epoch 8/40\n",
            "57756/57756 [==============================] - 2s 29us/step - loss: 0.3610 - acc: 0.8614 - val_loss: 0.3602 - val_acc: 0.8616\n",
            "Epoch 9/40\n",
            "57756/57756 [==============================] - 2s 29us/step - loss: 0.3609 - acc: 0.8614 - val_loss: 0.3610 - val_acc: 0.8613\n",
            "Epoch 10/40\n",
            "57756/57756 [==============================] - 2s 29us/step - loss: 0.3608 - acc: 0.8613 - val_loss: 0.3602 - val_acc: 0.8615\n",
            "Epoch 11/40\n",
            "57756/57756 [==============================] - 2s 29us/step - loss: 0.3607 - acc: 0.8614 - val_loss: 0.3603 - val_acc: 0.8615\n",
            "Epoch 12/40\n",
            "57756/57756 [==============================] - 2s 29us/step - loss: 0.3606 - acc: 0.8614 - val_loss: 0.3601 - val_acc: 0.8616\n",
            "Epoch 13/40\n",
            "57756/57756 [==============================] - 2s 29us/step - loss: 0.3605 - acc: 0.8614 - val_loss: 0.3597 - val_acc: 0.8616\n",
            "Epoch 14/40\n",
            "57756/57756 [==============================] - 1s 26us/step - loss: 0.3604 - acc: 0.8614 - val_loss: 0.3600 - val_acc: 0.8616\n",
            "Epoch 15/40\n",
            "57756/57756 [==============================] - 1s 25us/step - loss: 0.3602 - acc: 0.8615 - val_loss: 0.3597 - val_acc: 0.8615\n",
            "Epoch 16/40\n",
            "57756/57756 [==============================] - 1s 25us/step - loss: 0.3601 - acc: 0.8615 - val_loss: 0.3595 - val_acc: 0.8616\n",
            "Epoch 17/40\n",
            "57756/57756 [==============================] - 1s 25us/step - loss: 0.3600 - acc: 0.8615 - val_loss: 0.3594 - val_acc: 0.8616\n",
            "Epoch 18/40\n",
            "57756/57756 [==============================] - 1s 25us/step - loss: 0.3599 - acc: 0.8616 - val_loss: 0.3593 - val_acc: 0.8616\n",
            "Epoch 19/40\n",
            "57756/57756 [==============================] - 1s 25us/step - loss: 0.3598 - acc: 0.8616 - val_loss: 0.3595 - val_acc: 0.8616\n",
            "Epoch 20/40\n",
            "57756/57756 [==============================] - 1s 25us/step - loss: 0.3598 - acc: 0.8617 - val_loss: 0.3591 - val_acc: 0.8618\n",
            "Epoch 21/40\n",
            "57756/57756 [==============================] - 1s 25us/step - loss: 0.3597 - acc: 0.8617 - val_loss: 0.3599 - val_acc: 0.8615\n",
            "Epoch 22/40\n",
            "57756/57756 [==============================] - 1s 25us/step - loss: 0.3597 - acc: 0.8617 - val_loss: 0.3593 - val_acc: 0.8616\n",
            "Epoch 23/40\n",
            "57756/57756 [==============================] - 1s 25us/step - loss: 0.3596 - acc: 0.8618 - val_loss: 0.3593 - val_acc: 0.8618\n",
            "Epoch 24/40\n",
            "57756/57756 [==============================] - 1s 25us/step - loss: 0.3596 - acc: 0.8618 - val_loss: 0.3594 - val_acc: 0.8620\n",
            "Epoch 25/40\n",
            "57756/57756 [==============================] - 1s 25us/step - loss: 0.3596 - acc: 0.8618 - val_loss: 0.3593 - val_acc: 0.8616\n",
            "Epoch 26/40\n",
            "57756/57756 [==============================] - 1s 25us/step - loss: 0.3595 - acc: 0.8618 - val_loss: 0.3595 - val_acc: 0.8617\n",
            "Epoch 27/40\n",
            "57756/57756 [==============================] - 1s 25us/step - loss: 0.3595 - acc: 0.8619 - val_loss: 0.3591 - val_acc: 0.8617\n",
            "Epoch 28/40\n",
            "57756/57756 [==============================] - 1s 25us/step - loss: 0.3595 - acc: 0.8618 - val_loss: 0.3591 - val_acc: 0.8619\n",
            "Epoch 29/40\n",
            "57756/57756 [==============================] - 1s 26us/step - loss: 0.3595 - acc: 0.8619 - val_loss: 0.3590 - val_acc: 0.8619\n",
            "Epoch 30/40\n",
            "57756/57756 [==============================] - 1s 25us/step - loss: 0.3595 - acc: 0.8618 - val_loss: 0.3597 - val_acc: 0.8618\n",
            "Epoch 31/40\n",
            "57756/57756 [==============================] - 1s 25us/step - loss: 0.3594 - acc: 0.8618 - val_loss: 0.3591 - val_acc: 0.8619\n",
            "Epoch 32/40\n",
            "57756/57756 [==============================] - 1s 25us/step - loss: 0.3594 - acc: 0.8619 - val_loss: 0.3591 - val_acc: 0.8619\n",
            "Epoch 33/40\n",
            "57756/57756 [==============================] - 1s 25us/step - loss: 0.3594 - acc: 0.8619 - val_loss: 0.3592 - val_acc: 0.8619\n",
            "Epoch 34/40\n",
            "57756/57756 [==============================] - 1s 25us/step - loss: 0.3594 - acc: 0.8618 - val_loss: 0.3589 - val_acc: 0.8616\n",
            "Epoch 35/40\n",
            "57756/57756 [==============================] - 1s 25us/step - loss: 0.3594 - acc: 0.8619 - val_loss: 0.3592 - val_acc: 0.8620\n",
            "Epoch 36/40\n",
            "57756/57756 [==============================] - 1s 25us/step - loss: 0.3593 - acc: 0.8619 - val_loss: 0.3590 - val_acc: 0.8620\n",
            "Epoch 37/40\n",
            "57756/57756 [==============================] - 1s 25us/step - loss: 0.3593 - acc: 0.8619 - val_loss: 0.3593 - val_acc: 0.8618\n",
            "Epoch 38/40\n",
            "57756/57756 [==============================] - 1s 25us/step - loss: 0.3593 - acc: 0.8619 - val_loss: 0.3593 - val_acc: 0.8617\n",
            "Epoch 39/40\n",
            "57756/57756 [==============================] - 2s 30us/step - loss: 0.3593 - acc: 0.8618 - val_loss: 0.3589 - val_acc: 0.8620\n",
            "Epoch 40/40\n",
            "57756/57756 [==============================] - 2s 31us/step - loss: 0.3593 - acc: 0.8619 - val_loss: 0.3590 - val_acc: 0.8620\n"
          ],
          "name": "stdout"
        }
      ]
    },
    {
      "cell_type": "code",
      "metadata": {
        "id": "fO8qsIOkxoFx",
        "colab_type": "code",
        "outputId": "0a64d399-5bad-49f9-bf88-83ce3e04e45d",
        "colab": {
          "base_uri": "https://localhost:8080/",
          "height": 574
        }
      },
      "source": [
        "loss_curve(history)\n",
        "accuracy(history)"
      ],
      "execution_count": 38,
      "outputs": [
        {
          "output_type": "display_data",
          "data": {
            "image/png": "[encoded data removed]",
            "text/plain": [
              "<Figure size 432x288 with 1 Axes>"
            ]
          },
          "metadata": {
            "tags": []
          }
        },
        {
          "output_type": "display_data",
          "data": {
            "image/png": "[encoded data removed]",
            "text/plain": [
              "<Figure size 432x288 with 1 Axes>"
            ]
          },
          "metadata": {
            "tags": []
          }
        }
      ]
    },
    {
      "cell_type": "code",
      "metadata": {
        "id": "PnhnorHuxxJp",
        "colab_type": "code",
        "outputId": "6e0aa1c3-4d60-4e24-823a-988fdfc78f8e",
        "colab": {
          "base_uri": "https://localhost:8080/",
          "height": 52
        }
      },
      "source": [
        "print(\"Evaluating on Test Dataset\")\n",
        "scores = model.evaluate(X_test, Y_test, verbose=0)\n",
        "print(\"%s: %.2f%%\" % (model.metrics_names[1], scores[1]*100))"
      ],
      "execution_count": 39,
      "outputs": [
        {
          "output_type": "stream",
          "text": [
            "Evaluating on Test Dataset\n",
            "acc: 86.15%\n"
          ],
          "name": "stdout"
        }
      ]
    },
    {
      "cell_type": "code",
      "metadata": {
        "id": "M9bU1dX-x5mC",
        "colab_type": "code",
        "outputId": "647bf429-74c6-49de-a698-e702ea333464",
        "colab": {
          "base_uri": "https://localhost:8080/",
          "height": 104
        }
      },
      "source": [
        "# Predicting for random year/month/day/hour\n",
        "\n",
        "ans = model.predict(np.array([[2019, 2, 11, 1]]))\n",
        "ans"
      ],
      "execution_count": 40,
      "outputs": [
        {
          "output_type": "execute_result",
          "data": {
            "text/plain": [
              "array([[0.16553745, 0.7874076 , 0.09358478, 0.46398166, 0.36022896,\n",
              "        0.30427074, 0.19909623, 0.09764177, 0.19673851, 0.21945325,\n",
              "        0.12287965, 0.41412646, 0.25304464, 0.31223658, 0.24779451,\n",
              "        0.06567723, 0.17815265, 0.4638296 , 0.3113088 , 0.17905569,\n",
              "        0.47154552, 0.08937451]], dtype=float32)"
            ]
          },
          "metadata": {
            "tags": []
          },
          "execution_count": 40
        }
      ]
    },
    {
      "cell_type": "code",
      "metadata": {
        "id": "uIOJP6GS0xs2",
        "colab_type": "code",
        "outputId": "6c32a650-64c5-40fd-b4c0-df65e9f3241a",
        "colab": {
          "base_uri": "https://localhost:8080/",
          "height": 104
        }
      },
      "source": [
        "# Predicting for another random year/month/day/hour\n",
        "\n",
        "ans = model.predict(np.array([[2015, 2, 7, 12]]))\n",
        "ans"
      ],
      "execution_count": 42,
      "outputs": [
        {
          "output_type": "execute_result",
          "data": {
            "text/plain": [
              "array([[0.16553745, 0.7874076 , 0.09358478, 0.46398166, 0.36022896,\n",
              "        0.30427074, 0.19909623, 0.09764177, 0.19673851, 0.21945325,\n",
              "        0.12287965, 0.41412646, 0.25304464, 0.31223658, 0.24779451,\n",
              "        0.06567723, 0.17815265, 0.4638296 , 0.3113088 , 0.17905569,\n",
              "        0.47154552, 0.08937451]], dtype=float32)"
            ]
          },
          "metadata": {
            "tags": []
          },
          "execution_count": 42
        }
      ]
    }
  ]
}