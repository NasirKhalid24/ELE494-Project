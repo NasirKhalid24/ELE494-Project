{
  "nbformat": 4,
  "nbformat_minor": 0,
  "metadata": {
    "colab": {
      "name": "Network_#3.1.ipynb",
      "version": "0.3.2",
      "provenance": [],
      "collapsed_sections": [
        "wQ0XF1PJP91z",
        "jO6b4AWjhPTR",
        "vFAUf_h9gTkN",
        "7xfkROGUgc00",
        "4noydWb5gh_I",
        "RIFWP5OHyHRO",
        "vqaiTSXa7dix"
      ]
    },
    "kernelspec": {
      "name": "python3",
      "display_name": "Python 3"
    },
    "accelerator": "GPU"
  },
  "cells": [
    {
      "cell_type": "markdown",
      "metadata": {
        "id": "rseYZsObPqph",
        "colab_type": "text"
      },
      "source": [
        "# Network #3.1\n",
        "\n",
        "\n",
        "## Network Input:  \n",
        "\n",
        "YEAR,\n",
        "MONTH,\n",
        "DAY,\n",
        "HOUR,\n",
        "MINUTE,\n",
        "Latitude,\n",
        "Longitude,\n",
        "Distance to Graffiti,\n",
        "Distance to a Drinking Fountain\n",
        "\n",
        "## Outputs:\n",
        "\n",
        "Probability of crime occuring"
      ]
    },
    {
      "cell_type": "markdown",
      "metadata": {
        "id": "wQ0XF1PJP91z",
        "colab_type": "text"
      },
      "source": [
        "#### Loading data and creating dataset to be used"
      ]
    },
    {
      "cell_type": "markdown",
      "metadata": {
        "id": "jO6b4AWjhPTR",
        "colab_type": "text"
      },
      "source": [
        "##### Importing dataset, creating Date/Time key & adding crime"
      ]
    },
    {
      "cell_type": "code",
      "metadata": {
        "id": "kTeMeT-KPxtN",
        "colab_type": "code",
        "outputId": "c7c19d0e-6f27-4ade-8f99-c055c91a950b",
        "colab": {
          "base_uri": "https://localhost:8080/",
          "height": 130
        }
      },
      "source": [
        "import pandas as pd\n",
        "import numpy as np\n",
        "\n",
        "# File loaded from Github Repo\n",
        "file_path = 'https://raw.githubusercontent.com/NasirKhalid24/ELE494-Project/master/Datasets/final_crime.csv'\n",
        "\n",
        "df = pd.read_csv(file_path)\n",
        "\n",
        "# Removing invalid points\n",
        "df = df[pd.isnull(df['NEIGHBOURHOOD']) != pd.isnull(pd.NaT)]\n",
        "\n",
        "df = df[['YEAR','MONTH','DAY','HOUR', 'MINUTE', 'Neighbourhood', 'Latitude', 'Longitude', 'Graffiti', 'Drinking_Fountain']] \n",
        "print(\"Shape of Dataset imported for use: \" + str(df.shape) + \"\\n\")\n",
        "\n",
        "print(\"Sample row\")\n",
        "df.head(1)"
      ],
      "execution_count": 1,
      "outputs": [
        {
          "output_type": "stream",
          "text": [
            "Shape of Dataset imported for use: (428141, 10)\n",
            "\n",
            "Sample row\n"
          ],
          "name": "stdout"
        },
        {
          "output_type": "execute_result",
          "data": {
            "text/html": [
              "<div>\n",
              "<style scoped>\n",
              "    .dataframe tbody tr th:only-of-type {\n",
              "        vertical-align: middle;\n",
              "    }\n",
              "\n",
              "    .dataframe tbody tr th {\n",
              "        vertical-align: top;\n",
              "    }\n",
              "\n",
              "    .dataframe thead th {\n",
              "        text-align: right;\n",
              "    }\n",
              "</style>\n",
              "<table border=\"1\" class=\"dataframe\">\n",
              "  <thead>\n",
              "    <tr style=\"text-align: right;\">\n",
              "      <th></th>\n",
              "      <th>YEAR</th>\n",
              "      <th>MONTH</th>\n",
              "      <th>DAY</th>\n",
              "      <th>HOUR</th>\n",
              "      <th>MINUTE</th>\n",
              "      <th>Neighbourhood</th>\n",
              "      <th>Latitude</th>\n",
              "      <th>Longitude</th>\n",
              "      <th>Graffiti</th>\n",
              "      <th>Drinking_Fountain</th>\n",
              "    </tr>\n",
              "  </thead>\n",
              "  <tbody>\n",
              "    <tr>\n",
              "      <th>0</th>\n",
              "      <td>2004</td>\n",
              "      <td>10</td>\n",
              "      <td>8</td>\n",
              "      <td>21.0</td>\n",
              "      <td>0.0</td>\n",
              "      <td>Fairview</td>\n",
              "      <td>49.265076</td>\n",
              "      <td>-123.118474</td>\n",
              "      <td>0.040765</td>\n",
              "      <td>0.402295</td>\n",
              "    </tr>\n",
              "  </tbody>\n",
              "</table>\n",
              "</div>"
            ],
            "text/plain": [
              "   YEAR  MONTH  DAY  HOUR  MINUTE Neighbourhood   Latitude   Longitude  \\\n",
              "0  2004     10    8  21.0     0.0      Fairview  49.265076 -123.118474   \n",
              "\n",
              "   Graffiti  Drinking_Fountain  \n",
              "0  0.040765           0.402295  "
            ]
          },
          "metadata": {
            "tags": []
          },
          "execution_count": 1
        }
      ]
    },
    {
      "cell_type": "code",
      "metadata": {
        "id": "HXt0Ux2kQRoi",
        "colab_type": "code",
        "outputId": "a0486a3b-a8b9-4ea9-be13-4ce2df31bf4d",
        "colab": {
          "base_uri": "https://localhost:8080/",
          "height": 160
        }
      },
      "source": [
        "# Creating a Key which will be a Date/Time object\n",
        "\n",
        "print (\"------ Adding date-time object as key ------\\n\")\n",
        "date_time_col = pd.to_datetime(df[['YEAR', 'MONTH', 'DAY', 'HOUR','MINUTE']])\n",
        "\n",
        "# Make the added Date the index of the dataset\n",
        "df['DateTimeMix'] = date_time_col\n",
        "df.set_index('DateTimeMix', inplace=True)\n",
        "\n",
        "print(\"Sample row\")\n",
        "df.head(1)"
      ],
      "execution_count": 2,
      "outputs": [
        {
          "output_type": "stream",
          "text": [
            "------ Adding date-time object as key ------\n",
            "\n",
            "Sample row\n"
          ],
          "name": "stdout"
        },
        {
          "output_type": "execute_result",
          "data": {
            "text/html": [
              "<div>\n",
              "<style scoped>\n",
              "    .dataframe tbody tr th:only-of-type {\n",
              "        vertical-align: middle;\n",
              "    }\n",
              "\n",
              "    .dataframe tbody tr th {\n",
              "        vertical-align: top;\n",
              "    }\n",
              "\n",
              "    .dataframe thead th {\n",
              "        text-align: right;\n",
              "    }\n",
              "</style>\n",
              "<table border=\"1\" class=\"dataframe\">\n",
              "  <thead>\n",
              "    <tr style=\"text-align: right;\">\n",
              "      <th></th>\n",
              "      <th>YEAR</th>\n",
              "      <th>MONTH</th>\n",
              "      <th>DAY</th>\n",
              "      <th>HOUR</th>\n",
              "      <th>MINUTE</th>\n",
              "      <th>Neighbourhood</th>\n",
              "      <th>Latitude</th>\n",
              "      <th>Longitude</th>\n",
              "      <th>Graffiti</th>\n",
              "      <th>Drinking_Fountain</th>\n",
              "    </tr>\n",
              "    <tr>\n",
              "      <th>DateTimeMix</th>\n",
              "      <th></th>\n",
              "      <th></th>\n",
              "      <th></th>\n",
              "      <th></th>\n",
              "      <th></th>\n",
              "      <th></th>\n",
              "      <th></th>\n",
              "      <th></th>\n",
              "      <th></th>\n",
              "      <th></th>\n",
              "    </tr>\n",
              "  </thead>\n",
              "  <tbody>\n",
              "    <tr>\n",
              "      <th>2004-10-08 21:00:00</th>\n",
              "      <td>2004</td>\n",
              "      <td>10</td>\n",
              "      <td>8</td>\n",
              "      <td>21.0</td>\n",
              "      <td>0.0</td>\n",
              "      <td>Fairview</td>\n",
              "      <td>49.265076</td>\n",
              "      <td>-123.118474</td>\n",
              "      <td>0.040765</td>\n",
              "      <td>0.402295</td>\n",
              "    </tr>\n",
              "  </tbody>\n",
              "</table>\n",
              "</div>"
            ],
            "text/plain": [
              "                     YEAR  MONTH  DAY  HOUR  MINUTE Neighbourhood   Latitude  \\\n",
              "DateTimeMix                                                                    \n",
              "2004-10-08 21:00:00  2004     10    8  21.0     0.0      Fairview  49.265076   \n",
              "\n",
              "                      Longitude  Graffiti  Drinking_Fountain  \n",
              "DateTimeMix                                                   \n",
              "2004-10-08 21:00:00 -123.118474  0.040765           0.402295  "
            ]
          },
          "metadata": {
            "tags": []
          },
          "execution_count": 2
        }
      ]
    },
    {
      "cell_type": "code",
      "metadata": {
        "id": "lSt3yfU6yUCg",
        "colab_type": "code",
        "colab": {
          "base_uri": "https://localhost:8080/",
          "height": 125
        },
        "outputId": "2c3a91ed-6203-4121-e70f-f87af40ec33e"
      },
      "source": [
        "df['Crime'] = 1\n",
        "print(\"Sample row\")\n",
        "df.head(1)"
      ],
      "execution_count": 3,
      "outputs": [
        {
          "output_type": "stream",
          "text": [
            "Sample row\n"
          ],
          "name": "stdout"
        },
        {
          "output_type": "execute_result",
          "data": {
            "text/html": [
              "<div>\n",
              "<style scoped>\n",
              "    .dataframe tbody tr th:only-of-type {\n",
              "        vertical-align: middle;\n",
              "    }\n",
              "\n",
              "    .dataframe tbody tr th {\n",
              "        vertical-align: top;\n",
              "    }\n",
              "\n",
              "    .dataframe thead th {\n",
              "        text-align: right;\n",
              "    }\n",
              "</style>\n",
              "<table border=\"1\" class=\"dataframe\">\n",
              "  <thead>\n",
              "    <tr style=\"text-align: right;\">\n",
              "      <th></th>\n",
              "      <th>YEAR</th>\n",
              "      <th>MONTH</th>\n",
              "      <th>DAY</th>\n",
              "      <th>HOUR</th>\n",
              "      <th>MINUTE</th>\n",
              "      <th>Neighbourhood</th>\n",
              "      <th>Latitude</th>\n",
              "      <th>Longitude</th>\n",
              "      <th>Graffiti</th>\n",
              "      <th>Drinking_Fountain</th>\n",
              "      <th>Crime</th>\n",
              "    </tr>\n",
              "    <tr>\n",
              "      <th>DateTimeMix</th>\n",
              "      <th></th>\n",
              "      <th></th>\n",
              "      <th></th>\n",
              "      <th></th>\n",
              "      <th></th>\n",
              "      <th></th>\n",
              "      <th></th>\n",
              "      <th></th>\n",
              "      <th></th>\n",
              "      <th></th>\n",
              "      <th></th>\n",
              "    </tr>\n",
              "  </thead>\n",
              "  <tbody>\n",
              "    <tr>\n",
              "      <th>2004-10-08 21:00:00</th>\n",
              "      <td>2004</td>\n",
              "      <td>10</td>\n",
              "      <td>8</td>\n",
              "      <td>21.0</td>\n",
              "      <td>0.0</td>\n",
              "      <td>Fairview</td>\n",
              "      <td>49.265076</td>\n",
              "      <td>-123.118474</td>\n",
              "      <td>0.040765</td>\n",
              "      <td>0.402295</td>\n",
              "      <td>1</td>\n",
              "    </tr>\n",
              "  </tbody>\n",
              "</table>\n",
              "</div>"
            ],
            "text/plain": [
              "                     YEAR  MONTH  DAY  HOUR  MINUTE Neighbourhood   Latitude  \\\n",
              "DateTimeMix                                                                    \n",
              "2004-10-08 21:00:00  2004     10    8  21.0     0.0      Fairview  49.265076   \n",
              "\n",
              "                      Longitude  Graffiti  Drinking_Fountain  Crime  \n",
              "DateTimeMix                                                          \n",
              "2004-10-08 21:00:00 -123.118474  0.040765           0.402295      1  "
            ]
          },
          "metadata": {
            "tags": []
          },
          "execution_count": 3
        }
      ]
    },
    {
      "cell_type": "markdown",
      "metadata": {
        "id": "vFAUf_h9gTkN",
        "colab_type": "text"
      },
      "source": [
        "##### Import Neighbourhoods and Function to generate co-ordinates in neighbourhood"
      ]
    },
    {
      "cell_type": "code",
      "metadata": {
        "id": "N7gqONURRQEA",
        "colab_type": "code",
        "outputId": "07b04e6a-d824-441d-a3a8-adc94b4a0c14",
        "colab": {
          "base_uri": "https://localhost:8080/",
          "height": 725
        }
      },
      "source": [
        "# Import a list of all neighbourhoods and their center co-ordinates in Vancouver\n",
        "\n",
        "nb_file_path = 'https://raw.githubusercontent.com/NasirKhalid24/ELE494-Project/master/Datasets/cov_localareas.csv'\n",
        "\n",
        "neighbourhoods = pd.read_csv(nb_file_path)\n",
        "print(\"List of Neighbourhoods : \")\n",
        "neighbourhoods"
      ],
      "execution_count": 4,
      "outputs": [
        {
          "output_type": "stream",
          "text": [
            "List of Neighbourhoods : \n"
          ],
          "name": "stdout"
        },
        {
          "output_type": "execute_result",
          "data": {
            "text/html": [
              "<div>\n",
              "<style scoped>\n",
              "    .dataframe tbody tr th:only-of-type {\n",
              "        vertical-align: middle;\n",
              "    }\n",
              "\n",
              "    .dataframe tbody tr th {\n",
              "        vertical-align: top;\n",
              "    }\n",
              "\n",
              "    .dataframe thead th {\n",
              "        text-align: right;\n",
              "    }\n",
              "</style>\n",
              "<table border=\"1\" class=\"dataframe\">\n",
              "  <thead>\n",
              "    <tr style=\"text-align: right;\">\n",
              "      <th></th>\n",
              "      <th>MAPID</th>\n",
              "      <th>NAME</th>\n",
              "      <th>Latitude</th>\n",
              "      <th>Longitude</th>\n",
              "    </tr>\n",
              "  </thead>\n",
              "  <tbody>\n",
              "    <tr>\n",
              "      <th>0</th>\n",
              "      <td>SUN</td>\n",
              "      <td>Sunset</td>\n",
              "      <td>49.218650</td>\n",
              "      <td>-123.091376</td>\n",
              "    </tr>\n",
              "    <tr>\n",
              "      <th>1</th>\n",
              "      <td>MP</td>\n",
              "      <td>Mount Pleasant</td>\n",
              "      <td>49.263060</td>\n",
              "      <td>-123.099888</td>\n",
              "    </tr>\n",
              "    <tr>\n",
              "      <th>2</th>\n",
              "      <td>RP</td>\n",
              "      <td>Riley Park</td>\n",
              "      <td>49.244679</td>\n",
              "      <td>-123.103239</td>\n",
              "    </tr>\n",
              "    <tr>\n",
              "      <th>3</th>\n",
              "      <td>CBD</td>\n",
              "      <td>Downtown</td>\n",
              "      <td>49.279255</td>\n",
              "      <td>-123.119137</td>\n",
              "    </tr>\n",
              "    <tr>\n",
              "      <th>4</th>\n",
              "      <td>KITS</td>\n",
              "      <td>Kitsilano</td>\n",
              "      <td>49.265663</td>\n",
              "      <td>-123.166947</td>\n",
              "    </tr>\n",
              "    <tr>\n",
              "      <th>5</th>\n",
              "      <td>DS</td>\n",
              "      <td>Dunbar-Southlands</td>\n",
              "      <td>49.242361</td>\n",
              "      <td>-123.185280</td>\n",
              "    </tr>\n",
              "    <tr>\n",
              "      <th>6</th>\n",
              "      <td>KERR</td>\n",
              "      <td>Kerrisdale</td>\n",
              "      <td>49.225466</td>\n",
              "      <td>-123.157878</td>\n",
              "    </tr>\n",
              "    <tr>\n",
              "      <th>7</th>\n",
              "      <td>AR</td>\n",
              "      <td>Arbutus-Ridge</td>\n",
              "      <td>49.245938</td>\n",
              "      <td>-123.160737</td>\n",
              "    </tr>\n",
              "    <tr>\n",
              "      <th>8</th>\n",
              "      <td>WPG</td>\n",
              "      <td>West Point Grey</td>\n",
              "      <td>49.265928</td>\n",
              "      <td>-123.202077</td>\n",
              "    </tr>\n",
              "    <tr>\n",
              "      <th>9</th>\n",
              "      <td>MARP</td>\n",
              "      <td>Marpole</td>\n",
              "      <td>49.210702</td>\n",
              "      <td>-123.130159</td>\n",
              "    </tr>\n",
              "    <tr>\n",
              "      <th>10</th>\n",
              "      <td>OAK</td>\n",
              "      <td>Oakridge</td>\n",
              "      <td>49.226350</td>\n",
              "      <td>-123.123689</td>\n",
              "    </tr>\n",
              "    <tr>\n",
              "      <th>11</th>\n",
              "      <td>SHAU</td>\n",
              "      <td>Shaughnessy</td>\n",
              "      <td>49.244443</td>\n",
              "      <td>-123.140041</td>\n",
              "    </tr>\n",
              "    <tr>\n",
              "      <th>12</th>\n",
              "      <td>FAIR</td>\n",
              "      <td>Fairview</td>\n",
              "      <td>49.263421</td>\n",
              "      <td>-123.131514</td>\n",
              "    </tr>\n",
              "    <tr>\n",
              "      <th>13</th>\n",
              "      <td>SC</td>\n",
              "      <td>South Cambie</td>\n",
              "      <td>49.245246</td>\n",
              "      <td>-123.121495</td>\n",
              "    </tr>\n",
              "    <tr>\n",
              "      <th>14</th>\n",
              "      <td>WE</td>\n",
              "      <td>West End</td>\n",
              "      <td>49.285170</td>\n",
              "      <td>-123.134074</td>\n",
              "    </tr>\n",
              "    <tr>\n",
              "      <th>15</th>\n",
              "      <td>KIL</td>\n",
              "      <td>Killarney</td>\n",
              "      <td>49.220042</td>\n",
              "      <td>-123.038120</td>\n",
              "    </tr>\n",
              "    <tr>\n",
              "      <th>16</th>\n",
              "      <td>RC</td>\n",
              "      <td>Renfrew-Collingwood</td>\n",
              "      <td>49.248648</td>\n",
              "      <td>-123.040758</td>\n",
              "    </tr>\n",
              "    <tr>\n",
              "      <th>17</th>\n",
              "      <td>HS</td>\n",
              "      <td>Hastings-Sunrise</td>\n",
              "      <td>49.275951</td>\n",
              "      <td>-123.041252</td>\n",
              "    </tr>\n",
              "    <tr>\n",
              "      <th>18</th>\n",
              "      <td>VF</td>\n",
              "      <td>Victoria-Fraserview</td>\n",
              "      <td>49.220273</td>\n",
              "      <td>-123.063993</td>\n",
              "    </tr>\n",
              "    <tr>\n",
              "      <th>19</th>\n",
              "      <td>KC</td>\n",
              "      <td>Kensington-Cedar Cottage</td>\n",
              "      <td>49.246225</td>\n",
              "      <td>-123.074036</td>\n",
              "    </tr>\n",
              "    <tr>\n",
              "      <th>20</th>\n",
              "      <td>STR</td>\n",
              "      <td>Strathcona</td>\n",
              "      <td>49.273320</td>\n",
              "      <td>-123.089306</td>\n",
              "    </tr>\n",
              "    <tr>\n",
              "      <th>21</th>\n",
              "      <td>GW</td>\n",
              "      <td>Grandview-Woodland</td>\n",
              "      <td>49.274305</td>\n",
              "      <td>-123.067423</td>\n",
              "    </tr>\n",
              "  </tbody>\n",
              "</table>\n",
              "</div>"
            ],
            "text/plain": [
              "   MAPID                      NAME   Latitude   Longitude\n",
              "0    SUN                    Sunset  49.218650 -123.091376\n",
              "1     MP            Mount Pleasant  49.263060 -123.099888\n",
              "2     RP                Riley Park  49.244679 -123.103239\n",
              "3    CBD                  Downtown  49.279255 -123.119137\n",
              "4   KITS                 Kitsilano  49.265663 -123.166947\n",
              "5     DS         Dunbar-Southlands  49.242361 -123.185280\n",
              "6   KERR                Kerrisdale  49.225466 -123.157878\n",
              "7     AR             Arbutus-Ridge  49.245938 -123.160737\n",
              "8    WPG           West Point Grey  49.265928 -123.202077\n",
              "9   MARP                   Marpole  49.210702 -123.130159\n",
              "10   OAK                  Oakridge  49.226350 -123.123689\n",
              "11  SHAU               Shaughnessy  49.244443 -123.140041\n",
              "12  FAIR                  Fairview  49.263421 -123.131514\n",
              "13    SC              South Cambie  49.245246 -123.121495\n",
              "14    WE                  West End  49.285170 -123.134074\n",
              "15   KIL                 Killarney  49.220042 -123.038120\n",
              "16    RC       Renfrew-Collingwood  49.248648 -123.040758\n",
              "17    HS          Hastings-Sunrise  49.275951 -123.041252\n",
              "18    VF       Victoria-Fraserview  49.220273 -123.063993\n",
              "19    KC  Kensington-Cedar Cottage  49.246225 -123.074036\n",
              "20   STR                Strathcona  49.273320 -123.089306\n",
              "21    GW        Grandview-Woodland  49.274305 -123.067423"
            ]
          },
          "metadata": {
            "tags": []
          },
          "execution_count": 4
        }
      ]
    },
    {
      "cell_type": "code",
      "metadata": {
        "id": "KhODlL5aazkp",
        "colab_type": "code",
        "outputId": "26c9b76b-9cc2-4184-dd1a-9da5f6456774",
        "colab": {
          "base_uri": "https://localhost:8080/",
          "height": 35
        }
      },
      "source": [
        "# Given a neighbourhood and a radius this code generates a random point in it and returns co-ordinates\n",
        "\n",
        "import random\n",
        "import math\n",
        "\n",
        "def RandomLatLong(nieghbourhood, radius):\n",
        "  \n",
        "  r = radius/111300            \n",
        "  \n",
        "  row = neighbourhoods[neighbourhoods['NAME'] == nieghbourhood]\n",
        "\n",
        "  x0 = float(row['Latitude'])\n",
        "  y0 = float(row['Longitude'])\n",
        "  \n",
        "  u = float(random.uniform(0.0,1.0))\n",
        "  v = float(random.uniform(0.0,1.0))\n",
        "\n",
        "  w = r * math.sqrt(u)\n",
        "  t = 2 * math.pi * v\n",
        "  x = w * math.cos(t) \n",
        "  y = w * math.sin(t)\n",
        "\n",
        "  xLat  = x + x0\n",
        "  yLong = y + y0\n",
        "\n",
        "  return (xLat, yLong)\n",
        "\n",
        "RandomLatLong('Fairview', 500)"
      ],
      "execution_count": 5,
      "outputs": [
        {
          "output_type": "execute_result",
          "data": {
            "text/plain": [
              "(49.265266062912325, -123.13053701698634)"
            ]
          },
          "metadata": {
            "tags": []
          },
          "execution_count": 5
        }
      ]
    },
    {
      "cell_type": "markdown",
      "metadata": {
        "id": "7xfkROGUgc00",
        "colab_type": "text"
      },
      "source": [
        "##### Import Graffiti and Function to get distance from Graffiti"
      ]
    },
    {
      "cell_type": "code",
      "metadata": {
        "id": "BsFdXlRqa1Vi",
        "colab_type": "code",
        "outputId": "7cec3d68-6688-4394-f952-20cbaeb0d890",
        "colab": {
          "base_uri": "https://localhost:8080/",
          "height": 113
        }
      },
      "source": [
        "# Import a list of all graffiti locations\n",
        "\n",
        "gr_file_path = 'https://raw.githubusercontent.com/NasirKhalid24/ELE494-Project/master/Datasets/Graffiti.csv'\n",
        "\n",
        "graffiti = pd.read_csv(gr_file_path)\n",
        "print(\"Number of graffiti instances: \" + str(graffiti.shape))\n",
        "print(\"Sample row\")\n",
        "graffiti.head(1)"
      ],
      "execution_count": 6,
      "outputs": [
        {
          "output_type": "stream",
          "text": [
            "Number of graffiti instances: (8507, 2)\n",
            "Sample row\n"
          ],
          "name": "stdout"
        },
        {
          "output_type": "execute_result",
          "data": {
            "text/html": [
              "<div>\n",
              "<style scoped>\n",
              "    .dataframe tbody tr th:only-of-type {\n",
              "        vertical-align: middle;\n",
              "    }\n",
              "\n",
              "    .dataframe tbody tr th {\n",
              "        vertical-align: top;\n",
              "    }\n",
              "\n",
              "    .dataframe thead th {\n",
              "        text-align: right;\n",
              "    }\n",
              "</style>\n",
              "<table border=\"1\" class=\"dataframe\">\n",
              "  <thead>\n",
              "    <tr style=\"text-align: right;\">\n",
              "      <th></th>\n",
              "      <th>Latitude</th>\n",
              "      <th>Longitude</th>\n",
              "    </tr>\n",
              "  </thead>\n",
              "  <tbody>\n",
              "    <tr>\n",
              "      <th>0</th>\n",
              "      <td>49.22386</td>\n",
              "      <td>-123.090426</td>\n",
              "    </tr>\n",
              "  </tbody>\n",
              "</table>\n",
              "</div>"
            ],
            "text/plain": [
              "   Latitude   Longitude\n",
              "0  49.22386 -123.090426"
            ]
          },
          "metadata": {
            "tags": []
          },
          "execution_count": 6
        }
      ]
    },
    {
      "cell_type": "code",
      "metadata": {
        "id": "RvEYKwZrci4x",
        "colab_type": "code",
        "outputId": "2369eb19-bac2-469c-e7ef-4e4f14583343",
        "colab": {
          "base_uri": "https://localhost:8080/",
          "height": 69
        }
      },
      "source": [
        "# Convert all coordinates to radians for easier calculations later\n",
        "graffiti = graffiti.apply(np.radians)\n",
        "print(\"Sample row\")\n",
        "print(graffiti.head(1))\n",
        "graffiti = graffiti.values"
      ],
      "execution_count": 7,
      "outputs": [
        {
          "output_type": "stream",
          "text": [
            "Sample row\n",
            "   Latitude  Longitude\n",
            "0  0.859118  -2.148333\n"
          ],
          "name": "stdout"
        }
      ]
    },
    {
      "cell_type": "code",
      "metadata": {
        "id": "Ax6HM8uAbfC9",
        "colab_type": "code",
        "outputId": "9e535d54-cc19-4c60-819a-3ca946bb6efe",
        "colab": {
          "base_uri": "https://localhost:8080/",
          "height": 35
        }
      },
      "source": [
        "def DistanceToGraffiti(lat1, lon1):\n",
        "    r = 6371 # Radius of earth in kilometers\n",
        "    \n",
        "    coordinates = np.array([np.radians(lat1), np.radians(lon1)])\n",
        "    diff_array = graffiti - coordinates\n",
        "    \n",
        "    # Applying the haversine formula as array functions for speed\n",
        "    a = np.square(np.sin(diff_array[:, 0]/2.0)) + np.cos(coordinates[0]) * np.cos(graffiti[:, 0]) * np.square(np.sin(diff_array[:, 1]/2.0))\n",
        "    c = 2 * np.arcsin(np.sqrt(a)) \n",
        "    return np.amin(c)*r\n",
        "\n",
        "DistanceToGraffiti(49.2650765,-123.1184743)"
      ],
      "execution_count": 8,
      "outputs": [
        {
          "output_type": "execute_result",
          "data": {
            "text/plain": [
              "0.04076535081267878"
            ]
          },
          "metadata": {
            "tags": []
          },
          "execution_count": 8
        }
      ]
    },
    {
      "cell_type": "markdown",
      "metadata": {
        "id": "4noydWb5gh_I",
        "colab_type": "text"
      },
      "source": [
        "##### Import Drinking fountain and Function to get distance from Drinking fountain"
      ]
    },
    {
      "cell_type": "code",
      "metadata": {
        "id": "lASPMY7ofdla",
        "colab_type": "code",
        "outputId": "b69e9cc1-adbf-4b0d-d9ea-2d1bf97c3582",
        "colab": {
          "base_uri": "https://localhost:8080/",
          "height": 113
        }
      },
      "source": [
        "# Import a list of all drinking fountain locations\n",
        "\n",
        "df_file_path = 'https://raw.githubusercontent.com/NasirKhalid24/ELE494-Project/master/Datasets/drinking_fountains.csv'\n",
        "\n",
        "drinking = pd.read_csv(df_file_path)\n",
        "drinking = drinking[['LATITUDE', 'LONGITUDE']]\n",
        "print(\"Number of drinking fountains: \" + str(drinking.shape))\n",
        "print(\"Sample row\")\n",
        "drinking.head(1)"
      ],
      "execution_count": 9,
      "outputs": [
        {
          "output_type": "stream",
          "text": [
            "Number of drinking fountains: (240, 2)\n",
            "Sample row\n"
          ],
          "name": "stdout"
        },
        {
          "output_type": "execute_result",
          "data": {
            "text/html": [
              "<div>\n",
              "<style scoped>\n",
              "    .dataframe tbody tr th:only-of-type {\n",
              "        vertical-align: middle;\n",
              "    }\n",
              "\n",
              "    .dataframe tbody tr th {\n",
              "        vertical-align: top;\n",
              "    }\n",
              "\n",
              "    .dataframe thead th {\n",
              "        text-align: right;\n",
              "    }\n",
              "</style>\n",
              "<table border=\"1\" class=\"dataframe\">\n",
              "  <thead>\n",
              "    <tr style=\"text-align: right;\">\n",
              "      <th></th>\n",
              "      <th>LATITUDE</th>\n",
              "      <th>LONGITUDE</th>\n",
              "    </tr>\n",
              "  </thead>\n",
              "  <tbody>\n",
              "    <tr>\n",
              "      <th>0</th>\n",
              "      <td>49.234947</td>\n",
              "      <td>-123.027254</td>\n",
              "    </tr>\n",
              "  </tbody>\n",
              "</table>\n",
              "</div>"
            ],
            "text/plain": [
              "    LATITUDE   LONGITUDE\n",
              "0  49.234947 -123.027254"
            ]
          },
          "metadata": {
            "tags": []
          },
          "execution_count": 9
        }
      ]
    },
    {
      "cell_type": "code",
      "metadata": {
        "id": "CF92ly20f-xW",
        "colab_type": "code",
        "outputId": "f61c6ece-f8dd-406b-8a96-95d8dc1ffeaf",
        "colab": {
          "base_uri": "https://localhost:8080/",
          "height": 69
        }
      },
      "source": [
        "# Convert all coordinates to radians for easier calculations later\n",
        "drinking = drinking.apply(np.radians)\n",
        "print(\"Sample row\")\n",
        "print(drinking.head(1))\n",
        "drinking = drinking.values"
      ],
      "execution_count": 10,
      "outputs": [
        {
          "output_type": "stream",
          "text": [
            "Sample row\n",
            "   LATITUDE  LONGITUDE\n",
            "0  0.859312  -2.147231\n"
          ],
          "name": "stdout"
        }
      ]
    },
    {
      "cell_type": "code",
      "metadata": {
        "id": "d1XBMQ_YgC0e",
        "colab_type": "code",
        "outputId": "3081cefc-96ba-47aa-ab14-c88cbe066cb6",
        "colab": {
          "base_uri": "https://localhost:8080/",
          "height": 35
        }
      },
      "source": [
        "def DistanceToFountain(lat1, lon1):\n",
        "    r = 6371 # Radius of earth in kilometers\n",
        "    \n",
        "    coordinates = np.array([np.radians(lat1), np.radians(lon1)])\n",
        "    diff_array = drinking - coordinates\n",
        "    \n",
        "    # Applying the haversine formula as array functions for speed\n",
        "    a = np.square(np.sin(diff_array[:, 0]/2.0)) + np.cos(coordinates[0]) * np.cos(drinking[:, 0]) * np.square(np.sin(diff_array[:, 1]/2.0))\n",
        "    c = 2 * np.arcsin(np.sqrt(a)) \n",
        "    return np.amin(c)*r\n",
        "\n",
        "DistanceToFountain(49.2650765,-123.1184743)"
      ],
      "execution_count": 11,
      "outputs": [
        {
          "output_type": "execute_result",
          "data": {
            "text/plain": [
              "0.40229507588315133"
            ]
          },
          "metadata": {
            "tags": []
          },
          "execution_count": 11
        }
      ]
    },
    {
      "cell_type": "markdown",
      "metadata": {
        "id": "RIFWP5OHyHRO",
        "colab_type": "text"
      },
      "source": [
        "#### Upsample every 30 minute and add data points"
      ]
    },
    {
      "cell_type": "code",
      "metadata": {
        "id": "N569yqfLyGp7",
        "colab_type": "code",
        "colab": {}
      },
      "source": [
        "import random\n",
        "\n",
        "df_extra = df.groupby(level=0).count().resample('30min').asfreq()\n",
        "df_extra = df_extra[pd.isna((df_extra['HOUR']))]\n",
        "\n",
        "df_extra['Crime'] = 0\n",
        "df_extra['YEAR'] = df_extra.index.year\n",
        "df_extra['MONTH'] = df_extra.index.month\n",
        "df_extra['DAY'] = df_extra.index.day\n",
        "df_extra['HOUR'] = df_extra.index.hour\n",
        "df_extra['MINUTE'] = df_extra.index.minute\n",
        "df_extra['Neighbourhood'] = [neighbourhoods.sample()['NAME'].values[0] for i in range(0,df_extra.values.shape[0])]\n",
        "df_extra[['Latitude', 'Longitude']] = df_extra['Neighbourhood'].apply(lambda x: RandomLatLong(x, 500)).apply(pd.Series)\n",
        "df_extra['Graffiti'] = df_extra.apply(lambda x: DistanceToGraffiti(x['Latitude'], x['Longitude']), axis=1)\n",
        "df_extra['Drinking_Fountain'] = df_extra.apply(lambda x: DistanceToFountain(x['Latitude'], x['Longitude']), axis=1)"
      ],
      "execution_count": 0,
      "outputs": []
    },
    {
      "cell_type": "code",
      "metadata": {
        "id": "hSVziaPtz3XQ",
        "colab_type": "code",
        "colab": {
          "base_uri": "https://localhost:8080/",
          "height": 198
        },
        "outputId": "9f4853d8-44ae-4e5d-df4f-fabadeb61b04"
      },
      "source": [
        "df_extra.head(4)"
      ],
      "execution_count": 48,
      "outputs": [
        {
          "output_type": "execute_result",
          "data": {
            "text/html": [
              "<div>\n",
              "<style scoped>\n",
              "    .dataframe tbody tr th:only-of-type {\n",
              "        vertical-align: middle;\n",
              "    }\n",
              "\n",
              "    .dataframe tbody tr th {\n",
              "        vertical-align: top;\n",
              "    }\n",
              "\n",
              "    .dataframe thead th {\n",
              "        text-align: right;\n",
              "    }\n",
              "</style>\n",
              "<table border=\"1\" class=\"dataframe\">\n",
              "  <thead>\n",
              "    <tr style=\"text-align: right;\">\n",
              "      <th></th>\n",
              "      <th>YEAR</th>\n",
              "      <th>MONTH</th>\n",
              "      <th>DAY</th>\n",
              "      <th>HOUR</th>\n",
              "      <th>MINUTE</th>\n",
              "      <th>Neighbourhood</th>\n",
              "      <th>Latitude</th>\n",
              "      <th>Longitude</th>\n",
              "      <th>Graffiti</th>\n",
              "      <th>Drinking_Fountain</th>\n",
              "      <th>Crime</th>\n",
              "    </tr>\n",
              "    <tr>\n",
              "      <th>DateTimeMix</th>\n",
              "      <th></th>\n",
              "      <th></th>\n",
              "      <th></th>\n",
              "      <th></th>\n",
              "      <th></th>\n",
              "      <th></th>\n",
              "      <th></th>\n",
              "      <th></th>\n",
              "      <th></th>\n",
              "      <th></th>\n",
              "      <th></th>\n",
              "    </tr>\n",
              "  </thead>\n",
              "  <tbody>\n",
              "    <tr>\n",
              "      <th>2004-01-01 00:30:00</th>\n",
              "      <td>2004</td>\n",
              "      <td>1</td>\n",
              "      <td>1</td>\n",
              "      <td>0</td>\n",
              "      <td>30</td>\n",
              "      <td>West End</td>\n",
              "      <td>49.287706</td>\n",
              "      <td>-123.137753</td>\n",
              "      <td>0.026087</td>\n",
              "      <td>0.140098</td>\n",
              "      <td>0</td>\n",
              "    </tr>\n",
              "    <tr>\n",
              "      <th>2004-01-01 01:30:00</th>\n",
              "      <td>2004</td>\n",
              "      <td>1</td>\n",
              "      <td>1</td>\n",
              "      <td>1</td>\n",
              "      <td>30</td>\n",
              "      <td>Grandview-Woodland</td>\n",
              "      <td>49.276328</td>\n",
              "      <td>-123.067670</td>\n",
              "      <td>0.062283</td>\n",
              "      <td>0.328798</td>\n",
              "      <td>0</td>\n",
              "    </tr>\n",
              "    <tr>\n",
              "      <th>2004-01-01 02:00:00</th>\n",
              "      <td>2004</td>\n",
              "      <td>1</td>\n",
              "      <td>1</td>\n",
              "      <td>2</td>\n",
              "      <td>0</td>\n",
              "      <td>Kerrisdale</td>\n",
              "      <td>49.225972</td>\n",
              "      <td>-123.156607</td>\n",
              "      <td>0.072732</td>\n",
              "      <td>0.383322</td>\n",
              "      <td>0</td>\n",
              "    </tr>\n",
              "    <tr>\n",
              "      <th>2004-01-01 02:30:00</th>\n",
              "      <td>2004</td>\n",
              "      <td>1</td>\n",
              "      <td>1</td>\n",
              "      <td>2</td>\n",
              "      <td>30</td>\n",
              "      <td>Renfrew-Collingwood</td>\n",
              "      <td>49.246673</td>\n",
              "      <td>-123.038134</td>\n",
              "      <td>0.178193</td>\n",
              "      <td>0.669119</td>\n",
              "      <td>0</td>\n",
              "    </tr>\n",
              "  </tbody>\n",
              "</table>\n",
              "</div>"
            ],
            "text/plain": [
              "                     YEAR  MONTH  DAY  HOUR  MINUTE        Neighbourhood  \\\n",
              "DateTimeMix                                                                \n",
              "2004-01-01 00:30:00  2004      1    1     0      30             West End   \n",
              "2004-01-01 01:30:00  2004      1    1     1      30   Grandview-Woodland   \n",
              "2004-01-01 02:00:00  2004      1    1     2       0           Kerrisdale   \n",
              "2004-01-01 02:30:00  2004      1    1     2      30  Renfrew-Collingwood   \n",
              "\n",
              "                      Latitude   Longitude  Graffiti  Drinking_Fountain  Crime  \n",
              "DateTimeMix                                                                     \n",
              "2004-01-01 00:30:00  49.287706 -123.137753  0.026087           0.140098      0  \n",
              "2004-01-01 01:30:00  49.276328 -123.067670  0.062283           0.328798      0  \n",
              "2004-01-01 02:00:00  49.225972 -123.156607  0.072732           0.383322      0  \n",
              "2004-01-01 02:30:00  49.246673 -123.038134  0.178193           0.669119      0  "
            ]
          },
          "metadata": {
            "tags": []
          },
          "execution_count": 48
        }
      ]
    },
    {
      "cell_type": "code",
      "metadata": {
        "id": "qn0pA4ul6hD5",
        "colab_type": "code",
        "colab": {
          "base_uri": "https://localhost:8080/",
          "height": 86
        },
        "outputId": "d0a3d55f-a964-40c5-eb2c-f5de7e4f783a"
      },
      "source": [
        "print(\"Shape of Original Dataset: \" + str(df.shape) + \"\\n\")\n",
        "\n",
        "df = df.append(df_extra)\n",
        "\n",
        "print(\"Shape of Upsampled Dataset with No crime values: \" + str(df.shape) + \"\\n\")"
      ],
      "execution_count": 50,
      "outputs": [
        {
          "output_type": "stream",
          "text": [
            "Shape of Original Dataset: (428141, 11)\n",
            "\n",
            "Shape of Upsampled Dataset with No crime values: (542276, 11)\n",
            "\n"
          ],
          "name": "stdout"
        }
      ]
    },
    {
      "cell_type": "markdown",
      "metadata": {
        "id": "vqaiTSXa7dix",
        "colab_type": "text"
      },
      "source": [
        "#### Extract network input and output and make sets"
      ]
    },
    {
      "cell_type": "code",
      "metadata": {
        "id": "i__0LvQX7gxq",
        "colab_type": "code",
        "colab": {}
      },
      "source": [
        "Y = df['Crime'].values\n",
        "X = df[['YEAR','MONTH','DAY','HOUR', 'MINUTE', 'Latitude', 'Longitude', 'Graffiti', 'Drinking_Fountain']].values"
      ],
      "execution_count": 0,
      "outputs": []
    },
    {
      "cell_type": "code",
      "metadata": {
        "id": "XCX2i1ShfQb0",
        "colab_type": "code",
        "outputId": "8cff5131-7ea0-42c4-feb6-70dd3b987db5",
        "colab": {
          "base_uri": "https://localhost:8080/",
          "height": 69
        }
      },
      "source": [
        "X[0]"
      ],
      "execution_count": 109,
      "outputs": [
        {
          "output_type": "execute_result",
          "data": {
            "text/plain": [
              "array([ 2.00400000e+03,  1.00000000e+01,  8.00000000e+00,  2.10000000e+01,\n",
              "        0.00000000e+00,  4.92650765e+01, -1.23118474e+02,  4.07653508e-02,\n",
              "        4.02295076e-01])"
            ]
          },
          "metadata": {
            "tags": []
          },
          "execution_count": 109
        }
      ]
    },
    {
      "cell_type": "code",
      "metadata": {
        "id": "OgcTRTUhfSEz",
        "colab_type": "code",
        "outputId": "ba0253eb-a281-49e1-cd55-546e2308c8d1",
        "colab": {
          "base_uri": "https://localhost:8080/",
          "height": 35
        }
      },
      "source": [
        "Y[0]"
      ],
      "execution_count": 110,
      "outputs": [
        {
          "output_type": "execute_result",
          "data": {
            "text/plain": [
              "1"
            ]
          },
          "metadata": {
            "tags": []
          },
          "execution_count": 110
        }
      ]
    },
    {
      "cell_type": "code",
      "metadata": {
        "id": "WYwmseUiEg2D",
        "colab_type": "code",
        "colab": {
          "base_uri": "https://localhost:8080/",
          "height": 52
        },
        "outputId": "dd13a9a5-14fe-4122-c6aa-73a50d383aee"
      },
      "source": [
        "from sklearn.preprocessing import MinMaxScaler\n",
        "\n",
        "scaler = MinMaxScaler()\n",
        "\n",
        "scaler.fit(X)\n",
        "X = scaler.transform(X)\n",
        "print(X[0])"
      ],
      "execution_count": 111,
      "outputs": [
        {
          "output_type": "stream",
          "text": [
            "[0.         0.81818182 0.23333333 0.91304348 0.         0.57072995\n",
            " 0.52565412 0.01767776 0.17955004]\n"
          ],
          "name": "stdout"
        }
      ]
    },
    {
      "cell_type": "code",
      "metadata": {
        "id": "QI7h8QVa7uex",
        "colab_type": "code",
        "colab": {
          "base_uri": "https://localhost:8080/",
          "height": 86
        },
        "outputId": "6e55de27-582d-4e98-98a6-0af2f047e920"
      },
      "source": [
        "from sklearn.model_selection import train_test_split\n",
        "\n",
        "X_train, X_test, Y_train, Y_test = train_test_split(X, Y, test_size=0.33, random_state=42)\n",
        "\n",
        "print(\"Training Data Size: \" + str(X_train.shape))\n",
        "print(\"Testing Data Size:\" + str(X_test.shape))\n",
        "print(\"Training Label Size: \" + str(Y_train.shape))\n",
        "print(\"Testing Label Size: \" + str(Y_test.shape))"
      ],
      "execution_count": 112,
      "outputs": [
        {
          "output_type": "stream",
          "text": [
            "Training Data Size: (363324, 9)\n",
            "Testing Data Size:(178952, 9)\n",
            "Training Label Size: (363324,)\n",
            "Testing Label Size: (178952,)\n"
          ],
          "name": "stdout"
        }
      ]
    },
    {
      "cell_type": "code",
      "metadata": {
        "id": "lGluk-J68FwR",
        "colab_type": "code",
        "colab": {}
      },
      "source": [
        "import matplotlib.pyplot as plt\n",
        "import numpy as np\n",
        "\n",
        "# Function to plot loss and accuracy vs epochs\n",
        "def loss_curve(history):\n",
        "  train_loss = history.history['loss']\n",
        "  val_loss = history.history['val_loss']\n",
        "  x_axis     = range(1, len(history.history['loss'])+1)\n",
        "  \n",
        "  plt.figure()\n",
        "  plt.plot(x_axis, train_loss, label=\"Training Loss\")\n",
        "  plt.plot(x_axis, val_loss, label=\"Validation Loss\")\n",
        "  plt.ylabel('Loss Value')\n",
        "  plt.xlabel('Epochs')\n",
        "  plt.title('Epochs vs Loss')\n",
        "  plt.legend()\n",
        "  \n",
        "def accuracy(history):\n",
        "  acc  = history.history['acc']\n",
        "  val_acc = history.history['val_acc']\n",
        "  x_axis     = range(1, len(history.history['acc'])+1)\n",
        "  \n",
        "  plt.figure()\n",
        "  plt.plot(x_axis, np.dot(acc,100), label=\"Accuracy\")\n",
        "  plt.plot(x_axis, np.dot(val_acc, 100), label=\"Validation Accuracy\")\n",
        "  plt.ylabel('Accuracy')\n",
        "  plt.xlabel('Epochs')\n",
        "  plt.title('Epochs vs Accuracy')\n",
        "  plt.legend()"
      ],
      "execution_count": 0,
      "outputs": []
    },
    {
      "cell_type": "markdown",
      "metadata": {
        "id": "MO3HiFRD8KPn",
        "colab_type": "text"
      },
      "source": [
        "#### Training Network"
      ]
    },
    {
      "cell_type": "code",
      "metadata": {
        "id": "ueaauFB08Ms7",
        "colab_type": "code",
        "colab": {
          "base_uri": "https://localhost:8080/",
          "height": 345
        },
        "outputId": "a2cad9cb-6d79-43b4-ee58-037f5c250ee5"
      },
      "source": [
        "from keras.layers import Dense, Dropout\n",
        "from keras.models import Sequential\n",
        "\n",
        "model = Sequential()\n",
        "\n",
        "model.add(Dense(64, activation='sigmoid', input_shape=(X_train.shape[1], ) ) )\n",
        "model.add(Dense(128, activation='sigmoid') )\n",
        "model.add(Dense(512, activation='sigmoid') )\n",
        "model.add(Dense(128, activation='sigmoid') )\n",
        "model.add(Dense(64, activation='sigmoid') )\n",
        "\n",
        "\n",
        "model.add(Dense(1, activation='sigmoid') )\n",
        "\n",
        "model.compile(optimizer='rmsprop',\n",
        "                loss='binary_crossentropy',\n",
        "                metrics=['accuracy'])\n",
        "\n",
        "model.summary()"
      ],
      "execution_count": 121,
      "outputs": [
        {
          "output_type": "stream",
          "text": [
            "_________________________________________________________________\n",
            "Layer (type)                 Output Shape              Param #   \n",
            "=================================================================\n",
            "dense_82 (Dense)             (None, 64)                640       \n",
            "_________________________________________________________________\n",
            "dense_83 (Dense)             (None, 128)               8320      \n",
            "_________________________________________________________________\n",
            "dense_84 (Dense)             (None, 512)               66048     \n",
            "_________________________________________________________________\n",
            "dense_85 (Dense)             (None, 128)               65664     \n",
            "_________________________________________________________________\n",
            "dense_86 (Dense)             (None, 64)                8256      \n",
            "_________________________________________________________________\n",
            "dense_87 (Dense)             (None, 1)                 65        \n",
            "=================================================================\n",
            "Total params: 148,993\n",
            "Trainable params: 148,993\n",
            "Non-trainable params: 0\n",
            "_________________________________________________________________\n"
          ],
          "name": "stdout"
        }
      ]
    },
    {
      "cell_type": "code",
      "metadata": {
        "id": "Nl9D9mWJ8VkX",
        "colab_type": "code",
        "colab": {
          "base_uri": "https://localhost:8080/",
          "height": 1762
        },
        "outputId": "ab66128b-71de-4720-87a5-d57a450946e9"
      },
      "source": [
        "history = model.fit(X_train, Y_train,\n",
        "          epochs = 50,\n",
        "          batch_size=128,\n",
        "          validation_split=0.1,\n",
        "          verbose = 1)"
      ],
      "execution_count": 122,
      "outputs": [
        {
          "output_type": "stream",
          "text": [
            "Train on 326991 samples, validate on 36333 samples\n",
            "Epoch 1/50\n",
            "326991/326991 [==============================] - 10s 32us/step - loss: 0.4630 - acc: 0.7911 - val_loss: 0.4429 - val_acc: 0.7932\n",
            "Epoch 2/50\n",
            "326991/326991 [==============================] - 9s 29us/step - loss: 0.4443 - acc: 0.7949 - val_loss: 0.4390 - val_acc: 0.7945\n",
            "Epoch 3/50\n",
            "326991/326991 [==============================] - 11s 34us/step - loss: 0.4431 - acc: 0.7956 - val_loss: 0.4391 - val_acc: 0.7978\n",
            "Epoch 4/50\n",
            "326991/326991 [==============================] - 9s 29us/step - loss: 0.4425 - acc: 0.7954 - val_loss: 0.4385 - val_acc: 0.7936\n",
            "Epoch 5/50\n",
            "326991/326991 [==============================] - 9s 29us/step - loss: 0.4408 - acc: 0.7961 - val_loss: 0.4340 - val_acc: 0.7983\n",
            "Epoch 6/50\n",
            "326991/326991 [==============================] - 9s 29us/step - loss: 0.4147 - acc: 0.8075 - val_loss: 0.3550 - val_acc: 0.8378\n",
            "Epoch 7/50\n",
            "326991/326991 [==============================] - 9s 29us/step - loss: 0.3378 - acc: 0.8392 - val_loss: 0.3374 - val_acc: 0.8411\n",
            "Epoch 8/50\n",
            "326991/326991 [==============================] - 9s 28us/step - loss: 0.3304 - acc: 0.8405 - val_loss: 0.3172 - val_acc: 0.8459\n",
            "Epoch 9/50\n",
            "326991/326991 [==============================] - 9s 28us/step - loss: 0.3282 - acc: 0.8411 - val_loss: 0.3205 - val_acc: 0.8436\n",
            "Epoch 10/50\n",
            "326991/326991 [==============================] - 9s 29us/step - loss: 0.3264 - acc: 0.8413 - val_loss: 0.3211 - val_acc: 0.8447\n",
            "Epoch 11/50\n",
            "326991/326991 [==============================] - 10s 31us/step - loss: 0.3254 - acc: 0.8421 - val_loss: 0.3133 - val_acc: 0.8476\n",
            "Epoch 12/50\n",
            "326991/326991 [==============================] - 10s 31us/step - loss: 0.3244 - acc: 0.8423 - val_loss: 0.3134 - val_acc: 0.8478\n",
            "Epoch 13/50\n",
            "326991/326991 [==============================] - 11s 34us/step - loss: 0.3232 - acc: 0.8425 - val_loss: 0.3144 - val_acc: 0.8468\n",
            "Epoch 14/50\n",
            "326991/326991 [==============================] - 9s 29us/step - loss: 0.3224 - acc: 0.8427 - val_loss: 0.3136 - val_acc: 0.8454\n",
            "Epoch 15/50\n",
            "326991/326991 [==============================] - 9s 28us/step - loss: 0.3217 - acc: 0.8434 - val_loss: 0.3139 - val_acc: 0.8463\n",
            "Epoch 16/50\n",
            "326991/326991 [==============================] - 9s 28us/step - loss: 0.3198 - acc: 0.8446 - val_loss: 0.3107 - val_acc: 0.8502\n",
            "Epoch 17/50\n",
            "326991/326991 [==============================] - 9s 29us/step - loss: 0.3161 - acc: 0.8473 - val_loss: 0.3394 - val_acc: 0.8310\n",
            "Epoch 18/50\n",
            "326991/326991 [==============================] - 9s 28us/step - loss: 0.3044 - acc: 0.8566 - val_loss: 0.2983 - val_acc: 0.8579\n",
            "Epoch 19/50\n",
            "326991/326991 [==============================] - 10s 29us/step - loss: 0.2977 - acc: 0.8616 - val_loss: 0.2874 - val_acc: 0.8678\n",
            "Epoch 20/50\n",
            "326991/326991 [==============================] - 10s 32us/step - loss: 0.2950 - acc: 0.8628 - val_loss: 0.3080 - val_acc: 0.8536\n",
            "Epoch 21/50\n",
            "326991/326991 [==============================] - 9s 28us/step - loss: 0.2932 - acc: 0.8637 - val_loss: 0.2830 - val_acc: 0.8696\n",
            "Epoch 22/50\n",
            "326991/326991 [==============================] - 9s 29us/step - loss: 0.2913 - acc: 0.8647 - val_loss: 0.2885 - val_acc: 0.8639\n",
            "Epoch 23/50\n",
            "326991/326991 [==============================] - 9s 29us/step - loss: 0.2900 - acc: 0.8652 - val_loss: 0.2812 - val_acc: 0.8703\n",
            "Epoch 24/50\n",
            "326991/326991 [==============================] - 9s 28us/step - loss: 0.2893 - acc: 0.8657 - val_loss: 0.2793 - val_acc: 0.8707\n",
            "Epoch 25/50\n",
            "326991/326991 [==============================] - 9s 28us/step - loss: 0.2885 - acc: 0.8661 - val_loss: 0.3246 - val_acc: 0.8520\n",
            "Epoch 26/50\n",
            "326991/326991 [==============================] - 9s 28us/step - loss: 0.2876 - acc: 0.8669 - val_loss: 0.2781 - val_acc: 0.8698\n",
            "Epoch 27/50\n",
            "326991/326991 [==============================] - 9s 28us/step - loss: 0.2871 - acc: 0.8666 - val_loss: 0.3102 - val_acc: 0.8549\n",
            "Epoch 28/50\n",
            "326991/326991 [==============================] - 10s 32us/step - loss: 0.2864 - acc: 0.8673 - val_loss: 0.2792 - val_acc: 0.8713\n",
            "Epoch 29/50\n",
            "326991/326991 [==============================] - 10s 30us/step - loss: 0.2856 - acc: 0.8676 - val_loss: 0.2790 - val_acc: 0.8702\n",
            "Epoch 30/50\n",
            "326991/326991 [==============================] - 9s 28us/step - loss: 0.2853 - acc: 0.8674 - val_loss: 0.2747 - val_acc: 0.8727\n",
            "Epoch 31/50\n",
            "326991/326991 [==============================] - 9s 28us/step - loss: 0.2854 - acc: 0.8679 - val_loss: 0.2785 - val_acc: 0.8697\n",
            "Epoch 32/50\n",
            "326991/326991 [==============================] - 9s 28us/step - loss: 0.2842 - acc: 0.8683 - val_loss: 0.2742 - val_acc: 0.8727\n",
            "Epoch 33/50\n",
            "326991/326991 [==============================] - 9s 28us/step - loss: 0.2834 - acc: 0.8691 - val_loss: 0.2851 - val_acc: 0.8669\n",
            "Epoch 34/50\n",
            "326991/326991 [==============================] - 9s 29us/step - loss: 0.2832 - acc: 0.8687 - val_loss: 0.2760 - val_acc: 0.8718\n",
            "Epoch 35/50\n",
            "326991/326991 [==============================] - 10s 30us/step - loss: 0.2827 - acc: 0.8690 - val_loss: 0.2751 - val_acc: 0.8722\n",
            "Epoch 36/50\n",
            "326991/326991 [==============================] - 10s 30us/step - loss: 0.2825 - acc: 0.8692 - val_loss: 0.2724 - val_acc: 0.8748\n",
            "Epoch 37/50\n",
            "326991/326991 [==============================] - 10s 31us/step - loss: 0.2820 - acc: 0.8696 - val_loss: 0.2727 - val_acc: 0.8740\n",
            "Epoch 38/50\n",
            "326991/326991 [==============================] - 9s 29us/step - loss: 0.2814 - acc: 0.8703 - val_loss: 0.2763 - val_acc: 0.8706\n",
            "Epoch 39/50\n",
            "326991/326991 [==============================] - 9s 28us/step - loss: 0.2813 - acc: 0.8701 - val_loss: 0.2749 - val_acc: 0.8722\n",
            "Epoch 40/50\n",
            "326991/326991 [==============================] - 9s 28us/step - loss: 0.2806 - acc: 0.8703 - val_loss: 0.2799 - val_acc: 0.8673\n",
            "Epoch 41/50\n",
            "326991/326991 [==============================] - 9s 28us/step - loss: 0.2803 - acc: 0.8702 - val_loss: 0.2733 - val_acc: 0.8730\n",
            "Epoch 42/50\n",
            "326991/326991 [==============================] - 9s 28us/step - loss: 0.2803 - acc: 0.8708 - val_loss: 0.2818 - val_acc: 0.8707\n",
            "Epoch 43/50\n",
            "326991/326991 [==============================] - 9s 28us/step - loss: 0.2794 - acc: 0.8711 - val_loss: 0.2717 - val_acc: 0.8750\n",
            "Epoch 44/50\n",
            "326991/326991 [==============================] - 9s 28us/step - loss: 0.2793 - acc: 0.8714 - val_loss: 0.2720 - val_acc: 0.8715\n",
            "Epoch 45/50\n",
            "326991/326991 [==============================] - 11s 33us/step - loss: 0.2791 - acc: 0.8713 - val_loss: 0.2694 - val_acc: 0.8754\n",
            "Epoch 46/50\n",
            "326991/326991 [==============================] - 11s 32us/step - loss: 0.2786 - acc: 0.8718 - val_loss: 0.2690 - val_acc: 0.8741\n",
            "Epoch 47/50\n",
            "326991/326991 [==============================] - 9s 28us/step - loss: 0.2786 - acc: 0.8714 - val_loss: 0.2678 - val_acc: 0.8755\n",
            "Epoch 48/50\n",
            "326991/326991 [==============================] - 9s 28us/step - loss: 0.2782 - acc: 0.8714 - val_loss: 0.4844 - val_acc: 0.8276\n",
            "Epoch 49/50\n",
            "326991/326991 [==============================] - 9s 28us/step - loss: 0.2785 - acc: 0.8716 - val_loss: 0.2767 - val_acc: 0.8691\n",
            "Epoch 50/50\n",
            "326991/326991 [==============================] - 9s 28us/step - loss: 0.2779 - acc: 0.8721 - val_loss: 0.2708 - val_acc: 0.8753\n"
          ],
          "name": "stdout"
        }
      ]
    },
    {
      "cell_type": "code",
      "metadata": {
        "id": "fO8qsIOkxoFx",
        "colab_type": "code",
        "outputId": "048948a6-4f24-4c15-dfe2-2952b1e698f4",
        "colab": {
          "base_uri": "https://localhost:8080/",
          "height": 574
        }
      },
      "source": [
        "loss_curve(history)\n",
        "accuracy(history)"
      ],
      "execution_count": 123,
      "outputs": [
        {
          "output_type": "display_data",
          "data": {
            "image/png": "[encoded data removed]",
            "text/plain": [
              "<Figure size 432x288 with 1 Axes>"
            ]
          },
          "metadata": {
            "tags": []
          }
        },
        {
          "output_type": "display_data",
          "data": {
            "image/png": "[encoded data removed]",
            "text/plain": [
              "<Figure size 432x288 with 1 Axes>"
            ]
          },
          "metadata": {
            "tags": []
          }
        }
      ]
    },
    {
      "cell_type": "code",
      "metadata": {
        "id": "PnhnorHuxxJp",
        "colab_type": "code",
        "outputId": "bf3c5206-487f-471b-a64e-6c8c7a8df907",
        "colab": {
          "base_uri": "https://localhost:8080/",
          "height": 52
        }
      },
      "source": [
        "print(\"Evaluating on Test Dataset\")\n",
        "scores = model.evaluate(X_test, Y_test, verbose=0)\n",
        "print(\"%s: %.2f%%\" % (model.metrics_names[1], scores[1]*100))"
      ],
      "execution_count": 124,
      "outputs": [
        {
          "output_type": "stream",
          "text": [
            "Evaluating on Test Dataset\n",
            "acc: 87.23%\n"
          ],
          "name": "stdout"
        }
      ]
    },
    {
      "cell_type": "code",
      "metadata": {
        "id": "M9bU1dX-x5mC",
        "colab_type": "code",
        "outputId": "a3081f5d-e45c-44c1-9f3e-8ec9e208715b",
        "colab": {
          "base_uri": "https://localhost:8080/",
          "height": 35
        }
      },
      "source": [
        "# Predicting for random year/month/day/hour\n",
        "\n",
        "test = np.array([[2019, 2, 11, 1,25, 49.237994, -123.083282, DistanceToGraffiti(49.237994, -123.083282), DistanceToFountain(49.237994, -123.083282)]])\n",
        "test = scaler.transform(test)\n",
        "ans = model.predict(test)\n",
        "ans"
      ],
      "execution_count": 125,
      "outputs": [
        {
          "output_type": "execute_result",
          "data": {
            "text/plain": [
              "array([[0.9991744]], dtype=float32)"
            ]
          },
          "metadata": {
            "tags": []
          },
          "execution_count": 125
        }
      ]
    },
    {
      "cell_type": "code",
      "metadata": {
        "id": "uIOJP6GS0xs2",
        "colab_type": "code",
        "outputId": "33d2fbab-19e3-45e7-df6f-9d4979b8a6fb",
        "colab": {
          "base_uri": "https://localhost:8080/",
          "height": 35
        }
      },
      "source": [
        "# Predicting for another random year/month/day/hour\n",
        "\n",
        "test = np.array([[2012, 6, 4, 22, 2, 49.238019, -123.163815, DistanceToGraffiti(49.238019, -123.163815), DistanceToFountain(49.238019, -123.163815)]])\n",
        "test = scaler.transform(test)\n",
        "ans = model.predict(test)\n",
        "ans"
      ],
      "execution_count": 126,
      "outputs": [
        {
          "output_type": "execute_result",
          "data": {
            "text/plain": [
              "array([[0.9269677]], dtype=float32)"
            ]
          },
          "metadata": {
            "tags": []
          },
          "execution_count": 126
        }
      ]
    },
    {
      "cell_type": "code",
      "metadata": {
        "id": "cJlbRJ3GCyOB",
        "colab_type": "code",
        "colab": {
          "base_uri": "https://localhost:8080/",
          "height": 449
        },
        "outputId": "0ab360d1-512c-40e1-fe46-0296c4e9378d"
      },
      "source": [
        "# Predict crime in a location over the whole day\n",
        "for i in range(0, 25):\n",
        "  test = np.array([[2012, 6, 4, i, 2, 49.284645, -123.136306, DistanceToGraffiti(49.284645, -123.136306), DistanceToFountain(49.284645, -123.136306)]])\n",
        "  test = scaler.transform(test)\n",
        "  ans = model.predict(test)\n",
        "  print(\"Likelihood of crime at \" + str(i) + \" hour: \" + str(ans[0][0]*100) + \" %\") "
      ],
      "execution_count": 127,
      "outputs": [
        {
          "output_type": "stream",
          "text": [
            "Likelihood of crime at 0 hour: 99.45923686027527 %\n",
            "Likelihood of crime at 1 hour: 96.25698924064636 %\n",
            "Likelihood of crime at 2 hour: 93.15892457962036 %\n",
            "Likelihood of crime at 3 hour: 90.88289141654968 %\n",
            "Likelihood of crime at 4 hour: 91.7508602142334 %\n",
            "Likelihood of crime at 5 hour: 94.60505247116089 %\n",
            "Likelihood of crime at 6 hour: 95.14633417129517 %\n",
            "Likelihood of crime at 7 hour: 95.47150135040283 %\n",
            "Likelihood of crime at 8 hour: 95.8312451839447 %\n",
            "Likelihood of crime at 9 hour: 96.16899490356445 %\n",
            "Likelihood of crime at 10 hour: 96.46843671798706 %\n",
            "Likelihood of crime at 11 hour: 96.74128293991089 %\n",
            "Likelihood of crime at 12 hour: 97.00418710708618 %\n",
            "Likelihood of crime at 13 hour: 97.27053642272949 %\n",
            "Likelihood of crime at 14 hour: 97.54887223243713 %\n",
            "Likelihood of crime at 15 hour: 97.8429913520813 %\n",
            "Likelihood of crime at 16 hour: 98.15164804458618 %\n",
            "Likelihood of crime at 17 hour: 98.46760630607605 %\n",
            "Likelihood of crime at 18 hour: 98.77730011940002 %\n",
            "Likelihood of crime at 19 hour: 99.0630567073822 %\n",
            "Likelihood of crime at 20 hour: 99.30860996246338 %\n",
            "Likelihood of crime at 21 hour: 99.50500130653381 %\n",
            "Likelihood of crime at 22 hour: 99.65302348136902 %\n",
            "Likelihood of crime at 23 hour: 99.75990653038025 %\n",
            "Likelihood of crime at 24 hour: 99.83258843421936 %\n"
          ],
          "name": "stdout"
        }
      ]
    },
    {
      "cell_type": "code",
      "metadata": {
        "id": "8RLlTjO-HIGE",
        "colab_type": "code",
        "colab": {
          "base_uri": "https://localhost:8080/",
          "height": 449
        },
        "outputId": "e73b4f86-e839-4273-e5cc-595e079c4f50"
      },
      "source": [
        "# Predict crime in a location over the whole day\n",
        "for i in range(0, 25):\n",
        "  test = np.array([[2012, 6, 4, i, 2, 49.289599, -123.136649, DistanceToGraffiti(49.289599, -123.136649), DistanceToFountain(49.289599, -123.136649)]])\n",
        "  test = scaler.transform(test)\n",
        "  ans = model.predict(test)\n",
        "  print(\"Likelihood of crime at \" + str(i) + \" hour: \" + str(ans[0][0]*100) + \" %\") "
      ],
      "execution_count": 128,
      "outputs": [
        {
          "output_type": "stream",
          "text": [
            "Likelihood of crime at 0 hour: 99.56991672515869 %\n",
            "Likelihood of crime at 1 hour: 96.725332736969 %\n",
            "Likelihood of crime at 2 hour: 93.93892884254456 %\n",
            "Likelihood of crime at 3 hour: 92.02815294265747 %\n",
            "Likelihood of crime at 4 hour: 93.13319325447083 %\n",
            "Likelihood of crime at 5 hour: 95.3482449054718 %\n",
            "Likelihood of crime at 6 hour: 95.73981761932373 %\n",
            "Likelihood of crime at 7 hour: 96.0246741771698 %\n",
            "Likelihood of crime at 8 hour: 96.34847640991211 %\n",
            "Likelihood of crime at 9 hour: 96.65936231613159 %\n",
            "Likelihood of crime at 10 hour: 96.9426691532135 %\n",
            "Likelihood of crime at 11 hour: 97.2062885761261 %\n",
            "Likelihood of crime at 12 hour: 97.46279120445251 %\n",
            "Likelihood of crime at 13 hour: 97.72250056266785 %\n",
            "Likelihood of crime at 14 hour: 97.99138307571411 %\n",
            "Likelihood of crime at 15 hour: 98.27024936676025 %\n",
            "Likelihood of crime at 16 hour: 98.55416417121887 %\n",
            "Likelihood of crime at 17 hour: 98.83255958557129 %\n",
            "Likelihood of crime at 18 hour: 99.09130334854126 %\n",
            "Likelihood of crime at 19 hour: 99.31694269180298 %\n",
            "Likelihood of crime at 20 hour: 99.50128197669983 %\n",
            "Likelihood of crime at 21 hour: 99.64369535446167 %\n",
            "Likelihood of crime at 22 hour: 99.74926710128784 %\n",
            "Likelihood of crime at 23 hour: 99.8234510421753 %\n",
            "Likelihood of crime at 24 hour: 99.87057447433472 %\n"
          ],
          "name": "stdout"
        }
      ]
    },
    {
      "cell_type": "code",
      "metadata": {
        "id": "uv3goCFtIKzG",
        "colab_type": "code",
        "colab": {
          "base_uri": "https://localhost:8080/",
          "height": 449
        },
        "outputId": "77e8b189-3ad5-428b-8bc7-127c42aea3af"
      },
      "source": [
        "# Predict crime in a location over the whole day\n",
        "for i in range(0, 25):\n",
        "  test = np.array([[2012, 6, 4, i, 2, 49.244879, -123.085077, DistanceToGraffiti(49.244879, -123.085077), DistanceToFountain(49.244879, -123.085077)]])\n",
        "  test = scaler.transform(test)\n",
        "  ans = model.predict(test)\n",
        "  print(\"Likelihood of crime at \" + str(i) + \" hour: \" + str(ans[0][0]*100) + \" %\") "
      ],
      "execution_count": 131,
      "outputs": [
        {
          "output_type": "stream",
          "text": [
            "Likelihood of crime at 0 hour: 96.39957547187805 %\n",
            "Likelihood of crime at 1 hour: 85.33540964126587 %\n",
            "Likelihood of crime at 2 hour: 69.75023150444031 %\n",
            "Likelihood of crime at 3 hour: 53.63585352897644 %\n",
            "Likelihood of crime at 4 hour: 44.30578649044037 %\n",
            "Likelihood of crime at 5 hour: 56.59099817276001 %\n",
            "Likelihood of crime at 6 hour: 73.95945191383362 %\n",
            "Likelihood of crime at 7 hour: 77.86531448364258 %\n",
            "Likelihood of crime at 8 hour: 79.86971735954285 %\n",
            "Likelihood of crime at 9 hour: 82.0453405380249 %\n",
            "Likelihood of crime at 10 hour: 84.20883417129517 %\n",
            "Likelihood of crime at 11 hour: 86.0787570476532 %\n",
            "Likelihood of crime at 12 hour: 87.58005499839783 %\n",
            "Likelihood of crime at 13 hour: 88.77608180046082 %\n",
            "Likelihood of crime at 14 hour: 89.75970149040222 %\n",
            "Likelihood of crime at 15 hour: 90.60378670692444 %\n",
            "Likelihood of crime at 16 hour: 91.35470390319824 %\n",
            "Likelihood of crime at 17 hour: 92.03973412513733 %\n",
            "Likelihood of crime at 18 hour: 92.6754891872406 %\n",
            "Likelihood of crime at 19 hour: 93.27360391616821 %\n",
            "Likelihood of crime at 20 hour: 93.84410381317139 %\n",
            "Likelihood of crime at 21 hour: 94.39665675163269 %\n",
            "Likelihood of crime at 22 hour: 94.94042992591858 %\n",
            "Likelihood of crime at 23 hour: 95.48330903053284 %\n",
            "Likelihood of crime at 24 hour: 96.03086113929749 %\n"
          ],
          "name": "stdout"
        }
      ]
    }
  ]
}